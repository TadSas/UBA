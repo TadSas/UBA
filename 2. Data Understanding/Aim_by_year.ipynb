{
 "cells": [
  {
   "cell_type": "code",
   "execution_count": null,
   "id": "3c79f59b",
   "metadata": {},
   "outputs": [],
   "source": [
    "import pandas as pd\n",
    "import os\n",
    "import pandas as pd\n",
    "import numpy as np\n",
    "import chart_studio.plotly as py\n",
    "import cufflinks as cf\n",
    "import seaborn as sns\n",
    "import plotly.express as px\n",
    "import plotly.graph_objects as go\n",
    "%matplotlib inline\n",
    "\n",
    "from plotly.offline import download_plotlyjs, init_notebook_mode, plot, iplot\n",
    "init_notebook_mode(connected=True)\n",
    "cf.go_offline()"
   ]
  },
  {
   "cell_type": "code",
   "execution_count": null,
   "id": "6158dbe4",
   "metadata": {},
   "outputs": [],
   "source": [
    "df = pd.read_csv('updated_data_2019.csv')\n",
    "df['at'] = pd.to_datetime(df['at'], format='%Y-%m-%d %H:%M:%S.%f')"
   ]
  },
  {
   "cell_type": "code",
   "execution_count": null,
   "id": "93de5915",
   "metadata": {},
   "outputs": [],
   "source": [
    "if not os.path.exists(f'Charts'):\n",
    "    os.makedirs(f'Charts')"
   ]
  },
  {
   "cell_type": "code",
   "execution_count": null,
   "id": "b28fa038",
   "metadata": {},
   "outputs": [],
   "source": [
    "def month_folder(year):\n",
    "    if not os.path.exists(f'Charts/{str(year)}'):\n",
    "        os.makedirs(f'Charts/{str(year)}')\n",
    "    for month in range(1, 13):\n",
    "        date = f'{str(year)}-{str(month).rjust(2, \"0\")}'\n",
    "        if not os.path.exists(f'Charts/{str(year)}/{date}'):\n",
    "            os.makedirs(f'Charts/{str(year)}/{date}')\n",
    "        filt = (df['at'].dt.year == year) & (df['at'].dt.month == month)\n",
    "        dest = f'Charts/{str(year)}/{date}/{date}' + '.png'\n",
    "        try:\n",
    "            df[filt]['aim'].value_counts().plot(kind='bar')\n",
    "            fig = px.bar(df[filt]['aim'].value_counts(),\n",
    "                 title='Number of actions in ' + str(year) + '-' + str(month).rjust(2, '0'),\n",
    "                 labels={'index': 'Action', 'value': 'Amount'}, color='value', text='value', width=1600, height=900)\n",
    "            fig.update_layout(xaxis_tickangle=-45)\n",
    "            fig.write_image(dest)\n",
    "        except Exception:\n",
    "            os.rmdir(f'Charts/{str(year)}/{date}')\n",
    "            continue\n",
    "        else:\n",
    "            for day in range(1, 32):\n",
    "                chart_create_and_save(f'{date}-{day}')"
   ]
  },
  {
   "cell_type": "code",
   "execution_count": null,
   "id": "bcb4151f",
   "metadata": {},
   "outputs": [],
   "source": [
    "# def day_folder(date, year):\n",
    "#     for day in range(1, 32):\n",
    "#         subfolder = date + '-' + str(day).rjust(2, \"0\")\n",
    "#         if not os.path.exists(f'Charts/{str(year)}/{date}/{subfolder}'):\n",
    "#             os.makedirs(f'Charts/{str(year)}/{date}/{subfolder}')\n",
    "#         ret = chart_create_and_save(subfolder)\n",
    "#         if not ret:\n",
    "#             os.rmdir(f'Charts/{str(year)}/{date}/{subfolder}')"
   ]
  },
  {
   "cell_type": "code",
   "execution_count": null,
   "id": "a23c45f3",
   "metadata": {},
   "outputs": [],
   "source": [
    "def chart_create_and_save(date):\n",
    "    year, month, day = list(map(lambda x: int(x), date.split('-')))\n",
    "    filt = (df['at'].dt.year == year) & (df['at'].dt.month == month) & (df['at'].dt.day == day)\n",
    "    dest = f'Charts/{str(year)}/{date[:7]}/{date}' + '.png'\n",
    "    try:\n",
    "        df[filt]['aim'].value_counts().plot(kind='bar')\n",
    "        fig = px.bar(df[filt]['aim'].value_counts(),\n",
    "             title='Number of actions in ' + str(year) + '-' + str(month).rjust(2, '0') + '-' + str(day).rjust(2, '0'),\n",
    "             labels={'index': 'Action', 'value': 'Amount'}, color='value', text='value', width=1600, height=900)\n",
    "        fig.update_layout(xaxis_tickangle=-45)\n",
    "        fig.write_image(dest)\n",
    "    except Exception:\n",
    "        return 0\n",
    "    return 1"
   ]
  },
  {
   "cell_type": "code",
   "execution_count": null,
   "id": "b4186e5a",
   "metadata": {},
   "outputs": [],
   "source": [
    "month_folder(year=2019)"
   ]
  },
  {
   "cell_type": "code",
   "execution_count": null,
   "id": "857c238e",
   "metadata": {},
   "outputs": [],
   "source": [
    "df = pd.read_csv('updated_data_2020.csv')\n",
    "df['at'] = pd.to_datetime(df['at'], format='%Y-%m-%d %H:%M:%S.%f')"
   ]
  },
  {
   "cell_type": "code",
   "execution_count": null,
   "id": "3bed25e0",
   "metadata": {},
   "outputs": [],
   "source": [
    "month_folder(year=2020)"
   ]
  },
  {
   "cell_type": "code",
   "execution_count": null,
   "id": "da83b0ea",
   "metadata": {},
   "outputs": [],
   "source": [
    "df = pd.read_csv('updated_data_2021.csv')\n",
    "df['at'] = pd.to_datetime(df['at'], format='%Y-%m-%d %H:%M:%S.%f')"
   ]
  },
  {
   "cell_type": "code",
   "execution_count": null,
   "id": "e9107b2e",
   "metadata": {},
   "outputs": [],
   "source": [
    "month_folder(year=2021)"
   ]
  }
 ],
 "metadata": {
  "kernelspec": {
   "display_name": "Python 3 (ipykernel)",
   "language": "python",
   "name": "python3"
  },
  "language_info": {
   "codemirror_mode": {
    "name": "ipython",
    "version": 3
   },
   "file_extension": ".py",
   "mimetype": "text/x-python",
   "name": "python",
   "nbconvert_exporter": "python",
   "pygments_lexer": "ipython3",
   "version": "3.8.12"
  }
 },
 "nbformat": 4,
 "nbformat_minor": 5
}
