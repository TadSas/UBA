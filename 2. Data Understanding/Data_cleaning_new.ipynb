{
 "cells": [
  {
   "cell_type": "code",
   "execution_count": 1,
   "metadata": {},
   "outputs": [],
   "source": [
    "import pandas as pd"
   ]
  },
  {
   "cell_type": "code",
   "execution_count": 6,
   "metadata": {},
   "outputs": [
    {
     "name": "stderr",
     "output_type": "stream",
     "text": [
      "C:\\ProgramData\\Anaconda3\\lib\\site-packages\\IPython\\core\\interactiveshell.py:3444: DtypeWarning: Columns (12,13) have mixed types.Specify dtype option on import or set low_memory=False.\n",
      "  exec(code_obj, self.user_global_ns, self.user_ns)\n"
     ]
    }
   ],
   "source": [
    "df = pd.read_csv('Old_Data/action_log_archive.csv')\n"
   ]
  },
  {
   "cell_type": "code",
   "execution_count": 7,
   "metadata": {},
   "outputs": [
    {
     "data": {
      "text/html": [
       "<div>\n",
       "<style scoped>\n",
       "    .dataframe tbody tr th:only-of-type {\n",
       "        vertical-align: middle;\n",
       "    }\n",
       "\n",
       "    .dataframe tbody tr th {\n",
       "        vertical-align: top;\n",
       "    }\n",
       "\n",
       "    .dataframe thead th {\n",
       "        text-align: right;\n",
       "    }\n",
       "</style>\n",
       "<table border=\"1\" class=\"dataframe\">\n",
       "  <thead>\n",
       "    <tr style=\"text-align: right;\">\n",
       "      <th></th>\n",
       "      <th>id</th>\n",
       "      <th>aim</th>\n",
       "      <th>account</th>\n",
       "      <th>roles</th>\n",
       "      <th>remote_addr</th>\n",
       "      <th>user_agent</th>\n",
       "      <th>uri</th>\n",
       "      <th>query_string</th>\n",
       "      <th>request_method</th>\n",
       "      <th>referer</th>\n",
       "      <th>succeeded</th>\n",
       "      <th>at</th>\n",
       "      <th>rights</th>\n",
       "      <th>country_code</th>\n",
       "    </tr>\n",
       "  </thead>\n",
       "  <tbody>\n",
       "    <tr>\n",
       "      <th>0</th>\n",
       "      <td>1</td>\n",
       "      <td>login</td>\n",
       "      <td>NaN</td>\n",
       "      <td>NaN</td>\n",
       "      <td>91.221.228.69</td>\n",
       "      <td>Mozilla/5.0 (Windows NT 10.0; Win64; x64) Appl...</td>\n",
       "      <td>/am/accounts/login</td>\n",
       "      <td>NaN</td>\n",
       "      <td>POST</td>\n",
       "      <td>https://91.221.228.54/am/</td>\n",
       "      <td>t</td>\n",
       "      <td>2018-11-27 21:49:57.185648</td>\n",
       "      <td>NaN</td>\n",
       "      <td>NaN</td>\n",
       "    </tr>\n",
       "    <tr>\n",
       "      <th>1</th>\n",
       "      <td>2</td>\n",
       "      <td>login</td>\n",
       "      <td>2.0</td>\n",
       "      <td>{2}</td>\n",
       "      <td>10.10.70.60</td>\n",
       "      <td>Mozilla/5.0 (Windows NT 10.0; Win64; x64) Appl...</td>\n",
       "      <td>/am/accounts/login</td>\n",
       "      <td>NaN</td>\n",
       "      <td>POST</td>\n",
       "      <td>https://mul2-mss.gov.am/am/</td>\n",
       "      <td>t</td>\n",
       "      <td>2018-11-29 12:47:44.622668</td>\n",
       "      <td>NaN</td>\n",
       "      <td>NaN</td>\n",
       "    </tr>\n",
       "    <tr>\n",
       "      <th>2</th>\n",
       "      <td>3</td>\n",
       "      <td>open_role</td>\n",
       "      <td>2.0</td>\n",
       "      <td>{2}</td>\n",
       "      <td>10.10.70.60</td>\n",
       "      <td>Mozilla/5.0 (Windows NT 10.0; Win64; x64) Appl...</td>\n",
       "      <td>/am/roles/2/edit</td>\n",
       "      <td>NaN</td>\n",
       "      <td>GET</td>\n",
       "      <td>https://mul2-mss.gov.am/am/system</td>\n",
       "      <td>t</td>\n",
       "      <td>2018-11-29 12:47:55.813322</td>\n",
       "      <td>NaN</td>\n",
       "      <td>NaN</td>\n",
       "    </tr>\n",
       "    <tr>\n",
       "      <th>3</th>\n",
       "      <td>4</td>\n",
       "      <td>edit_role</td>\n",
       "      <td>2.0</td>\n",
       "      <td>{2}</td>\n",
       "      <td>10.10.70.60</td>\n",
       "      <td>Mozilla/5.0 (Windows NT 10.0; Win64; x64) Appl...</td>\n",
       "      <td>/am/roles/2/update</td>\n",
       "      <td>NaN</td>\n",
       "      <td>POST</td>\n",
       "      <td>https://mul2-mss.gov.am/am/system</td>\n",
       "      <td>t</td>\n",
       "      <td>2018-11-29 12:48:16.261072</td>\n",
       "      <td>NaN</td>\n",
       "      <td>NaN</td>\n",
       "    </tr>\n",
       "    <tr>\n",
       "      <th>4</th>\n",
       "      <td>5</td>\n",
       "      <td>login</td>\n",
       "      <td>2.0</td>\n",
       "      <td>{2}</td>\n",
       "      <td>10.10.70.60</td>\n",
       "      <td>Mozilla/5.0 (Windows NT 6.3; Win64; x64; rv:61...</td>\n",
       "      <td>/am/accounts/login</td>\n",
       "      <td>NaN</td>\n",
       "      <td>POST</td>\n",
       "      <td>https://mul2-mss.gov.am/am/</td>\n",
       "      <td>t</td>\n",
       "      <td>2018-11-29 14:02:12.647402</td>\n",
       "      <td>NaN</td>\n",
       "      <td>NaN</td>\n",
       "    </tr>\n",
       "  </tbody>\n",
       "</table>\n",
       "</div>"
      ],
      "text/plain": [
       "   id        aim  account roles    remote_addr  \\\n",
       "0   1      login      NaN   NaN  91.221.228.69   \n",
       "1   2      login      2.0   {2}    10.10.70.60   \n",
       "2   3  open_role      2.0   {2}    10.10.70.60   \n",
       "3   4  edit_role      2.0   {2}    10.10.70.60   \n",
       "4   5      login      2.0   {2}    10.10.70.60   \n",
       "\n",
       "                                          user_agent                 uri  \\\n",
       "0  Mozilla/5.0 (Windows NT 10.0; Win64; x64) Appl...  /am/accounts/login   \n",
       "1  Mozilla/5.0 (Windows NT 10.0; Win64; x64) Appl...  /am/accounts/login   \n",
       "2  Mozilla/5.0 (Windows NT 10.0; Win64; x64) Appl...    /am/roles/2/edit   \n",
       "3  Mozilla/5.0 (Windows NT 10.0; Win64; x64) Appl...  /am/roles/2/update   \n",
       "4  Mozilla/5.0 (Windows NT 6.3; Win64; x64; rv:61...  /am/accounts/login   \n",
       "\n",
       "  query_string request_method                            referer succeeded  \\\n",
       "0          NaN           POST          https://91.221.228.54/am/         t   \n",
       "1          NaN           POST        https://mul2-mss.gov.am/am/         t   \n",
       "2          NaN            GET  https://mul2-mss.gov.am/am/system         t   \n",
       "3          NaN           POST  https://mul2-mss.gov.am/am/system         t   \n",
       "4          NaN           POST        https://mul2-mss.gov.am/am/         t   \n",
       "\n",
       "                           at rights country_code  \n",
       "0  2018-11-27 21:49:57.185648    NaN          NaN  \n",
       "1  2018-11-29 12:47:44.622668    NaN          NaN  \n",
       "2  2018-11-29 12:47:55.813322    NaN          NaN  \n",
       "3  2018-11-29 12:48:16.261072    NaN          NaN  \n",
       "4  2018-11-29 14:02:12.647402    NaN          NaN  "
      ]
     },
     "execution_count": 7,
     "metadata": {},
     "output_type": "execute_result"
    }
   ],
   "source": [
    "df.head()"
   ]
  },
  {
   "cell_type": "code",
   "execution_count": 3,
   "metadata": {},
   "outputs": [],
   "source": [
    "df.drop('id', inplace=True, axis=1)"
   ]
  },
  {
   "cell_type": "code",
   "execution_count": 4,
   "metadata": {},
   "outputs": [],
   "source": [
    "df.drop('remote_addr', inplace=True, axis=1)"
   ]
  },
  {
   "cell_type": "code",
   "execution_count": 5,
   "metadata": {},
   "outputs": [],
   "source": [
    "df.drop('user_agent', inplace=True, axis=1)"
   ]
  },
  {
   "cell_type": "code",
   "execution_count": 6,
   "metadata": {},
   "outputs": [],
   "source": [
    "df.drop('query_string', inplace=True, axis=1)"
   ]
  },
  {
   "cell_type": "code",
   "execution_count": 7,
   "metadata": {},
   "outputs": [],
   "source": [
    "df.drop('referer', inplace=True, axis=1)"
   ]
  },
  {
   "cell_type": "code",
   "execution_count": 8,
   "metadata": {},
   "outputs": [],
   "source": [
    "df.drop('rights', inplace=True, axis=1)"
   ]
  },
  {
   "cell_type": "code",
   "execution_count": 9,
   "metadata": {},
   "outputs": [],
   "source": [
    "df.drop('country_code', inplace=True, axis=1)"
   ]
  },
  {
   "cell_type": "code",
   "execution_count": 10,
   "metadata": {},
   "outputs": [],
   "source": [
    "df = df[df['roles'].notna()]"
   ]
  },
  {
   "cell_type": "code",
   "execution_count": 11,
   "metadata": {},
   "outputs": [],
   "source": [
    "df = df[df['aim'].notna()]"
   ]
  },
  {
   "cell_type": "code",
   "execution_count": null,
   "metadata": {},
   "outputs": [],
   "source": [
    "df['account'] = df['account'].astype('int32')"
   ]
  },
  {
   "cell_type": "code",
   "execution_count": 12,
   "metadata": {},
   "outputs": [],
   "source": [
    "df = df.drop(df[df['roles'] == '{}'].index)"
   ]
  },
  {
   "cell_type": "code",
   "execution_count": null,
   "metadata": {},
   "outputs": [],
   "source": [
    "df['at'] = pd.to_datetime(df['at'], format='%Y-%m-%d %H:%M:%S.%f')"
   ]
  },
  {
   "cell_type": "code",
   "execution_count": 13,
   "metadata": {},
   "outputs": [],
   "source": [
    "df = df[(df['at'] >= '2019-01-01') & (df['at'] < '2021-07-01')]"
   ]
  },
  {
   "cell_type": "code",
   "execution_count": 14,
   "metadata": {},
   "outputs": [],
   "source": [
    "df.reset_index(inplace = True, drop = True)"
   ]
  },
  {
   "cell_type": "code",
   "execution_count": 15,
   "metadata": {},
   "outputs": [],
   "source": [
    "df.loc[df['succeeded'] == 't', 'succeeded'] = 1\n",
    "df.loc[df['succeeded'] == 'f', 'succeeded'] = 0"
   ]
  },
  {
   "cell_type": "code",
   "execution_count": null,
   "metadata": {},
   "outputs": [],
   "source": [
    "df['succeeded'] = df['succeeded'].astype('int32')"
   ]
  },
  {
   "cell_type": "code",
   "execution_count": 16,
   "metadata": {},
   "outputs": [],
   "source": [
    "df.to_csv('updated_data.csv', index=False)"
   ]
  },
  {
   "cell_type": "code",
   "execution_count": 17,
   "metadata": {},
   "outputs": [],
   "source": [
    "df_2019 = df[(df['at'] >= '2019-01-01') & (df['at'] < '2020-01-01')]"
   ]
  },
  {
   "cell_type": "code",
   "execution_count": 18,
   "metadata": {},
   "outputs": [],
   "source": [
    "df_2020 = df[(df['at'] >= '2020-01-01') & (df['at'] < '2021-01-01')]"
   ]
  },
  {
   "cell_type": "code",
   "execution_count": 19,
   "metadata": {},
   "outputs": [],
   "source": [
    "df_2021 = df[(df['at'] >= '2021-01-01') & (df['at'] < '2021-07-01')]"
   ]
  },
  {
   "cell_type": "code",
   "execution_count": 28,
   "metadata": {},
   "outputs": [],
   "source": [
    "df_2019.to_csv('updated_data_2019.csv', index=False)\n",
    "df_2020.to_csv('updated_data_2020.csv', index=False)\n",
    "df_2021.to_csv('updated_data_2021.csv', index=False)"
   ]
  },
  {
   "cell_type": "code",
   "execution_count": null,
   "metadata": {
    "scrolled": true
   },
   "outputs": [],
   "source": [
    "df.head()"
   ]
  }
 ],
 "metadata": {
  "kernelspec": {
   "display_name": "Python 3 (ipykernel)",
   "language": "python",
   "name": "python3"
  },
  "language_info": {
   "codemirror_mode": {
    "name": "ipython",
    "version": 3
   },
   "file_extension": ".py",
   "mimetype": "text/x-python",
   "name": "python",
   "nbconvert_exporter": "python",
   "pygments_lexer": "ipython3",
   "version": "3.8.12"
  }
 },
 "nbformat": 4,
 "nbformat_minor": 4
}
