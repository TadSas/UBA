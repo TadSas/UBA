{
 "cells": [
  {
   "cell_type": "code",
   "execution_count": 254,
   "id": "0ae136fd",
   "metadata": {},
   "outputs": [],
   "source": [
    "import pandas as pd\n",
    "import numpy as np\n",
    "from sklearn import preprocessing\n",
    "from sklearn.decomposition import PCA\n",
    "from sklearn.cluster import DBSCAN\n",
    "from sklearn.neighbors import NearestNeighbors\n",
    "import matplotlib.pyplot as plt\n",
    "import seaborn as sns\n",
    "import plotly.express as px\n",
    "import plotly.graph_objects as go\n",
    "%matplotlib inline"
   ]
  },
  {
   "cell_type": "code",
   "execution_count": 255,
   "id": "2265d18c",
   "metadata": {},
   "outputs": [],
   "source": [
    "pd.set_option('display.max_rows', 100)\n",
    "pd.set_option('display.max_columns', 100)"
   ]
  },
  {
   "cell_type": "code",
   "execution_count": 256,
   "id": "6efcb106",
   "metadata": {},
   "outputs": [],
   "source": [
    "df = pd.read_csv('../Data/action_log_features.csv')"
   ]
  },
  {
   "cell_type": "code",
   "execution_count": 460,
   "id": "2016802d",
   "metadata": {},
   "outputs": [
    {
     "data": {
      "text/plain": [
       "0         0.0\n",
       "1         3.0\n",
       "2         3.0\n",
       "3         1.0\n",
       "4         1.0\n",
       "         ... \n",
       "182882    1.0\n",
       "182883    3.0\n",
       "182884    3.0\n",
       "182885    0.0\n",
       "182886    NaN\n",
       "Name: download_task_file, Length: 182887, dtype: float64"
      ]
     },
     "execution_count": 460,
     "metadata": {},
     "output_type": "execute_result"
    }
   ],
   "source": [
    "temp = df['download_task_file'] + df['download_task_file'].shift(-1)\n",
    "temp"
   ]
  },
  {
   "cell_type": "code",
   "execution_count": 463,
   "id": "a0dfb1df",
   "metadata": {},
   "outputs": [
    {
     "data": {
      "text/html": [
       "<div>\n",
       "<style scoped>\n",
       "    .dataframe tbody tr th:only-of-type {\n",
       "        vertical-align: middle;\n",
       "    }\n",
       "\n",
       "    .dataframe tbody tr th {\n",
       "        vertical-align: top;\n",
       "    }\n",
       "\n",
       "    .dataframe thead th {\n",
       "        text-align: right;\n",
       "    }\n",
       "</style>\n",
       "<table border=\"1\" class=\"dataframe\">\n",
       "  <thead>\n",
       "    <tr style=\"text-align: right;\">\n",
       "      <th></th>\n",
       "      <th>account</th>\n",
       "      <th>at</th>\n",
       "      <th>account_access</th>\n",
       "      <th>add_account</th>\n",
       "      <th>add_action</th>\n",
       "      <th>add_contact</th>\n",
       "      <th>add_draft</th>\n",
       "      <th>add_group</th>\n",
       "      <th>add_html_template</th>\n",
       "      <th>add_role</th>\n",
       "      <th>add_snippet</th>\n",
       "      <th>add_status</th>\n",
       "      <th>add_workflow</th>\n",
       "      <th>adm_open_settings</th>\n",
       "      <th>apply_label</th>\n",
       "      <th>attach_task_file</th>\n",
       "      <th>attach_template</th>\n",
       "      <th>auth_confirm_caution</th>\n",
       "      <th>change_contact_status</th>\n",
       "      <th>change_password</th>\n",
       "      <th>change_service_user_status</th>\n",
       "      <th>clear_account_settings</th>\n",
       "      <th>clone_workflow</th>\n",
       "      <th>create_task</th>\n",
       "      <th>deactivate_workflow</th>\n",
       "      <th>download_task_file</th>\n",
       "      <th>download_task_files</th>\n",
       "      <th>download_template</th>\n",
       "      <th>edit_account</th>\n",
       "      <th>edit_account_uname</th>\n",
       "      <th>edit_action</th>\n",
       "      <th>edit_contact</th>\n",
       "      <th>edit_docx_template</th>\n",
       "      <th>edit_draft</th>\n",
       "      <th>edit_group</th>\n",
       "      <th>edit_html_template</th>\n",
       "      <th>edit_profile</th>\n",
       "      <th>edit_role</th>\n",
       "      <th>edit_snippet</th>\n",
       "      <th>edit_status</th>\n",
       "      <th>edit_workflow</th>\n",
       "      <th>edit_workflow_group</th>\n",
       "      <th>export_contacts</th>\n",
       "      <th>export_template</th>\n",
       "      <th>export_workflow</th>\n",
       "      <th>import_contacts</th>\n",
       "      <th>import_workflow</th>\n",
       "      <th>login</th>\n",
       "      <th>logout</th>\n",
       "      <th>make_available</th>\n",
       "      <th>make_unavailable</th>\n",
       "      <th>open_account</th>\n",
       "      <th>open_action</th>\n",
       "      <th>open_contact</th>\n",
       "      <th>open_docx_template</th>\n",
       "      <th>open_group</th>\n",
       "      <th>open_html_template</th>\n",
       "      <th>open_incident_log</th>\n",
       "      <th>open_new_account</th>\n",
       "      <th>open_new_action</th>\n",
       "      <th>open_new_contact</th>\n",
       "      <th>open_new_docx_template</th>\n",
       "      <th>open_new_group</th>\n",
       "      <th>open_new_html_template</th>\n",
       "      <th>open_new_role</th>\n",
       "      <th>open_new_snippet</th>\n",
       "      <th>open_new_status</th>\n",
       "      <th>open_new_workflow</th>\n",
       "      <th>open_perform_action</th>\n",
       "      <th>open_profile</th>\n",
       "      <th>open_role</th>\n",
       "      <th>open_snippet</th>\n",
       "      <th>open_status</th>\n",
       "      <th>open_task</th>\n",
       "      <th>open_workflow</th>\n",
       "      <th>open_workflow_group</th>\n",
       "      <th>perform_action</th>\n",
       "      <th>remove_account</th>\n",
       "      <th>remove_action</th>\n",
       "      <th>remove_contact</th>\n",
       "      <th>remove_draft</th>\n",
       "      <th>remove_inform</th>\n",
       "      <th>remove_role</th>\n",
       "      <th>remove_snippet</th>\n",
       "      <th>remove_status</th>\n",
       "      <th>remove_workflow</th>\n",
       "      <th>resend_token</th>\n",
       "      <th>reset_password</th>\n",
       "      <th>reset_req</th>\n",
       "      <th>set_action_state</th>\n",
       "      <th>set_new_pass</th>\n",
       "      <th>set_status_state</th>\n",
       "      <th>suspend_account</th>\n",
       "      <th>suspend_role</th>\n",
       "      <th>token_login</th>\n",
       "      <th>two_factor_email</th>\n",
       "      <th>unblock_password_reset</th>\n",
       "      <th>unsuspend_account</th>\n",
       "      <th>unsuspend_role</th>\n",
       "    </tr>\n",
       "  </thead>\n",
       "  <tbody>\n",
       "    <tr>\n",
       "      <th>2562</th>\n",
       "      <td>7.0</td>\n",
       "      <td>2020-01-13</td>\n",
       "      <td>0.0</td>\n",
       "      <td>0.0</td>\n",
       "      <td>0.0</td>\n",
       "      <td>0.0</td>\n",
       "      <td>0.0</td>\n",
       "      <td>0.0</td>\n",
       "      <td>0.0</td>\n",
       "      <td>0.0</td>\n",
       "      <td>0.0</td>\n",
       "      <td>0.0</td>\n",
       "      <td>0.0</td>\n",
       "      <td>0.0</td>\n",
       "      <td>0.0</td>\n",
       "      <td>0.0</td>\n",
       "      <td>0.0</td>\n",
       "      <td>0.0</td>\n",
       "      <td>0.0</td>\n",
       "      <td>0.0</td>\n",
       "      <td>0.0</td>\n",
       "      <td>0.0</td>\n",
       "      <td>0.0</td>\n",
       "      <td>0.0</td>\n",
       "      <td>0.0</td>\n",
       "      <td>1.0</td>\n",
       "      <td>0.0</td>\n",
       "      <td>0.0</td>\n",
       "      <td>0.0</td>\n",
       "      <td>0.0</td>\n",
       "      <td>0.0</td>\n",
       "      <td>0.0</td>\n",
       "      <td>0.0</td>\n",
       "      <td>0.0</td>\n",
       "      <td>0.0</td>\n",
       "      <td>0.0</td>\n",
       "      <td>0.0</td>\n",
       "      <td>0.0</td>\n",
       "      <td>0.0</td>\n",
       "      <td>0.0</td>\n",
       "      <td>0.0</td>\n",
       "      <td>0.0</td>\n",
       "      <td>0.0</td>\n",
       "      <td>0.0</td>\n",
       "      <td>0.0</td>\n",
       "      <td>0.0</td>\n",
       "      <td>0.0</td>\n",
       "      <td>2.0</td>\n",
       "      <td>0.0</td>\n",
       "      <td>0.0</td>\n",
       "      <td>0.0</td>\n",
       "      <td>0.0</td>\n",
       "      <td>0.0</td>\n",
       "      <td>0.0</td>\n",
       "      <td>0.0</td>\n",
       "      <td>0.0</td>\n",
       "      <td>0.0</td>\n",
       "      <td>0.0</td>\n",
       "      <td>0.0</td>\n",
       "      <td>0.0</td>\n",
       "      <td>0.0</td>\n",
       "      <td>0.0</td>\n",
       "      <td>0.0</td>\n",
       "      <td>0.0</td>\n",
       "      <td>0.0</td>\n",
       "      <td>0.0</td>\n",
       "      <td>0.0</td>\n",
       "      <td>0.0</td>\n",
       "      <td>3.0</td>\n",
       "      <td>0.0</td>\n",
       "      <td>0.0</td>\n",
       "      <td>0.0</td>\n",
       "      <td>0.0</td>\n",
       "      <td>7.0</td>\n",
       "      <td>0.0</td>\n",
       "      <td>0.0</td>\n",
       "      <td>3.0</td>\n",
       "      <td>0.0</td>\n",
       "      <td>0.0</td>\n",
       "      <td>0.0</td>\n",
       "      <td>0.0</td>\n",
       "      <td>0.0</td>\n",
       "      <td>0.0</td>\n",
       "      <td>0.0</td>\n",
       "      <td>0.0</td>\n",
       "      <td>0.0</td>\n",
       "      <td>0.0</td>\n",
       "      <td>0.0</td>\n",
       "      <td>0.0</td>\n",
       "      <td>0.0</td>\n",
       "      <td>0.0</td>\n",
       "      <td>0.0</td>\n",
       "      <td>0.0</td>\n",
       "      <td>0.0</td>\n",
       "      <td>0.0</td>\n",
       "      <td>0.0</td>\n",
       "      <td>0.0</td>\n",
       "      <td>0.0</td>\n",
       "      <td>0.0</td>\n",
       "    </tr>\n",
       "  </tbody>\n",
       "</table>\n",
       "</div>"
      ],
      "text/plain": [
       "      account          at  account_access  add_account  add_action  \\\n",
       "2562      7.0  2020-01-13             0.0          0.0         0.0   \n",
       "\n",
       "      add_contact  add_draft  add_group  add_html_template  add_role  \\\n",
       "2562          0.0        0.0        0.0                0.0       0.0   \n",
       "\n",
       "      add_snippet  add_status  add_workflow  adm_open_settings  apply_label  \\\n",
       "2562          0.0         0.0           0.0                0.0          0.0   \n",
       "\n",
       "      attach_task_file  attach_template  auth_confirm_caution  \\\n",
       "2562               0.0              0.0                   0.0   \n",
       "\n",
       "      change_contact_status  change_password  change_service_user_status  \\\n",
       "2562                    0.0              0.0                         0.0   \n",
       "\n",
       "      clear_account_settings  clone_workflow  create_task  \\\n",
       "2562                     0.0             0.0          0.0   \n",
       "\n",
       "      deactivate_workflow  download_task_file  download_task_files  \\\n",
       "2562                  0.0                 1.0                  0.0   \n",
       "\n",
       "      download_template  edit_account  edit_account_uname  edit_action  \\\n",
       "2562                0.0           0.0                 0.0          0.0   \n",
       "\n",
       "      edit_contact  edit_docx_template  edit_draft  edit_group  \\\n",
       "2562           0.0                 0.0         0.0         0.0   \n",
       "\n",
       "      edit_html_template  edit_profile  edit_role  edit_snippet  edit_status  \\\n",
       "2562                 0.0           0.0        0.0           0.0          0.0   \n",
       "\n",
       "      edit_workflow  edit_workflow_group  export_contacts  export_template  \\\n",
       "2562            0.0                  0.0              0.0              0.0   \n",
       "\n",
       "      export_workflow  import_contacts  import_workflow  login  logout  \\\n",
       "2562              0.0              0.0              0.0    2.0     0.0   \n",
       "\n",
       "      make_available  make_unavailable  open_account  open_action  \\\n",
       "2562             0.0               0.0           0.0          0.0   \n",
       "\n",
       "      open_contact  open_docx_template  open_group  open_html_template  \\\n",
       "2562           0.0                 0.0         0.0                 0.0   \n",
       "\n",
       "      open_incident_log  open_new_account  open_new_action  open_new_contact  \\\n",
       "2562                0.0               0.0              0.0               0.0   \n",
       "\n",
       "      open_new_docx_template  open_new_group  open_new_html_template  \\\n",
       "2562                     0.0             0.0                     0.0   \n",
       "\n",
       "      open_new_role  open_new_snippet  open_new_status  open_new_workflow  \\\n",
       "2562            0.0               0.0              0.0                0.0   \n",
       "\n",
       "      open_perform_action  open_profile  open_role  open_snippet  open_status  \\\n",
       "2562                  3.0           0.0        0.0           0.0          0.0   \n",
       "\n",
       "      open_task  open_workflow  open_workflow_group  perform_action  \\\n",
       "2562        7.0            0.0                  0.0             3.0   \n",
       "\n",
       "      remove_account  remove_action  remove_contact  remove_draft  \\\n",
       "2562             0.0            0.0             0.0           0.0   \n",
       "\n",
       "      remove_inform  remove_role  remove_snippet  remove_status  \\\n",
       "2562            0.0          0.0             0.0            0.0   \n",
       "\n",
       "      remove_workflow  resend_token  reset_password  reset_req  \\\n",
       "2562              0.0           0.0             0.0        0.0   \n",
       "\n",
       "      set_action_state  set_new_pass  set_status_state  suspend_account  \\\n",
       "2562               0.0           0.0               0.0              0.0   \n",
       "\n",
       "      suspend_role  token_login  two_factor_email  unblock_password_reset  \\\n",
       "2562           0.0          0.0               0.0                     0.0   \n",
       "\n",
       "      unsuspend_account  unsuspend_role  \n",
       "2562                0.0             0.0  "
      ]
     },
     "execution_count": 463,
     "metadata": {},
     "output_type": "execute_result"
    }
   ],
   "source": [
    "df[(df['download_task_file'] == 1) & (df['download_task_file'].shift(1) == 1) & (df['download_task_file'].shift(2) == 0) & (df['download_task_file'].shift(3) == 0)].head(1)\n"
   ]
  },
  {
   "cell_type": "code",
   "execution_count": 257,
   "id": "75c8d9f5",
   "metadata": {},
   "outputs": [],
   "source": [
    "Q3_2019 = df[(df['at'] >= '2019-07-01') & (df['at'] < '2019-10-01')]\n",
    "Q4_2019 = df[(df['at'] >= '2019-10-01') & (df['at'] < '2020-01-01')]\n",
    "Q1_2020 = df[(df['at'] >= '2020-01-01') & (df['at'] < '2020-04-01')]\n",
    "Q2_2020 = df[(df['at'] >= '2020-04-01') & (df['at'] < '2020-07-01')]\n",
    "Q3_2020 = df[(df['at'] >= '2020-07-01') & (df['at'] < '2020-10-01')]\n",
    "Q4_2020 = df[(df['at'] >= '2020-10-01') & (df['at'] < '2021-01-01')]\n",
    "Q1_2021 = df[(df['at'] >= '2021-01-01') & (df['at'] < '2021-04-01')]\n",
    "Q2_2021 = df[(df['at'] >= '2021-04-01') & (df['at'] < '2021-07-01')]"
   ]
  },
  {
   "cell_type": "code",
   "execution_count": 258,
   "id": "8f366049",
   "metadata": {},
   "outputs": [],
   "source": [
    "Q3_2019.reset_index(inplace = True, drop = True)\n",
    "Q4_2019.reset_index(inplace = True, drop = True)\n",
    "Q1_2020.reset_index(inplace = True, drop = True)\n",
    "Q2_2020.reset_index(inplace = True, drop = True)\n",
    "Q3_2020.reset_index(inplace = True, drop = True)\n",
    "Q4_2020.reset_index(inplace = True, drop = True)\n",
    "Q1_2021.reset_index(inplace = True, drop = True)\n",
    "Q2_2021.reset_index(inplace = True, drop = True)"
   ]
  },
  {
   "cell_type": "code",
   "execution_count": 259,
   "id": "a3f070d3",
   "metadata": {},
   "outputs": [],
   "source": [
    "red_light = [\n",
    "    'add_snippet', 'auth_confirm_caution', 'change_contact_status', 'change_password', 'change_service_user_status',\n",
    "    'clear_account_settings', 'deactivate_workflow', 'download_task_file', 'download_task_files', 'download_template',\n",
    "    'export_contacts', 'export_template', 'export_workflow', 'remove_account', 'remove_action',\n",
    "    'remove_contact', 'remove_draft', 'remove_inform', 'remove_role', 'remove_snippet',\n",
    "    'remove_status', 'remove_workflow', 'reset_password', 'set_new_pass', 'suspend_account',\n",
    "    'suspend_role', 'two_factor_email'\n",
    "]\n",
    "\n",
    "yellow_light = [\n",
    "    'account_access', 'add_account', 'add_action', 'add_contact', 'add_draft',\n",
    "    'add_group', 'add_html_template', 'add_role', 'add_status', 'add_workflow',\n",
    "    'adm_open_settings', 'edit_account', 'edit_account_uname', 'edit_action', 'edit_contact',\n",
    "    'edit_docx_template', 'edit_draft', 'edit_group', 'edit_html_template', 'edit_profile',\n",
    "    'edit_role', 'edit_snippet', 'edit_status', 'edit_workflow', 'edit_workflow_group',\n",
    "    'resend_token', 'token_login', 'unblock_password_reset', 'unsuspend_account', 'unsuspend_role'\n",
    "]\n",
    "\n",
    "green_light = [\n",
    "    'apply_label', 'attach_task_file', 'attach_template', 'clone_workflow', 'create_task',\n",
    "    'create_task', 'import_contacts', 'import_workflow', 'login','logout', 'make_available',\n",
    "    'make_unavailable', 'open_account', 'open_action', 'open_contact', 'open_docx_template',\n",
    "    'open_group', 'open_html_template', 'open_incident_log', 'open_new_account', 'open_new_action',\n",
    "    'open_new_contact', 'open_new_docx_template', 'open_new_group', 'open_new_html_template', 'open_new_role',\n",
    "    'open_new_snippet', 'open_new_status', 'open_new_workflow', 'open_perform_action', 'open_profile',\n",
    "    'open_role', 'open_snippet', 'open_status', 'open_task', 'open_workflow',\n",
    "    'open_workflow_group', 'perform_action', 'reset_req', 'set_action_state', 'set_status_state'\n",
    "]"
   ]
  },
  {
   "cell_type": "code",
   "execution_count": 7,
   "id": "2a25ecce",
   "metadata": {},
   "outputs": [],
   "source": [
    "# Q2_2021[Q2_2021.columns[2:]].sum()[Q2_2021[Q2_2021.columns[2:]].sum() == 0].index"
   ]
  },
  {
   "cell_type": "code",
   "execution_count": 8,
   "id": "479679a4",
   "metadata": {},
   "outputs": [],
   "source": [
    "# Q2_2021[Q2_2021.columns[2:]].sum().sort_values()"
   ]
  },
  {
   "cell_type": "code",
   "execution_count": 472,
   "id": "ccdfda85",
   "metadata": {},
   "outputs": [],
   "source": [
    "def outlier_detection(df, scale=1.5):\n",
    "    for i in df.sum()[df.sum() < 100].index.tolist():\n",
    "        sr = df[df[i] > 0][i]\n",
    "        percentile25 = df[df[i] > 0][i].quantile(0.25)\n",
    "#         print('25%:', percentile25)\n",
    "        percentile75 = df[df[i] > 0][i].quantile(0.75)\n",
    "#         print('75%:', percentile75)\n",
    "        iqr = percentile75 - percentile25\n",
    "#         print('iqr:', iqr)\n",
    "        upper_limit = percentile75 + scale * iqr\n",
    "#         print('upper limit:', upper_limit)\n",
    "#         lower_limit = percentile25 - scale * iqr\n",
    "#         print('lower limit:', lower_limit)\n",
    "        print('upper outliers:\\n\\t', sr[sr > upper_limit])\n",
    "#         print('lower outliers:', sr[sr < lower_limit])\n",
    "        print()"
   ]
  },
  {
   "cell_type": "code",
   "execution_count": 314,
   "id": "bbc557ec",
   "metadata": {
    "scrolled": false
   },
   "outputs": [
    {
     "name": "stdout",
     "output_type": "stream",
     "text": [
      "change_contact_status      3.0\n",
      "clear_account_settings     2.0\n",
      "download_template          8.0\n",
      "export_contacts           11.0\n",
      "export_workflow           35.0\n",
      "remove_action              8.0\n",
      "remove_contact             1.0\n",
      "remove_status              3.0\n",
      "reset_password             2.0\n",
      "suspend_role               6.0\n",
      "dtype: float64\n",
      "\n",
      "Series([], dtype: float64)\n",
      "\n",
      "download_task_file    270506.0\n",
      "remove_inform          18501.0\n",
      "dtype: float64\n"
     ]
    }
   ],
   "source": [
    "Q3_2019_r = Q3_2019[Q3_2019.columns[2:]][red_light]\n",
    "Q3_2019_r = Q3_2019_r[Q3_2019_r.columns[Q3_2019_r.sum() != 0]]\n",
    "Q3_2019_r.sum()\n",
    "print(Q3_2019_r.sum()[Q3_2019_r.sum() < 100])\n",
    "print()\n",
    "print(Q3_2019_r.sum()[(Q3_2019_r.sum() >= 100) & (Q3_2019_r.sum() < 10000)])\n",
    "print()\n",
    "print(Q3_2019_r.sum()[Q3_2019_r.sum() >= 10000])"
   ]
  },
  {
   "cell_type": "code",
   "execution_count": 471,
   "id": "1ecf2175",
   "metadata": {},
   "outputs": [
    {
     "name": "stdout",
     "output_type": "stream",
     "text": [
      "upper outliers: Series([], Name: change_contact_status, dtype: float64)\n",
      "\n",
      "upper outliers: Series([], Name: clear_account_settings, dtype: float64)\n",
      "\n",
      "upper outliers: 35    2.0\n",
      "Name: download_template, dtype: float64\n",
      "\n",
      "upper outliers: Series([], Name: export_contacts, dtype: float64)\n",
      "\n",
      "upper outliers: 8    21.0\n",
      "Name: export_workflow, dtype: float64\n",
      "\n",
      "upper outliers: Series([], Name: remove_action, dtype: float64)\n",
      "\n",
      "upper outliers: Series([], Name: remove_contact, dtype: float64)\n",
      "\n",
      "upper outliers: Series([], Name: remove_status, dtype: float64)\n",
      "\n",
      "upper outliers: Series([], Name: reset_password, dtype: float64)\n",
      "\n",
      "upper outliers: Series([], Name: suspend_role, dtype: float64)\n",
      "\n"
     ]
    }
   ],
   "source": [
    "outlier_detection(Q3_2019_r, 3)"
   ]
  },
  {
   "cell_type": "code",
   "execution_count": 454,
   "id": "a6e447a6",
   "metadata": {
    "scrolled": false
   },
   "outputs": [
    {
     "name": "stdout",
     "output_type": "stream",
     "text": [
      "[1. 1. 1.]\n",
      "[]\n",
      "[1. 1.]\n",
      "[]\n",
      "[1. 1. 2. 1. 1. 1. 1.]\n",
      "[2.]\n",
      "[1. 1. 1. 2. 3. 3.]\n",
      "[]\n",
      "[ 1.  2. 21.  2.  2.  1.  1.  1.  1.  1.  2.]\n",
      "[21.]\n",
      "[1. 1. 5. 1.]\n",
      "[5.]\n",
      "[1.]\n",
      "[]\n",
      "[1. 1. 1.]\n",
      "[]\n",
      "[2.]\n",
      "[]\n",
      "[1. 1. 1. 3.]\n",
      "[3.]\n"
     ]
    },
    {
     "data": {
      "image/png": "[encoded data removed]",
      "text/plain": [
       "<Figure size 432x288 with 1 Axes>"
      ]
     },
     "metadata": {
      "needs_background": "light"
     },
     "output_type": "display_data"
    }
   ],
   "source": [
    "for i in Q3_2019_r.sum()[Q3_2019_r.sum() < 100].index.tolist():\n",
    "    print(Q3_2019_r[Q3_2019_r[i] > 0][i].values)\n",
    "    r = plt.boxplot(Q3_2019_r[Q3_2019_r[i] > 0][i].values)\n",
    "    print(r[\"fliers\"][0].get_data()[1])"
   ]
  },
  {
   "cell_type": "code",
   "execution_count": 300,
   "id": "eff69d12",
   "metadata": {},
   "outputs": [],
   "source": [
    "# Q3_2019_r.insert(0, 'at', Q3_2019['at'])\n",
    "# Q3_2019_r.insert(0, 'account', Q3_2019['account'])\n",
    "# Q3_2019_r"
   ]
  },
  {
   "cell_type": "code",
   "execution_count": 373,
   "id": "1b538e74",
   "metadata": {},
   "outputs": [
    {
     "name": "stdout",
     "output_type": "stream",
     "text": [
      "add_snippet                   1.0\n",
      "change_contact_status         5.0\n",
      "change_service_user_status    2.0\n",
      "export_workflow               8.0\n",
      "remove_action                 1.0\n",
      "remove_contact                5.0\n",
      "suspend_role                  1.0\n",
      "dtype: float64\n",
      "\n",
      "Series([], dtype: float64)\n",
      "\n",
      "download_task_file    294344.0\n",
      "remove_inform          21175.0\n",
      "dtype: float64\n"
     ]
    }
   ],
   "source": [
    "Q4_2019_r = Q4_2019[Q4_2019.columns[2:]][red_light]\n",
    "Q4_2019_r = Q4_2019_r[Q4_2019_r.columns[Q4_2019_r.sum() != 0]]\n",
    "Q4_2019_r.sum()\n",
    "print(Q4_2019_r.sum()[Q4_2019_r.sum() < 100])\n",
    "print()\n",
    "print(Q4_2019_r.sum()[(Q4_2019_r.sum() >= 100) & (Q4_2019_r.sum() < 10000)])\n",
    "print()\n",
    "print(Q4_2019_r.sum()[Q4_2019_r.sum() >= 10000])"
   ]
  },
  {
   "cell_type": "code",
   "execution_count": 375,
   "id": "3d7c3c6f",
   "metadata": {
    "scrolled": false
   },
   "outputs": [
    {
     "name": "stdout",
     "output_type": "stream",
     "text": [
      "[1.]\n",
      "[]\n",
      "[1. 2. 1. 1.]\n",
      "[2.]\n",
      "[2.]\n",
      "[]\n",
      "[1. 3. 1. 1. 1. 1.]\n",
      "[3.]\n",
      "[1.]\n",
      "[]\n",
      "[1. 1. 1. 1. 1.]\n",
      "[]\n",
      "[1.]\n",
      "[]\n"
     ]
    },
    {
     "data": {
      "image/png": "[encoded data removed]",
      "text/plain": [
       "<Figure size 432x288 with 1 Axes>"
      ]
     },
     "metadata": {
      "needs_background": "light"
     },
     "output_type": "display_data"
    }
   ],
   "source": [
    "for i in Q4_2019_r.sum()[Q4_2019_r.sum() < 100].index.tolist():\n",
    "    print(Q4_2019_r[Q4_2019_r[i] > 0][i].values)\n",
    "    r = plt.boxplot(Q4_2019_r[Q4_2019_r[i] > 0][i].values)\n",
    "    print(r[\"fliers\"][0].get_data()[1])"
   ]
  },
  {
   "cell_type": "code",
   "execution_count": 299,
   "id": "0c291cea",
   "metadata": {},
   "outputs": [],
   "source": [
    "# Q4_2019_r.insert(0, 'at', Q4_2019['at'])\n",
    "# Q4_2019_r.insert(0, 'account', Q4_2019['account'])\n",
    "# Q4_2019_r"
   ]
  },
  {
   "cell_type": "code",
   "execution_count": 312,
   "id": "02367584",
   "metadata": {},
   "outputs": [
    {
     "name": "stdout",
     "output_type": "stream",
     "text": [
      "add_snippet                   1.0\n",
      "change_contact_status         5.0\n",
      "change_service_user_status    2.0\n",
      "export_workflow               8.0\n",
      "remove_action                 1.0\n",
      "remove_contact                5.0\n",
      "suspend_role                  1.0\n",
      "dtype: float64\n",
      "\n",
      "Series([], dtype: float64)\n",
      "\n",
      "download_task_file    294344.0\n",
      "remove_inform          21175.0\n",
      "dtype: float64\n"
     ]
    }
   ],
   "source": [
    "Q1_2020_r = Q4_2019[Q1_2020.columns[2:]][red_light]\n",
    "Q1_2020_r = Q1_2020_r[Q1_2020_r.columns[Q1_2020_r.sum() != 0]]\n",
    "Q1_2020_r.sum()\n",
    "print(Q1_2020_r.sum()[Q1_2020_r.sum() < 100])\n",
    "print()\n",
    "print(Q1_2020_r.sum()[(Q1_2020_r.sum() >= 100) & (Q1_2020_r.sum() < 10000)])\n",
    "print()\n",
    "print(Q1_2020_r.sum()[Q1_2020_r.sum() >= 10000])"
   ]
  },
  {
   "cell_type": "code",
   "execution_count": 376,
   "id": "28630b44",
   "metadata": {},
   "outputs": [
    {
     "name": "stdout",
     "output_type": "stream",
     "text": [
      "[1.]\n",
      "[]\n",
      "[1. 2. 1. 1.]\n",
      "[2.]\n",
      "[2.]\n",
      "[]\n",
      "[1. 3. 1. 1. 1. 1.]\n",
      "[3.]\n",
      "[1.]\n",
      "[]\n",
      "[1. 1. 1. 1. 1.]\n",
      "[]\n",
      "[1.]\n",
      "[]\n"
     ]
    },
    {
     "data": {
      "image/png": "[encoded data removed]",
      "text/plain": [
       "<Figure size 432x288 with 1 Axes>"
      ]
     },
     "metadata": {
      "needs_background": "light"
     },
     "output_type": "display_data"
    }
   ],
   "source": [
    "for i in Q1_2020_r.sum()[Q1_2020_r.sum() < 100].index.tolist():\n",
    "    print(Q1_2020_r[Q1_2020_r[i] > 0][i].values)\n",
    "    r = plt.boxplot(Q1_2020_r[Q1_2020_r[i] > 0][i].values)\n",
    "    print(r[\"fliers\"][0].get_data()[1])"
   ]
  },
  {
   "cell_type": "code",
   "execution_count": 298,
   "id": "0bd042cb",
   "metadata": {},
   "outputs": [],
   "source": [
    "# Q1_2020_r.insert(0, 'at', Q1_2020['at'])\n",
    "# Q1_2020_r.insert(0, 'account', Q1_2020['account'])\n",
    "# Q1_2020_r"
   ]
  },
  {
   "cell_type": "code",
   "execution_count": 311,
   "id": "bf902168",
   "metadata": {},
   "outputs": [
    {
     "name": "stdout",
     "output_type": "stream",
     "text": [
      "add_snippet                2.0\n",
      "change_contact_status      7.0\n",
      "clear_account_settings     2.0\n",
      "export_workflow            2.0\n",
      "remove_action              2.0\n",
      "remove_role                1.0\n",
      "remove_snippet             1.0\n",
      "remove_status              1.0\n",
      "remove_workflow            3.0\n",
      "reset_password             7.0\n",
      "suspend_account            7.0\n",
      "suspend_role              59.0\n",
      "dtype: float64\n",
      "\n",
      "Series([], dtype: float64)\n",
      "\n",
      "download_task_file    378224.0\n",
      "remove_inform          26867.0\n",
      "dtype: float64\n"
     ]
    }
   ],
   "source": [
    "Q2_2020_r = Q2_2020[Q2_2020.columns[2:]][red_light]\n",
    "Q2_2020_r = Q2_2020_r[Q2_2020_r.columns[Q2_2020_r.sum() != 0]]\n",
    "Q2_2020_r.sum()\n",
    "print(Q2_2020_r.sum()[Q2_2020_r.sum() < 100])\n",
    "print()\n",
    "print(Q2_2020_r.sum()[(Q2_2020_r.sum() >= 100) & (Q2_2020_r.sum() < 10000)])\n",
    "print()\n",
    "print(Q2_2020_r.sum()[Q2_2020_r.sum() >= 10000])"
   ]
  },
  {
   "cell_type": "code",
   "execution_count": 386,
   "id": "e9a824aa",
   "metadata": {},
   "outputs": [
    {
     "name": "stdout",
     "output_type": "stream",
     "text": [
      "[1. 1.]\n",
      "[]\n",
      "[1. 1. 3. 1. 1.]\n",
      "[3.]\n",
      "[1. 1.]\n",
      "[]\n",
      "[1. 1.]\n",
      "[]\n",
      "[2.]\n",
      "[]\n",
      "[1.]\n",
      "[]\n",
      "[1.]\n",
      "[]\n",
      "[1.]\n",
      "[]\n",
      "[3.]\n",
      "[]\n",
      "[1. 1. 5.]\n",
      "[]\n",
      "[7.]\n",
      "[]\n",
      "[21. 38.]\n",
      "[]\n"
     ]
    },
    {
     "data": {
      "image/png": "[encoded data removed]",
      "text/plain": [
       "<Figure size 432x288 with 1 Axes>"
      ]
     },
     "metadata": {
      "needs_background": "light"
     },
     "output_type": "display_data"
    }
   ],
   "source": [
    "for i in Q2_2020_r.sum()[Q2_2020_r.sum() < 100].index.tolist():\n",
    "    print(Q2_2020_r[Q2_2020_r[i] > 0][i].values)\n",
    "    r = plt.boxplot(Q2_2020_r[Q2_2020_r[i] > 0][i].values)\n",
    "    print(r[\"fliers\"][0].get_data()[1])"
   ]
  },
  {
   "cell_type": "code",
   "execution_count": 297,
   "id": "1de4628d",
   "metadata": {},
   "outputs": [],
   "source": [
    "# Q2_2020_r.insert(0, 'at', Q2_2020['at'])\n",
    "# Q2_2020_r.insert(0, 'account', Q2_2020['account'])\n",
    "# Q2_2020_r"
   ]
  },
  {
   "cell_type": "code",
   "execution_count": 309,
   "id": "a63b5a4f",
   "metadata": {},
   "outputs": [
    {
     "name": "stdout",
     "output_type": "stream",
     "text": [
      "change_contact_status      5.0\n",
      "change_password            1.0\n",
      "clear_account_settings     2.0\n",
      "export_workflow            5.0\n",
      "remove_contact             1.0\n",
      "reset_password             3.0\n",
      "suspend_account            2.0\n",
      "suspend_role              27.0\n",
      "dtype: float64\n",
      "\n",
      "download_task_files    3096.0\n",
      "dtype: float64\n",
      "\n",
      "download_task_file    393284.0\n",
      "remove_inform          27266.0\n",
      "dtype: float64\n"
     ]
    }
   ],
   "source": [
    "Q3_2020_r = Q3_2020[Q3_2020.columns[2:]][red_light]\n",
    "Q3_2020_r = Q3_2020_r[Q3_2020_r.columns[Q3_2020_r.sum() != 0]]\n",
    "Q3_2020_r.sum()\n",
    "print(Q3_2020_r.sum()[Q3_2020_r.sum() < 100])\n",
    "print()\n",
    "print(Q3_2020_r.sum()[(Q3_2020_r.sum() >= 100) & (Q3_2020_r.sum() < 10000)])\n",
    "print()\n",
    "print(Q3_2020_r.sum()[Q3_2020_r.sum() >= 10000])"
   ]
  },
  {
   "cell_type": "code",
   "execution_count": 435,
   "id": "f2109fb5",
   "metadata": {},
   "outputs": [
    {
     "name": "stdout",
     "output_type": "stream",
     "text": [
      "[1. 2. 1. 1.]\n",
      "[2.]\n",
      "[1.]\n",
      "[]\n",
      "[1. 1.]\n",
      "[]\n",
      "[1. 1. 3.]\n",
      "[]\n",
      "[1.]\n",
      "[]\n",
      "[1. 2.]\n",
      "[]\n",
      "[1. 1.]\n",
      "[]\n",
      "[ 1.  9.  1.  1. 13.  1.  1.]\n",
      "[13.]\n"
     ]
    },
    {
     "data": {
      "image/png": "[encoded data removed]",
      "text/plain": [
       "<Figure size 432x288 with 1 Axes>"
      ]
     },
     "metadata": {
      "needs_background": "light"
     },
     "output_type": "display_data"
    }
   ],
   "source": [
    "for i in Q3_2020_r.sum()[Q3_2020_r.sum() < 100].index.tolist():\n",
    "    print(Q3_2020_r[Q3_2020_r[i] > 0][i].values)\n",
    "    r = plt.boxplot(Q3_2020_r[Q3_2020_r[i] > 0][i].values)\n",
    "    print(r[\"fliers\"][0].get_data()[1])"
   ]
  },
  {
   "cell_type": "code",
   "execution_count": 296,
   "id": "110c1e04",
   "metadata": {},
   "outputs": [],
   "source": [
    "# Q3_2020_r.insert(0, 'at', Q3_2020['at'])\n",
    "# Q3_2020_r.insert(0, 'account', Q3_2020['account'])\n",
    "# Q3_2020_r"
   ]
  },
  {
   "cell_type": "code",
   "execution_count": 307,
   "id": "9328d872",
   "metadata": {},
   "outputs": [
    {
     "name": "stdout",
     "output_type": "stream",
     "text": [
      "add_snippet                1.0\n",
      "change_password           18.0\n",
      "clear_account_settings    22.0\n",
      "export_workflow            1.0\n",
      "remove_account             3.0\n",
      "remove_action              1.0\n",
      "remove_draft               9.0\n",
      "reset_password             4.0\n",
      "set_new_pass              50.0\n",
      "suspend_account            1.0\n",
      "suspend_role               9.0\n",
      "two_factor_email           2.0\n",
      "dtype: float64\n",
      "\n",
      "download_task_files    5764.0\n",
      "dtype: float64\n",
      "\n",
      "auth_confirm_caution     50263.0\n",
      "download_task_file      319131.0\n",
      "remove_inform            24378.0\n",
      "dtype: float64\n"
     ]
    }
   ],
   "source": [
    "Q4_2020_r = Q4_2020[Q4_2020.columns[2:]][red_light]\n",
    "Q4_2020_r = Q4_2020_r[Q4_2020_r.columns[Q4_2020_r.sum() != 0]]\n",
    "Q4_2020_r.sum()\n",
    "print(Q4_2020_r.sum()[Q4_2020_r.sum() < 100])\n",
    "print()\n",
    "print(Q4_2020_r.sum()[(Q4_2020_r.sum() >= 100) & (Q4_2020_r.sum() < 10000)])\n",
    "print()\n",
    "print(Q4_2020_r.sum()[Q4_2020_r.sum() >= 10000])"
   ]
  },
  {
   "cell_type": "code",
   "execution_count": 444,
   "id": "a718d7f1",
   "metadata": {},
   "outputs": [
    {
     "name": "stdout",
     "output_type": "stream",
     "text": [
      "[1.]\n",
      "[]\n",
      "[1. 1. 1. 1. 1. 1. 1. 1. 1. 1. 1. 1. 1. 1. 1. 1. 1. 1.]\n",
      "[]\n",
      "[1. 1. 2. 1. 1. 3. 1. 1. 2. 3. 3. 3.]\n",
      "[]\n",
      "[1.]\n",
      "[]\n",
      "[3.]\n",
      "[]\n",
      "[1.]\n",
      "[]\n",
      "[1. 1. 1. 1. 4. 1.]\n",
      "[4.]\n",
      "[1. 2. 1.]\n",
      "[]\n",
      "[1. 1. 1. 1. 1. 1. 1. 1. 1. 1. 1. 1. 1. 1. 1. 1. 1. 1. 1. 1. 1. 1. 1. 1.\n",
      " 1. 1. 1. 1. 1. 1. 1. 1. 1. 1. 1. 1. 1. 1. 1. 1. 1. 1. 1. 1. 1. 1. 1. 1.\n",
      " 1. 1.]\n",
      "[]\n",
      "[1.]\n",
      "[]\n",
      "[9.]\n",
      "[]\n",
      "[2.]\n",
      "[]\n"
     ]
    },
    {
     "data": {
      "image/png": "[encoded data removed]",
      "text/plain": [
       "<Figure size 432x288 with 1 Axes>"
      ]
     },
     "metadata": {
      "needs_background": "light"
     },
     "output_type": "display_data"
    }
   ],
   "source": [
    "for i in Q4_2020_r.sum()[Q4_2020_r.sum() < 100].index.tolist():\n",
    "    print(Q4_2020_r[Q4_2020_r[i] > 0][i].values)\n",
    "    r = plt.boxplot(Q4_2020_r[Q4_2020_r[i] > 0][i].values)\n",
    "    print(r[\"fliers\"][0].get_data()[1])"
   ]
  },
  {
   "cell_type": "code",
   "execution_count": 295,
   "id": "2935d8e8",
   "metadata": {},
   "outputs": [],
   "source": [
    "# Q4_2020_r.insert(0, 'at', Q4_2020['at'])\n",
    "# Q4_2020_r.insert(0, 'account', Q4_2020['account'])\n",
    "# Q4_2020_r"
   ]
  },
  {
   "cell_type": "code",
   "execution_count": 306,
   "id": "8c0f8598",
   "metadata": {},
   "outputs": [
    {
     "name": "stdout",
     "output_type": "stream",
     "text": [
      "add_snippet                1.0\n",
      "change_password           21.0\n",
      "clear_account_settings    17.0\n",
      "export_workflow            1.0\n",
      "remove_draft               3.0\n",
      "remove_role                1.0\n",
      "reset_password             3.0\n",
      "set_new_pass              56.0\n",
      "dtype: float64\n",
      "\n",
      "download_task_files    5633.0\n",
      "dtype: float64\n",
      "\n",
      "auth_confirm_caution     45083.0\n",
      "download_task_file      351612.0\n",
      "remove_inform            23091.0\n",
      "dtype: float64\n"
     ]
    }
   ],
   "source": [
    "Q1_2021_r = Q1_2021[Q1_2021.columns[2:]][red_light]\n",
    "Q1_2021_r = Q1_2021_r[Q1_2021_r.columns[Q1_2021_r.sum() != 0]]\n",
    "Q1_2021_r.sum()\n",
    "print(Q1_2021_r.sum()[Q1_2021_r.sum() < 100])\n",
    "print()\n",
    "print(Q1_2021_r.sum()[(Q1_2021_r.sum() >= 100) & (Q1_2021_r.sum() < 10000)])\n",
    "print()\n",
    "print(Q1_2021_r.sum()[Q1_2021_r.sum() >= 10000])"
   ]
  },
  {
   "cell_type": "code",
   "execution_count": 446,
   "id": "84446751",
   "metadata": {},
   "outputs": [
    {
     "name": "stdout",
     "output_type": "stream",
     "text": [
      "[1.]\n",
      "[]\n",
      "[1. 1. 1. 1. 1. 1. 1. 1. 1. 1. 1. 1. 1. 1. 1. 1. 1. 1. 1. 1. 1.]\n",
      "[]\n",
      "[3. 1. 1. 5. 3. 1. 1. 2.]\n",
      "[]\n",
      "[1.]\n",
      "[]\n",
      "[2. 1.]\n",
      "[]\n",
      "[1.]\n",
      "[]\n",
      "[2. 1.]\n",
      "[]\n",
      "[1. 1. 1. 1. 1. 2. 1. 1. 1. 1. 1. 1. 1. 1. 1. 1. 1. 1. 1. 1. 1. 1. 1. 1.\n",
      " 1. 1. 1. 1. 1. 1. 1. 1. 1. 1. 1. 1. 1. 1. 1. 1. 1. 1. 1. 1. 1. 1. 1. 1.\n",
      " 1. 1. 1. 1. 1. 1. 1.]\n",
      "[2.]\n"
     ]
    },
    {
     "data": {
      "image/png": "[encoded data removed]",
      "text/plain": [
       "<Figure size 432x288 with 1 Axes>"
      ]
     },
     "metadata": {
      "needs_background": "light"
     },
     "output_type": "display_data"
    }
   ],
   "source": [
    "for i in Q1_2021_r.sum()[Q1_2021_r.sum() < 100].index.tolist():\n",
    "    print(Q1_2021_r[Q1_2021_r[i] > 0][i].values)\n",
    "    r = plt.boxplot(Q1_2021_r[Q1_2021_r[i] > 0][i].values)\n",
    "    print(r[\"fliers\"][0].get_data()[1])"
   ]
  },
  {
   "cell_type": "code",
   "execution_count": 294,
   "id": "f0915536",
   "metadata": {},
   "outputs": [],
   "source": [
    "# Q1_2021_r.insert(0, 'at', Q1_2021['at'])\n",
    "# Q1_2021_r.insert(0, 'account', Q1_2021['account'])\n",
    "# Q1_2021_r"
   ]
  },
  {
   "cell_type": "code",
   "execution_count": 305,
   "id": "4315979a",
   "metadata": {},
   "outputs": [
    {
     "name": "stdout",
     "output_type": "stream",
     "text": [
      "change_password           17.0\n",
      "clear_account_settings    30.0\n",
      "export_template            2.0\n",
      "export_workflow            1.0\n",
      "remove_account             7.0\n",
      "remove_action              1.0\n",
      "remove_draft               6.0\n",
      "suspend_account            4.0\n",
      "dtype: float64\n",
      "\n",
      "download_task_files    4618.0\n",
      "set_new_pass            160.0\n",
      "suspend_role            167.0\n",
      "dtype: float64\n",
      "\n",
      "auth_confirm_caution     28542.0\n",
      "download_task_file      277571.0\n",
      "remove_inform            20844.0\n",
      "dtype: float64\n"
     ]
    }
   ],
   "source": [
    "Q2_2021_r = Q2_2021[Q2_2021.columns[2:]][red_light]\n",
    "Q2_2021_r = Q2_2021_r[Q2_2021_r.columns[Q2_2021_r.sum() != 0]]\n",
    "Q2_2021_r.sum()\n",
    "print(Q2_2021_r.sum()[Q2_2021_r.sum() < 100])\n",
    "print()\n",
    "print(Q2_2021_r.sum()[(Q2_2021_r.sum() >= 100) & (Q2_2021_r.sum() < 10000)])\n",
    "print()\n",
    "print(Q2_2021_r.sum()[Q2_2021_r.sum() >= 10000])"
   ]
  },
  {
   "cell_type": "code",
   "execution_count": 447,
   "id": "318389c9",
   "metadata": {},
   "outputs": [
    {
     "name": "stdout",
     "output_type": "stream",
     "text": [
      "[1. 1. 1. 1. 1. 1. 1. 1. 1. 1. 1. 1. 1. 1. 1. 1. 1.]\n",
      "[]\n",
      "[1. 1. 1. 2. 1. 1. 1. 1. 1. 1. 1. 2. 1. 1. 1. 1. 2. 1. 1. 1. 2. 2. 2. 1.]\n",
      "[2. 2. 2. 2. 2. 2.]\n",
      "[2.]\n",
      "[]\n",
      "[1.]\n",
      "[]\n",
      "[1. 1. 1. 4.]\n",
      "[4.]\n",
      "[1.]\n",
      "[]\n",
      "[1. 1. 4.]\n",
      "[]\n",
      "[1. 1. 1. 1.]\n",
      "[]\n"
     ]
    },
    {
     "data": {
      "image/png": "[encoded data removed]",
      "text/plain": [
       "<Figure size 432x288 with 1 Axes>"
      ]
     },
     "metadata": {
      "needs_background": "light"
     },
     "output_type": "display_data"
    }
   ],
   "source": [
    "for i in Q2_2021_r.sum()[Q2_2021_r.sum() < 100].index.tolist():\n",
    "    print(Q2_2021_r[Q2_2021_r[i] > 0][i].values)\n",
    "    r = plt.boxplot(Q2_2021_r[Q2_2021_r[i] > 0][i].values)\n",
    "    print(r[\"fliers\"][0].get_data()[1])"
   ]
  },
  {
   "cell_type": "code",
   "execution_count": 301,
   "id": "2115387d",
   "metadata": {},
   "outputs": [],
   "source": [
    "# Q2_2021_r.insert(0, 'at', Q2_2021['at'])\n",
    "# Q2_2021_r.insert(0, 'account', Q2_2021['account'])\n",
    "# Q2_2021_r"
   ]
  },
  {
   "cell_type": "code",
   "execution_count": 202,
   "id": "9a9332e6",
   "metadata": {},
   "outputs": [],
   "source": [
    "quarters = [Q3_2019_r, Q4_2019_r, Q1_2020_r, Q2_2020_r, Q2_2020_r, Q3_2020_r, Q4_2020_r, Q1_2021_r, Q2_2021_r]"
   ]
  },
  {
   "cell_type": "code",
   "execution_count": 205,
   "id": "ca2e6440",
   "metadata": {},
   "outputs": [
    {
     "data": {
      "text/plain": [
       "{'add_snippet',\n",
       " 'auth_confirm_caution',\n",
       " 'change_contact_status',\n",
       " 'change_password',\n",
       " 'change_service_user_status',\n",
       " 'clear_account_settings',\n",
       " 'download_task_file',\n",
       " 'download_task_files',\n",
       " 'download_template',\n",
       " 'export_contacts',\n",
       " 'export_template',\n",
       " 'export_workflow',\n",
       " 'remove_account',\n",
       " 'remove_action',\n",
       " 'remove_contact',\n",
       " 'remove_draft',\n",
       " 'remove_inform',\n",
       " 'remove_role',\n",
       " 'remove_snippet',\n",
       " 'remove_status',\n",
       " 'remove_workflow',\n",
       " 'reset_password',\n",
       " 'set_new_pass',\n",
       " 'suspend_account',\n",
       " 'suspend_role',\n",
       " 'two_factor_email'}"
      ]
     },
     "execution_count": 205,
     "metadata": {},
     "output_type": "execute_result"
    }
   ],
   "source": [
    "common_aims = []\n",
    "for qrt in quarters:\n",
    "    common_aims.extend(qrt.index.tolist())\n",
    "common_aims = set(common_aims)\n",
    "common_aims"
   ]
  },
  {
   "cell_type": "code",
   "execution_count": 253,
   "id": "d60992c0",
   "metadata": {},
   "outputs": [
    {
     "name": "stderr",
     "output_type": "stream",
     "text": [
      "C:\\Users\\Naira\\AppData\\Local\\Temp/ipykernel_6248/602105804.py:3: FutureWarning:\n",
      "\n",
      "Dropping of nuisance columns in DataFrame reductions (with 'numeric_only=None') is deprecated; in a future version this will raise TypeError.  Select only valid columns before calling the reduction.\n",
      "\n"
     ]
    },
    {
     "data": {
      "application/vnd.plotly.v1+json": {
       "config": {
        "plotlyServerURL": "https://plot.ly"
       },
       "data": [
        {
         "name": "Q3_2019",
         "type": "scatter",
         "x": [
          "add_snippet",
          "auth_confirm_caution",
          "change_contact_status",
          "change_password",
          "change_service_user_status",
          "clear_account_settings",
          "deactivate_workflow",
          "download_task_file",
          "download_task_files",
          "download_template",
          "export_contacts",
          "export_template",
          "export_workflow",
          "remove_account",
          "remove_action",
          "remove_contact",
          "remove_draft",
          "remove_inform",
          "remove_role",
          "remove_snippet",
          "remove_status",
          "remove_workflow",
          "reset_password",
          "set_new_pass",
          "suspend_account",
          "suspend_role",
          "two_factor_email"
         ],
         "y": [
          3,
          2,
          270506,
          8,
          11,
          35,
          8,
          1,
          18501,
          3,
          2,
          6
         ]
        },
        {
         "name": "Q4_2019",
         "type": "scatter",
         "x": [
          "add_snippet",
          "auth_confirm_caution",
          "change_contact_status",
          "change_password",
          "change_service_user_status",
          "clear_account_settings",
          "deactivate_workflow",
          "download_task_file",
          "download_task_files",
          "download_template",
          "export_contacts",
          "export_template",
          "export_workflow",
          "remove_account",
          "remove_action",
          "remove_contact",
          "remove_draft",
          "remove_inform",
          "remove_role",
          "remove_snippet",
          "remove_status",
          "remove_workflow",
          "reset_password",
          "set_new_pass",
          "suspend_account",
          "suspend_role",
          "two_factor_email"
         ],
         "y": [
          1,
          5,
          2,
          294344,
          8,
          1,
          5,
          21175,
          1
         ]
        },
        {
         "name": "Q1_2020",
         "type": "scatter",
         "x": [
          "add_snippet",
          "auth_confirm_caution",
          "change_contact_status",
          "change_password",
          "change_service_user_status",
          "clear_account_settings",
          "deactivate_workflow",
          "download_task_file",
          "download_task_files",
          "download_template",
          "export_contacts",
          "export_template",
          "export_workflow",
          "remove_account",
          "remove_action",
          "remove_contact",
          "remove_draft",
          "remove_inform",
          "remove_role",
          "remove_snippet",
          "remove_status",
          "remove_workflow",
          "reset_password",
          "set_new_pass",
          "suspend_account",
          "suspend_role",
          "two_factor_email"
         ],
         "y": [
          8053381,
          1,
          5,
          2,
          294344,
          8,
          1,
          5,
          21175,
          1
         ]
        },
        {
         "name": "Q2_2020",
         "type": "scatter",
         "x": [
          "add_snippet",
          "auth_confirm_caution",
          "change_contact_status",
          "change_password",
          "change_service_user_status",
          "clear_account_settings",
          "deactivate_workflow",
          "download_task_file",
          "download_task_files",
          "download_template",
          "export_contacts",
          "export_template",
          "export_workflow",
          "remove_account",
          "remove_action",
          "remove_contact",
          "remove_draft",
          "remove_inform",
          "remove_role",
          "remove_snippet",
          "remove_status",
          "remove_workflow",
          "reset_password",
          "set_new_pass",
          "suspend_account",
          "suspend_role",
          "two_factor_email"
         ],
         "y": [
          2,
          7,
          2,
          378224,
          2,
          2,
          26867,
          1,
          1,
          1,
          3,
          7,
          7,
          59
         ]
        },
        {
         "name": "Q3_2020",
         "type": "scatter",
         "x": [
          "add_snippet",
          "auth_confirm_caution",
          "change_contact_status",
          "change_password",
          "change_service_user_status",
          "clear_account_settings",
          "deactivate_workflow",
          "download_task_file",
          "download_task_files",
          "download_template",
          "export_contacts",
          "export_template",
          "export_workflow",
          "remove_account",
          "remove_action",
          "remove_contact",
          "remove_draft",
          "remove_inform",
          "remove_role",
          "remove_snippet",
          "remove_status",
          "remove_workflow",
          "reset_password",
          "set_new_pass",
          "suspend_account",
          "suspend_role",
          "two_factor_email"
         ],
         "y": [
          5,
          1,
          2,
          393284,
          3096,
          5,
          1,
          27266,
          3,
          2,
          27
         ]
        },
        {
         "name": "Q4_2020",
         "type": "scatter",
         "x": [
          "add_snippet",
          "auth_confirm_caution",
          "change_contact_status",
          "change_password",
          "change_service_user_status",
          "clear_account_settings",
          "deactivate_workflow",
          "download_task_file",
          "download_task_files",
          "download_template",
          "export_contacts",
          "export_template",
          "export_workflow",
          "remove_account",
          "remove_action",
          "remove_contact",
          "remove_draft",
          "remove_inform",
          "remove_role",
          "remove_snippet",
          "remove_status",
          "remove_workflow",
          "reset_password",
          "set_new_pass",
          "suspend_account",
          "suspend_role",
          "two_factor_email"
         ],
         "y": [
          1,
          50263,
          18,
          22,
          319131,
          5764,
          1,
          3,
          1,
          9,
          24378,
          4,
          50,
          1,
          9,
          2
         ]
        },
        {
         "name": "Q1_2021",
         "type": "scatter",
         "x": [
          "add_snippet",
          "auth_confirm_caution",
          "change_contact_status",
          "change_password",
          "change_service_user_status",
          "clear_account_settings",
          "deactivate_workflow",
          "download_task_file",
          "download_task_files",
          "download_template",
          "export_contacts",
          "export_template",
          "export_workflow",
          "remove_account",
          "remove_action",
          "remove_contact",
          "remove_draft",
          "remove_inform",
          "remove_role",
          "remove_snippet",
          "remove_status",
          "remove_workflow",
          "reset_password",
          "set_new_pass",
          "suspend_account",
          "suspend_role",
          "two_factor_email"
         ],
         "y": [
          1,
          45083,
          21,
          17,
          351612,
          5633,
          1,
          3,
          23091,
          1,
          3,
          56
         ]
        },
        {
         "name": "Q2_2021",
         "type": "scatter",
         "x": [
          "add_snippet",
          "auth_confirm_caution",
          "change_contact_status",
          "change_password",
          "change_service_user_status",
          "clear_account_settings",
          "deactivate_workflow",
          "download_task_file",
          "download_task_files",
          "download_template",
          "export_contacts",
          "export_template",
          "export_workflow",
          "remove_account",
          "remove_action",
          "remove_contact",
          "remove_draft",
          "remove_inform",
          "remove_role",
          "remove_snippet",
          "remove_status",
          "remove_workflow",
          "reset_password",
          "set_new_pass",
          "suspend_account",
          "suspend_role",
          "two_factor_email"
         ],
         "y": [
          28542,
          17,
          30,
          277571,
          4618,
          2,
          1,
          7,
          1,
          6,
          20844,
          160,
          4,
          167
         ]
        }
       ],
       "layout": {
        "template": {
         "data": {
          "bar": [
           {
            "error_x": {
             "color": "#2a3f5f"
            },
            "error_y": {
             "color": "#2a3f5f"
            },
            "marker": {
             "line": {
              "color": "#E5ECF6",
              "width": 0.5
             },
             "pattern": {
              "fillmode": "overlay",
              "size": 10,
              "solidity": 0.2
             }
            },
            "type": "bar"
           }
          ],
          "barpolar": [
           {
            "marker": {
             "line": {
              "color": "#E5ECF6",
              "width": 0.5
             },
             "pattern": {
              "fillmode": "overlay",
              "size": 10,
              "solidity": 0.2
             }
            },
            "type": "barpolar"
           }
          ],
          "carpet": [
           {
            "aaxis": {
             "endlinecolor": "#2a3f5f",
             "gridcolor": "white",
             "linecolor": "white",
             "minorgridcolor": "white",
             "startlinecolor": "#2a3f5f"
            },
            "baxis": {
             "endlinecolor": "#2a3f5f",
             "gridcolor": "white",
             "linecolor": "white",
             "minorgridcolor": "white",
             "startlinecolor": "#2a3f5f"
            },
            "type": "carpet"
           }
          ],
          "choropleth": [
           {
            "colorbar": {
             "outlinewidth": 0,
             "ticks": ""
            },
            "type": "choropleth"
           }
          ],
          "contour": [
           {
            "colorbar": {
             "outlinewidth": 0,
             "ticks": ""
            },
            "colorscale": [
             [
              0,
              "#0d0887"
             ],
             [
              0.1111111111111111,
              "#46039f"
             ],
             [
              0.2222222222222222,
              "#7201a8"
             ],
             [
              0.3333333333333333,
              "#9c179e"
             ],
             [
              0.4444444444444444,
              "#bd3786"
             ],
             [
              0.5555555555555556,
              "#d8576b"
             ],
             [
              0.6666666666666666,
              "#ed7953"
             ],
             [
              0.7777777777777778,
              "#fb9f3a"
             ],
             [
              0.8888888888888888,
              "#fdca26"
             ],
             [
              1,
              "#f0f921"
             ]
            ],
            "type": "contour"
           }
          ],
          "contourcarpet": [
           {
            "colorbar": {
             "outlinewidth": 0,
             "ticks": ""
            },
            "type": "contourcarpet"
           }
          ],
          "heatmap": [
           {
            "colorbar": {
             "outlinewidth": 0,
             "ticks": ""
            },
            "colorscale": [
             [
              0,
              "#0d0887"
             ],
             [
              0.1111111111111111,
              "#46039f"
             ],
             [
              0.2222222222222222,
              "#7201a8"
             ],
             [
              0.3333333333333333,
              "#9c179e"
             ],
             [
              0.4444444444444444,
              "#bd3786"
             ],
             [
              0.5555555555555556,
              "#d8576b"
             ],
             [
              0.6666666666666666,
              "#ed7953"
             ],
             [
              0.7777777777777778,
              "#fb9f3a"
             ],
             [
              0.8888888888888888,
              "#fdca26"
             ],
             [
              1,
              "#f0f921"
             ]
            ],
            "type": "heatmap"
           }
          ],
          "heatmapgl": [
           {
            "colorbar": {
             "outlinewidth": 0,
             "ticks": ""
            },
            "colorscale": [
             [
              0,
              "#0d0887"
             ],
             [
              0.1111111111111111,
              "#46039f"
             ],
             [
              0.2222222222222222,
              "#7201a8"
             ],
             [
              0.3333333333333333,
              "#9c179e"
             ],
             [
              0.4444444444444444,
              "#bd3786"
             ],
             [
              0.5555555555555556,
              "#d8576b"
             ],
             [
              0.6666666666666666,
              "#ed7953"
             ],
             [
              0.7777777777777778,
              "#fb9f3a"
             ],
             [
              0.8888888888888888,
              "#fdca26"
             ],
             [
              1,
              "#f0f921"
             ]
            ],
            "type": "heatmapgl"
           }
          ],
          "histogram": [
           {
            "marker": {
             "pattern": {
              "fillmode": "overlay",
              "size": 10,
              "solidity": 0.2
             }
            },
            "type": "histogram"
           }
          ],
          "histogram2d": [
           {
            "colorbar": {
             "outlinewidth": 0,
             "ticks": ""
            },
            "colorscale": [
             [
              0,
              "#0d0887"
             ],
             [
              0.1111111111111111,
              "#46039f"
             ],
             [
              0.2222222222222222,
              "#7201a8"
             ],
             [
              0.3333333333333333,
              "#9c179e"
             ],
             [
              0.4444444444444444,
              "#bd3786"
             ],
             [
              0.5555555555555556,
              "#d8576b"
             ],
             [
              0.6666666666666666,
              "#ed7953"
             ],
             [
              0.7777777777777778,
              "#fb9f3a"
             ],
             [
              0.8888888888888888,
              "#fdca26"
             ],
             [
              1,
              "#f0f921"
             ]
            ],
            "type": "histogram2d"
           }
          ],
          "histogram2dcontour": [
           {
            "colorbar": {
             "outlinewidth": 0,
             "ticks": ""
            },
            "colorscale": [
             [
              0,
              "#0d0887"
             ],
             [
              0.1111111111111111,
              "#46039f"
             ],
             [
              0.2222222222222222,
              "#7201a8"
             ],
             [
              0.3333333333333333,
              "#9c179e"
             ],
             [
              0.4444444444444444,
              "#bd3786"
             ],
             [
              0.5555555555555556,
              "#d8576b"
             ],
             [
              0.6666666666666666,
              "#ed7953"
             ],
             [
              0.7777777777777778,
              "#fb9f3a"
             ],
             [
              0.8888888888888888,
              "#fdca26"
             ],
             [
              1,
              "#f0f921"
             ]
            ],
            "type": "histogram2dcontour"
           }
          ],
          "mesh3d": [
           {
            "colorbar": {
             "outlinewidth": 0,
             "ticks": ""
            },
            "type": "mesh3d"
           }
          ],
          "parcoords": [
           {
            "line": {
             "colorbar": {
              "outlinewidth": 0,
              "ticks": ""
             }
            },
            "type": "parcoords"
           }
          ],
          "pie": [
           {
            "automargin": true,
            "type": "pie"
           }
          ],
          "scatter": [
           {
            "marker": {
             "colorbar": {
              "outlinewidth": 0,
              "ticks": ""
             }
            },
            "type": "scatter"
           }
          ],
          "scatter3d": [
           {
            "line": {
             "colorbar": {
              "outlinewidth": 0,
              "ticks": ""
             }
            },
            "marker": {
             "colorbar": {
              "outlinewidth": 0,
              "ticks": ""
             }
            },
            "type": "scatter3d"
           }
          ],
          "scattercarpet": [
           {
            "marker": {
             "colorbar": {
              "outlinewidth": 0,
              "ticks": ""
             }
            },
            "type": "scattercarpet"
           }
          ],
          "scattergeo": [
           {
            "marker": {
             "colorbar": {
              "outlinewidth": 0,
              "ticks": ""
             }
            },
            "type": "scattergeo"
           }
          ],
          "scattergl": [
           {
            "marker": {
             "colorbar": {
              "outlinewidth": 0,
              "ticks": ""
             }
            },
            "type": "scattergl"
           }
          ],
          "scattermapbox": [
           {
            "marker": {
             "colorbar": {
              "outlinewidth": 0,
              "ticks": ""
             }
            },
            "type": "scattermapbox"
           }
          ],
          "scatterpolar": [
           {
            "marker": {
             "colorbar": {
              "outlinewidth": 0,
              "ticks": ""
             }
            },
            "type": "scatterpolar"
           }
          ],
          "scatterpolargl": [
           {
            "marker": {
             "colorbar": {
              "outlinewidth": 0,
              "ticks": ""
             }
            },
            "type": "scatterpolargl"
           }
          ],
          "scatterternary": [
           {
            "marker": {
             "colorbar": {
              "outlinewidth": 0,
              "ticks": ""
             }
            },
            "type": "scatterternary"
           }
          ],
          "surface": [
           {
            "colorbar": {
             "outlinewidth": 0,
             "ticks": ""
            },
            "colorscale": [
             [
              0,
              "#0d0887"
             ],
             [
              0.1111111111111111,
              "#46039f"
             ],
             [
              0.2222222222222222,
              "#7201a8"
             ],
             [
              0.3333333333333333,
              "#9c179e"
             ],
             [
              0.4444444444444444,
              "#bd3786"
             ],
             [
              0.5555555555555556,
              "#d8576b"
             ],
             [
              0.6666666666666666,
              "#ed7953"
             ],
             [
              0.7777777777777778,
              "#fb9f3a"
             ],
             [
              0.8888888888888888,
              "#fdca26"
             ],
             [
              1,
              "#f0f921"
             ]
            ],
            "type": "surface"
           }
          ],
          "table": [
           {
            "cells": {
             "fill": {
              "color": "#EBF0F8"
             },
             "line": {
              "color": "white"
             }
            },
            "header": {
             "fill": {
              "color": "#C8D4E3"
             },
             "line": {
              "color": "white"
             }
            },
            "type": "table"
           }
          ]
         },
         "layout": {
          "annotationdefaults": {
           "arrowcolor": "#2a3f5f",
           "arrowhead": 0,
           "arrowwidth": 1
          },
          "autotypenumbers": "strict",
          "coloraxis": {
           "colorbar": {
            "outlinewidth": 0,
            "ticks": ""
           }
          },
          "colorscale": {
           "diverging": [
            [
             0,
             "#8e0152"
            ],
            [
             0.1,
             "#c51b7d"
            ],
            [
             0.2,
             "#de77ae"
            ],
            [
             0.3,
             "#f1b6da"
            ],
            [
             0.4,
             "#fde0ef"
            ],
            [
             0.5,
             "#f7f7f7"
            ],
            [
             0.6,
             "#e6f5d0"
            ],
            [
             0.7,
             "#b8e186"
            ],
            [
             0.8,
             "#7fbc41"
            ],
            [
             0.9,
             "#4d9221"
            ],
            [
             1,
             "#276419"
            ]
           ],
           "sequential": [
            [
             0,
             "#0d0887"
            ],
            [
             0.1111111111111111,
             "#46039f"
            ],
            [
             0.2222222222222222,
             "#7201a8"
            ],
            [
             0.3333333333333333,
             "#9c179e"
            ],
            [
             0.4444444444444444,
             "#bd3786"
            ],
            [
             0.5555555555555556,
             "#d8576b"
            ],
            [
             0.6666666666666666,
             "#ed7953"
            ],
            [
             0.7777777777777778,
             "#fb9f3a"
            ],
            [
             0.8888888888888888,
             "#fdca26"
            ],
            [
             1,
             "#f0f921"
            ]
           ],
           "sequentialminus": [
            [
             0,
             "#0d0887"
            ],
            [
             0.1111111111111111,
             "#46039f"
            ],
            [
             0.2222222222222222,
             "#7201a8"
            ],
            [
             0.3333333333333333,
             "#9c179e"
            ],
            [
             0.4444444444444444,
             "#bd3786"
            ],
            [
             0.5555555555555556,
             "#d8576b"
            ],
            [
             0.6666666666666666,
             "#ed7953"
            ],
            [
             0.7777777777777778,
             "#fb9f3a"
            ],
            [
             0.8888888888888888,
             "#fdca26"
            ],
            [
             1,
             "#f0f921"
            ]
           ]
          },
          "colorway": [
           "#636efa",
           "#EF553B",
           "#00cc96",
           "#ab63fa",
           "#FFA15A",
           "#19d3f3",
           "#FF6692",
           "#B6E880",
           "#FF97FF",
           "#FECB52"
          ],
          "font": {
           "color": "#2a3f5f"
          },
          "geo": {
           "bgcolor": "white",
           "lakecolor": "white",
           "landcolor": "#E5ECF6",
           "showlakes": true,
           "showland": true,
           "subunitcolor": "white"
          },
          "hoverlabel": {
           "align": "left"
          },
          "hovermode": "closest",
          "mapbox": {
           "style": "light"
          },
          "paper_bgcolor": "white",
          "plot_bgcolor": "#E5ECF6",
          "polar": {
           "angularaxis": {
            "gridcolor": "white",
            "linecolor": "white",
            "ticks": ""
           },
           "bgcolor": "#E5ECF6",
           "radialaxis": {
            "gridcolor": "white",
            "linecolor": "white",
            "ticks": ""
           }
          },
          "scene": {
           "xaxis": {
            "backgroundcolor": "#E5ECF6",
            "gridcolor": "white",
            "gridwidth": 2,
            "linecolor": "white",
            "showbackground": true,
            "ticks": "",
            "zerolinecolor": "white"
           },
           "yaxis": {
            "backgroundcolor": "#E5ECF6",
            "gridcolor": "white",
            "gridwidth": 2,
            "linecolor": "white",
            "showbackground": true,
            "ticks": "",
            "zerolinecolor": "white"
           },
           "zaxis": {
            "backgroundcolor": "#E5ECF6",
            "gridcolor": "white",
            "gridwidth": 2,
            "linecolor": "white",
            "showbackground": true,
            "ticks": "",
            "zerolinecolor": "white"
           }
          },
          "shapedefaults": {
           "line": {
            "color": "#2a3f5f"
           }
          },
          "ternary": {
           "aaxis": {
            "gridcolor": "white",
            "linecolor": "white",
            "ticks": ""
           },
           "baxis": {
            "gridcolor": "white",
            "linecolor": "white",
            "ticks": ""
           },
           "bgcolor": "#E5ECF6",
           "caxis": {
            "gridcolor": "white",
            "linecolor": "white",
            "ticks": ""
           }
          },
          "title": {
           "x": 0.05
          },
          "xaxis": {
           "automargin": true,
           "gridcolor": "white",
           "linecolor": "white",
           "ticks": "",
           "title": {
            "standoff": 15
           },
           "zerolinecolor": "white",
           "zerolinewidth": 2
          },
          "yaxis": {
           "automargin": true,
           "gridcolor": "white",
           "linecolor": "white",
           "ticks": "",
           "title": {
            "standoff": 15
           },
           "zerolinecolor": "white",
           "zerolinewidth": 2
          }
         }
        }
       }
      },
      "text/html": [
       "<div>                            <div id=\"8bf4ce8e-c7e4-421c-8549-5b3df15a489c\" class=\"plotly-graph-div\" style=\"height:525px; width:100%;\"></div>            <script type=\"text/javascript\">                require([\"plotly\"], function(Plotly) {                    window.PLOTLYENV=window.PLOTLYENV || {};                                    if (document.getElementById(\"8bf4ce8e-c7e4-421c-8549-5b3df15a489c\")) {                    Plotly.newPlot(                        \"8bf4ce8e-c7e4-421c-8549-5b3df15a489c\",                        [{\"name\":\"Q3_2019\",\"x\":[\"add_snippet\",\"auth_confirm_caution\",\"change_contact_status\",\"change_password\",\"change_service_user_status\",\"clear_account_settings\",\"deactivate_workflow\",\"download_task_file\",\"download_task_files\",\"download_template\",\"export_contacts\",\"export_template\",\"export_workflow\",\"remove_account\",\"remove_action\",\"remove_contact\",\"remove_draft\",\"remove_inform\",\"remove_role\",\"remove_snippet\",\"remove_status\",\"remove_workflow\",\"reset_password\",\"set_new_pass\",\"suspend_account\",\"suspend_role\",\"two_factor_email\"],\"y\":[3,2,270506,8,11,35,8,1,18501,3,2,6],\"type\":\"scatter\"},{\"name\":\"Q4_2019\",\"x\":[\"add_snippet\",\"auth_confirm_caution\",\"change_contact_status\",\"change_password\",\"change_service_user_status\",\"clear_account_settings\",\"deactivate_workflow\",\"download_task_file\",\"download_task_files\",\"download_template\",\"export_contacts\",\"export_template\",\"export_workflow\",\"remove_account\",\"remove_action\",\"remove_contact\",\"remove_draft\",\"remove_inform\",\"remove_role\",\"remove_snippet\",\"remove_status\",\"remove_workflow\",\"reset_password\",\"set_new_pass\",\"suspend_account\",\"suspend_role\",\"two_factor_email\"],\"y\":[1,5,2,294344,8,1,5,21175,1],\"type\":\"scatter\"},{\"name\":\"Q1_2020\",\"x\":[\"add_snippet\",\"auth_confirm_caution\",\"change_contact_status\",\"change_password\",\"change_service_user_status\",\"clear_account_settings\",\"deactivate_workflow\",\"download_task_file\",\"download_task_files\",\"download_template\",\"export_contacts\",\"export_template\",\"export_workflow\",\"remove_account\",\"remove_action\",\"remove_contact\",\"remove_draft\",\"remove_inform\",\"remove_role\",\"remove_snippet\",\"remove_status\",\"remove_workflow\",\"reset_password\",\"set_new_pass\",\"suspend_account\",\"suspend_role\",\"two_factor_email\"],\"y\":[8053381,1,5,2,294344,8,1,5,21175,1],\"type\":\"scatter\"},{\"name\":\"Q2_2020\",\"x\":[\"add_snippet\",\"auth_confirm_caution\",\"change_contact_status\",\"change_password\",\"change_service_user_status\",\"clear_account_settings\",\"deactivate_workflow\",\"download_task_file\",\"download_task_files\",\"download_template\",\"export_contacts\",\"export_template\",\"export_workflow\",\"remove_account\",\"remove_action\",\"remove_contact\",\"remove_draft\",\"remove_inform\",\"remove_role\",\"remove_snippet\",\"remove_status\",\"remove_workflow\",\"reset_password\",\"set_new_pass\",\"suspend_account\",\"suspend_role\",\"two_factor_email\"],\"y\":[2,7,2,378224,2,2,26867,1,1,1,3,7,7,59],\"type\":\"scatter\"},{\"name\":\"Q3_2020\",\"x\":[\"add_snippet\",\"auth_confirm_caution\",\"change_contact_status\",\"change_password\",\"change_service_user_status\",\"clear_account_settings\",\"deactivate_workflow\",\"download_task_file\",\"download_task_files\",\"download_template\",\"export_contacts\",\"export_template\",\"export_workflow\",\"remove_account\",\"remove_action\",\"remove_contact\",\"remove_draft\",\"remove_inform\",\"remove_role\",\"remove_snippet\",\"remove_status\",\"remove_workflow\",\"reset_password\",\"set_new_pass\",\"suspend_account\",\"suspend_role\",\"two_factor_email\"],\"y\":[5,1,2,393284,3096,5,1,27266,3,2,27],\"type\":\"scatter\"},{\"name\":\"Q4_2020\",\"x\":[\"add_snippet\",\"auth_confirm_caution\",\"change_contact_status\",\"change_password\",\"change_service_user_status\",\"clear_account_settings\",\"deactivate_workflow\",\"download_task_file\",\"download_task_files\",\"download_template\",\"export_contacts\",\"export_template\",\"export_workflow\",\"remove_account\",\"remove_action\",\"remove_contact\",\"remove_draft\",\"remove_inform\",\"remove_role\",\"remove_snippet\",\"remove_status\",\"remove_workflow\",\"reset_password\",\"set_new_pass\",\"suspend_account\",\"suspend_role\",\"two_factor_email\"],\"y\":[1,50263,18,22,319131,5764,1,3,1,9,24378,4,50,1,9,2],\"type\":\"scatter\"},{\"name\":\"Q1_2021\",\"x\":[\"add_snippet\",\"auth_confirm_caution\",\"change_contact_status\",\"change_password\",\"change_service_user_status\",\"clear_account_settings\",\"deactivate_workflow\",\"download_task_file\",\"download_task_files\",\"download_template\",\"export_contacts\",\"export_template\",\"export_workflow\",\"remove_account\",\"remove_action\",\"remove_contact\",\"remove_draft\",\"remove_inform\",\"remove_role\",\"remove_snippet\",\"remove_status\",\"remove_workflow\",\"reset_password\",\"set_new_pass\",\"suspend_account\",\"suspend_role\",\"two_factor_email\"],\"y\":[1,45083,21,17,351612,5633,1,3,23091,1,3,56],\"type\":\"scatter\"},{\"name\":\"Q2_2021\",\"x\":[\"add_snippet\",\"auth_confirm_caution\",\"change_contact_status\",\"change_password\",\"change_service_user_status\",\"clear_account_settings\",\"deactivate_workflow\",\"download_task_file\",\"download_task_files\",\"download_template\",\"export_contacts\",\"export_template\",\"export_workflow\",\"remove_account\",\"remove_action\",\"remove_contact\",\"remove_draft\",\"remove_inform\",\"remove_role\",\"remove_snippet\",\"remove_status\",\"remove_workflow\",\"reset_password\",\"set_new_pass\",\"suspend_account\",\"suspend_role\",\"two_factor_email\"],\"y\":[28542,17,30,277571,4618,2,1,7,1,6,20844,160,4,167],\"type\":\"scatter\"}],                        {\"template\":{\"data\":{\"bar\":[{\"error_x\":{\"color\":\"#2a3f5f\"},\"error_y\":{\"color\":\"#2a3f5f\"},\"marker\":{\"line\":{\"color\":\"#E5ECF6\",\"width\":0.5},\"pattern\":{\"fillmode\":\"overlay\",\"size\":10,\"solidity\":0.2}},\"type\":\"bar\"}],\"barpolar\":[{\"marker\":{\"line\":{\"color\":\"#E5ECF6\",\"width\":0.5},\"pattern\":{\"fillmode\":\"overlay\",\"size\":10,\"solidity\":0.2}},\"type\":\"barpolar\"}],\"carpet\":[{\"aaxis\":{\"endlinecolor\":\"#2a3f5f\",\"gridcolor\":\"white\",\"linecolor\":\"white\",\"minorgridcolor\":\"white\",\"startlinecolor\":\"#2a3f5f\"},\"baxis\":{\"endlinecolor\":\"#2a3f5f\",\"gridcolor\":\"white\",\"linecolor\":\"white\",\"minorgridcolor\":\"white\",\"startlinecolor\":\"#2a3f5f\"},\"type\":\"carpet\"}],\"choropleth\":[{\"colorbar\":{\"outlinewidth\":0,\"ticks\":\"\"},\"type\":\"choropleth\"}],\"contour\":[{\"colorbar\":{\"outlinewidth\":0,\"ticks\":\"\"},\"colorscale\":[[0.0,\"#0d0887\"],[0.1111111111111111,\"#46039f\"],[0.2222222222222222,\"#7201a8\"],[0.3333333333333333,\"#9c179e\"],[0.4444444444444444,\"#bd3786\"],[0.5555555555555556,\"#d8576b\"],[0.6666666666666666,\"#ed7953\"],[0.7777777777777778,\"#fb9f3a\"],[0.8888888888888888,\"#fdca26\"],[1.0,\"#f0f921\"]],\"type\":\"contour\"}],\"contourcarpet\":[{\"colorbar\":{\"outlinewidth\":0,\"ticks\":\"\"},\"type\":\"contourcarpet\"}],\"heatmap\":[{\"colorbar\":{\"outlinewidth\":0,\"ticks\":\"\"},\"colorscale\":[[0.0,\"#0d0887\"],[0.1111111111111111,\"#46039f\"],[0.2222222222222222,\"#7201a8\"],[0.3333333333333333,\"#9c179e\"],[0.4444444444444444,\"#bd3786\"],[0.5555555555555556,\"#d8576b\"],[0.6666666666666666,\"#ed7953\"],[0.7777777777777778,\"#fb9f3a\"],[0.8888888888888888,\"#fdca26\"],[1.0,\"#f0f921\"]],\"type\":\"heatmap\"}],\"heatmapgl\":[{\"colorbar\":{\"outlinewidth\":0,\"ticks\":\"\"},\"colorscale\":[[0.0,\"#0d0887\"],[0.1111111111111111,\"#46039f\"],[0.2222222222222222,\"#7201a8\"],[0.3333333333333333,\"#9c179e\"],[0.4444444444444444,\"#bd3786\"],[0.5555555555555556,\"#d8576b\"],[0.6666666666666666,\"#ed7953\"],[0.7777777777777778,\"#fb9f3a\"],[0.8888888888888888,\"#fdca26\"],[1.0,\"#f0f921\"]],\"type\":\"heatmapgl\"}],\"histogram\":[{\"marker\":{\"pattern\":{\"fillmode\":\"overlay\",\"size\":10,\"solidity\":0.2}},\"type\":\"histogram\"}],\"histogram2d\":[{\"colorbar\":{\"outlinewidth\":0,\"ticks\":\"\"},\"colorscale\":[[0.0,\"#0d0887\"],[0.1111111111111111,\"#46039f\"],[0.2222222222222222,\"#7201a8\"],[0.3333333333333333,\"#9c179e\"],[0.4444444444444444,\"#bd3786\"],[0.5555555555555556,\"#d8576b\"],[0.6666666666666666,\"#ed7953\"],[0.7777777777777778,\"#fb9f3a\"],[0.8888888888888888,\"#fdca26\"],[1.0,\"#f0f921\"]],\"type\":\"histogram2d\"}],\"histogram2dcontour\":[{\"colorbar\":{\"outlinewidth\":0,\"ticks\":\"\"},\"colorscale\":[[0.0,\"#0d0887\"],[0.1111111111111111,\"#46039f\"],[0.2222222222222222,\"#7201a8\"],[0.3333333333333333,\"#9c179e\"],[0.4444444444444444,\"#bd3786\"],[0.5555555555555556,\"#d8576b\"],[0.6666666666666666,\"#ed7953\"],[0.7777777777777778,\"#fb9f3a\"],[0.8888888888888888,\"#fdca26\"],[1.0,\"#f0f921\"]],\"type\":\"histogram2dcontour\"}],\"mesh3d\":[{\"colorbar\":{\"outlinewidth\":0,\"ticks\":\"\"},\"type\":\"mesh3d\"}],\"parcoords\":[{\"line\":{\"colorbar\":{\"outlinewidth\":0,\"ticks\":\"\"}},\"type\":\"parcoords\"}],\"pie\":[{\"automargin\":true,\"type\":\"pie\"}],\"scatter\":[{\"marker\":{\"colorbar\":{\"outlinewidth\":0,\"ticks\":\"\"}},\"type\":\"scatter\"}],\"scatter3d\":[{\"line\":{\"colorbar\":{\"outlinewidth\":0,\"ticks\":\"\"}},\"marker\":{\"colorbar\":{\"outlinewidth\":0,\"ticks\":\"\"}},\"type\":\"scatter3d\"}],\"scattercarpet\":[{\"marker\":{\"colorbar\":{\"outlinewidth\":0,\"ticks\":\"\"}},\"type\":\"scattercarpet\"}],\"scattergeo\":[{\"marker\":{\"colorbar\":{\"outlinewidth\":0,\"ticks\":\"\"}},\"type\":\"scattergeo\"}],\"scattergl\":[{\"marker\":{\"colorbar\":{\"outlinewidth\":0,\"ticks\":\"\"}},\"type\":\"scattergl\"}],\"scattermapbox\":[{\"marker\":{\"colorbar\":{\"outlinewidth\":0,\"ticks\":\"\"}},\"type\":\"scattermapbox\"}],\"scatterpolar\":[{\"marker\":{\"colorbar\":{\"outlinewidth\":0,\"ticks\":\"\"}},\"type\":\"scatterpolar\"}],\"scatterpolargl\":[{\"marker\":{\"colorbar\":{\"outlinewidth\":0,\"ticks\":\"\"}},\"type\":\"scatterpolargl\"}],\"scatterternary\":[{\"marker\":{\"colorbar\":{\"outlinewidth\":0,\"ticks\":\"\"}},\"type\":\"scatterternary\"}],\"surface\":[{\"colorbar\":{\"outlinewidth\":0,\"ticks\":\"\"},\"colorscale\":[[0.0,\"#0d0887\"],[0.1111111111111111,\"#46039f\"],[0.2222222222222222,\"#7201a8\"],[0.3333333333333333,\"#9c179e\"],[0.4444444444444444,\"#bd3786\"],[0.5555555555555556,\"#d8576b\"],[0.6666666666666666,\"#ed7953\"],[0.7777777777777778,\"#fb9f3a\"],[0.8888888888888888,\"#fdca26\"],[1.0,\"#f0f921\"]],\"type\":\"surface\"}],\"table\":[{\"cells\":{\"fill\":{\"color\":\"#EBF0F8\"},\"line\":{\"color\":\"white\"}},\"header\":{\"fill\":{\"color\":\"#C8D4E3\"},\"line\":{\"color\":\"white\"}},\"type\":\"table\"}]},\"layout\":{\"annotationdefaults\":{\"arrowcolor\":\"#2a3f5f\",\"arrowhead\":0,\"arrowwidth\":1},\"autotypenumbers\":\"strict\",\"coloraxis\":{\"colorbar\":{\"outlinewidth\":0,\"ticks\":\"\"}},\"colorscale\":{\"diverging\":[[0,\"#8e0152\"],[0.1,\"#c51b7d\"],[0.2,\"#de77ae\"],[0.3,\"#f1b6da\"],[0.4,\"#fde0ef\"],[0.5,\"#f7f7f7\"],[0.6,\"#e6f5d0\"],[0.7,\"#b8e186\"],[0.8,\"#7fbc41\"],[0.9,\"#4d9221\"],[1,\"#276419\"]],\"sequential\":[[0.0,\"#0d0887\"],[0.1111111111111111,\"#46039f\"],[0.2222222222222222,\"#7201a8\"],[0.3333333333333333,\"#9c179e\"],[0.4444444444444444,\"#bd3786\"],[0.5555555555555556,\"#d8576b\"],[0.6666666666666666,\"#ed7953\"],[0.7777777777777778,\"#fb9f3a\"],[0.8888888888888888,\"#fdca26\"],[1.0,\"#f0f921\"]],\"sequentialminus\":[[0.0,\"#0d0887\"],[0.1111111111111111,\"#46039f\"],[0.2222222222222222,\"#7201a8\"],[0.3333333333333333,\"#9c179e\"],[0.4444444444444444,\"#bd3786\"],[0.5555555555555556,\"#d8576b\"],[0.6666666666666666,\"#ed7953\"],[0.7777777777777778,\"#fb9f3a\"],[0.8888888888888888,\"#fdca26\"],[1.0,\"#f0f921\"]]},\"colorway\":[\"#636efa\",\"#EF553B\",\"#00cc96\",\"#ab63fa\",\"#FFA15A\",\"#19d3f3\",\"#FF6692\",\"#B6E880\",\"#FF97FF\",\"#FECB52\"],\"font\":{\"color\":\"#2a3f5f\"},\"geo\":{\"bgcolor\":\"white\",\"lakecolor\":\"white\",\"landcolor\":\"#E5ECF6\",\"showlakes\":true,\"showland\":true,\"subunitcolor\":\"white\"},\"hoverlabel\":{\"align\":\"left\"},\"hovermode\":\"closest\",\"mapbox\":{\"style\":\"light\"},\"paper_bgcolor\":\"white\",\"plot_bgcolor\":\"#E5ECF6\",\"polar\":{\"angularaxis\":{\"gridcolor\":\"white\",\"linecolor\":\"white\",\"ticks\":\"\"},\"bgcolor\":\"#E5ECF6\",\"radialaxis\":{\"gridcolor\":\"white\",\"linecolor\":\"white\",\"ticks\":\"\"}},\"scene\":{\"xaxis\":{\"backgroundcolor\":\"#E5ECF6\",\"gridcolor\":\"white\",\"gridwidth\":2,\"linecolor\":\"white\",\"showbackground\":true,\"ticks\":\"\",\"zerolinecolor\":\"white\"},\"yaxis\":{\"backgroundcolor\":\"#E5ECF6\",\"gridcolor\":\"white\",\"gridwidth\":2,\"linecolor\":\"white\",\"showbackground\":true,\"ticks\":\"\",\"zerolinecolor\":\"white\"},\"zaxis\":{\"backgroundcolor\":\"#E5ECF6\",\"gridcolor\":\"white\",\"gridwidth\":2,\"linecolor\":\"white\",\"showbackground\":true,\"ticks\":\"\",\"zerolinecolor\":\"white\"}},\"shapedefaults\":{\"line\":{\"color\":\"#2a3f5f\"}},\"ternary\":{\"aaxis\":{\"gridcolor\":\"white\",\"linecolor\":\"white\",\"ticks\":\"\"},\"baxis\":{\"gridcolor\":\"white\",\"linecolor\":\"white\",\"ticks\":\"\"},\"bgcolor\":\"#E5ECF6\",\"caxis\":{\"gridcolor\":\"white\",\"linecolor\":\"white\",\"ticks\":\"\"}},\"title\":{\"x\":0.05},\"xaxis\":{\"automargin\":true,\"gridcolor\":\"white\",\"linecolor\":\"white\",\"ticks\":\"\",\"title\":{\"standoff\":15},\"zerolinecolor\":\"white\",\"zerolinewidth\":2},\"yaxis\":{\"automargin\":true,\"gridcolor\":\"white\",\"linecolor\":\"white\",\"ticks\":\"\",\"title\":{\"standoff\":15},\"zerolinecolor\":\"white\",\"zerolinewidth\":2}}}},                        {\"responsive\": true}                    ).then(function(){\n",
       "                            \n",
       "var gd = document.getElementById('8bf4ce8e-c7e4-421c-8549-5b3df15a489c');\n",
       "var x = new MutationObserver(function (mutations, observer) {{\n",
       "        var display = window.getComputedStyle(gd).display;\n",
       "        if (!display || display === 'none') {{\n",
       "            console.log([gd, 'removed!']);\n",
       "            Plotly.purge(gd);\n",
       "            observer.disconnect();\n",
       "        }}\n",
       "}});\n",
       "\n",
       "// Listen for the removal of the full notebook cells\n",
       "var notebookContainer = gd.closest('#notebook-container');\n",
       "if (notebookContainer) {{\n",
       "    x.observe(notebookContainer, {childList: true});\n",
       "}}\n",
       "\n",
       "// Listen for the clearing of the current output cell\n",
       "var outputEl = gd.closest('.output');\n",
       "if (outputEl) {{\n",
       "    x.observe(outputEl, {childList: true});\n",
       "}}\n",
       "\n",
       "                        })                };                });            </script>        </div>"
      ]
     },
     "metadata": {},
     "output_type": "display_data"
    }
   ],
   "source": [
    "fig = go.Figure(go.Line(x=red_light, y=np.array(Q3_2019_r.sum()).astype(int), name='Q3_2019'))\n",
    "fig.add_trace(go.Line(x=red_light, y=np.array(Q4_2019_r.sum()).astype(int), name='Q4_2019'))\n",
    "fig.add_trace(go.Line(x=red_light, y=np.array(Q1_2020_r.sum()).astype(int), name='Q1_2020'))\n",
    "fig.add_trace(go.Line(x=red_light, y=np.array(Q2_2020_r.sum()).astype(int), name='Q2_2020'))\n",
    "fig.add_trace(go.Line(x=red_light, y=np.array(Q3_2020_r.sum()).astype(int), name='Q3_2020'))\n",
    "fig.add_trace(go.Line(x=red_light, y=np.array(Q4_2020_r.sum()).astype(int), name='Q4_2020'))\n",
    "fig.add_trace(go.Line(x=red_light, y=np.array(Q1_2021_r.sum()).astype(int), name='Q1_2021'))\n",
    "fig.add_trace(go.Line(x=red_light, y=np.array(Q2_2021_r.sum()).astype(int), name='Q2_2021'))\n",
    "fig.show()"
   ]
  },
  {
   "cell_type": "code",
   "execution_count": 37,
   "id": "93287087",
   "metadata": {},
   "outputs": [
    {
     "data": {
      "application/vnd.plotly.v1+json": {
       "config": {
        "plotlyServerURL": "https://plot.ly"
       },
       "data": [
        {
         "name": "Q3_2019",
         "type": "scatter",
         "x": [
          "add_snippet",
          "auth_confirm_caution",
          "change_contact_status",
          "change_password",
          "change_service_user_status",
          "clear_account_settings",
          "deactivate_workflow",
          "download_task_file",
          "download_task_files",
          "download_template",
          "export_contacts",
          "export_template",
          "export_workflow",
          "remove_account",
          "remove_action",
          "remove_contact",
          "remove_draft",
          "remove_inform",
          "remove_role",
          "remove_snippet",
          "remove_status",
          "remove_workflow",
          "reset_password",
          "set_new_pass",
          "suspend_account",
          "suspend_role",
          "two_factor_email"
         ],
         "y": [
          0,
          0,
          3,
          0,
          0,
          2,
          0,
          270506,
          0,
          8,
          11,
          0,
          35,
          0,
          8,
          1,
          0,
          18501,
          0,
          0,
          3,
          0,
          2,
          0,
          0,
          6,
          0
         ]
        },
        {
         "name": "Q4_2019",
         "type": "scatter",
         "x": [
          "add_snippet",
          "auth_confirm_caution",
          "change_contact_status",
          "change_password",
          "change_service_user_status",
          "clear_account_settings",
          "deactivate_workflow",
          "download_task_file",
          "download_task_files",
          "download_template",
          "export_contacts",
          "export_template",
          "export_workflow",
          "remove_account",
          "remove_action",
          "remove_contact",
          "remove_draft",
          "remove_inform",
          "remove_role",
          "remove_snippet",
          "remove_status",
          "remove_workflow",
          "reset_password",
          "set_new_pass",
          "suspend_account",
          "suspend_role",
          "two_factor_email"
         ],
         "y": [
          1,
          0,
          5,
          0,
          2,
          0,
          0,
          294344,
          0,
          0,
          0,
          0,
          8,
          0,
          1,
          5,
          0,
          21175,
          0,
          0,
          0,
          0,
          0,
          0,
          0,
          1,
          0
         ]
        },
        {
         "name": "Q1_2020",
         "type": "scatter",
         "x": [
          "add_snippet",
          "auth_confirm_caution",
          "change_contact_status",
          "change_password",
          "change_service_user_status",
          "clear_account_settings",
          "deactivate_workflow",
          "download_task_file",
          "download_task_files",
          "download_template",
          "export_contacts",
          "export_template",
          "export_workflow",
          "remove_account",
          "remove_action",
          "remove_contact",
          "remove_draft",
          "remove_inform",
          "remove_role",
          "remove_snippet",
          "remove_status",
          "remove_workflow",
          "reset_password",
          "set_new_pass",
          "suspend_account",
          "suspend_role",
          "two_factor_email"
         ],
         "y": [
          0,
          0,
          6,
          0,
          0,
          1,
          0,
          321460,
          0,
          0,
          0,
          0,
          5,
          0,
          1,
          0,
          0,
          21008,
          0,
          0,
          2,
          0,
          6,
          0,
          10,
          0,
          0
         ]
        },
        {
         "name": "Q2_2020",
         "type": "scatter",
         "x": [
          "add_snippet",
          "auth_confirm_caution",
          "change_contact_status",
          "change_password",
          "change_service_user_status",
          "clear_account_settings",
          "deactivate_workflow",
          "download_task_file",
          "download_task_files",
          "download_template",
          "export_contacts",
          "export_template",
          "export_workflow",
          "remove_account",
          "remove_action",
          "remove_contact",
          "remove_draft",
          "remove_inform",
          "remove_role",
          "remove_snippet",
          "remove_status",
          "remove_workflow",
          "reset_password",
          "set_new_pass",
          "suspend_account",
          "suspend_role",
          "two_factor_email"
         ],
         "y": [
          2,
          0,
          7,
          0,
          0,
          2,
          0,
          378224,
          0,
          0,
          0,
          0,
          2,
          0,
          2,
          0,
          0,
          26867,
          1,
          1,
          1,
          3,
          7,
          0,
          7,
          59,
          0
         ]
        },
        {
         "name": "Q3_2020",
         "type": "scatter",
         "x": [
          "add_snippet",
          "auth_confirm_caution",
          "change_contact_status",
          "change_password",
          "change_service_user_status",
          "clear_account_settings",
          "deactivate_workflow",
          "download_task_file",
          "download_task_files",
          "download_template",
          "export_contacts",
          "export_template",
          "export_workflow",
          "remove_account",
          "remove_action",
          "remove_contact",
          "remove_draft",
          "remove_inform",
          "remove_role",
          "remove_snippet",
          "remove_status",
          "remove_workflow",
          "reset_password",
          "set_new_pass",
          "suspend_account",
          "suspend_role",
          "two_factor_email"
         ],
         "y": [
          0,
          0,
          5,
          1,
          0,
          2,
          0,
          393284,
          3096,
          0,
          0,
          0,
          5,
          0,
          0,
          1,
          0,
          27266,
          0,
          0,
          0,
          0,
          3,
          0,
          2,
          27,
          0
         ]
        },
        {
         "name": "Q4_2020",
         "type": "scatter",
         "x": [
          "add_snippet",
          "auth_confirm_caution",
          "change_contact_status",
          "change_password",
          "change_service_user_status",
          "clear_account_settings",
          "deactivate_workflow",
          "download_task_file",
          "download_task_files",
          "download_template",
          "export_contacts",
          "export_template",
          "export_workflow",
          "remove_account",
          "remove_action",
          "remove_contact",
          "remove_draft",
          "remove_inform",
          "remove_role",
          "remove_snippet",
          "remove_status",
          "remove_workflow",
          "reset_password",
          "set_new_pass",
          "suspend_account",
          "suspend_role",
          "two_factor_email"
         ],
         "y": [
          1,
          50263,
          0,
          18,
          0,
          22,
          0,
          319131,
          5764,
          0,
          0,
          0,
          1,
          3,
          1,
          0,
          9,
          24378,
          0,
          0,
          0,
          0,
          4,
          50,
          1,
          9,
          2
         ]
        },
        {
         "name": "Q1_2021",
         "type": "scatter",
         "x": [
          "add_snippet",
          "auth_confirm_caution",
          "change_contact_status",
          "change_password",
          "change_service_user_status",
          "clear_account_settings",
          "deactivate_workflow",
          "download_task_file",
          "download_task_files",
          "download_template",
          "export_contacts",
          "export_template",
          "export_workflow",
          "remove_account",
          "remove_action",
          "remove_contact",
          "remove_draft",
          "remove_inform",
          "remove_role",
          "remove_snippet",
          "remove_status",
          "remove_workflow",
          "reset_password",
          "set_new_pass",
          "suspend_account",
          "suspend_role",
          "two_factor_email"
         ],
         "y": [
          1,
          45083,
          0,
          21,
          0,
          17,
          0,
          351612,
          5633,
          0,
          0,
          0,
          1,
          0,
          0,
          0,
          3,
          23091,
          1,
          0,
          0,
          0,
          3,
          56,
          0,
          0,
          0
         ]
        },
        {
         "name": "Q2_2021",
         "type": "scatter",
         "x": [
          "add_snippet",
          "auth_confirm_caution",
          "change_contact_status",
          "change_password",
          "change_service_user_status",
          "clear_account_settings",
          "deactivate_workflow",
          "download_task_file",
          "download_task_files",
          "download_template",
          "export_contacts",
          "export_template",
          "export_workflow",
          "remove_account",
          "remove_action",
          "remove_contact",
          "remove_draft",
          "remove_inform",
          "remove_role",
          "remove_snippet",
          "remove_status",
          "remove_workflow",
          "reset_password",
          "set_new_pass",
          "suspend_account",
          "suspend_role",
          "two_factor_email"
         ],
         "y": [
          0,
          28542,
          0,
          17,
          0,
          30,
          0,
          277571,
          4618,
          0,
          0,
          2,
          1,
          7,
          1,
          0,
          6,
          20844,
          0,
          0,
          0,
          0,
          0,
          160,
          4,
          167,
          0
         ]
        }
       ],
       "layout": {
        "template": {
         "data": {
          "bar": [
           {
            "error_x": {
             "color": "#2a3f5f"
            },
            "error_y": {
             "color": "#2a3f5f"
            },
            "marker": {
             "line": {
              "color": "#E5ECF6",
              "width": 0.5
             },
             "pattern": {
              "fillmode": "overlay",
              "size": 10,
              "solidity": 0.2
             }
            },
            "type": "bar"
           }
          ],
          "barpolar": [
           {
            "marker": {
             "line": {
              "color": "#E5ECF6",
              "width": 0.5
             },
             "pattern": {
              "fillmode": "overlay",
              "size": 10,
              "solidity": 0.2
             }
            },
            "type": "barpolar"
           }
          ],
          "carpet": [
           {
            "aaxis": {
             "endlinecolor": "#2a3f5f",
             "gridcolor": "white",
             "linecolor": "white",
             "minorgridcolor": "white",
             "startlinecolor": "#2a3f5f"
            },
            "baxis": {
             "endlinecolor": "#2a3f5f",
             "gridcolor": "white",
             "linecolor": "white",
             "minorgridcolor": "white",
             "startlinecolor": "#2a3f5f"
            },
            "type": "carpet"
           }
          ],
          "choropleth": [
           {
            "colorbar": {
             "outlinewidth": 0,
             "ticks": ""
            },
            "type": "choropleth"
           }
          ],
          "contour": [
           {
            "colorbar": {
             "outlinewidth": 0,
             "ticks": ""
            },
            "colorscale": [
             [
              0,
              "#0d0887"
             ],
             [
              0.1111111111111111,
              "#46039f"
             ],
             [
              0.2222222222222222,
              "#7201a8"
             ],
             [
              0.3333333333333333,
              "#9c179e"
             ],
             [
              0.4444444444444444,
              "#bd3786"
             ],
             [
              0.5555555555555556,
              "#d8576b"
             ],
             [
              0.6666666666666666,
              "#ed7953"
             ],
             [
              0.7777777777777778,
              "#fb9f3a"
             ],
             [
              0.8888888888888888,
              "#fdca26"
             ],
             [
              1,
              "#f0f921"
             ]
            ],
            "type": "contour"
           }
          ],
          "contourcarpet": [
           {
            "colorbar": {
             "outlinewidth": 0,
             "ticks": ""
            },
            "type": "contourcarpet"
           }
          ],
          "heatmap": [
           {
            "colorbar": {
             "outlinewidth": 0,
             "ticks": ""
            },
            "colorscale": [
             [
              0,
              "#0d0887"
             ],
             [
              0.1111111111111111,
              "#46039f"
             ],
             [
              0.2222222222222222,
              "#7201a8"
             ],
             [
              0.3333333333333333,
              "#9c179e"
             ],
             [
              0.4444444444444444,
              "#bd3786"
             ],
             [
              0.5555555555555556,
              "#d8576b"
             ],
             [
              0.6666666666666666,
              "#ed7953"
             ],
             [
              0.7777777777777778,
              "#fb9f3a"
             ],
             [
              0.8888888888888888,
              "#fdca26"
             ],
             [
              1,
              "#f0f921"
             ]
            ],
            "type": "heatmap"
           }
          ],
          "heatmapgl": [
           {
            "colorbar": {
             "outlinewidth": 0,
             "ticks": ""
            },
            "colorscale": [
             [
              0,
              "#0d0887"
             ],
             [
              0.1111111111111111,
              "#46039f"
             ],
             [
              0.2222222222222222,
              "#7201a8"
             ],
             [
              0.3333333333333333,
              "#9c179e"
             ],
             [
              0.4444444444444444,
              "#bd3786"
             ],
             [
              0.5555555555555556,
              "#d8576b"
             ],
             [
              0.6666666666666666,
              "#ed7953"
             ],
             [
              0.7777777777777778,
              "#fb9f3a"
             ],
             [
              0.8888888888888888,
              "#fdca26"
             ],
             [
              1,
              "#f0f921"
             ]
            ],
            "type": "heatmapgl"
           }
          ],
          "histogram": [
           {
            "marker": {
             "pattern": {
              "fillmode": "overlay",
              "size": 10,
              "solidity": 0.2
             }
            },
            "type": "histogram"
           }
          ],
          "histogram2d": [
           {
            "colorbar": {
             "outlinewidth": 0,
             "ticks": ""
            },
            "colorscale": [
             [
              0,
              "#0d0887"
             ],
             [
              0.1111111111111111,
              "#46039f"
             ],
             [
              0.2222222222222222,
              "#7201a8"
             ],
             [
              0.3333333333333333,
              "#9c179e"
             ],
             [
              0.4444444444444444,
              "#bd3786"
             ],
             [
              0.5555555555555556,
              "#d8576b"
             ],
             [
              0.6666666666666666,
              "#ed7953"
             ],
             [
              0.7777777777777778,
              "#fb9f3a"
             ],
             [
              0.8888888888888888,
              "#fdca26"
             ],
             [
              1,
              "#f0f921"
             ]
            ],
            "type": "histogram2d"
           }
          ],
          "histogram2dcontour": [
           {
            "colorbar": {
             "outlinewidth": 0,
             "ticks": ""
            },
            "colorscale": [
             [
              0,
              "#0d0887"
             ],
             [
              0.1111111111111111,
              "#46039f"
             ],
             [
              0.2222222222222222,
              "#7201a8"
             ],
             [
              0.3333333333333333,
              "#9c179e"
             ],
             [
              0.4444444444444444,
              "#bd3786"
             ],
             [
              0.5555555555555556,
              "#d8576b"
             ],
             [
              0.6666666666666666,
              "#ed7953"
             ],
             [
              0.7777777777777778,
              "#fb9f3a"
             ],
             [
              0.8888888888888888,
              "#fdca26"
             ],
             [
              1,
              "#f0f921"
             ]
            ],
            "type": "histogram2dcontour"
           }
          ],
          "mesh3d": [
           {
            "colorbar": {
             "outlinewidth": 0,
             "ticks": ""
            },
            "type": "mesh3d"
           }
          ],
          "parcoords": [
           {
            "line": {
             "colorbar": {
              "outlinewidth": 0,
              "ticks": ""
             }
            },
            "type": "parcoords"
           }
          ],
          "pie": [
           {
            "automargin": true,
            "type": "pie"
           }
          ],
          "scatter": [
           {
            "marker": {
             "colorbar": {
              "outlinewidth": 0,
              "ticks": ""
             }
            },
            "type": "scatter"
           }
          ],
          "scatter3d": [
           {
            "line": {
             "colorbar": {
              "outlinewidth": 0,
              "ticks": ""
             }
            },
            "marker": {
             "colorbar": {
              "outlinewidth": 0,
              "ticks": ""
             }
            },
            "type": "scatter3d"
           }
          ],
          "scattercarpet": [
           {
            "marker": {
             "colorbar": {
              "outlinewidth": 0,
              "ticks": ""
             }
            },
            "type": "scattercarpet"
           }
          ],
          "scattergeo": [
           {
            "marker": {
             "colorbar": {
              "outlinewidth": 0,
              "ticks": ""
             }
            },
            "type": "scattergeo"
           }
          ],
          "scattergl": [
           {
            "marker": {
             "colorbar": {
              "outlinewidth": 0,
              "ticks": ""
             }
            },
            "type": "scattergl"
           }
          ],
          "scattermapbox": [
           {
            "marker": {
             "colorbar": {
              "outlinewidth": 0,
              "ticks": ""
             }
            },
            "type": "scattermapbox"
           }
          ],
          "scatterpolar": [
           {
            "marker": {
             "colorbar": {
              "outlinewidth": 0,
              "ticks": ""
             }
            },
            "type": "scatterpolar"
           }
          ],
          "scatterpolargl": [
           {
            "marker": {
             "colorbar": {
              "outlinewidth": 0,
              "ticks": ""
             }
            },
            "type": "scatterpolargl"
           }
          ],
          "scatterternary": [
           {
            "marker": {
             "colorbar": {
              "outlinewidth": 0,
              "ticks": ""
             }
            },
            "type": "scatterternary"
           }
          ],
          "surface": [
           {
            "colorbar": {
             "outlinewidth": 0,
             "ticks": ""
            },
            "colorscale": [
             [
              0,
              "#0d0887"
             ],
             [
              0.1111111111111111,
              "#46039f"
             ],
             [
              0.2222222222222222,
              "#7201a8"
             ],
             [
              0.3333333333333333,
              "#9c179e"
             ],
             [
              0.4444444444444444,
              "#bd3786"
             ],
             [
              0.5555555555555556,
              "#d8576b"
             ],
             [
              0.6666666666666666,
              "#ed7953"
             ],
             [
              0.7777777777777778,
              "#fb9f3a"
             ],
             [
              0.8888888888888888,
              "#fdca26"
             ],
             [
              1,
              "#f0f921"
             ]
            ],
            "type": "surface"
           }
          ],
          "table": [
           {
            "cells": {
             "fill": {
              "color": "#EBF0F8"
             },
             "line": {
              "color": "white"
             }
            },
            "header": {
             "fill": {
              "color": "#C8D4E3"
             },
             "line": {
              "color": "white"
             }
            },
            "type": "table"
           }
          ]
         },
         "layout": {
          "annotationdefaults": {
           "arrowcolor": "#2a3f5f",
           "arrowhead": 0,
           "arrowwidth": 1
          },
          "autotypenumbers": "strict",
          "coloraxis": {
           "colorbar": {
            "outlinewidth": 0,
            "ticks": ""
           }
          },
          "colorscale": {
           "diverging": [
            [
             0,
             "#8e0152"
            ],
            [
             0.1,
             "#c51b7d"
            ],
            [
             0.2,
             "#de77ae"
            ],
            [
             0.3,
             "#f1b6da"
            ],
            [
             0.4,
             "#fde0ef"
            ],
            [
             0.5,
             "#f7f7f7"
            ],
            [
             0.6,
             "#e6f5d0"
            ],
            [
             0.7,
             "#b8e186"
            ],
            [
             0.8,
             "#7fbc41"
            ],
            [
             0.9,
             "#4d9221"
            ],
            [
             1,
             "#276419"
            ]
           ],
           "sequential": [
            [
             0,
             "#0d0887"
            ],
            [
             0.1111111111111111,
             "#46039f"
            ],
            [
             0.2222222222222222,
             "#7201a8"
            ],
            [
             0.3333333333333333,
             "#9c179e"
            ],
            [
             0.4444444444444444,
             "#bd3786"
            ],
            [
             0.5555555555555556,
             "#d8576b"
            ],
            [
             0.6666666666666666,
             "#ed7953"
            ],
            [
             0.7777777777777778,
             "#fb9f3a"
            ],
            [
             0.8888888888888888,
             "#fdca26"
            ],
            [
             1,
             "#f0f921"
            ]
           ],
           "sequentialminus": [
            [
             0,
             "#0d0887"
            ],
            [
             0.1111111111111111,
             "#46039f"
            ],
            [
             0.2222222222222222,
             "#7201a8"
            ],
            [
             0.3333333333333333,
             "#9c179e"
            ],
            [
             0.4444444444444444,
             "#bd3786"
            ],
            [
             0.5555555555555556,
             "#d8576b"
            ],
            [
             0.6666666666666666,
             "#ed7953"
            ],
            [
             0.7777777777777778,
             "#fb9f3a"
            ],
            [
             0.8888888888888888,
             "#fdca26"
            ],
            [
             1,
             "#f0f921"
            ]
           ]
          },
          "colorway": [
           "#636efa",
           "#EF553B",
           "#00cc96",
           "#ab63fa",
           "#FFA15A",
           "#19d3f3",
           "#FF6692",
           "#B6E880",
           "#FF97FF",
           "#FECB52"
          ],
          "font": {
           "color": "#2a3f5f"
          },
          "geo": {
           "bgcolor": "white",
           "lakecolor": "white",
           "landcolor": "#E5ECF6",
           "showlakes": true,
           "showland": true,
           "subunitcolor": "white"
          },
          "hoverlabel": {
           "align": "left"
          },
          "hovermode": "closest",
          "mapbox": {
           "style": "light"
          },
          "paper_bgcolor": "white",
          "plot_bgcolor": "#E5ECF6",
          "polar": {
           "angularaxis": {
            "gridcolor": "white",
            "linecolor": "white",
            "ticks": ""
           },
           "bgcolor": "#E5ECF6",
           "radialaxis": {
            "gridcolor": "white",
            "linecolor": "white",
            "ticks": ""
           }
          },
          "scene": {
           "xaxis": {
            "backgroundcolor": "#E5ECF6",
            "gridcolor": "white",
            "gridwidth": 2,
            "linecolor": "white",
            "showbackground": true,
            "ticks": "",
            "zerolinecolor": "white"
           },
           "yaxis": {
            "backgroundcolor": "#E5ECF6",
            "gridcolor": "white",
            "gridwidth": 2,
            "linecolor": "white",
            "showbackground": true,
            "ticks": "",
            "zerolinecolor": "white"
           },
           "zaxis": {
            "backgroundcolor": "#E5ECF6",
            "gridcolor": "white",
            "gridwidth": 2,
            "linecolor": "white",
            "showbackground": true,
            "ticks": "",
            "zerolinecolor": "white"
           }
          },
          "shapedefaults": {
           "line": {
            "color": "#2a3f5f"
           }
          },
          "ternary": {
           "aaxis": {
            "gridcolor": "white",
            "linecolor": "white",
            "ticks": ""
           },
           "baxis": {
            "gridcolor": "white",
            "linecolor": "white",
            "ticks": ""
           },
           "bgcolor": "#E5ECF6",
           "caxis": {
            "gridcolor": "white",
            "linecolor": "white",
            "ticks": ""
           }
          },
          "title": {
           "x": 0.05
          },
          "xaxis": {
           "automargin": true,
           "gridcolor": "white",
           "linecolor": "white",
           "ticks": "",
           "title": {
            "standoff": 15
           },
           "zerolinecolor": "white",
           "zerolinewidth": 2
          },
          "yaxis": {
           "automargin": true,
           "gridcolor": "white",
           "linecolor": "white",
           "ticks": "",
           "title": {
            "standoff": 15
           },
           "zerolinecolor": "white",
           "zerolinewidth": 2
          }
         }
        }
       }
      },
      "text/html": [
       "<div>                            <div id=\"dd399fd0-b030-441a-a879-7b3f272fbf1c\" class=\"plotly-graph-div\" style=\"height:525px; width:100%;\"></div>            <script type=\"text/javascript\">                require([\"plotly\"], function(Plotly) {                    window.PLOTLYENV=window.PLOTLYENV || {};                                    if (document.getElementById(\"dd399fd0-b030-441a-a879-7b3f272fbf1c\")) {                    Plotly.newPlot(                        \"dd399fd0-b030-441a-a879-7b3f272fbf1c\",                        [{\"name\":\"Q3_2019\",\"x\":[\"add_snippet\",\"auth_confirm_caution\",\"change_contact_status\",\"change_password\",\"change_service_user_status\",\"clear_account_settings\",\"deactivate_workflow\",\"download_task_file\",\"download_task_files\",\"download_template\",\"export_contacts\",\"export_template\",\"export_workflow\",\"remove_account\",\"remove_action\",\"remove_contact\",\"remove_draft\",\"remove_inform\",\"remove_role\",\"remove_snippet\",\"remove_status\",\"remove_workflow\",\"reset_password\",\"set_new_pass\",\"suspend_account\",\"suspend_role\",\"two_factor_email\"],\"y\":[0,0,3,0,0,2,0,270506,0,8,11,0,35,0,8,1,0,18501,0,0,3,0,2,0,0,6,0],\"type\":\"scatter\"},{\"name\":\"Q4_2019\",\"x\":[\"add_snippet\",\"auth_confirm_caution\",\"change_contact_status\",\"change_password\",\"change_service_user_status\",\"clear_account_settings\",\"deactivate_workflow\",\"download_task_file\",\"download_task_files\",\"download_template\",\"export_contacts\",\"export_template\",\"export_workflow\",\"remove_account\",\"remove_action\",\"remove_contact\",\"remove_draft\",\"remove_inform\",\"remove_role\",\"remove_snippet\",\"remove_status\",\"remove_workflow\",\"reset_password\",\"set_new_pass\",\"suspend_account\",\"suspend_role\",\"two_factor_email\"],\"y\":[1,0,5,0,2,0,0,294344,0,0,0,0,8,0,1,5,0,21175,0,0,0,0,0,0,0,1,0],\"type\":\"scatter\"},{\"name\":\"Q1_2020\",\"x\":[\"add_snippet\",\"auth_confirm_caution\",\"change_contact_status\",\"change_password\",\"change_service_user_status\",\"clear_account_settings\",\"deactivate_workflow\",\"download_task_file\",\"download_task_files\",\"download_template\",\"export_contacts\",\"export_template\",\"export_workflow\",\"remove_account\",\"remove_action\",\"remove_contact\",\"remove_draft\",\"remove_inform\",\"remove_role\",\"remove_snippet\",\"remove_status\",\"remove_workflow\",\"reset_password\",\"set_new_pass\",\"suspend_account\",\"suspend_role\",\"two_factor_email\"],\"y\":[0,0,6,0,0,1,0,321460,0,0,0,0,5,0,1,0,0,21008,0,0,2,0,6,0,10,0,0],\"type\":\"scatter\"},{\"name\":\"Q2_2020\",\"x\":[\"add_snippet\",\"auth_confirm_caution\",\"change_contact_status\",\"change_password\",\"change_service_user_status\",\"clear_account_settings\",\"deactivate_workflow\",\"download_task_file\",\"download_task_files\",\"download_template\",\"export_contacts\",\"export_template\",\"export_workflow\",\"remove_account\",\"remove_action\",\"remove_contact\",\"remove_draft\",\"remove_inform\",\"remove_role\",\"remove_snippet\",\"remove_status\",\"remove_workflow\",\"reset_password\",\"set_new_pass\",\"suspend_account\",\"suspend_role\",\"two_factor_email\"],\"y\":[2,0,7,0,0,2,0,378224,0,0,0,0,2,0,2,0,0,26867,1,1,1,3,7,0,7,59,0],\"type\":\"scatter\"},{\"name\":\"Q3_2020\",\"x\":[\"add_snippet\",\"auth_confirm_caution\",\"change_contact_status\",\"change_password\",\"change_service_user_status\",\"clear_account_settings\",\"deactivate_workflow\",\"download_task_file\",\"download_task_files\",\"download_template\",\"export_contacts\",\"export_template\",\"export_workflow\",\"remove_account\",\"remove_action\",\"remove_contact\",\"remove_draft\",\"remove_inform\",\"remove_role\",\"remove_snippet\",\"remove_status\",\"remove_workflow\",\"reset_password\",\"set_new_pass\",\"suspend_account\",\"suspend_role\",\"two_factor_email\"],\"y\":[0,0,5,1,0,2,0,393284,3096,0,0,0,5,0,0,1,0,27266,0,0,0,0,3,0,2,27,0],\"type\":\"scatter\"},{\"name\":\"Q4_2020\",\"x\":[\"add_snippet\",\"auth_confirm_caution\",\"change_contact_status\",\"change_password\",\"change_service_user_status\",\"clear_account_settings\",\"deactivate_workflow\",\"download_task_file\",\"download_task_files\",\"download_template\",\"export_contacts\",\"export_template\",\"export_workflow\",\"remove_account\",\"remove_action\",\"remove_contact\",\"remove_draft\",\"remove_inform\",\"remove_role\",\"remove_snippet\",\"remove_status\",\"remove_workflow\",\"reset_password\",\"set_new_pass\",\"suspend_account\",\"suspend_role\",\"two_factor_email\"],\"y\":[1,50263,0,18,0,22,0,319131,5764,0,0,0,1,3,1,0,9,24378,0,0,0,0,4,50,1,9,2],\"type\":\"scatter\"},{\"name\":\"Q1_2021\",\"x\":[\"add_snippet\",\"auth_confirm_caution\",\"change_contact_status\",\"change_password\",\"change_service_user_status\",\"clear_account_settings\",\"deactivate_workflow\",\"download_task_file\",\"download_task_files\",\"download_template\",\"export_contacts\",\"export_template\",\"export_workflow\",\"remove_account\",\"remove_action\",\"remove_contact\",\"remove_draft\",\"remove_inform\",\"remove_role\",\"remove_snippet\",\"remove_status\",\"remove_workflow\",\"reset_password\",\"set_new_pass\",\"suspend_account\",\"suspend_role\",\"two_factor_email\"],\"y\":[1,45083,0,21,0,17,0,351612,5633,0,0,0,1,0,0,0,3,23091,1,0,0,0,3,56,0,0,0],\"type\":\"scatter\"},{\"name\":\"Q2_2021\",\"x\":[\"add_snippet\",\"auth_confirm_caution\",\"change_contact_status\",\"change_password\",\"change_service_user_status\",\"clear_account_settings\",\"deactivate_workflow\",\"download_task_file\",\"download_task_files\",\"download_template\",\"export_contacts\",\"export_template\",\"export_workflow\",\"remove_account\",\"remove_action\",\"remove_contact\",\"remove_draft\",\"remove_inform\",\"remove_role\",\"remove_snippet\",\"remove_status\",\"remove_workflow\",\"reset_password\",\"set_new_pass\",\"suspend_account\",\"suspend_role\",\"two_factor_email\"],\"y\":[0,28542,0,17,0,30,0,277571,4618,0,0,2,1,7,1,0,6,20844,0,0,0,0,0,160,4,167,0],\"type\":\"scatter\"}],                        {\"template\":{\"data\":{\"bar\":[{\"error_x\":{\"color\":\"#2a3f5f\"},\"error_y\":{\"color\":\"#2a3f5f\"},\"marker\":{\"line\":{\"color\":\"#E5ECF6\",\"width\":0.5},\"pattern\":{\"fillmode\":\"overlay\",\"size\":10,\"solidity\":0.2}},\"type\":\"bar\"}],\"barpolar\":[{\"marker\":{\"line\":{\"color\":\"#E5ECF6\",\"width\":0.5},\"pattern\":{\"fillmode\":\"overlay\",\"size\":10,\"solidity\":0.2}},\"type\":\"barpolar\"}],\"carpet\":[{\"aaxis\":{\"endlinecolor\":\"#2a3f5f\",\"gridcolor\":\"white\",\"linecolor\":\"white\",\"minorgridcolor\":\"white\",\"startlinecolor\":\"#2a3f5f\"},\"baxis\":{\"endlinecolor\":\"#2a3f5f\",\"gridcolor\":\"white\",\"linecolor\":\"white\",\"minorgridcolor\":\"white\",\"startlinecolor\":\"#2a3f5f\"},\"type\":\"carpet\"}],\"choropleth\":[{\"colorbar\":{\"outlinewidth\":0,\"ticks\":\"\"},\"type\":\"choropleth\"}],\"contour\":[{\"colorbar\":{\"outlinewidth\":0,\"ticks\":\"\"},\"colorscale\":[[0.0,\"#0d0887\"],[0.1111111111111111,\"#46039f\"],[0.2222222222222222,\"#7201a8\"],[0.3333333333333333,\"#9c179e\"],[0.4444444444444444,\"#bd3786\"],[0.5555555555555556,\"#d8576b\"],[0.6666666666666666,\"#ed7953\"],[0.7777777777777778,\"#fb9f3a\"],[0.8888888888888888,\"#fdca26\"],[1.0,\"#f0f921\"]],\"type\":\"contour\"}],\"contourcarpet\":[{\"colorbar\":{\"outlinewidth\":0,\"ticks\":\"\"},\"type\":\"contourcarpet\"}],\"heatmap\":[{\"colorbar\":{\"outlinewidth\":0,\"ticks\":\"\"},\"colorscale\":[[0.0,\"#0d0887\"],[0.1111111111111111,\"#46039f\"],[0.2222222222222222,\"#7201a8\"],[0.3333333333333333,\"#9c179e\"],[0.4444444444444444,\"#bd3786\"],[0.5555555555555556,\"#d8576b\"],[0.6666666666666666,\"#ed7953\"],[0.7777777777777778,\"#fb9f3a\"],[0.8888888888888888,\"#fdca26\"],[1.0,\"#f0f921\"]],\"type\":\"heatmap\"}],\"heatmapgl\":[{\"colorbar\":{\"outlinewidth\":0,\"ticks\":\"\"},\"colorscale\":[[0.0,\"#0d0887\"],[0.1111111111111111,\"#46039f\"],[0.2222222222222222,\"#7201a8\"],[0.3333333333333333,\"#9c179e\"],[0.4444444444444444,\"#bd3786\"],[0.5555555555555556,\"#d8576b\"],[0.6666666666666666,\"#ed7953\"],[0.7777777777777778,\"#fb9f3a\"],[0.8888888888888888,\"#fdca26\"],[1.0,\"#f0f921\"]],\"type\":\"heatmapgl\"}],\"histogram\":[{\"marker\":{\"pattern\":{\"fillmode\":\"overlay\",\"size\":10,\"solidity\":0.2}},\"type\":\"histogram\"}],\"histogram2d\":[{\"colorbar\":{\"outlinewidth\":0,\"ticks\":\"\"},\"colorscale\":[[0.0,\"#0d0887\"],[0.1111111111111111,\"#46039f\"],[0.2222222222222222,\"#7201a8\"],[0.3333333333333333,\"#9c179e\"],[0.4444444444444444,\"#bd3786\"],[0.5555555555555556,\"#d8576b\"],[0.6666666666666666,\"#ed7953\"],[0.7777777777777778,\"#fb9f3a\"],[0.8888888888888888,\"#fdca26\"],[1.0,\"#f0f921\"]],\"type\":\"histogram2d\"}],\"histogram2dcontour\":[{\"colorbar\":{\"outlinewidth\":0,\"ticks\":\"\"},\"colorscale\":[[0.0,\"#0d0887\"],[0.1111111111111111,\"#46039f\"],[0.2222222222222222,\"#7201a8\"],[0.3333333333333333,\"#9c179e\"],[0.4444444444444444,\"#bd3786\"],[0.5555555555555556,\"#d8576b\"],[0.6666666666666666,\"#ed7953\"],[0.7777777777777778,\"#fb9f3a\"],[0.8888888888888888,\"#fdca26\"],[1.0,\"#f0f921\"]],\"type\":\"histogram2dcontour\"}],\"mesh3d\":[{\"colorbar\":{\"outlinewidth\":0,\"ticks\":\"\"},\"type\":\"mesh3d\"}],\"parcoords\":[{\"line\":{\"colorbar\":{\"outlinewidth\":0,\"ticks\":\"\"}},\"type\":\"parcoords\"}],\"pie\":[{\"automargin\":true,\"type\":\"pie\"}],\"scatter\":[{\"marker\":{\"colorbar\":{\"outlinewidth\":0,\"ticks\":\"\"}},\"type\":\"scatter\"}],\"scatter3d\":[{\"line\":{\"colorbar\":{\"outlinewidth\":0,\"ticks\":\"\"}},\"marker\":{\"colorbar\":{\"outlinewidth\":0,\"ticks\":\"\"}},\"type\":\"scatter3d\"}],\"scattercarpet\":[{\"marker\":{\"colorbar\":{\"outlinewidth\":0,\"ticks\":\"\"}},\"type\":\"scattercarpet\"}],\"scattergeo\":[{\"marker\":{\"colorbar\":{\"outlinewidth\":0,\"ticks\":\"\"}},\"type\":\"scattergeo\"}],\"scattergl\":[{\"marker\":{\"colorbar\":{\"outlinewidth\":0,\"ticks\":\"\"}},\"type\":\"scattergl\"}],\"scattermapbox\":[{\"marker\":{\"colorbar\":{\"outlinewidth\":0,\"ticks\":\"\"}},\"type\":\"scattermapbox\"}],\"scatterpolar\":[{\"marker\":{\"colorbar\":{\"outlinewidth\":0,\"ticks\":\"\"}},\"type\":\"scatterpolar\"}],\"scatterpolargl\":[{\"marker\":{\"colorbar\":{\"outlinewidth\":0,\"ticks\":\"\"}},\"type\":\"scatterpolargl\"}],\"scatterternary\":[{\"marker\":{\"colorbar\":{\"outlinewidth\":0,\"ticks\":\"\"}},\"type\":\"scatterternary\"}],\"surface\":[{\"colorbar\":{\"outlinewidth\":0,\"ticks\":\"\"},\"colorscale\":[[0.0,\"#0d0887\"],[0.1111111111111111,\"#46039f\"],[0.2222222222222222,\"#7201a8\"],[0.3333333333333333,\"#9c179e\"],[0.4444444444444444,\"#bd3786\"],[0.5555555555555556,\"#d8576b\"],[0.6666666666666666,\"#ed7953\"],[0.7777777777777778,\"#fb9f3a\"],[0.8888888888888888,\"#fdca26\"],[1.0,\"#f0f921\"]],\"type\":\"surface\"}],\"table\":[{\"cells\":{\"fill\":{\"color\":\"#EBF0F8\"},\"line\":{\"color\":\"white\"}},\"header\":{\"fill\":{\"color\":\"#C8D4E3\"},\"line\":{\"color\":\"white\"}},\"type\":\"table\"}]},\"layout\":{\"annotationdefaults\":{\"arrowcolor\":\"#2a3f5f\",\"arrowhead\":0,\"arrowwidth\":1},\"autotypenumbers\":\"strict\",\"coloraxis\":{\"colorbar\":{\"outlinewidth\":0,\"ticks\":\"\"}},\"colorscale\":{\"diverging\":[[0,\"#8e0152\"],[0.1,\"#c51b7d\"],[0.2,\"#de77ae\"],[0.3,\"#f1b6da\"],[0.4,\"#fde0ef\"],[0.5,\"#f7f7f7\"],[0.6,\"#e6f5d0\"],[0.7,\"#b8e186\"],[0.8,\"#7fbc41\"],[0.9,\"#4d9221\"],[1,\"#276419\"]],\"sequential\":[[0.0,\"#0d0887\"],[0.1111111111111111,\"#46039f\"],[0.2222222222222222,\"#7201a8\"],[0.3333333333333333,\"#9c179e\"],[0.4444444444444444,\"#bd3786\"],[0.5555555555555556,\"#d8576b\"],[0.6666666666666666,\"#ed7953\"],[0.7777777777777778,\"#fb9f3a\"],[0.8888888888888888,\"#fdca26\"],[1.0,\"#f0f921\"]],\"sequentialminus\":[[0.0,\"#0d0887\"],[0.1111111111111111,\"#46039f\"],[0.2222222222222222,\"#7201a8\"],[0.3333333333333333,\"#9c179e\"],[0.4444444444444444,\"#bd3786\"],[0.5555555555555556,\"#d8576b\"],[0.6666666666666666,\"#ed7953\"],[0.7777777777777778,\"#fb9f3a\"],[0.8888888888888888,\"#fdca26\"],[1.0,\"#f0f921\"]]},\"colorway\":[\"#636efa\",\"#EF553B\",\"#00cc96\",\"#ab63fa\",\"#FFA15A\",\"#19d3f3\",\"#FF6692\",\"#B6E880\",\"#FF97FF\",\"#FECB52\"],\"font\":{\"color\":\"#2a3f5f\"},\"geo\":{\"bgcolor\":\"white\",\"lakecolor\":\"white\",\"landcolor\":\"#E5ECF6\",\"showlakes\":true,\"showland\":true,\"subunitcolor\":\"white\"},\"hoverlabel\":{\"align\":\"left\"},\"hovermode\":\"closest\",\"mapbox\":{\"style\":\"light\"},\"paper_bgcolor\":\"white\",\"plot_bgcolor\":\"#E5ECF6\",\"polar\":{\"angularaxis\":{\"gridcolor\":\"white\",\"linecolor\":\"white\",\"ticks\":\"\"},\"bgcolor\":\"#E5ECF6\",\"radialaxis\":{\"gridcolor\":\"white\",\"linecolor\":\"white\",\"ticks\":\"\"}},\"scene\":{\"xaxis\":{\"backgroundcolor\":\"#E5ECF6\",\"gridcolor\":\"white\",\"gridwidth\":2,\"linecolor\":\"white\",\"showbackground\":true,\"ticks\":\"\",\"zerolinecolor\":\"white\"},\"yaxis\":{\"backgroundcolor\":\"#E5ECF6\",\"gridcolor\":\"white\",\"gridwidth\":2,\"linecolor\":\"white\",\"showbackground\":true,\"ticks\":\"\",\"zerolinecolor\":\"white\"},\"zaxis\":{\"backgroundcolor\":\"#E5ECF6\",\"gridcolor\":\"white\",\"gridwidth\":2,\"linecolor\":\"white\",\"showbackground\":true,\"ticks\":\"\",\"zerolinecolor\":\"white\"}},\"shapedefaults\":{\"line\":{\"color\":\"#2a3f5f\"}},\"ternary\":{\"aaxis\":{\"gridcolor\":\"white\",\"linecolor\":\"white\",\"ticks\":\"\"},\"baxis\":{\"gridcolor\":\"white\",\"linecolor\":\"white\",\"ticks\":\"\"},\"bgcolor\":\"#E5ECF6\",\"caxis\":{\"gridcolor\":\"white\",\"linecolor\":\"white\",\"ticks\":\"\"}},\"title\":{\"x\":0.05},\"xaxis\":{\"automargin\":true,\"gridcolor\":\"white\",\"linecolor\":\"white\",\"ticks\":\"\",\"title\":{\"standoff\":15},\"zerolinecolor\":\"white\",\"zerolinewidth\":2},\"yaxis\":{\"automargin\":true,\"gridcolor\":\"white\",\"linecolor\":\"white\",\"ticks\":\"\",\"title\":{\"standoff\":15},\"zerolinecolor\":\"white\",\"zerolinewidth\":2}}}},                        {\"responsive\": true}                    ).then(function(){\n",
       "                            \n",
       "var gd = document.getElementById('dd399fd0-b030-441a-a879-7b3f272fbf1c');\n",
       "var x = new MutationObserver(function (mutations, observer) {{\n",
       "        var display = window.getComputedStyle(gd).display;\n",
       "        if (!display || display === 'none') {{\n",
       "            console.log([gd, 'removed!']);\n",
       "            Plotly.purge(gd);\n",
       "            observer.disconnect();\n",
       "        }}\n",
       "}});\n",
       "\n",
       "// Listen for the removal of the full notebook cells\n",
       "var notebookContainer = gd.closest('#notebook-container');\n",
       "if (notebookContainer) {{\n",
       "    x.observe(notebookContainer, {childList: true});\n",
       "}}\n",
       "\n",
       "// Listen for the clearing of the current output cell\n",
       "var outputEl = gd.closest('.output');\n",
       "if (outputEl) {{\n",
       "    x.observe(outputEl, {childList: true});\n",
       "}}\n",
       "\n",
       "                        })                };                });            </script>        </div>"
      ]
     },
     "metadata": {},
     "output_type": "display_data"
    }
   ],
   "source": [
    "fig = go.Figure(go.Line(x=red_light, y=np.array(Q3_2019[red_light].sum()).astype(int), name='Q3_2019'))\n",
    "fig.add_trace(go.Line(x=red_light, y=np.array(Q4_2019[red_light].sum()).astype(int), name='Q4_2019'))\n",
    "fig.add_trace(go.Line(x=red_light, y=np.array(Q1_2020[red_light].sum()).astype(int), name='Q1_2020'))\n",
    "fig.add_trace(go.Line(x=red_light, y=np.array(Q2_2020[red_light].sum()).astype(int), name='Q2_2020'))\n",
    "fig.add_trace(go.Line(x=red_light, y=np.array(Q3_2020[red_light].sum()).astype(int), name='Q3_2020'))\n",
    "fig.add_trace(go.Line(x=red_light, y=np.array(Q4_2020[red_light].sum()).astype(int), name='Q4_2020'))\n",
    "fig.add_trace(go.Line(x=red_light, y=np.array(Q1_2021[red_light].sum()).astype(int), name='Q1_2021'))\n",
    "fig.add_trace(go.Line(x=red_light, y=np.array(Q2_2021[red_light].sum()).astype(int), name='Q2_2021'))\n",
    "fig.show()"
   ]
  },
  {
   "cell_type": "code",
   "execution_count": 35,
   "id": "66a54593",
   "metadata": {},
   "outputs": [
    {
     "data": {
      "application/vnd.plotly.v1+json": {
       "config": {
        "plotlyServerURL": "https://plot.ly"
       },
       "data": [
        {
         "name": "Q3_2019",
         "type": "scatter",
         "x": [
          "add_snippet",
          "auth_confirm_caution",
          "change_contact_status",
          "change_password",
          "change_service_user_status",
          "clear_account_settings",
          "deactivate_workflow",
          "download_task_file",
          "download_task_files",
          "download_template",
          "export_contacts",
          "export_template",
          "export_workflow",
          "remove_account",
          "remove_action",
          "remove_contact",
          "remove_draft",
          "remove_inform",
          "remove_role",
          "remove_snippet",
          "remove_status",
          "remove_workflow",
          "reset_password",
          "set_new_pass",
          "suspend_account",
          "suspend_role",
          "two_factor_email"
         ],
         "y": [
          0,
          0,
          1,
          0,
          0,
          1,
          0,
          573,
          0,
          2,
          3,
          0,
          21,
          0,
          5,
          1,
          0,
          144,
          0,
          0,
          1,
          0,
          2,
          0,
          0,
          3,
          0
         ]
        },
        {
         "name": "Q4_2019",
         "type": "scatter",
         "x": [
          "add_snippet",
          "auth_confirm_caution",
          "change_contact_status",
          "change_password",
          "change_service_user_status",
          "clear_account_settings",
          "deactivate_workflow",
          "download_task_file",
          "download_task_files",
          "download_template",
          "export_contacts",
          "export_template",
          "export_workflow",
          "remove_account",
          "remove_action",
          "remove_contact",
          "remove_draft",
          "remove_inform",
          "remove_role",
          "remove_snippet",
          "remove_status",
          "remove_workflow",
          "reset_password",
          "set_new_pass",
          "suspend_account",
          "suspend_role",
          "two_factor_email"
         ],
         "y": [
          1,
          0,
          2,
          0,
          2,
          0,
          0,
          520,
          0,
          0,
          0,
          0,
          3,
          0,
          1,
          1,
          0,
          176,
          0,
          0,
          0,
          0,
          0,
          0,
          0,
          1,
          0
         ]
        },
        {
         "name": "Q1_2020",
         "type": "scatter",
         "x": [
          "add_snippet",
          "auth_confirm_caution",
          "change_contact_status",
          "change_password",
          "change_service_user_status",
          "clear_account_settings",
          "deactivate_workflow",
          "download_task_file",
          "download_task_files",
          "download_template",
          "export_contacts",
          "export_template",
          "export_workflow",
          "remove_account",
          "remove_action",
          "remove_contact",
          "remove_draft",
          "remove_inform",
          "remove_role",
          "remove_snippet",
          "remove_status",
          "remove_workflow",
          "reset_password",
          "set_new_pass",
          "suspend_account",
          "suspend_role",
          "two_factor_email"
         ],
         "y": [
          0,
          0,
          2,
          0,
          0,
          1,
          0,
          713,
          0,
          0,
          0,
          0,
          1,
          0,
          1,
          0,
          0,
          191,
          0,
          0,
          2,
          0,
          3,
          0,
          9,
          0,
          0
         ]
        },
        {
         "name": "Q2_2020",
         "type": "scatter",
         "x": [
          "add_snippet",
          "auth_confirm_caution",
          "change_contact_status",
          "change_password",
          "change_service_user_status",
          "clear_account_settings",
          "deactivate_workflow",
          "download_task_file",
          "download_task_files",
          "download_template",
          "export_contacts",
          "export_template",
          "export_workflow",
          "remove_account",
          "remove_action",
          "remove_contact",
          "remove_draft",
          "remove_inform",
          "remove_role",
          "remove_snippet",
          "remove_status",
          "remove_workflow",
          "reset_password",
          "set_new_pass",
          "suspend_account",
          "suspend_role",
          "two_factor_email"
         ],
         "y": [
          1,
          0,
          3,
          0,
          0,
          1,
          0,
          896,
          0,
          0,
          0,
          0,
          1,
          0,
          2,
          0,
          0,
          165,
          1,
          1,
          1,
          3,
          5,
          0,
          7,
          38,
          0
         ]
        },
        {
         "name": "Q3_2020",
         "type": "scatter",
         "x": [
          "add_snippet",
          "auth_confirm_caution",
          "change_contact_status",
          "change_password",
          "change_service_user_status",
          "clear_account_settings",
          "deactivate_workflow",
          "download_task_file",
          "download_task_files",
          "download_template",
          "export_contacts",
          "export_template",
          "export_workflow",
          "remove_account",
          "remove_action",
          "remove_contact",
          "remove_draft",
          "remove_inform",
          "remove_role",
          "remove_snippet",
          "remove_status",
          "remove_workflow",
          "reset_password",
          "set_new_pass",
          "suspend_account",
          "suspend_role",
          "two_factor_email"
         ],
         "y": [
          0,
          0,
          2,
          1,
          0,
          1,
          0,
          615,
          104,
          0,
          0,
          0,
          3,
          0,
          0,
          1,
          0,
          314,
          0,
          0,
          0,
          0,
          2,
          0,
          1,
          13,
          0
         ]
        },
        {
         "name": "Q4_2020",
         "type": "scatter",
         "x": [
          "add_snippet",
          "auth_confirm_caution",
          "change_contact_status",
          "change_password",
          "change_service_user_status",
          "clear_account_settings",
          "deactivate_workflow",
          "download_task_file",
          "download_task_files",
          "download_template",
          "export_contacts",
          "export_template",
          "export_workflow",
          "remove_account",
          "remove_action",
          "remove_contact",
          "remove_draft",
          "remove_inform",
          "remove_role",
          "remove_snippet",
          "remove_status",
          "remove_workflow",
          "reset_password",
          "set_new_pass",
          "suspend_account",
          "suspend_role",
          "two_factor_email"
         ],
         "y": [
          1,
          73,
          0,
          1,
          0,
          3,
          0,
          505,
          82,
          0,
          0,
          0,
          1,
          3,
          1,
          0,
          4,
          106,
          0,
          0,
          0,
          0,
          2,
          1,
          1,
          9,
          2
         ]
        },
        {
         "name": "Q1_2021",
         "type": "scatter",
         "x": [
          "add_snippet",
          "auth_confirm_caution",
          "change_contact_status",
          "change_password",
          "change_service_user_status",
          "clear_account_settings",
          "deactivate_workflow",
          "download_task_file",
          "download_task_files",
          "download_template",
          "export_contacts",
          "export_template",
          "export_workflow",
          "remove_account",
          "remove_action",
          "remove_contact",
          "remove_draft",
          "remove_inform",
          "remove_role",
          "remove_snippet",
          "remove_status",
          "remove_workflow",
          "reset_password",
          "set_new_pass",
          "suspend_account",
          "suspend_role",
          "two_factor_email"
         ],
         "y": [
          1,
          25,
          0,
          1,
          0,
          5,
          0,
          520,
          88,
          0,
          0,
          0,
          1,
          0,
          0,
          0,
          2,
          227,
          1,
          0,
          0,
          0,
          2,
          2,
          0,
          0,
          0
         ]
        },
        {
         "name": "Q2_2021",
         "type": "scatter",
         "x": [
          "add_snippet",
          "auth_confirm_caution",
          "change_contact_status",
          "change_password",
          "change_service_user_status",
          "clear_account_settings",
          "deactivate_workflow",
          "download_task_file",
          "download_task_files",
          "download_template",
          "export_contacts",
          "export_template",
          "export_workflow",
          "remove_account",
          "remove_action",
          "remove_contact",
          "remove_draft",
          "remove_inform",
          "remove_role",
          "remove_snippet",
          "remove_status",
          "remove_workflow",
          "reset_password",
          "set_new_pass",
          "suspend_account",
          "suspend_role",
          "two_factor_email"
         ],
         "y": [
          0,
          26,
          0,
          1,
          0,
          2,
          0,
          3437,
          61,
          0,
          0,
          2,
          1,
          4,
          1,
          0,
          4,
          229,
          0,
          0,
          0,
          0,
          0,
          1,
          1,
          104,
          0
         ]
        }
       ],
       "layout": {
        "template": {
         "data": {
          "bar": [
           {
            "error_x": {
             "color": "#2a3f5f"
            },
            "error_y": {
             "color": "#2a3f5f"
            },
            "marker": {
             "line": {
              "color": "#E5ECF6",
              "width": 0.5
             },
             "pattern": {
              "fillmode": "overlay",
              "size": 10,
              "solidity": 0.2
             }
            },
            "type": "bar"
           }
          ],
          "barpolar": [
           {
            "marker": {
             "line": {
              "color": "#E5ECF6",
              "width": 0.5
             },
             "pattern": {
              "fillmode": "overlay",
              "size": 10,
              "solidity": 0.2
             }
            },
            "type": "barpolar"
           }
          ],
          "carpet": [
           {
            "aaxis": {
             "endlinecolor": "#2a3f5f",
             "gridcolor": "white",
             "linecolor": "white",
             "minorgridcolor": "white",
             "startlinecolor": "#2a3f5f"
            },
            "baxis": {
             "endlinecolor": "#2a3f5f",
             "gridcolor": "white",
             "linecolor": "white",
             "minorgridcolor": "white",
             "startlinecolor": "#2a3f5f"
            },
            "type": "carpet"
           }
          ],
          "choropleth": [
           {
            "colorbar": {
             "outlinewidth": 0,
             "ticks": ""
            },
            "type": "choropleth"
           }
          ],
          "contour": [
           {
            "colorbar": {
             "outlinewidth": 0,
             "ticks": ""
            },
            "colorscale": [
             [
              0,
              "#0d0887"
             ],
             [
              0.1111111111111111,
              "#46039f"
             ],
             [
              0.2222222222222222,
              "#7201a8"
             ],
             [
              0.3333333333333333,
              "#9c179e"
             ],
             [
              0.4444444444444444,
              "#bd3786"
             ],
             [
              0.5555555555555556,
              "#d8576b"
             ],
             [
              0.6666666666666666,
              "#ed7953"
             ],
             [
              0.7777777777777778,
              "#fb9f3a"
             ],
             [
              0.8888888888888888,
              "#fdca26"
             ],
             [
              1,
              "#f0f921"
             ]
            ],
            "type": "contour"
           }
          ],
          "contourcarpet": [
           {
            "colorbar": {
             "outlinewidth": 0,
             "ticks": ""
            },
            "type": "contourcarpet"
           }
          ],
          "heatmap": [
           {
            "colorbar": {
             "outlinewidth": 0,
             "ticks": ""
            },
            "colorscale": [
             [
              0,
              "#0d0887"
             ],
             [
              0.1111111111111111,
              "#46039f"
             ],
             [
              0.2222222222222222,
              "#7201a8"
             ],
             [
              0.3333333333333333,
              "#9c179e"
             ],
             [
              0.4444444444444444,
              "#bd3786"
             ],
             [
              0.5555555555555556,
              "#d8576b"
             ],
             [
              0.6666666666666666,
              "#ed7953"
             ],
             [
              0.7777777777777778,
              "#fb9f3a"
             ],
             [
              0.8888888888888888,
              "#fdca26"
             ],
             [
              1,
              "#f0f921"
             ]
            ],
            "type": "heatmap"
           }
          ],
          "heatmapgl": [
           {
            "colorbar": {
             "outlinewidth": 0,
             "ticks": ""
            },
            "colorscale": [
             [
              0,
              "#0d0887"
             ],
             [
              0.1111111111111111,
              "#46039f"
             ],
             [
              0.2222222222222222,
              "#7201a8"
             ],
             [
              0.3333333333333333,
              "#9c179e"
             ],
             [
              0.4444444444444444,
              "#bd3786"
             ],
             [
              0.5555555555555556,
              "#d8576b"
             ],
             [
              0.6666666666666666,
              "#ed7953"
             ],
             [
              0.7777777777777778,
              "#fb9f3a"
             ],
             [
              0.8888888888888888,
              "#fdca26"
             ],
             [
              1,
              "#f0f921"
             ]
            ],
            "type": "heatmapgl"
           }
          ],
          "histogram": [
           {
            "marker": {
             "pattern": {
              "fillmode": "overlay",
              "size": 10,
              "solidity": 0.2
             }
            },
            "type": "histogram"
           }
          ],
          "histogram2d": [
           {
            "colorbar": {
             "outlinewidth": 0,
             "ticks": ""
            },
            "colorscale": [
             [
              0,
              "#0d0887"
             ],
             [
              0.1111111111111111,
              "#46039f"
             ],
             [
              0.2222222222222222,
              "#7201a8"
             ],
             [
              0.3333333333333333,
              "#9c179e"
             ],
             [
              0.4444444444444444,
              "#bd3786"
             ],
             [
              0.5555555555555556,
              "#d8576b"
             ],
             [
              0.6666666666666666,
              "#ed7953"
             ],
             [
              0.7777777777777778,
              "#fb9f3a"
             ],
             [
              0.8888888888888888,
              "#fdca26"
             ],
             [
              1,
              "#f0f921"
             ]
            ],
            "type": "histogram2d"
           }
          ],
          "histogram2dcontour": [
           {
            "colorbar": {
             "outlinewidth": 0,
             "ticks": ""
            },
            "colorscale": [
             [
              0,
              "#0d0887"
             ],
             [
              0.1111111111111111,
              "#46039f"
             ],
             [
              0.2222222222222222,
              "#7201a8"
             ],
             [
              0.3333333333333333,
              "#9c179e"
             ],
             [
              0.4444444444444444,
              "#bd3786"
             ],
             [
              0.5555555555555556,
              "#d8576b"
             ],
             [
              0.6666666666666666,
              "#ed7953"
             ],
             [
              0.7777777777777778,
              "#fb9f3a"
             ],
             [
              0.8888888888888888,
              "#fdca26"
             ],
             [
              1,
              "#f0f921"
             ]
            ],
            "type": "histogram2dcontour"
           }
          ],
          "mesh3d": [
           {
            "colorbar": {
             "outlinewidth": 0,
             "ticks": ""
            },
            "type": "mesh3d"
           }
          ],
          "parcoords": [
           {
            "line": {
             "colorbar": {
              "outlinewidth": 0,
              "ticks": ""
             }
            },
            "type": "parcoords"
           }
          ],
          "pie": [
           {
            "automargin": true,
            "type": "pie"
           }
          ],
          "scatter": [
           {
            "marker": {
             "colorbar": {
              "outlinewidth": 0,
              "ticks": ""
             }
            },
            "type": "scatter"
           }
          ],
          "scatter3d": [
           {
            "line": {
             "colorbar": {
              "outlinewidth": 0,
              "ticks": ""
             }
            },
            "marker": {
             "colorbar": {
              "outlinewidth": 0,
              "ticks": ""
             }
            },
            "type": "scatter3d"
           }
          ],
          "scattercarpet": [
           {
            "marker": {
             "colorbar": {
              "outlinewidth": 0,
              "ticks": ""
             }
            },
            "type": "scattercarpet"
           }
          ],
          "scattergeo": [
           {
            "marker": {
             "colorbar": {
              "outlinewidth": 0,
              "ticks": ""
             }
            },
            "type": "scattergeo"
           }
          ],
          "scattergl": [
           {
            "marker": {
             "colorbar": {
              "outlinewidth": 0,
              "ticks": ""
             }
            },
            "type": "scattergl"
           }
          ],
          "scattermapbox": [
           {
            "marker": {
             "colorbar": {
              "outlinewidth": 0,
              "ticks": ""
             }
            },
            "type": "scattermapbox"
           }
          ],
          "scatterpolar": [
           {
            "marker": {
             "colorbar": {
              "outlinewidth": 0,
              "ticks": ""
             }
            },
            "type": "scatterpolar"
           }
          ],
          "scatterpolargl": [
           {
            "marker": {
             "colorbar": {
              "outlinewidth": 0,
              "ticks": ""
             }
            },
            "type": "scatterpolargl"
           }
          ],
          "scatterternary": [
           {
            "marker": {
             "colorbar": {
              "outlinewidth": 0,
              "ticks": ""
             }
            },
            "type": "scatterternary"
           }
          ],
          "surface": [
           {
            "colorbar": {
             "outlinewidth": 0,
             "ticks": ""
            },
            "colorscale": [
             [
              0,
              "#0d0887"
             ],
             [
              0.1111111111111111,
              "#46039f"
             ],
             [
              0.2222222222222222,
              "#7201a8"
             ],
             [
              0.3333333333333333,
              "#9c179e"
             ],
             [
              0.4444444444444444,
              "#bd3786"
             ],
             [
              0.5555555555555556,
              "#d8576b"
             ],
             [
              0.6666666666666666,
              "#ed7953"
             ],
             [
              0.7777777777777778,
              "#fb9f3a"
             ],
             [
              0.8888888888888888,
              "#fdca26"
             ],
             [
              1,
              "#f0f921"
             ]
            ],
            "type": "surface"
           }
          ],
          "table": [
           {
            "cells": {
             "fill": {
              "color": "#EBF0F8"
             },
             "line": {
              "color": "white"
             }
            },
            "header": {
             "fill": {
              "color": "#C8D4E3"
             },
             "line": {
              "color": "white"
             }
            },
            "type": "table"
           }
          ]
         },
         "layout": {
          "annotationdefaults": {
           "arrowcolor": "#2a3f5f",
           "arrowhead": 0,
           "arrowwidth": 1
          },
          "autotypenumbers": "strict",
          "coloraxis": {
           "colorbar": {
            "outlinewidth": 0,
            "ticks": ""
           }
          },
          "colorscale": {
           "diverging": [
            [
             0,
             "#8e0152"
            ],
            [
             0.1,
             "#c51b7d"
            ],
            [
             0.2,
             "#de77ae"
            ],
            [
             0.3,
             "#f1b6da"
            ],
            [
             0.4,
             "#fde0ef"
            ],
            [
             0.5,
             "#f7f7f7"
            ],
            [
             0.6,
             "#e6f5d0"
            ],
            [
             0.7,
             "#b8e186"
            ],
            [
             0.8,
             "#7fbc41"
            ],
            [
             0.9,
             "#4d9221"
            ],
            [
             1,
             "#276419"
            ]
           ],
           "sequential": [
            [
             0,
             "#0d0887"
            ],
            [
             0.1111111111111111,
             "#46039f"
            ],
            [
             0.2222222222222222,
             "#7201a8"
            ],
            [
             0.3333333333333333,
             "#9c179e"
            ],
            [
             0.4444444444444444,
             "#bd3786"
            ],
            [
             0.5555555555555556,
             "#d8576b"
            ],
            [
             0.6666666666666666,
             "#ed7953"
            ],
            [
             0.7777777777777778,
             "#fb9f3a"
            ],
            [
             0.8888888888888888,
             "#fdca26"
            ],
            [
             1,
             "#f0f921"
            ]
           ],
           "sequentialminus": [
            [
             0,
             "#0d0887"
            ],
            [
             0.1111111111111111,
             "#46039f"
            ],
            [
             0.2222222222222222,
             "#7201a8"
            ],
            [
             0.3333333333333333,
             "#9c179e"
            ],
            [
             0.4444444444444444,
             "#bd3786"
            ],
            [
             0.5555555555555556,
             "#d8576b"
            ],
            [
             0.6666666666666666,
             "#ed7953"
            ],
            [
             0.7777777777777778,
             "#fb9f3a"
            ],
            [
             0.8888888888888888,
             "#fdca26"
            ],
            [
             1,
             "#f0f921"
            ]
           ]
          },
          "colorway": [
           "#636efa",
           "#EF553B",
           "#00cc96",
           "#ab63fa",
           "#FFA15A",
           "#19d3f3",
           "#FF6692",
           "#B6E880",
           "#FF97FF",
           "#FECB52"
          ],
          "font": {
           "color": "#2a3f5f"
          },
          "geo": {
           "bgcolor": "white",
           "lakecolor": "white",
           "landcolor": "#E5ECF6",
           "showlakes": true,
           "showland": true,
           "subunitcolor": "white"
          },
          "hoverlabel": {
           "align": "left"
          },
          "hovermode": "closest",
          "mapbox": {
           "style": "light"
          },
          "paper_bgcolor": "white",
          "plot_bgcolor": "#E5ECF6",
          "polar": {
           "angularaxis": {
            "gridcolor": "white",
            "linecolor": "white",
            "ticks": ""
           },
           "bgcolor": "#E5ECF6",
           "radialaxis": {
            "gridcolor": "white",
            "linecolor": "white",
            "ticks": ""
           }
          },
          "scene": {
           "xaxis": {
            "backgroundcolor": "#E5ECF6",
            "gridcolor": "white",
            "gridwidth": 2,
            "linecolor": "white",
            "showbackground": true,
            "ticks": "",
            "zerolinecolor": "white"
           },
           "yaxis": {
            "backgroundcolor": "#E5ECF6",
            "gridcolor": "white",
            "gridwidth": 2,
            "linecolor": "white",
            "showbackground": true,
            "ticks": "",
            "zerolinecolor": "white"
           },
           "zaxis": {
            "backgroundcolor": "#E5ECF6",
            "gridcolor": "white",
            "gridwidth": 2,
            "linecolor": "white",
            "showbackground": true,
            "ticks": "",
            "zerolinecolor": "white"
           }
          },
          "shapedefaults": {
           "line": {
            "color": "#2a3f5f"
           }
          },
          "ternary": {
           "aaxis": {
            "gridcolor": "white",
            "linecolor": "white",
            "ticks": ""
           },
           "baxis": {
            "gridcolor": "white",
            "linecolor": "white",
            "ticks": ""
           },
           "bgcolor": "#E5ECF6",
           "caxis": {
            "gridcolor": "white",
            "linecolor": "white",
            "ticks": ""
           }
          },
          "title": {
           "x": 0.05
          },
          "xaxis": {
           "automargin": true,
           "gridcolor": "white",
           "linecolor": "white",
           "ticks": "",
           "title": {
            "standoff": 15
           },
           "zerolinecolor": "white",
           "zerolinewidth": 2
          },
          "yaxis": {
           "automargin": true,
           "gridcolor": "white",
           "linecolor": "white",
           "ticks": "",
           "title": {
            "standoff": 15
           },
           "zerolinecolor": "white",
           "zerolinewidth": 2
          }
         }
        }
       }
      },
      "text/html": [
       "<div>                            <div id=\"caf32dba-cc45-44b5-b324-e060ef403427\" class=\"plotly-graph-div\" style=\"height:525px; width:100%;\"></div>            <script type=\"text/javascript\">                require([\"plotly\"], function(Plotly) {                    window.PLOTLYENV=window.PLOTLYENV || {};                                    if (document.getElementById(\"caf32dba-cc45-44b5-b324-e060ef403427\")) {                    Plotly.newPlot(                        \"caf32dba-cc45-44b5-b324-e060ef403427\",                        [{\"name\":\"Q3_2019\",\"x\":[\"add_snippet\",\"auth_confirm_caution\",\"change_contact_status\",\"change_password\",\"change_service_user_status\",\"clear_account_settings\",\"deactivate_workflow\",\"download_task_file\",\"download_task_files\",\"download_template\",\"export_contacts\",\"export_template\",\"export_workflow\",\"remove_account\",\"remove_action\",\"remove_contact\",\"remove_draft\",\"remove_inform\",\"remove_role\",\"remove_snippet\",\"remove_status\",\"remove_workflow\",\"reset_password\",\"set_new_pass\",\"suspend_account\",\"suspend_role\",\"two_factor_email\"],\"y\":[0,0,1,0,0,1,0,573,0,2,3,0,21,0,5,1,0,144,0,0,1,0,2,0,0,3,0],\"type\":\"scatter\"},{\"name\":\"Q4_2019\",\"x\":[\"add_snippet\",\"auth_confirm_caution\",\"change_contact_status\",\"change_password\",\"change_service_user_status\",\"clear_account_settings\",\"deactivate_workflow\",\"download_task_file\",\"download_task_files\",\"download_template\",\"export_contacts\",\"export_template\",\"export_workflow\",\"remove_account\",\"remove_action\",\"remove_contact\",\"remove_draft\",\"remove_inform\",\"remove_role\",\"remove_snippet\",\"remove_status\",\"remove_workflow\",\"reset_password\",\"set_new_pass\",\"suspend_account\",\"suspend_role\",\"two_factor_email\"],\"y\":[1,0,2,0,2,0,0,520,0,0,0,0,3,0,1,1,0,176,0,0,0,0,0,0,0,1,0],\"type\":\"scatter\"},{\"name\":\"Q1_2020\",\"x\":[\"add_snippet\",\"auth_confirm_caution\",\"change_contact_status\",\"change_password\",\"change_service_user_status\",\"clear_account_settings\",\"deactivate_workflow\",\"download_task_file\",\"download_task_files\",\"download_template\",\"export_contacts\",\"export_template\",\"export_workflow\",\"remove_account\",\"remove_action\",\"remove_contact\",\"remove_draft\",\"remove_inform\",\"remove_role\",\"remove_snippet\",\"remove_status\",\"remove_workflow\",\"reset_password\",\"set_new_pass\",\"suspend_account\",\"suspend_role\",\"two_factor_email\"],\"y\":[0,0,2,0,0,1,0,713,0,0,0,0,1,0,1,0,0,191,0,0,2,0,3,0,9,0,0],\"type\":\"scatter\"},{\"name\":\"Q2_2020\",\"x\":[\"add_snippet\",\"auth_confirm_caution\",\"change_contact_status\",\"change_password\",\"change_service_user_status\",\"clear_account_settings\",\"deactivate_workflow\",\"download_task_file\",\"download_task_files\",\"download_template\",\"export_contacts\",\"export_template\",\"export_workflow\",\"remove_account\",\"remove_action\",\"remove_contact\",\"remove_draft\",\"remove_inform\",\"remove_role\",\"remove_snippet\",\"remove_status\",\"remove_workflow\",\"reset_password\",\"set_new_pass\",\"suspend_account\",\"suspend_role\",\"two_factor_email\"],\"y\":[1,0,3,0,0,1,0,896,0,0,0,0,1,0,2,0,0,165,1,1,1,3,5,0,7,38,0],\"type\":\"scatter\"},{\"name\":\"Q3_2020\",\"x\":[\"add_snippet\",\"auth_confirm_caution\",\"change_contact_status\",\"change_password\",\"change_service_user_status\",\"clear_account_settings\",\"deactivate_workflow\",\"download_task_file\",\"download_task_files\",\"download_template\",\"export_contacts\",\"export_template\",\"export_workflow\",\"remove_account\",\"remove_action\",\"remove_contact\",\"remove_draft\",\"remove_inform\",\"remove_role\",\"remove_snippet\",\"remove_status\",\"remove_workflow\",\"reset_password\",\"set_new_pass\",\"suspend_account\",\"suspend_role\",\"two_factor_email\"],\"y\":[0,0,2,1,0,1,0,615,104,0,0,0,3,0,0,1,0,314,0,0,0,0,2,0,1,13,0],\"type\":\"scatter\"},{\"name\":\"Q4_2020\",\"x\":[\"add_snippet\",\"auth_confirm_caution\",\"change_contact_status\",\"change_password\",\"change_service_user_status\",\"clear_account_settings\",\"deactivate_workflow\",\"download_task_file\",\"download_task_files\",\"download_template\",\"export_contacts\",\"export_template\",\"export_workflow\",\"remove_account\",\"remove_action\",\"remove_contact\",\"remove_draft\",\"remove_inform\",\"remove_role\",\"remove_snippet\",\"remove_status\",\"remove_workflow\",\"reset_password\",\"set_new_pass\",\"suspend_account\",\"suspend_role\",\"two_factor_email\"],\"y\":[1,73,0,1,0,3,0,505,82,0,0,0,1,3,1,0,4,106,0,0,0,0,2,1,1,9,2],\"type\":\"scatter\"},{\"name\":\"Q1_2021\",\"x\":[\"add_snippet\",\"auth_confirm_caution\",\"change_contact_status\",\"change_password\",\"change_service_user_status\",\"clear_account_settings\",\"deactivate_workflow\",\"download_task_file\",\"download_task_files\",\"download_template\",\"export_contacts\",\"export_template\",\"export_workflow\",\"remove_account\",\"remove_action\",\"remove_contact\",\"remove_draft\",\"remove_inform\",\"remove_role\",\"remove_snippet\",\"remove_status\",\"remove_workflow\",\"reset_password\",\"set_new_pass\",\"suspend_account\",\"suspend_role\",\"two_factor_email\"],\"y\":[1,25,0,1,0,5,0,520,88,0,0,0,1,0,0,0,2,227,1,0,0,0,2,2,0,0,0],\"type\":\"scatter\"},{\"name\":\"Q2_2021\",\"x\":[\"add_snippet\",\"auth_confirm_caution\",\"change_contact_status\",\"change_password\",\"change_service_user_status\",\"clear_account_settings\",\"deactivate_workflow\",\"download_task_file\",\"download_task_files\",\"download_template\",\"export_contacts\",\"export_template\",\"export_workflow\",\"remove_account\",\"remove_action\",\"remove_contact\",\"remove_draft\",\"remove_inform\",\"remove_role\",\"remove_snippet\",\"remove_status\",\"remove_workflow\",\"reset_password\",\"set_new_pass\",\"suspend_account\",\"suspend_role\",\"two_factor_email\"],\"y\":[0,26,0,1,0,2,0,3437,61,0,0,2,1,4,1,0,4,229,0,0,0,0,0,1,1,104,0],\"type\":\"scatter\"}],                        {\"template\":{\"data\":{\"bar\":[{\"error_x\":{\"color\":\"#2a3f5f\"},\"error_y\":{\"color\":\"#2a3f5f\"},\"marker\":{\"line\":{\"color\":\"#E5ECF6\",\"width\":0.5},\"pattern\":{\"fillmode\":\"overlay\",\"size\":10,\"solidity\":0.2}},\"type\":\"bar\"}],\"barpolar\":[{\"marker\":{\"line\":{\"color\":\"#E5ECF6\",\"width\":0.5},\"pattern\":{\"fillmode\":\"overlay\",\"size\":10,\"solidity\":0.2}},\"type\":\"barpolar\"}],\"carpet\":[{\"aaxis\":{\"endlinecolor\":\"#2a3f5f\",\"gridcolor\":\"white\",\"linecolor\":\"white\",\"minorgridcolor\":\"white\",\"startlinecolor\":\"#2a3f5f\"},\"baxis\":{\"endlinecolor\":\"#2a3f5f\",\"gridcolor\":\"white\",\"linecolor\":\"white\",\"minorgridcolor\":\"white\",\"startlinecolor\":\"#2a3f5f\"},\"type\":\"carpet\"}],\"choropleth\":[{\"colorbar\":{\"outlinewidth\":0,\"ticks\":\"\"},\"type\":\"choropleth\"}],\"contour\":[{\"colorbar\":{\"outlinewidth\":0,\"ticks\":\"\"},\"colorscale\":[[0.0,\"#0d0887\"],[0.1111111111111111,\"#46039f\"],[0.2222222222222222,\"#7201a8\"],[0.3333333333333333,\"#9c179e\"],[0.4444444444444444,\"#bd3786\"],[0.5555555555555556,\"#d8576b\"],[0.6666666666666666,\"#ed7953\"],[0.7777777777777778,\"#fb9f3a\"],[0.8888888888888888,\"#fdca26\"],[1.0,\"#f0f921\"]],\"type\":\"contour\"}],\"contourcarpet\":[{\"colorbar\":{\"outlinewidth\":0,\"ticks\":\"\"},\"type\":\"contourcarpet\"}],\"heatmap\":[{\"colorbar\":{\"outlinewidth\":0,\"ticks\":\"\"},\"colorscale\":[[0.0,\"#0d0887\"],[0.1111111111111111,\"#46039f\"],[0.2222222222222222,\"#7201a8\"],[0.3333333333333333,\"#9c179e\"],[0.4444444444444444,\"#bd3786\"],[0.5555555555555556,\"#d8576b\"],[0.6666666666666666,\"#ed7953\"],[0.7777777777777778,\"#fb9f3a\"],[0.8888888888888888,\"#fdca26\"],[1.0,\"#f0f921\"]],\"type\":\"heatmap\"}],\"heatmapgl\":[{\"colorbar\":{\"outlinewidth\":0,\"ticks\":\"\"},\"colorscale\":[[0.0,\"#0d0887\"],[0.1111111111111111,\"#46039f\"],[0.2222222222222222,\"#7201a8\"],[0.3333333333333333,\"#9c179e\"],[0.4444444444444444,\"#bd3786\"],[0.5555555555555556,\"#d8576b\"],[0.6666666666666666,\"#ed7953\"],[0.7777777777777778,\"#fb9f3a\"],[0.8888888888888888,\"#fdca26\"],[1.0,\"#f0f921\"]],\"type\":\"heatmapgl\"}],\"histogram\":[{\"marker\":{\"pattern\":{\"fillmode\":\"overlay\",\"size\":10,\"solidity\":0.2}},\"type\":\"histogram\"}],\"histogram2d\":[{\"colorbar\":{\"outlinewidth\":0,\"ticks\":\"\"},\"colorscale\":[[0.0,\"#0d0887\"],[0.1111111111111111,\"#46039f\"],[0.2222222222222222,\"#7201a8\"],[0.3333333333333333,\"#9c179e\"],[0.4444444444444444,\"#bd3786\"],[0.5555555555555556,\"#d8576b\"],[0.6666666666666666,\"#ed7953\"],[0.7777777777777778,\"#fb9f3a\"],[0.8888888888888888,\"#fdca26\"],[1.0,\"#f0f921\"]],\"type\":\"histogram2d\"}],\"histogram2dcontour\":[{\"colorbar\":{\"outlinewidth\":0,\"ticks\":\"\"},\"colorscale\":[[0.0,\"#0d0887\"],[0.1111111111111111,\"#46039f\"],[0.2222222222222222,\"#7201a8\"],[0.3333333333333333,\"#9c179e\"],[0.4444444444444444,\"#bd3786\"],[0.5555555555555556,\"#d8576b\"],[0.6666666666666666,\"#ed7953\"],[0.7777777777777778,\"#fb9f3a\"],[0.8888888888888888,\"#fdca26\"],[1.0,\"#f0f921\"]],\"type\":\"histogram2dcontour\"}],\"mesh3d\":[{\"colorbar\":{\"outlinewidth\":0,\"ticks\":\"\"},\"type\":\"mesh3d\"}],\"parcoords\":[{\"line\":{\"colorbar\":{\"outlinewidth\":0,\"ticks\":\"\"}},\"type\":\"parcoords\"}],\"pie\":[{\"automargin\":true,\"type\":\"pie\"}],\"scatter\":[{\"marker\":{\"colorbar\":{\"outlinewidth\":0,\"ticks\":\"\"}},\"type\":\"scatter\"}],\"scatter3d\":[{\"line\":{\"colorbar\":{\"outlinewidth\":0,\"ticks\":\"\"}},\"marker\":{\"colorbar\":{\"outlinewidth\":0,\"ticks\":\"\"}},\"type\":\"scatter3d\"}],\"scattercarpet\":[{\"marker\":{\"colorbar\":{\"outlinewidth\":0,\"ticks\":\"\"}},\"type\":\"scattercarpet\"}],\"scattergeo\":[{\"marker\":{\"colorbar\":{\"outlinewidth\":0,\"ticks\":\"\"}},\"type\":\"scattergeo\"}],\"scattergl\":[{\"marker\":{\"colorbar\":{\"outlinewidth\":0,\"ticks\":\"\"}},\"type\":\"scattergl\"}],\"scattermapbox\":[{\"marker\":{\"colorbar\":{\"outlinewidth\":0,\"ticks\":\"\"}},\"type\":\"scattermapbox\"}],\"scatterpolar\":[{\"marker\":{\"colorbar\":{\"outlinewidth\":0,\"ticks\":\"\"}},\"type\":\"scatterpolar\"}],\"scatterpolargl\":[{\"marker\":{\"colorbar\":{\"outlinewidth\":0,\"ticks\":\"\"}},\"type\":\"scatterpolargl\"}],\"scatterternary\":[{\"marker\":{\"colorbar\":{\"outlinewidth\":0,\"ticks\":\"\"}},\"type\":\"scatterternary\"}],\"surface\":[{\"colorbar\":{\"outlinewidth\":0,\"ticks\":\"\"},\"colorscale\":[[0.0,\"#0d0887\"],[0.1111111111111111,\"#46039f\"],[0.2222222222222222,\"#7201a8\"],[0.3333333333333333,\"#9c179e\"],[0.4444444444444444,\"#bd3786\"],[0.5555555555555556,\"#d8576b\"],[0.6666666666666666,\"#ed7953\"],[0.7777777777777778,\"#fb9f3a\"],[0.8888888888888888,\"#fdca26\"],[1.0,\"#f0f921\"]],\"type\":\"surface\"}],\"table\":[{\"cells\":{\"fill\":{\"color\":\"#EBF0F8\"},\"line\":{\"color\":\"white\"}},\"header\":{\"fill\":{\"color\":\"#C8D4E3\"},\"line\":{\"color\":\"white\"}},\"type\":\"table\"}]},\"layout\":{\"annotationdefaults\":{\"arrowcolor\":\"#2a3f5f\",\"arrowhead\":0,\"arrowwidth\":1},\"autotypenumbers\":\"strict\",\"coloraxis\":{\"colorbar\":{\"outlinewidth\":0,\"ticks\":\"\"}},\"colorscale\":{\"diverging\":[[0,\"#8e0152\"],[0.1,\"#c51b7d\"],[0.2,\"#de77ae\"],[0.3,\"#f1b6da\"],[0.4,\"#fde0ef\"],[0.5,\"#f7f7f7\"],[0.6,\"#e6f5d0\"],[0.7,\"#b8e186\"],[0.8,\"#7fbc41\"],[0.9,\"#4d9221\"],[1,\"#276419\"]],\"sequential\":[[0.0,\"#0d0887\"],[0.1111111111111111,\"#46039f\"],[0.2222222222222222,\"#7201a8\"],[0.3333333333333333,\"#9c179e\"],[0.4444444444444444,\"#bd3786\"],[0.5555555555555556,\"#d8576b\"],[0.6666666666666666,\"#ed7953\"],[0.7777777777777778,\"#fb9f3a\"],[0.8888888888888888,\"#fdca26\"],[1.0,\"#f0f921\"]],\"sequentialminus\":[[0.0,\"#0d0887\"],[0.1111111111111111,\"#46039f\"],[0.2222222222222222,\"#7201a8\"],[0.3333333333333333,\"#9c179e\"],[0.4444444444444444,\"#bd3786\"],[0.5555555555555556,\"#d8576b\"],[0.6666666666666666,\"#ed7953\"],[0.7777777777777778,\"#fb9f3a\"],[0.8888888888888888,\"#fdca26\"],[1.0,\"#f0f921\"]]},\"colorway\":[\"#636efa\",\"#EF553B\",\"#00cc96\",\"#ab63fa\",\"#FFA15A\",\"#19d3f3\",\"#FF6692\",\"#B6E880\",\"#FF97FF\",\"#FECB52\"],\"font\":{\"color\":\"#2a3f5f\"},\"geo\":{\"bgcolor\":\"white\",\"lakecolor\":\"white\",\"landcolor\":\"#E5ECF6\",\"showlakes\":true,\"showland\":true,\"subunitcolor\":\"white\"},\"hoverlabel\":{\"align\":\"left\"},\"hovermode\":\"closest\",\"mapbox\":{\"style\":\"light\"},\"paper_bgcolor\":\"white\",\"plot_bgcolor\":\"#E5ECF6\",\"polar\":{\"angularaxis\":{\"gridcolor\":\"white\",\"linecolor\":\"white\",\"ticks\":\"\"},\"bgcolor\":\"#E5ECF6\",\"radialaxis\":{\"gridcolor\":\"white\",\"linecolor\":\"white\",\"ticks\":\"\"}},\"scene\":{\"xaxis\":{\"backgroundcolor\":\"#E5ECF6\",\"gridcolor\":\"white\",\"gridwidth\":2,\"linecolor\":\"white\",\"showbackground\":true,\"ticks\":\"\",\"zerolinecolor\":\"white\"},\"yaxis\":{\"backgroundcolor\":\"#E5ECF6\",\"gridcolor\":\"white\",\"gridwidth\":2,\"linecolor\":\"white\",\"showbackground\":true,\"ticks\":\"\",\"zerolinecolor\":\"white\"},\"zaxis\":{\"backgroundcolor\":\"#E5ECF6\",\"gridcolor\":\"white\",\"gridwidth\":2,\"linecolor\":\"white\",\"showbackground\":true,\"ticks\":\"\",\"zerolinecolor\":\"white\"}},\"shapedefaults\":{\"line\":{\"color\":\"#2a3f5f\"}},\"ternary\":{\"aaxis\":{\"gridcolor\":\"white\",\"linecolor\":\"white\",\"ticks\":\"\"},\"baxis\":{\"gridcolor\":\"white\",\"linecolor\":\"white\",\"ticks\":\"\"},\"bgcolor\":\"#E5ECF6\",\"caxis\":{\"gridcolor\":\"white\",\"linecolor\":\"white\",\"ticks\":\"\"}},\"title\":{\"x\":0.05},\"xaxis\":{\"automargin\":true,\"gridcolor\":\"white\",\"linecolor\":\"white\",\"ticks\":\"\",\"title\":{\"standoff\":15},\"zerolinecolor\":\"white\",\"zerolinewidth\":2},\"yaxis\":{\"automargin\":true,\"gridcolor\":\"white\",\"linecolor\":\"white\",\"ticks\":\"\",\"title\":{\"standoff\":15},\"zerolinecolor\":\"white\",\"zerolinewidth\":2}}}},                        {\"responsive\": true}                    ).then(function(){\n",
       "                            \n",
       "var gd = document.getElementById('caf32dba-cc45-44b5-b324-e060ef403427');\n",
       "var x = new MutationObserver(function (mutations, observer) {{\n",
       "        var display = window.getComputedStyle(gd).display;\n",
       "        if (!display || display === 'none') {{\n",
       "            console.log([gd, 'removed!']);\n",
       "            Plotly.purge(gd);\n",
       "            observer.disconnect();\n",
       "        }}\n",
       "}});\n",
       "\n",
       "// Listen for the removal of the full notebook cells\n",
       "var notebookContainer = gd.closest('#notebook-container');\n",
       "if (notebookContainer) {{\n",
       "    x.observe(notebookContainer, {childList: true});\n",
       "}}\n",
       "\n",
       "// Listen for the clearing of the current output cell\n",
       "var outputEl = gd.closest('.output');\n",
       "if (outputEl) {{\n",
       "    x.observe(outputEl, {childList: true});\n",
       "}}\n",
       "\n",
       "                        })                };                });            </script>        </div>"
      ]
     },
     "metadata": {},
     "output_type": "display_data"
    }
   ],
   "source": [
    "fig = go.Figure(go.Line(x=red_light, y=np.array(Q3_2019[red_light].max()).astype(int), name='Q3_2019'))\n",
    "fig.add_trace(go.Line(x=red_light, y=np.array(Q4_2019[red_light].max()).astype(int), name='Q4_2019'))\n",
    "fig.add_trace(go.Line(x=red_light, y=np.array(Q1_2020[red_light].max()).astype(int), name='Q1_2020'))\n",
    "fig.add_trace(go.Line(x=red_light, y=np.array(Q2_2020[red_light].max()).astype(int), name='Q2_2020'))\n",
    "fig.add_trace(go.Line(x=red_light, y=np.array(Q3_2020[red_light].max()).astype(int), name='Q3_2020'))\n",
    "fig.add_trace(go.Line(x=red_light, y=np.array(Q4_2020[red_light].max()).astype(int), name='Q4_2020'))\n",
    "fig.add_trace(go.Line(x=red_light, y=np.array(Q1_2021[red_light].max()).astype(int), name='Q1_2021'))\n",
    "fig.add_trace(go.Line(x=red_light, y=np.array(Q2_2021[red_light].max()).astype(int), name='Q2_2021'))\n",
    "fig.show()"
   ]
  },
  {
   "cell_type": "code",
   "execution_count": 40,
   "id": "128cef7d",
   "metadata": {},
   "outputs": [
    {
     "data": {
      "application/vnd.plotly.v1+json": {
       "config": {
        "plotlyServerURL": "https://plot.ly"
       },
       "data": [
        {
         "name": "Q3_2019",
         "type": "scatter",
         "x": [
          "account_access",
          "add_account",
          "add_action",
          "add_contact",
          "add_draft",
          "add_group",
          "add_html_template",
          "add_role",
          "add_status",
          "add_workflow",
          "adm_open_settings",
          "edit_account",
          "edit_account_uname",
          "edit_action",
          "edit_contact",
          "edit_docx_template",
          "edit_draft",
          "edit_group",
          "edit_html_template",
          "edit_profile",
          "edit_role",
          "edit_snippet",
          "edit_status",
          "edit_workflow",
          "edit_workflow_group",
          "resend_token",
          "unblock_password_reset",
          "unsuspend_account",
          "unsuspend_role"
         ],
         "y": [
          1,
          9,
          109,
          311,
          227,
          0,
          1,
          7,
          43,
          0,
          0,
          32,
          30,
          619,
          51,
          10,
          144,
          45,
          73,
          80,
          731,
          14,
          13,
          19,
          0,
          0,
          0,
          0,
          1
         ]
        },
        {
         "name": "Q4_2019",
         "type": "scatter",
         "x": [
          "account_access",
          "add_account",
          "add_action",
          "add_contact",
          "add_draft",
          "add_group",
          "add_html_template",
          "add_role",
          "add_status",
          "add_workflow",
          "adm_open_settings",
          "edit_account",
          "edit_account_uname",
          "edit_action",
          "edit_contact",
          "edit_docx_template",
          "edit_draft",
          "edit_group",
          "edit_html_template",
          "edit_profile",
          "edit_role",
          "edit_snippet",
          "edit_status",
          "edit_workflow",
          "edit_workflow_group",
          "resend_token",
          "unblock_password_reset",
          "unsuspend_account",
          "unsuspend_role"
         ],
         "y": [
          0,
          20,
          34,
          101,
          184,
          0,
          1,
          17,
          10,
          1,
          0,
          36,
          20,
          378,
          57,
          0,
          86,
          42,
          6,
          957,
          109,
          130,
          0,
          8,
          0,
          0,
          0,
          0,
          0
         ]
        },
        {
         "name": "Q1_2020",
         "type": "scatter",
         "x": [
          "account_access",
          "add_account",
          "add_action",
          "add_contact",
          "add_draft",
          "add_group",
          "add_html_template",
          "add_role",
          "add_status",
          "add_workflow",
          "adm_open_settings",
          "edit_account",
          "edit_account_uname",
          "edit_action",
          "edit_contact",
          "edit_docx_template",
          "edit_draft",
          "edit_group",
          "edit_html_template",
          "edit_profile",
          "edit_role",
          "edit_snippet",
          "edit_status",
          "edit_workflow",
          "edit_workflow_group",
          "resend_token",
          "unblock_password_reset",
          "unsuspend_account",
          "unsuspend_role"
         ],
         "y": [
          0,
          18,
          93,
          16,
          190,
          1,
          2,
          13,
          14,
          0,
          0,
          34,
          19,
          212,
          25,
          0,
          102,
          18,
          2,
          246,
          63,
          0,
          0,
          0,
          0,
          0,
          0,
          0,
          0
         ]
        },
        {
         "name": "Q2_2020",
         "type": "scatter",
         "x": [
          "account_access",
          "add_account",
          "add_action",
          "add_contact",
          "add_draft",
          "add_group",
          "add_html_template",
          "add_role",
          "add_status",
          "add_workflow",
          "adm_open_settings",
          "edit_account",
          "edit_account_uname",
          "edit_action",
          "edit_contact",
          "edit_docx_template",
          "edit_draft",
          "edit_group",
          "edit_html_template",
          "edit_profile",
          "edit_role",
          "edit_snippet",
          "edit_status",
          "edit_workflow",
          "edit_workflow_group",
          "resend_token",
          "unblock_password_reset",
          "unsuspend_account",
          "unsuspend_role"
         ],
         "y": [
          0,
          42,
          18,
          8,
          96,
          1,
          0,
          41,
          4,
          0,
          0,
          50,
          58,
          215,
          13,
          0,
          47,
          45,
          9,
          129,
          343,
          16,
          0,
          6,
          6,
          0,
          0,
          0,
          0
         ]
        },
        {
         "name": "Q3_2020",
         "type": "scatter",
         "x": [
          "account_access",
          "add_account",
          "add_action",
          "add_contact",
          "add_draft",
          "add_group",
          "add_html_template",
          "add_role",
          "add_status",
          "add_workflow",
          "adm_open_settings",
          "edit_account",
          "edit_account_uname",
          "edit_action",
          "edit_contact",
          "edit_docx_template",
          "edit_draft",
          "edit_group",
          "edit_html_template",
          "edit_profile",
          "edit_role",
          "edit_snippet",
          "edit_status",
          "edit_workflow",
          "edit_workflow_group",
          "resend_token",
          "unblock_password_reset",
          "unsuspend_account",
          "unsuspend_role"
         ],
         "y": [
          7,
          30,
          20,
          21,
          91,
          0,
          0,
          20,
          8,
          0,
          150,
          124,
          32,
          215,
          30,
          0,
          41,
          54,
          0,
          517,
          236,
          0,
          2,
          0,
          0,
          13,
          4,
          0,
          5
         ]
        },
        {
         "name": "Q4_2020",
         "type": "scatter",
         "x": [
          "account_access",
          "add_account",
          "add_action",
          "add_contact",
          "add_draft",
          "add_group",
          "add_html_template",
          "add_role",
          "add_status",
          "add_workflow",
          "adm_open_settings",
          "edit_account",
          "edit_account_uname",
          "edit_action",
          "edit_contact",
          "edit_docx_template",
          "edit_draft",
          "edit_group",
          "edit_html_template",
          "edit_profile",
          "edit_role",
          "edit_snippet",
          "edit_status",
          "edit_workflow",
          "edit_workflow_group",
          "resend_token",
          "unblock_password_reset",
          "unsuspend_account",
          "unsuspend_role"
         ],
         "y": [
          4,
          31,
          7,
          25,
          53,
          1,
          6,
          25,
          1,
          0,
          127,
          75,
          11,
          101,
          40,
          0,
          15,
          27,
          5,
          147,
          90,
          1,
          8,
          6,
          0,
          7,
          13,
          33,
          0
         ]
        },
        {
         "name": "Q1_2021",
         "type": "scatter",
         "x": [
          "account_access",
          "add_account",
          "add_action",
          "add_contact",
          "add_draft",
          "add_group",
          "add_html_template",
          "add_role",
          "add_status",
          "add_workflow",
          "adm_open_settings",
          "edit_account",
          "edit_account_uname",
          "edit_action",
          "edit_contact",
          "edit_docx_template",
          "edit_draft",
          "edit_group",
          "edit_html_template",
          "edit_profile",
          "edit_role",
          "edit_snippet",
          "edit_status",
          "edit_workflow",
          "edit_workflow_group",
          "resend_token",
          "unblock_password_reset",
          "unsuspend_account",
          "unsuspend_role"
         ],
         "y": [
          85,
          24,
          13,
          16,
          67,
          0,
          0,
          23,
          5,
          0,
          62,
          35,
          18,
          50,
          36,
          0,
          36,
          12,
          0,
          76,
          95,
          3,
          0,
          4,
          0,
          0,
          4,
          29,
          0
         ]
        },
        {
         "name": "Q2_2021",
         "type": "scatter",
         "x": [
          "account_access",
          "add_account",
          "add_action",
          "add_contact",
          "add_draft",
          "add_group",
          "add_html_template",
          "add_role",
          "add_status",
          "add_workflow",
          "adm_open_settings",
          "edit_account",
          "edit_account_uname",
          "edit_action",
          "edit_contact",
          "edit_docx_template",
          "edit_draft",
          "edit_group",
          "edit_html_template",
          "edit_profile",
          "edit_role",
          "edit_snippet",
          "edit_status",
          "edit_workflow",
          "edit_workflow_group",
          "resend_token",
          "unblock_password_reset",
          "unsuspend_account",
          "unsuspend_role"
         ],
         "y": [
          13,
          6,
          13,
          9,
          34,
          0,
          0,
          3,
          0,
          0,
          356,
          53,
          37,
          75,
          4,
          0,
          6,
          15,
          0,
          98,
          302,
          17,
          0,
          1,
          0,
          2,
          1,
          18,
          0
         ]
        }
       ],
       "layout": {
        "template": {
         "data": {
          "bar": [
           {
            "error_x": {
             "color": "#2a3f5f"
            },
            "error_y": {
             "color": "#2a3f5f"
            },
            "marker": {
             "line": {
              "color": "#E5ECF6",
              "width": 0.5
             },
             "pattern": {
              "fillmode": "overlay",
              "size": 10,
              "solidity": 0.2
             }
            },
            "type": "bar"
           }
          ],
          "barpolar": [
           {
            "marker": {
             "line": {
              "color": "#E5ECF6",
              "width": 0.5
             },
             "pattern": {
              "fillmode": "overlay",
              "size": 10,
              "solidity": 0.2
             }
            },
            "type": "barpolar"
           }
          ],
          "carpet": [
           {
            "aaxis": {
             "endlinecolor": "#2a3f5f",
             "gridcolor": "white",
             "linecolor": "white",
             "minorgridcolor": "white",
             "startlinecolor": "#2a3f5f"
            },
            "baxis": {
             "endlinecolor": "#2a3f5f",
             "gridcolor": "white",
             "linecolor": "white",
             "minorgridcolor": "white",
             "startlinecolor": "#2a3f5f"
            },
            "type": "carpet"
           }
          ],
          "choropleth": [
           {
            "colorbar": {
             "outlinewidth": 0,
             "ticks": ""
            },
            "type": "choropleth"
           }
          ],
          "contour": [
           {
            "colorbar": {
             "outlinewidth": 0,
             "ticks": ""
            },
            "colorscale": [
             [
              0,
              "#0d0887"
             ],
             [
              0.1111111111111111,
              "#46039f"
             ],
             [
              0.2222222222222222,
              "#7201a8"
             ],
             [
              0.3333333333333333,
              "#9c179e"
             ],
             [
              0.4444444444444444,
              "#bd3786"
             ],
             [
              0.5555555555555556,
              "#d8576b"
             ],
             [
              0.6666666666666666,
              "#ed7953"
             ],
             [
              0.7777777777777778,
              "#fb9f3a"
             ],
             [
              0.8888888888888888,
              "#fdca26"
             ],
             [
              1,
              "#f0f921"
             ]
            ],
            "type": "contour"
           }
          ],
          "contourcarpet": [
           {
            "colorbar": {
             "outlinewidth": 0,
             "ticks": ""
            },
            "type": "contourcarpet"
           }
          ],
          "heatmap": [
           {
            "colorbar": {
             "outlinewidth": 0,
             "ticks": ""
            },
            "colorscale": [
             [
              0,
              "#0d0887"
             ],
             [
              0.1111111111111111,
              "#46039f"
             ],
             [
              0.2222222222222222,
              "#7201a8"
             ],
             [
              0.3333333333333333,
              "#9c179e"
             ],
             [
              0.4444444444444444,
              "#bd3786"
             ],
             [
              0.5555555555555556,
              "#d8576b"
             ],
             [
              0.6666666666666666,
              "#ed7953"
             ],
             [
              0.7777777777777778,
              "#fb9f3a"
             ],
             [
              0.8888888888888888,
              "#fdca26"
             ],
             [
              1,
              "#f0f921"
             ]
            ],
            "type": "heatmap"
           }
          ],
          "heatmapgl": [
           {
            "colorbar": {
             "outlinewidth": 0,
             "ticks": ""
            },
            "colorscale": [
             [
              0,
              "#0d0887"
             ],
             [
              0.1111111111111111,
              "#46039f"
             ],
             [
              0.2222222222222222,
              "#7201a8"
             ],
             [
              0.3333333333333333,
              "#9c179e"
             ],
             [
              0.4444444444444444,
              "#bd3786"
             ],
             [
              0.5555555555555556,
              "#d8576b"
             ],
             [
              0.6666666666666666,
              "#ed7953"
             ],
             [
              0.7777777777777778,
              "#fb9f3a"
             ],
             [
              0.8888888888888888,
              "#fdca26"
             ],
             [
              1,
              "#f0f921"
             ]
            ],
            "type": "heatmapgl"
           }
          ],
          "histogram": [
           {
            "marker": {
             "pattern": {
              "fillmode": "overlay",
              "size": 10,
              "solidity": 0.2
             }
            },
            "type": "histogram"
           }
          ],
          "histogram2d": [
           {
            "colorbar": {
             "outlinewidth": 0,
             "ticks": ""
            },
            "colorscale": [
             [
              0,
              "#0d0887"
             ],
             [
              0.1111111111111111,
              "#46039f"
             ],
             [
              0.2222222222222222,
              "#7201a8"
             ],
             [
              0.3333333333333333,
              "#9c179e"
             ],
             [
              0.4444444444444444,
              "#bd3786"
             ],
             [
              0.5555555555555556,
              "#d8576b"
             ],
             [
              0.6666666666666666,
              "#ed7953"
             ],
             [
              0.7777777777777778,
              "#fb9f3a"
             ],
             [
              0.8888888888888888,
              "#fdca26"
             ],
             [
              1,
              "#f0f921"
             ]
            ],
            "type": "histogram2d"
           }
          ],
          "histogram2dcontour": [
           {
            "colorbar": {
             "outlinewidth": 0,
             "ticks": ""
            },
            "colorscale": [
             [
              0,
              "#0d0887"
             ],
             [
              0.1111111111111111,
              "#46039f"
             ],
             [
              0.2222222222222222,
              "#7201a8"
             ],
             [
              0.3333333333333333,
              "#9c179e"
             ],
             [
              0.4444444444444444,
              "#bd3786"
             ],
             [
              0.5555555555555556,
              "#d8576b"
             ],
             [
              0.6666666666666666,
              "#ed7953"
             ],
             [
              0.7777777777777778,
              "#fb9f3a"
             ],
             [
              0.8888888888888888,
              "#fdca26"
             ],
             [
              1,
              "#f0f921"
             ]
            ],
            "type": "histogram2dcontour"
           }
          ],
          "mesh3d": [
           {
            "colorbar": {
             "outlinewidth": 0,
             "ticks": ""
            },
            "type": "mesh3d"
           }
          ],
          "parcoords": [
           {
            "line": {
             "colorbar": {
              "outlinewidth": 0,
              "ticks": ""
             }
            },
            "type": "parcoords"
           }
          ],
          "pie": [
           {
            "automargin": true,
            "type": "pie"
           }
          ],
          "scatter": [
           {
            "marker": {
             "colorbar": {
              "outlinewidth": 0,
              "ticks": ""
             }
            },
            "type": "scatter"
           }
          ],
          "scatter3d": [
           {
            "line": {
             "colorbar": {
              "outlinewidth": 0,
              "ticks": ""
             }
            },
            "marker": {
             "colorbar": {
              "outlinewidth": 0,
              "ticks": ""
             }
            },
            "type": "scatter3d"
           }
          ],
          "scattercarpet": [
           {
            "marker": {
             "colorbar": {
              "outlinewidth": 0,
              "ticks": ""
             }
            },
            "type": "scattercarpet"
           }
          ],
          "scattergeo": [
           {
            "marker": {
             "colorbar": {
              "outlinewidth": 0,
              "ticks": ""
             }
            },
            "type": "scattergeo"
           }
          ],
          "scattergl": [
           {
            "marker": {
             "colorbar": {
              "outlinewidth": 0,
              "ticks": ""
             }
            },
            "type": "scattergl"
           }
          ],
          "scattermapbox": [
           {
            "marker": {
             "colorbar": {
              "outlinewidth": 0,
              "ticks": ""
             }
            },
            "type": "scattermapbox"
           }
          ],
          "scatterpolar": [
           {
            "marker": {
             "colorbar": {
              "outlinewidth": 0,
              "ticks": ""
             }
            },
            "type": "scatterpolar"
           }
          ],
          "scatterpolargl": [
           {
            "marker": {
             "colorbar": {
              "outlinewidth": 0,
              "ticks": ""
             }
            },
            "type": "scatterpolargl"
           }
          ],
          "scatterternary": [
           {
            "marker": {
             "colorbar": {
              "outlinewidth": 0,
              "ticks": ""
             }
            },
            "type": "scatterternary"
           }
          ],
          "surface": [
           {
            "colorbar": {
             "outlinewidth": 0,
             "ticks": ""
            },
            "colorscale": [
             [
              0,
              "#0d0887"
             ],
             [
              0.1111111111111111,
              "#46039f"
             ],
             [
              0.2222222222222222,
              "#7201a8"
             ],
             [
              0.3333333333333333,
              "#9c179e"
             ],
             [
              0.4444444444444444,
              "#bd3786"
             ],
             [
              0.5555555555555556,
              "#d8576b"
             ],
             [
              0.6666666666666666,
              "#ed7953"
             ],
             [
              0.7777777777777778,
              "#fb9f3a"
             ],
             [
              0.8888888888888888,
              "#fdca26"
             ],
             [
              1,
              "#f0f921"
             ]
            ],
            "type": "surface"
           }
          ],
          "table": [
           {
            "cells": {
             "fill": {
              "color": "#EBF0F8"
             },
             "line": {
              "color": "white"
             }
            },
            "header": {
             "fill": {
              "color": "#C8D4E3"
             },
             "line": {
              "color": "white"
             }
            },
            "type": "table"
           }
          ]
         },
         "layout": {
          "annotationdefaults": {
           "arrowcolor": "#2a3f5f",
           "arrowhead": 0,
           "arrowwidth": 1
          },
          "autotypenumbers": "strict",
          "coloraxis": {
           "colorbar": {
            "outlinewidth": 0,
            "ticks": ""
           }
          },
          "colorscale": {
           "diverging": [
            [
             0,
             "#8e0152"
            ],
            [
             0.1,
             "#c51b7d"
            ],
            [
             0.2,
             "#de77ae"
            ],
            [
             0.3,
             "#f1b6da"
            ],
            [
             0.4,
             "#fde0ef"
            ],
            [
             0.5,
             "#f7f7f7"
            ],
            [
             0.6,
             "#e6f5d0"
            ],
            [
             0.7,
             "#b8e186"
            ],
            [
             0.8,
             "#7fbc41"
            ],
            [
             0.9,
             "#4d9221"
            ],
            [
             1,
             "#276419"
            ]
           ],
           "sequential": [
            [
             0,
             "#0d0887"
            ],
            [
             0.1111111111111111,
             "#46039f"
            ],
            [
             0.2222222222222222,
             "#7201a8"
            ],
            [
             0.3333333333333333,
             "#9c179e"
            ],
            [
             0.4444444444444444,
             "#bd3786"
            ],
            [
             0.5555555555555556,
             "#d8576b"
            ],
            [
             0.6666666666666666,
             "#ed7953"
            ],
            [
             0.7777777777777778,
             "#fb9f3a"
            ],
            [
             0.8888888888888888,
             "#fdca26"
            ],
            [
             1,
             "#f0f921"
            ]
           ],
           "sequentialminus": [
            [
             0,
             "#0d0887"
            ],
            [
             0.1111111111111111,
             "#46039f"
            ],
            [
             0.2222222222222222,
             "#7201a8"
            ],
            [
             0.3333333333333333,
             "#9c179e"
            ],
            [
             0.4444444444444444,
             "#bd3786"
            ],
            [
             0.5555555555555556,
             "#d8576b"
            ],
            [
             0.6666666666666666,
             "#ed7953"
            ],
            [
             0.7777777777777778,
             "#fb9f3a"
            ],
            [
             0.8888888888888888,
             "#fdca26"
            ],
            [
             1,
             "#f0f921"
            ]
           ]
          },
          "colorway": [
           "#636efa",
           "#EF553B",
           "#00cc96",
           "#ab63fa",
           "#FFA15A",
           "#19d3f3",
           "#FF6692",
           "#B6E880",
           "#FF97FF",
           "#FECB52"
          ],
          "font": {
           "color": "#2a3f5f"
          },
          "geo": {
           "bgcolor": "white",
           "lakecolor": "white",
           "landcolor": "#E5ECF6",
           "showlakes": true,
           "showland": true,
           "subunitcolor": "white"
          },
          "hoverlabel": {
           "align": "left"
          },
          "hovermode": "closest",
          "mapbox": {
           "style": "light"
          },
          "paper_bgcolor": "white",
          "plot_bgcolor": "#E5ECF6",
          "polar": {
           "angularaxis": {
            "gridcolor": "white",
            "linecolor": "white",
            "ticks": ""
           },
           "bgcolor": "#E5ECF6",
           "radialaxis": {
            "gridcolor": "white",
            "linecolor": "white",
            "ticks": ""
           }
          },
          "scene": {
           "xaxis": {
            "backgroundcolor": "#E5ECF6",
            "gridcolor": "white",
            "gridwidth": 2,
            "linecolor": "white",
            "showbackground": true,
            "ticks": "",
            "zerolinecolor": "white"
           },
           "yaxis": {
            "backgroundcolor": "#E5ECF6",
            "gridcolor": "white",
            "gridwidth": 2,
            "linecolor": "white",
            "showbackground": true,
            "ticks": "",
            "zerolinecolor": "white"
           },
           "zaxis": {
            "backgroundcolor": "#E5ECF6",
            "gridcolor": "white",
            "gridwidth": 2,
            "linecolor": "white",
            "showbackground": true,
            "ticks": "",
            "zerolinecolor": "white"
           }
          },
          "shapedefaults": {
           "line": {
            "color": "#2a3f5f"
           }
          },
          "ternary": {
           "aaxis": {
            "gridcolor": "white",
            "linecolor": "white",
            "ticks": ""
           },
           "baxis": {
            "gridcolor": "white",
            "linecolor": "white",
            "ticks": ""
           },
           "bgcolor": "#E5ECF6",
           "caxis": {
            "gridcolor": "white",
            "linecolor": "white",
            "ticks": ""
           }
          },
          "title": {
           "x": 0.05
          },
          "xaxis": {
           "automargin": true,
           "gridcolor": "white",
           "linecolor": "white",
           "ticks": "",
           "title": {
            "standoff": 15
           },
           "zerolinecolor": "white",
           "zerolinewidth": 2
          },
          "yaxis": {
           "automargin": true,
           "gridcolor": "white",
           "linecolor": "white",
           "ticks": "",
           "title": {
            "standoff": 15
           },
           "zerolinecolor": "white",
           "zerolinewidth": 2
          }
         }
        }
       }
      },
      "text/html": [
       "<div>                            <div id=\"5f4ad035-9d13-484f-99de-dbc6ef6065dd\" class=\"plotly-graph-div\" style=\"height:525px; width:100%;\"></div>            <script type=\"text/javascript\">                require([\"plotly\"], function(Plotly) {                    window.PLOTLYENV=window.PLOTLYENV || {};                                    if (document.getElementById(\"5f4ad035-9d13-484f-99de-dbc6ef6065dd\")) {                    Plotly.newPlot(                        \"5f4ad035-9d13-484f-99de-dbc6ef6065dd\",                        [{\"name\":\"Q3_2019\",\"x\":[\"account_access\",\"add_account\",\"add_action\",\"add_contact\",\"add_draft\",\"add_group\",\"add_html_template\",\"add_role\",\"add_status\",\"add_workflow\",\"adm_open_settings\",\"edit_account\",\"edit_account_uname\",\"edit_action\",\"edit_contact\",\"edit_docx_template\",\"edit_draft\",\"edit_group\",\"edit_html_template\",\"edit_profile\",\"edit_role\",\"edit_snippet\",\"edit_status\",\"edit_workflow\",\"edit_workflow_group\",\"resend_token\",\"unblock_password_reset\",\"unsuspend_account\",\"unsuspend_role\"],\"y\":[1,9,109,311,227,0,1,7,43,0,0,32,30,619,51,10,144,45,73,80,731,14,13,19,0,0,0,0,1],\"type\":\"scatter\"},{\"name\":\"Q4_2019\",\"x\":[\"account_access\",\"add_account\",\"add_action\",\"add_contact\",\"add_draft\",\"add_group\",\"add_html_template\",\"add_role\",\"add_status\",\"add_workflow\",\"adm_open_settings\",\"edit_account\",\"edit_account_uname\",\"edit_action\",\"edit_contact\",\"edit_docx_template\",\"edit_draft\",\"edit_group\",\"edit_html_template\",\"edit_profile\",\"edit_role\",\"edit_snippet\",\"edit_status\",\"edit_workflow\",\"edit_workflow_group\",\"resend_token\",\"unblock_password_reset\",\"unsuspend_account\",\"unsuspend_role\"],\"y\":[0,20,34,101,184,0,1,17,10,1,0,36,20,378,57,0,86,42,6,957,109,130,0,8,0,0,0,0,0],\"type\":\"scatter\"},{\"name\":\"Q1_2020\",\"x\":[\"account_access\",\"add_account\",\"add_action\",\"add_contact\",\"add_draft\",\"add_group\",\"add_html_template\",\"add_role\",\"add_status\",\"add_workflow\",\"adm_open_settings\",\"edit_account\",\"edit_account_uname\",\"edit_action\",\"edit_contact\",\"edit_docx_template\",\"edit_draft\",\"edit_group\",\"edit_html_template\",\"edit_profile\",\"edit_role\",\"edit_snippet\",\"edit_status\",\"edit_workflow\",\"edit_workflow_group\",\"resend_token\",\"unblock_password_reset\",\"unsuspend_account\",\"unsuspend_role\"],\"y\":[0,18,93,16,190,1,2,13,14,0,0,34,19,212,25,0,102,18,2,246,63,0,0,0,0,0,0,0,0],\"type\":\"scatter\"},{\"name\":\"Q2_2020\",\"x\":[\"account_access\",\"add_account\",\"add_action\",\"add_contact\",\"add_draft\",\"add_group\",\"add_html_template\",\"add_role\",\"add_status\",\"add_workflow\",\"adm_open_settings\",\"edit_account\",\"edit_account_uname\",\"edit_action\",\"edit_contact\",\"edit_docx_template\",\"edit_draft\",\"edit_group\",\"edit_html_template\",\"edit_profile\",\"edit_role\",\"edit_snippet\",\"edit_status\",\"edit_workflow\",\"edit_workflow_group\",\"resend_token\",\"unblock_password_reset\",\"unsuspend_account\",\"unsuspend_role\"],\"y\":[0,42,18,8,96,1,0,41,4,0,0,50,58,215,13,0,47,45,9,129,343,16,0,6,6,0,0,0,0],\"type\":\"scatter\"},{\"name\":\"Q3_2020\",\"x\":[\"account_access\",\"add_account\",\"add_action\",\"add_contact\",\"add_draft\",\"add_group\",\"add_html_template\",\"add_role\",\"add_status\",\"add_workflow\",\"adm_open_settings\",\"edit_account\",\"edit_account_uname\",\"edit_action\",\"edit_contact\",\"edit_docx_template\",\"edit_draft\",\"edit_group\",\"edit_html_template\",\"edit_profile\",\"edit_role\",\"edit_snippet\",\"edit_status\",\"edit_workflow\",\"edit_workflow_group\",\"resend_token\",\"unblock_password_reset\",\"unsuspend_account\",\"unsuspend_role\"],\"y\":[7,30,20,21,91,0,0,20,8,0,150,124,32,215,30,0,41,54,0,517,236,0,2,0,0,13,4,0,5],\"type\":\"scatter\"},{\"name\":\"Q4_2020\",\"x\":[\"account_access\",\"add_account\",\"add_action\",\"add_contact\",\"add_draft\",\"add_group\",\"add_html_template\",\"add_role\",\"add_status\",\"add_workflow\",\"adm_open_settings\",\"edit_account\",\"edit_account_uname\",\"edit_action\",\"edit_contact\",\"edit_docx_template\",\"edit_draft\",\"edit_group\",\"edit_html_template\",\"edit_profile\",\"edit_role\",\"edit_snippet\",\"edit_status\",\"edit_workflow\",\"edit_workflow_group\",\"resend_token\",\"unblock_password_reset\",\"unsuspend_account\",\"unsuspend_role\"],\"y\":[4,31,7,25,53,1,6,25,1,0,127,75,11,101,40,0,15,27,5,147,90,1,8,6,0,7,13,33,0],\"type\":\"scatter\"},{\"name\":\"Q1_2021\",\"x\":[\"account_access\",\"add_account\",\"add_action\",\"add_contact\",\"add_draft\",\"add_group\",\"add_html_template\",\"add_role\",\"add_status\",\"add_workflow\",\"adm_open_settings\",\"edit_account\",\"edit_account_uname\",\"edit_action\",\"edit_contact\",\"edit_docx_template\",\"edit_draft\",\"edit_group\",\"edit_html_template\",\"edit_profile\",\"edit_role\",\"edit_snippet\",\"edit_status\",\"edit_workflow\",\"edit_workflow_group\",\"resend_token\",\"unblock_password_reset\",\"unsuspend_account\",\"unsuspend_role\"],\"y\":[85,24,13,16,67,0,0,23,5,0,62,35,18,50,36,0,36,12,0,76,95,3,0,4,0,0,4,29,0],\"type\":\"scatter\"},{\"name\":\"Q2_2021\",\"x\":[\"account_access\",\"add_account\",\"add_action\",\"add_contact\",\"add_draft\",\"add_group\",\"add_html_template\",\"add_role\",\"add_status\",\"add_workflow\",\"adm_open_settings\",\"edit_account\",\"edit_account_uname\",\"edit_action\",\"edit_contact\",\"edit_docx_template\",\"edit_draft\",\"edit_group\",\"edit_html_template\",\"edit_profile\",\"edit_role\",\"edit_snippet\",\"edit_status\",\"edit_workflow\",\"edit_workflow_group\",\"resend_token\",\"unblock_password_reset\",\"unsuspend_account\",\"unsuspend_role\"],\"y\":[13,6,13,9,34,0,0,3,0,0,356,53,37,75,4,0,6,15,0,98,302,17,0,1,0,2,1,18,0],\"type\":\"scatter\"}],                        {\"template\":{\"data\":{\"bar\":[{\"error_x\":{\"color\":\"#2a3f5f\"},\"error_y\":{\"color\":\"#2a3f5f\"},\"marker\":{\"line\":{\"color\":\"#E5ECF6\",\"width\":0.5},\"pattern\":{\"fillmode\":\"overlay\",\"size\":10,\"solidity\":0.2}},\"type\":\"bar\"}],\"barpolar\":[{\"marker\":{\"line\":{\"color\":\"#E5ECF6\",\"width\":0.5},\"pattern\":{\"fillmode\":\"overlay\",\"size\":10,\"solidity\":0.2}},\"type\":\"barpolar\"}],\"carpet\":[{\"aaxis\":{\"endlinecolor\":\"#2a3f5f\",\"gridcolor\":\"white\",\"linecolor\":\"white\",\"minorgridcolor\":\"white\",\"startlinecolor\":\"#2a3f5f\"},\"baxis\":{\"endlinecolor\":\"#2a3f5f\",\"gridcolor\":\"white\",\"linecolor\":\"white\",\"minorgridcolor\":\"white\",\"startlinecolor\":\"#2a3f5f\"},\"type\":\"carpet\"}],\"choropleth\":[{\"colorbar\":{\"outlinewidth\":0,\"ticks\":\"\"},\"type\":\"choropleth\"}],\"contour\":[{\"colorbar\":{\"outlinewidth\":0,\"ticks\":\"\"},\"colorscale\":[[0.0,\"#0d0887\"],[0.1111111111111111,\"#46039f\"],[0.2222222222222222,\"#7201a8\"],[0.3333333333333333,\"#9c179e\"],[0.4444444444444444,\"#bd3786\"],[0.5555555555555556,\"#d8576b\"],[0.6666666666666666,\"#ed7953\"],[0.7777777777777778,\"#fb9f3a\"],[0.8888888888888888,\"#fdca26\"],[1.0,\"#f0f921\"]],\"type\":\"contour\"}],\"contourcarpet\":[{\"colorbar\":{\"outlinewidth\":0,\"ticks\":\"\"},\"type\":\"contourcarpet\"}],\"heatmap\":[{\"colorbar\":{\"outlinewidth\":0,\"ticks\":\"\"},\"colorscale\":[[0.0,\"#0d0887\"],[0.1111111111111111,\"#46039f\"],[0.2222222222222222,\"#7201a8\"],[0.3333333333333333,\"#9c179e\"],[0.4444444444444444,\"#bd3786\"],[0.5555555555555556,\"#d8576b\"],[0.6666666666666666,\"#ed7953\"],[0.7777777777777778,\"#fb9f3a\"],[0.8888888888888888,\"#fdca26\"],[1.0,\"#f0f921\"]],\"type\":\"heatmap\"}],\"heatmapgl\":[{\"colorbar\":{\"outlinewidth\":0,\"ticks\":\"\"},\"colorscale\":[[0.0,\"#0d0887\"],[0.1111111111111111,\"#46039f\"],[0.2222222222222222,\"#7201a8\"],[0.3333333333333333,\"#9c179e\"],[0.4444444444444444,\"#bd3786\"],[0.5555555555555556,\"#d8576b\"],[0.6666666666666666,\"#ed7953\"],[0.7777777777777778,\"#fb9f3a\"],[0.8888888888888888,\"#fdca26\"],[1.0,\"#f0f921\"]],\"type\":\"heatmapgl\"}],\"histogram\":[{\"marker\":{\"pattern\":{\"fillmode\":\"overlay\",\"size\":10,\"solidity\":0.2}},\"type\":\"histogram\"}],\"histogram2d\":[{\"colorbar\":{\"outlinewidth\":0,\"ticks\":\"\"},\"colorscale\":[[0.0,\"#0d0887\"],[0.1111111111111111,\"#46039f\"],[0.2222222222222222,\"#7201a8\"],[0.3333333333333333,\"#9c179e\"],[0.4444444444444444,\"#bd3786\"],[0.5555555555555556,\"#d8576b\"],[0.6666666666666666,\"#ed7953\"],[0.7777777777777778,\"#fb9f3a\"],[0.8888888888888888,\"#fdca26\"],[1.0,\"#f0f921\"]],\"type\":\"histogram2d\"}],\"histogram2dcontour\":[{\"colorbar\":{\"outlinewidth\":0,\"ticks\":\"\"},\"colorscale\":[[0.0,\"#0d0887\"],[0.1111111111111111,\"#46039f\"],[0.2222222222222222,\"#7201a8\"],[0.3333333333333333,\"#9c179e\"],[0.4444444444444444,\"#bd3786\"],[0.5555555555555556,\"#d8576b\"],[0.6666666666666666,\"#ed7953\"],[0.7777777777777778,\"#fb9f3a\"],[0.8888888888888888,\"#fdca26\"],[1.0,\"#f0f921\"]],\"type\":\"histogram2dcontour\"}],\"mesh3d\":[{\"colorbar\":{\"outlinewidth\":0,\"ticks\":\"\"},\"type\":\"mesh3d\"}],\"parcoords\":[{\"line\":{\"colorbar\":{\"outlinewidth\":0,\"ticks\":\"\"}},\"type\":\"parcoords\"}],\"pie\":[{\"automargin\":true,\"type\":\"pie\"}],\"scatter\":[{\"marker\":{\"colorbar\":{\"outlinewidth\":0,\"ticks\":\"\"}},\"type\":\"scatter\"}],\"scatter3d\":[{\"line\":{\"colorbar\":{\"outlinewidth\":0,\"ticks\":\"\"}},\"marker\":{\"colorbar\":{\"outlinewidth\":0,\"ticks\":\"\"}},\"type\":\"scatter3d\"}],\"scattercarpet\":[{\"marker\":{\"colorbar\":{\"outlinewidth\":0,\"ticks\":\"\"}},\"type\":\"scattercarpet\"}],\"scattergeo\":[{\"marker\":{\"colorbar\":{\"outlinewidth\":0,\"ticks\":\"\"}},\"type\":\"scattergeo\"}],\"scattergl\":[{\"marker\":{\"colorbar\":{\"outlinewidth\":0,\"ticks\":\"\"}},\"type\":\"scattergl\"}],\"scattermapbox\":[{\"marker\":{\"colorbar\":{\"outlinewidth\":0,\"ticks\":\"\"}},\"type\":\"scattermapbox\"}],\"scatterpolar\":[{\"marker\":{\"colorbar\":{\"outlinewidth\":0,\"ticks\":\"\"}},\"type\":\"scatterpolar\"}],\"scatterpolargl\":[{\"marker\":{\"colorbar\":{\"outlinewidth\":0,\"ticks\":\"\"}},\"type\":\"scatterpolargl\"}],\"scatterternary\":[{\"marker\":{\"colorbar\":{\"outlinewidth\":0,\"ticks\":\"\"}},\"type\":\"scatterternary\"}],\"surface\":[{\"colorbar\":{\"outlinewidth\":0,\"ticks\":\"\"},\"colorscale\":[[0.0,\"#0d0887\"],[0.1111111111111111,\"#46039f\"],[0.2222222222222222,\"#7201a8\"],[0.3333333333333333,\"#9c179e\"],[0.4444444444444444,\"#bd3786\"],[0.5555555555555556,\"#d8576b\"],[0.6666666666666666,\"#ed7953\"],[0.7777777777777778,\"#fb9f3a\"],[0.8888888888888888,\"#fdca26\"],[1.0,\"#f0f921\"]],\"type\":\"surface\"}],\"table\":[{\"cells\":{\"fill\":{\"color\":\"#EBF0F8\"},\"line\":{\"color\":\"white\"}},\"header\":{\"fill\":{\"color\":\"#C8D4E3\"},\"line\":{\"color\":\"white\"}},\"type\":\"table\"}]},\"layout\":{\"annotationdefaults\":{\"arrowcolor\":\"#2a3f5f\",\"arrowhead\":0,\"arrowwidth\":1},\"autotypenumbers\":\"strict\",\"coloraxis\":{\"colorbar\":{\"outlinewidth\":0,\"ticks\":\"\"}},\"colorscale\":{\"diverging\":[[0,\"#8e0152\"],[0.1,\"#c51b7d\"],[0.2,\"#de77ae\"],[0.3,\"#f1b6da\"],[0.4,\"#fde0ef\"],[0.5,\"#f7f7f7\"],[0.6,\"#e6f5d0\"],[0.7,\"#b8e186\"],[0.8,\"#7fbc41\"],[0.9,\"#4d9221\"],[1,\"#276419\"]],\"sequential\":[[0.0,\"#0d0887\"],[0.1111111111111111,\"#46039f\"],[0.2222222222222222,\"#7201a8\"],[0.3333333333333333,\"#9c179e\"],[0.4444444444444444,\"#bd3786\"],[0.5555555555555556,\"#d8576b\"],[0.6666666666666666,\"#ed7953\"],[0.7777777777777778,\"#fb9f3a\"],[0.8888888888888888,\"#fdca26\"],[1.0,\"#f0f921\"]],\"sequentialminus\":[[0.0,\"#0d0887\"],[0.1111111111111111,\"#46039f\"],[0.2222222222222222,\"#7201a8\"],[0.3333333333333333,\"#9c179e\"],[0.4444444444444444,\"#bd3786\"],[0.5555555555555556,\"#d8576b\"],[0.6666666666666666,\"#ed7953\"],[0.7777777777777778,\"#fb9f3a\"],[0.8888888888888888,\"#fdca26\"],[1.0,\"#f0f921\"]]},\"colorway\":[\"#636efa\",\"#EF553B\",\"#00cc96\",\"#ab63fa\",\"#FFA15A\",\"#19d3f3\",\"#FF6692\",\"#B6E880\",\"#FF97FF\",\"#FECB52\"],\"font\":{\"color\":\"#2a3f5f\"},\"geo\":{\"bgcolor\":\"white\",\"lakecolor\":\"white\",\"landcolor\":\"#E5ECF6\",\"showlakes\":true,\"showland\":true,\"subunitcolor\":\"white\"},\"hoverlabel\":{\"align\":\"left\"},\"hovermode\":\"closest\",\"mapbox\":{\"style\":\"light\"},\"paper_bgcolor\":\"white\",\"plot_bgcolor\":\"#E5ECF6\",\"polar\":{\"angularaxis\":{\"gridcolor\":\"white\",\"linecolor\":\"white\",\"ticks\":\"\"},\"bgcolor\":\"#E5ECF6\",\"radialaxis\":{\"gridcolor\":\"white\",\"linecolor\":\"white\",\"ticks\":\"\"}},\"scene\":{\"xaxis\":{\"backgroundcolor\":\"#E5ECF6\",\"gridcolor\":\"white\",\"gridwidth\":2,\"linecolor\":\"white\",\"showbackground\":true,\"ticks\":\"\",\"zerolinecolor\":\"white\"},\"yaxis\":{\"backgroundcolor\":\"#E5ECF6\",\"gridcolor\":\"white\",\"gridwidth\":2,\"linecolor\":\"white\",\"showbackground\":true,\"ticks\":\"\",\"zerolinecolor\":\"white\"},\"zaxis\":{\"backgroundcolor\":\"#E5ECF6\",\"gridcolor\":\"white\",\"gridwidth\":2,\"linecolor\":\"white\",\"showbackground\":true,\"ticks\":\"\",\"zerolinecolor\":\"white\"}},\"shapedefaults\":{\"line\":{\"color\":\"#2a3f5f\"}},\"ternary\":{\"aaxis\":{\"gridcolor\":\"white\",\"linecolor\":\"white\",\"ticks\":\"\"},\"baxis\":{\"gridcolor\":\"white\",\"linecolor\":\"white\",\"ticks\":\"\"},\"bgcolor\":\"#E5ECF6\",\"caxis\":{\"gridcolor\":\"white\",\"linecolor\":\"white\",\"ticks\":\"\"}},\"title\":{\"x\":0.05},\"xaxis\":{\"automargin\":true,\"gridcolor\":\"white\",\"linecolor\":\"white\",\"ticks\":\"\",\"title\":{\"standoff\":15},\"zerolinecolor\":\"white\",\"zerolinewidth\":2},\"yaxis\":{\"automargin\":true,\"gridcolor\":\"white\",\"linecolor\":\"white\",\"ticks\":\"\",\"title\":{\"standoff\":15},\"zerolinecolor\":\"white\",\"zerolinewidth\":2}}}},                        {\"responsive\": true}                    ).then(function(){\n",
       "                            \n",
       "var gd = document.getElementById('5f4ad035-9d13-484f-99de-dbc6ef6065dd');\n",
       "var x = new MutationObserver(function (mutations, observer) {{\n",
       "        var display = window.getComputedStyle(gd).display;\n",
       "        if (!display || display === 'none') {{\n",
       "            console.log([gd, 'removed!']);\n",
       "            Plotly.purge(gd);\n",
       "            observer.disconnect();\n",
       "        }}\n",
       "}});\n",
       "\n",
       "// Listen for the removal of the full notebook cells\n",
       "var notebookContainer = gd.closest('#notebook-container');\n",
       "if (notebookContainer) {{\n",
       "    x.observe(notebookContainer, {childList: true});\n",
       "}}\n",
       "\n",
       "// Listen for the clearing of the current output cell\n",
       "var outputEl = gd.closest('.output');\n",
       "if (outputEl) {{\n",
       "    x.observe(outputEl, {childList: true});\n",
       "}}\n",
       "\n",
       "                        })                };                });            </script>        </div>"
      ]
     },
     "metadata": {},
     "output_type": "display_data"
    }
   ],
   "source": [
    "fig = go.Figure(go.Line(x=yellow_light, y=np.array(Q3_2019[yellow_light].sum()).astype(int), name='Q3_2019'))\n",
    "fig.add_trace(go.Line(x=yellow_light, y=np.array(Q4_2019[yellow_light].sum()).astype(int), name='Q4_2019'))\n",
    "fig.add_trace(go.Line(x=yellow_light, y=np.array(Q1_2020[yellow_light].sum()).astype(int), name='Q1_2020'))\n",
    "fig.add_trace(go.Line(x=yellow_light, y=np.array(Q2_2020[yellow_light].sum()).astype(int), name='Q2_2020'))\n",
    "fig.add_trace(go.Line(x=yellow_light, y=np.array(Q3_2020[yellow_light].sum()).astype(int), name='Q3_2020'))\n",
    "fig.add_trace(go.Line(x=yellow_light, y=np.array(Q4_2020[yellow_light].sum()).astype(int), name='Q4_2020'))\n",
    "fig.add_trace(go.Line(x=yellow_light, y=np.array(Q1_2021[yellow_light].sum()).astype(int), name='Q1_2021'))\n",
    "fig.add_trace(go.Line(x=yellow_light, y=np.array(Q2_2021[yellow_light].sum()).astype(int), name='Q2_2021'))\n",
    "fig.show()"
   ]
  },
  {
   "cell_type": "code",
   "execution_count": 41,
   "id": "a59ab7fe",
   "metadata": {},
   "outputs": [
    {
     "data": {
      "application/vnd.plotly.v1+json": {
       "config": {
        "plotlyServerURL": "https://plot.ly"
       },
       "data": [
        {
         "name": "Q3_2019",
         "type": "scatter",
         "x": [
          "account_access",
          "add_account",
          "add_action",
          "add_contact",
          "add_draft",
          "add_group",
          "add_html_template",
          "add_role",
          "add_status",
          "add_workflow",
          "adm_open_settings",
          "edit_account",
          "edit_account_uname",
          "edit_action",
          "edit_contact",
          "edit_docx_template",
          "edit_draft",
          "edit_group",
          "edit_html_template",
          "edit_profile",
          "edit_role",
          "edit_snippet",
          "edit_status",
          "edit_workflow",
          "edit_workflow_group",
          "resend_token",
          "unblock_password_reset",
          "unsuspend_account",
          "unsuspend_role"
         ],
         "y": [
          1,
          9,
          109,
          311,
          227,
          0,
          1,
          7,
          43,
          0,
          0,
          32,
          30,
          619,
          51,
          10,
          144,
          45,
          73,
          80,
          731,
          14,
          13,
          19,
          0,
          0,
          0,
          0,
          1
         ]
        },
        {
         "name": "Q4_2019",
         "type": "scatter",
         "x": [
          "account_access",
          "add_account",
          "add_action",
          "add_contact",
          "add_draft",
          "add_group",
          "add_html_template",
          "add_role",
          "add_status",
          "add_workflow",
          "adm_open_settings",
          "edit_account",
          "edit_account_uname",
          "edit_action",
          "edit_contact",
          "edit_docx_template",
          "edit_draft",
          "edit_group",
          "edit_html_template",
          "edit_profile",
          "edit_role",
          "edit_snippet",
          "edit_status",
          "edit_workflow",
          "edit_workflow_group",
          "resend_token",
          "unblock_password_reset",
          "unsuspend_account",
          "unsuspend_role"
         ],
         "y": [
          0,
          20,
          34,
          101,
          184,
          0,
          1,
          17,
          10,
          1,
          0,
          36,
          20,
          378,
          57,
          0,
          86,
          42,
          6,
          957,
          109,
          130,
          0,
          8,
          0,
          0,
          0,
          0,
          0
         ]
        },
        {
         "name": "Q1_2020",
         "type": "scatter",
         "x": [
          "account_access",
          "add_account",
          "add_action",
          "add_contact",
          "add_draft",
          "add_group",
          "add_html_template",
          "add_role",
          "add_status",
          "add_workflow",
          "adm_open_settings",
          "edit_account",
          "edit_account_uname",
          "edit_action",
          "edit_contact",
          "edit_docx_template",
          "edit_draft",
          "edit_group",
          "edit_html_template",
          "edit_profile",
          "edit_role",
          "edit_snippet",
          "edit_status",
          "edit_workflow",
          "edit_workflow_group",
          "resend_token",
          "unblock_password_reset",
          "unsuspend_account",
          "unsuspend_role"
         ],
         "y": [
          0,
          18,
          93,
          16,
          190,
          1,
          2,
          13,
          14,
          0,
          0,
          34,
          19,
          212,
          25,
          0,
          102,
          18,
          2,
          246,
          63,
          0,
          0,
          0,
          0,
          0,
          0,
          0,
          0
         ]
        },
        {
         "name": "Q2_2020",
         "type": "scatter",
         "x": [
          "account_access",
          "add_account",
          "add_action",
          "add_contact",
          "add_draft",
          "add_group",
          "add_html_template",
          "add_role",
          "add_status",
          "add_workflow",
          "adm_open_settings",
          "edit_account",
          "edit_account_uname",
          "edit_action",
          "edit_contact",
          "edit_docx_template",
          "edit_draft",
          "edit_group",
          "edit_html_template",
          "edit_profile",
          "edit_role",
          "edit_snippet",
          "edit_status",
          "edit_workflow",
          "edit_workflow_group",
          "resend_token",
          "unblock_password_reset",
          "unsuspend_account",
          "unsuspend_role"
         ],
         "y": [
          0,
          42,
          18,
          8,
          96,
          1,
          0,
          41,
          4,
          0,
          0,
          50,
          58,
          215,
          13,
          0,
          47,
          45,
          9,
          129,
          343,
          16,
          0,
          6,
          6,
          0,
          0,
          0,
          0
         ]
        },
        {
         "name": "Q3_2020",
         "type": "scatter",
         "x": [
          "account_access",
          "add_account",
          "add_action",
          "add_contact",
          "add_draft",
          "add_group",
          "add_html_template",
          "add_role",
          "add_status",
          "add_workflow",
          "adm_open_settings",
          "edit_account",
          "edit_account_uname",
          "edit_action",
          "edit_contact",
          "edit_docx_template",
          "edit_draft",
          "edit_group",
          "edit_html_template",
          "edit_profile",
          "edit_role",
          "edit_snippet",
          "edit_status",
          "edit_workflow",
          "edit_workflow_group",
          "resend_token",
          "unblock_password_reset",
          "unsuspend_account",
          "unsuspend_role"
         ],
         "y": [
          7,
          30,
          20,
          21,
          91,
          0,
          0,
          20,
          8,
          0,
          150,
          124,
          32,
          215,
          30,
          0,
          41,
          54,
          0,
          517,
          236,
          0,
          2,
          0,
          0,
          13,
          4,
          0,
          5
         ]
        },
        {
         "name": "Q4_2020",
         "type": "scatter",
         "x": [
          "account_access",
          "add_account",
          "add_action",
          "add_contact",
          "add_draft",
          "add_group",
          "add_html_template",
          "add_role",
          "add_status",
          "add_workflow",
          "adm_open_settings",
          "edit_account",
          "edit_account_uname",
          "edit_action",
          "edit_contact",
          "edit_docx_template",
          "edit_draft",
          "edit_group",
          "edit_html_template",
          "edit_profile",
          "edit_role",
          "edit_snippet",
          "edit_status",
          "edit_workflow",
          "edit_workflow_group",
          "resend_token",
          "unblock_password_reset",
          "unsuspend_account",
          "unsuspend_role"
         ],
         "y": [
          4,
          31,
          7,
          25,
          53,
          1,
          6,
          25,
          1,
          0,
          127,
          75,
          11,
          101,
          40,
          0,
          15,
          27,
          5,
          147,
          90,
          1,
          8,
          6,
          0,
          7,
          13,
          33,
          0
         ]
        },
        {
         "name": "Q1_2021",
         "type": "scatter",
         "x": [
          "account_access",
          "add_account",
          "add_action",
          "add_contact",
          "add_draft",
          "add_group",
          "add_html_template",
          "add_role",
          "add_status",
          "add_workflow",
          "adm_open_settings",
          "edit_account",
          "edit_account_uname",
          "edit_action",
          "edit_contact",
          "edit_docx_template",
          "edit_draft",
          "edit_group",
          "edit_html_template",
          "edit_profile",
          "edit_role",
          "edit_snippet",
          "edit_status",
          "edit_workflow",
          "edit_workflow_group",
          "resend_token",
          "unblock_password_reset",
          "unsuspend_account",
          "unsuspend_role"
         ],
         "y": [
          85,
          24,
          13,
          16,
          67,
          0,
          0,
          23,
          5,
          0,
          62,
          35,
          18,
          50,
          36,
          0,
          36,
          12,
          0,
          76,
          95,
          3,
          0,
          4,
          0,
          0,
          4,
          29,
          0
         ]
        },
        {
         "name": "Q2_2021",
         "type": "scatter",
         "x": [
          "account_access",
          "add_account",
          "add_action",
          "add_contact",
          "add_draft",
          "add_group",
          "add_html_template",
          "add_role",
          "add_status",
          "add_workflow",
          "adm_open_settings",
          "edit_account",
          "edit_account_uname",
          "edit_action",
          "edit_contact",
          "edit_docx_template",
          "edit_draft",
          "edit_group",
          "edit_html_template",
          "edit_profile",
          "edit_role",
          "edit_snippet",
          "edit_status",
          "edit_workflow",
          "edit_workflow_group",
          "resend_token",
          "unblock_password_reset",
          "unsuspend_account",
          "unsuspend_role"
         ],
         "y": [
          13,
          6,
          13,
          9,
          34,
          0,
          0,
          3,
          0,
          0,
          356,
          53,
          37,
          75,
          4,
          0,
          6,
          15,
          0,
          98,
          302,
          17,
          0,
          1,
          0,
          2,
          1,
          18,
          0
         ]
        }
       ],
       "layout": {
        "template": {
         "data": {
          "bar": [
           {
            "error_x": {
             "color": "#2a3f5f"
            },
            "error_y": {
             "color": "#2a3f5f"
            },
            "marker": {
             "line": {
              "color": "#E5ECF6",
              "width": 0.5
             },
             "pattern": {
              "fillmode": "overlay",
              "size": 10,
              "solidity": 0.2
             }
            },
            "type": "bar"
           }
          ],
          "barpolar": [
           {
            "marker": {
             "line": {
              "color": "#E5ECF6",
              "width": 0.5
             },
             "pattern": {
              "fillmode": "overlay",
              "size": 10,
              "solidity": 0.2
             }
            },
            "type": "barpolar"
           }
          ],
          "carpet": [
           {
            "aaxis": {
             "endlinecolor": "#2a3f5f",
             "gridcolor": "white",
             "linecolor": "white",
             "minorgridcolor": "white",
             "startlinecolor": "#2a3f5f"
            },
            "baxis": {
             "endlinecolor": "#2a3f5f",
             "gridcolor": "white",
             "linecolor": "white",
             "minorgridcolor": "white",
             "startlinecolor": "#2a3f5f"
            },
            "type": "carpet"
           }
          ],
          "choropleth": [
           {
            "colorbar": {
             "outlinewidth": 0,
             "ticks": ""
            },
            "type": "choropleth"
           }
          ],
          "contour": [
           {
            "colorbar": {
             "outlinewidth": 0,
             "ticks": ""
            },
            "colorscale": [
             [
              0,
              "#0d0887"
             ],
             [
              0.1111111111111111,
              "#46039f"
             ],
             [
              0.2222222222222222,
              "#7201a8"
             ],
             [
              0.3333333333333333,
              "#9c179e"
             ],
             [
              0.4444444444444444,
              "#bd3786"
             ],
             [
              0.5555555555555556,
              "#d8576b"
             ],
             [
              0.6666666666666666,
              "#ed7953"
             ],
             [
              0.7777777777777778,
              "#fb9f3a"
             ],
             [
              0.8888888888888888,
              "#fdca26"
             ],
             [
              1,
              "#f0f921"
             ]
            ],
            "type": "contour"
           }
          ],
          "contourcarpet": [
           {
            "colorbar": {
             "outlinewidth": 0,
             "ticks": ""
            },
            "type": "contourcarpet"
           }
          ],
          "heatmap": [
           {
            "colorbar": {
             "outlinewidth": 0,
             "ticks": ""
            },
            "colorscale": [
             [
              0,
              "#0d0887"
             ],
             [
              0.1111111111111111,
              "#46039f"
             ],
             [
              0.2222222222222222,
              "#7201a8"
             ],
             [
              0.3333333333333333,
              "#9c179e"
             ],
             [
              0.4444444444444444,
              "#bd3786"
             ],
             [
              0.5555555555555556,
              "#d8576b"
             ],
             [
              0.6666666666666666,
              "#ed7953"
             ],
             [
              0.7777777777777778,
              "#fb9f3a"
             ],
             [
              0.8888888888888888,
              "#fdca26"
             ],
             [
              1,
              "#f0f921"
             ]
            ],
            "type": "heatmap"
           }
          ],
          "heatmapgl": [
           {
            "colorbar": {
             "outlinewidth": 0,
             "ticks": ""
            },
            "colorscale": [
             [
              0,
              "#0d0887"
             ],
             [
              0.1111111111111111,
              "#46039f"
             ],
             [
              0.2222222222222222,
              "#7201a8"
             ],
             [
              0.3333333333333333,
              "#9c179e"
             ],
             [
              0.4444444444444444,
              "#bd3786"
             ],
             [
              0.5555555555555556,
              "#d8576b"
             ],
             [
              0.6666666666666666,
              "#ed7953"
             ],
             [
              0.7777777777777778,
              "#fb9f3a"
             ],
             [
              0.8888888888888888,
              "#fdca26"
             ],
             [
              1,
              "#f0f921"
             ]
            ],
            "type": "heatmapgl"
           }
          ],
          "histogram": [
           {
            "marker": {
             "pattern": {
              "fillmode": "overlay",
              "size": 10,
              "solidity": 0.2
             }
            },
            "type": "histogram"
           }
          ],
          "histogram2d": [
           {
            "colorbar": {
             "outlinewidth": 0,
             "ticks": ""
            },
            "colorscale": [
             [
              0,
              "#0d0887"
             ],
             [
              0.1111111111111111,
              "#46039f"
             ],
             [
              0.2222222222222222,
              "#7201a8"
             ],
             [
              0.3333333333333333,
              "#9c179e"
             ],
             [
              0.4444444444444444,
              "#bd3786"
             ],
             [
              0.5555555555555556,
              "#d8576b"
             ],
             [
              0.6666666666666666,
              "#ed7953"
             ],
             [
              0.7777777777777778,
              "#fb9f3a"
             ],
             [
              0.8888888888888888,
              "#fdca26"
             ],
             [
              1,
              "#f0f921"
             ]
            ],
            "type": "histogram2d"
           }
          ],
          "histogram2dcontour": [
           {
            "colorbar": {
             "outlinewidth": 0,
             "ticks": ""
            },
            "colorscale": [
             [
              0,
              "#0d0887"
             ],
             [
              0.1111111111111111,
              "#46039f"
             ],
             [
              0.2222222222222222,
              "#7201a8"
             ],
             [
              0.3333333333333333,
              "#9c179e"
             ],
             [
              0.4444444444444444,
              "#bd3786"
             ],
             [
              0.5555555555555556,
              "#d8576b"
             ],
             [
              0.6666666666666666,
              "#ed7953"
             ],
             [
              0.7777777777777778,
              "#fb9f3a"
             ],
             [
              0.8888888888888888,
              "#fdca26"
             ],
             [
              1,
              "#f0f921"
             ]
            ],
            "type": "histogram2dcontour"
           }
          ],
          "mesh3d": [
           {
            "colorbar": {
             "outlinewidth": 0,
             "ticks": ""
            },
            "type": "mesh3d"
           }
          ],
          "parcoords": [
           {
            "line": {
             "colorbar": {
              "outlinewidth": 0,
              "ticks": ""
             }
            },
            "type": "parcoords"
           }
          ],
          "pie": [
           {
            "automargin": true,
            "type": "pie"
           }
          ],
          "scatter": [
           {
            "marker": {
             "colorbar": {
              "outlinewidth": 0,
              "ticks": ""
             }
            },
            "type": "scatter"
           }
          ],
          "scatter3d": [
           {
            "line": {
             "colorbar": {
              "outlinewidth": 0,
              "ticks": ""
             }
            },
            "marker": {
             "colorbar": {
              "outlinewidth": 0,
              "ticks": ""
             }
            },
            "type": "scatter3d"
           }
          ],
          "scattercarpet": [
           {
            "marker": {
             "colorbar": {
              "outlinewidth": 0,
              "ticks": ""
             }
            },
            "type": "scattercarpet"
           }
          ],
          "scattergeo": [
           {
            "marker": {
             "colorbar": {
              "outlinewidth": 0,
              "ticks": ""
             }
            },
            "type": "scattergeo"
           }
          ],
          "scattergl": [
           {
            "marker": {
             "colorbar": {
              "outlinewidth": 0,
              "ticks": ""
             }
            },
            "type": "scattergl"
           }
          ],
          "scattermapbox": [
           {
            "marker": {
             "colorbar": {
              "outlinewidth": 0,
              "ticks": ""
             }
            },
            "type": "scattermapbox"
           }
          ],
          "scatterpolar": [
           {
            "marker": {
             "colorbar": {
              "outlinewidth": 0,
              "ticks": ""
             }
            },
            "type": "scatterpolar"
           }
          ],
          "scatterpolargl": [
           {
            "marker": {
             "colorbar": {
              "outlinewidth": 0,
              "ticks": ""
             }
            },
            "type": "scatterpolargl"
           }
          ],
          "scatterternary": [
           {
            "marker": {
             "colorbar": {
              "outlinewidth": 0,
              "ticks": ""
             }
            },
            "type": "scatterternary"
           }
          ],
          "surface": [
           {
            "colorbar": {
             "outlinewidth": 0,
             "ticks": ""
            },
            "colorscale": [
             [
              0,
              "#0d0887"
             ],
             [
              0.1111111111111111,
              "#46039f"
             ],
             [
              0.2222222222222222,
              "#7201a8"
             ],
             [
              0.3333333333333333,
              "#9c179e"
             ],
             [
              0.4444444444444444,
              "#bd3786"
             ],
             [
              0.5555555555555556,
              "#d8576b"
             ],
             [
              0.6666666666666666,
              "#ed7953"
             ],
             [
              0.7777777777777778,
              "#fb9f3a"
             ],
             [
              0.8888888888888888,
              "#fdca26"
             ],
             [
              1,
              "#f0f921"
             ]
            ],
            "type": "surface"
           }
          ],
          "table": [
           {
            "cells": {
             "fill": {
              "color": "#EBF0F8"
             },
             "line": {
              "color": "white"
             }
            },
            "header": {
             "fill": {
              "color": "#C8D4E3"
             },
             "line": {
              "color": "white"
             }
            },
            "type": "table"
           }
          ]
         },
         "layout": {
          "annotationdefaults": {
           "arrowcolor": "#2a3f5f",
           "arrowhead": 0,
           "arrowwidth": 1
          },
          "autotypenumbers": "strict",
          "coloraxis": {
           "colorbar": {
            "outlinewidth": 0,
            "ticks": ""
           }
          },
          "colorscale": {
           "diverging": [
            [
             0,
             "#8e0152"
            ],
            [
             0.1,
             "#c51b7d"
            ],
            [
             0.2,
             "#de77ae"
            ],
            [
             0.3,
             "#f1b6da"
            ],
            [
             0.4,
             "#fde0ef"
            ],
            [
             0.5,
             "#f7f7f7"
            ],
            [
             0.6,
             "#e6f5d0"
            ],
            [
             0.7,
             "#b8e186"
            ],
            [
             0.8,
             "#7fbc41"
            ],
            [
             0.9,
             "#4d9221"
            ],
            [
             1,
             "#276419"
            ]
           ],
           "sequential": [
            [
             0,
             "#0d0887"
            ],
            [
             0.1111111111111111,
             "#46039f"
            ],
            [
             0.2222222222222222,
             "#7201a8"
            ],
            [
             0.3333333333333333,
             "#9c179e"
            ],
            [
             0.4444444444444444,
             "#bd3786"
            ],
            [
             0.5555555555555556,
             "#d8576b"
            ],
            [
             0.6666666666666666,
             "#ed7953"
            ],
            [
             0.7777777777777778,
             "#fb9f3a"
            ],
            [
             0.8888888888888888,
             "#fdca26"
            ],
            [
             1,
             "#f0f921"
            ]
           ],
           "sequentialminus": [
            [
             0,
             "#0d0887"
            ],
            [
             0.1111111111111111,
             "#46039f"
            ],
            [
             0.2222222222222222,
             "#7201a8"
            ],
            [
             0.3333333333333333,
             "#9c179e"
            ],
            [
             0.4444444444444444,
             "#bd3786"
            ],
            [
             0.5555555555555556,
             "#d8576b"
            ],
            [
             0.6666666666666666,
             "#ed7953"
            ],
            [
             0.7777777777777778,
             "#fb9f3a"
            ],
            [
             0.8888888888888888,
             "#fdca26"
            ],
            [
             1,
             "#f0f921"
            ]
           ]
          },
          "colorway": [
           "#636efa",
           "#EF553B",
           "#00cc96",
           "#ab63fa",
           "#FFA15A",
           "#19d3f3",
           "#FF6692",
           "#B6E880",
           "#FF97FF",
           "#FECB52"
          ],
          "font": {
           "color": "#2a3f5f"
          },
          "geo": {
           "bgcolor": "white",
           "lakecolor": "white",
           "landcolor": "#E5ECF6",
           "showlakes": true,
           "showland": true,
           "subunitcolor": "white"
          },
          "hoverlabel": {
           "align": "left"
          },
          "hovermode": "closest",
          "mapbox": {
           "style": "light"
          },
          "paper_bgcolor": "white",
          "plot_bgcolor": "#E5ECF6",
          "polar": {
           "angularaxis": {
            "gridcolor": "white",
            "linecolor": "white",
            "ticks": ""
           },
           "bgcolor": "#E5ECF6",
           "radialaxis": {
            "gridcolor": "white",
            "linecolor": "white",
            "ticks": ""
           }
          },
          "scene": {
           "xaxis": {
            "backgroundcolor": "#E5ECF6",
            "gridcolor": "white",
            "gridwidth": 2,
            "linecolor": "white",
            "showbackground": true,
            "ticks": "",
            "zerolinecolor": "white"
           },
           "yaxis": {
            "backgroundcolor": "#E5ECF6",
            "gridcolor": "white",
            "gridwidth": 2,
            "linecolor": "white",
            "showbackground": true,
            "ticks": "",
            "zerolinecolor": "white"
           },
           "zaxis": {
            "backgroundcolor": "#E5ECF6",
            "gridcolor": "white",
            "gridwidth": 2,
            "linecolor": "white",
            "showbackground": true,
            "ticks": "",
            "zerolinecolor": "white"
           }
          },
          "shapedefaults": {
           "line": {
            "color": "#2a3f5f"
           }
          },
          "ternary": {
           "aaxis": {
            "gridcolor": "white",
            "linecolor": "white",
            "ticks": ""
           },
           "baxis": {
            "gridcolor": "white",
            "linecolor": "white",
            "ticks": ""
           },
           "bgcolor": "#E5ECF6",
           "caxis": {
            "gridcolor": "white",
            "linecolor": "white",
            "ticks": ""
           }
          },
          "title": {
           "x": 0.05
          },
          "xaxis": {
           "automargin": true,
           "gridcolor": "white",
           "linecolor": "white",
           "ticks": "",
           "title": {
            "standoff": 15
           },
           "zerolinecolor": "white",
           "zerolinewidth": 2
          },
          "yaxis": {
           "automargin": true,
           "gridcolor": "white",
           "linecolor": "white",
           "ticks": "",
           "title": {
            "standoff": 15
           },
           "zerolinecolor": "white",
           "zerolinewidth": 2
          }
         }
        }
       }
      },
      "text/html": [
       "<div>                            <div id=\"34e55a9d-9fc6-4f40-9925-abb422bf1abd\" class=\"plotly-graph-div\" style=\"height:525px; width:100%;\"></div>            <script type=\"text/javascript\">                require([\"plotly\"], function(Plotly) {                    window.PLOTLYENV=window.PLOTLYENV || {};                                    if (document.getElementById(\"34e55a9d-9fc6-4f40-9925-abb422bf1abd\")) {                    Plotly.newPlot(                        \"34e55a9d-9fc6-4f40-9925-abb422bf1abd\",                        [{\"name\":\"Q3_2019\",\"x\":[\"account_access\",\"add_account\",\"add_action\",\"add_contact\",\"add_draft\",\"add_group\",\"add_html_template\",\"add_role\",\"add_status\",\"add_workflow\",\"adm_open_settings\",\"edit_account\",\"edit_account_uname\",\"edit_action\",\"edit_contact\",\"edit_docx_template\",\"edit_draft\",\"edit_group\",\"edit_html_template\",\"edit_profile\",\"edit_role\",\"edit_snippet\",\"edit_status\",\"edit_workflow\",\"edit_workflow_group\",\"resend_token\",\"unblock_password_reset\",\"unsuspend_account\",\"unsuspend_role\"],\"y\":[1,9,109,311,227,0,1,7,43,0,0,32,30,619,51,10,144,45,73,80,731,14,13,19,0,0,0,0,1],\"type\":\"scatter\"},{\"name\":\"Q4_2019\",\"x\":[\"account_access\",\"add_account\",\"add_action\",\"add_contact\",\"add_draft\",\"add_group\",\"add_html_template\",\"add_role\",\"add_status\",\"add_workflow\",\"adm_open_settings\",\"edit_account\",\"edit_account_uname\",\"edit_action\",\"edit_contact\",\"edit_docx_template\",\"edit_draft\",\"edit_group\",\"edit_html_template\",\"edit_profile\",\"edit_role\",\"edit_snippet\",\"edit_status\",\"edit_workflow\",\"edit_workflow_group\",\"resend_token\",\"unblock_password_reset\",\"unsuspend_account\",\"unsuspend_role\"],\"y\":[0,20,34,101,184,0,1,17,10,1,0,36,20,378,57,0,86,42,6,957,109,130,0,8,0,0,0,0,0],\"type\":\"scatter\"},{\"name\":\"Q1_2020\",\"x\":[\"account_access\",\"add_account\",\"add_action\",\"add_contact\",\"add_draft\",\"add_group\",\"add_html_template\",\"add_role\",\"add_status\",\"add_workflow\",\"adm_open_settings\",\"edit_account\",\"edit_account_uname\",\"edit_action\",\"edit_contact\",\"edit_docx_template\",\"edit_draft\",\"edit_group\",\"edit_html_template\",\"edit_profile\",\"edit_role\",\"edit_snippet\",\"edit_status\",\"edit_workflow\",\"edit_workflow_group\",\"resend_token\",\"unblock_password_reset\",\"unsuspend_account\",\"unsuspend_role\"],\"y\":[0,18,93,16,190,1,2,13,14,0,0,34,19,212,25,0,102,18,2,246,63,0,0,0,0,0,0,0,0],\"type\":\"scatter\"},{\"name\":\"Q2_2020\",\"x\":[\"account_access\",\"add_account\",\"add_action\",\"add_contact\",\"add_draft\",\"add_group\",\"add_html_template\",\"add_role\",\"add_status\",\"add_workflow\",\"adm_open_settings\",\"edit_account\",\"edit_account_uname\",\"edit_action\",\"edit_contact\",\"edit_docx_template\",\"edit_draft\",\"edit_group\",\"edit_html_template\",\"edit_profile\",\"edit_role\",\"edit_snippet\",\"edit_status\",\"edit_workflow\",\"edit_workflow_group\",\"resend_token\",\"unblock_password_reset\",\"unsuspend_account\",\"unsuspend_role\"],\"y\":[0,42,18,8,96,1,0,41,4,0,0,50,58,215,13,0,47,45,9,129,343,16,0,6,6,0,0,0,0],\"type\":\"scatter\"},{\"name\":\"Q3_2020\",\"x\":[\"account_access\",\"add_account\",\"add_action\",\"add_contact\",\"add_draft\",\"add_group\",\"add_html_template\",\"add_role\",\"add_status\",\"add_workflow\",\"adm_open_settings\",\"edit_account\",\"edit_account_uname\",\"edit_action\",\"edit_contact\",\"edit_docx_template\",\"edit_draft\",\"edit_group\",\"edit_html_template\",\"edit_profile\",\"edit_role\",\"edit_snippet\",\"edit_status\",\"edit_workflow\",\"edit_workflow_group\",\"resend_token\",\"unblock_password_reset\",\"unsuspend_account\",\"unsuspend_role\"],\"y\":[7,30,20,21,91,0,0,20,8,0,150,124,32,215,30,0,41,54,0,517,236,0,2,0,0,13,4,0,5],\"type\":\"scatter\"},{\"name\":\"Q4_2020\",\"x\":[\"account_access\",\"add_account\",\"add_action\",\"add_contact\",\"add_draft\",\"add_group\",\"add_html_template\",\"add_role\",\"add_status\",\"add_workflow\",\"adm_open_settings\",\"edit_account\",\"edit_account_uname\",\"edit_action\",\"edit_contact\",\"edit_docx_template\",\"edit_draft\",\"edit_group\",\"edit_html_template\",\"edit_profile\",\"edit_role\",\"edit_snippet\",\"edit_status\",\"edit_workflow\",\"edit_workflow_group\",\"resend_token\",\"unblock_password_reset\",\"unsuspend_account\",\"unsuspend_role\"],\"y\":[4,31,7,25,53,1,6,25,1,0,127,75,11,101,40,0,15,27,5,147,90,1,8,6,0,7,13,33,0],\"type\":\"scatter\"},{\"name\":\"Q1_2021\",\"x\":[\"account_access\",\"add_account\",\"add_action\",\"add_contact\",\"add_draft\",\"add_group\",\"add_html_template\",\"add_role\",\"add_status\",\"add_workflow\",\"adm_open_settings\",\"edit_account\",\"edit_account_uname\",\"edit_action\",\"edit_contact\",\"edit_docx_template\",\"edit_draft\",\"edit_group\",\"edit_html_template\",\"edit_profile\",\"edit_role\",\"edit_snippet\",\"edit_status\",\"edit_workflow\",\"edit_workflow_group\",\"resend_token\",\"unblock_password_reset\",\"unsuspend_account\",\"unsuspend_role\"],\"y\":[85,24,13,16,67,0,0,23,5,0,62,35,18,50,36,0,36,12,0,76,95,3,0,4,0,0,4,29,0],\"type\":\"scatter\"},{\"name\":\"Q2_2021\",\"x\":[\"account_access\",\"add_account\",\"add_action\",\"add_contact\",\"add_draft\",\"add_group\",\"add_html_template\",\"add_role\",\"add_status\",\"add_workflow\",\"adm_open_settings\",\"edit_account\",\"edit_account_uname\",\"edit_action\",\"edit_contact\",\"edit_docx_template\",\"edit_draft\",\"edit_group\",\"edit_html_template\",\"edit_profile\",\"edit_role\",\"edit_snippet\",\"edit_status\",\"edit_workflow\",\"edit_workflow_group\",\"resend_token\",\"unblock_password_reset\",\"unsuspend_account\",\"unsuspend_role\"],\"y\":[13,6,13,9,34,0,0,3,0,0,356,53,37,75,4,0,6,15,0,98,302,17,0,1,0,2,1,18,0],\"type\":\"scatter\"}],                        {\"template\":{\"data\":{\"bar\":[{\"error_x\":{\"color\":\"#2a3f5f\"},\"error_y\":{\"color\":\"#2a3f5f\"},\"marker\":{\"line\":{\"color\":\"#E5ECF6\",\"width\":0.5},\"pattern\":{\"fillmode\":\"overlay\",\"size\":10,\"solidity\":0.2}},\"type\":\"bar\"}],\"barpolar\":[{\"marker\":{\"line\":{\"color\":\"#E5ECF6\",\"width\":0.5},\"pattern\":{\"fillmode\":\"overlay\",\"size\":10,\"solidity\":0.2}},\"type\":\"barpolar\"}],\"carpet\":[{\"aaxis\":{\"endlinecolor\":\"#2a3f5f\",\"gridcolor\":\"white\",\"linecolor\":\"white\",\"minorgridcolor\":\"white\",\"startlinecolor\":\"#2a3f5f\"},\"baxis\":{\"endlinecolor\":\"#2a3f5f\",\"gridcolor\":\"white\",\"linecolor\":\"white\",\"minorgridcolor\":\"white\",\"startlinecolor\":\"#2a3f5f\"},\"type\":\"carpet\"}],\"choropleth\":[{\"colorbar\":{\"outlinewidth\":0,\"ticks\":\"\"},\"type\":\"choropleth\"}],\"contour\":[{\"colorbar\":{\"outlinewidth\":0,\"ticks\":\"\"},\"colorscale\":[[0.0,\"#0d0887\"],[0.1111111111111111,\"#46039f\"],[0.2222222222222222,\"#7201a8\"],[0.3333333333333333,\"#9c179e\"],[0.4444444444444444,\"#bd3786\"],[0.5555555555555556,\"#d8576b\"],[0.6666666666666666,\"#ed7953\"],[0.7777777777777778,\"#fb9f3a\"],[0.8888888888888888,\"#fdca26\"],[1.0,\"#f0f921\"]],\"type\":\"contour\"}],\"contourcarpet\":[{\"colorbar\":{\"outlinewidth\":0,\"ticks\":\"\"},\"type\":\"contourcarpet\"}],\"heatmap\":[{\"colorbar\":{\"outlinewidth\":0,\"ticks\":\"\"},\"colorscale\":[[0.0,\"#0d0887\"],[0.1111111111111111,\"#46039f\"],[0.2222222222222222,\"#7201a8\"],[0.3333333333333333,\"#9c179e\"],[0.4444444444444444,\"#bd3786\"],[0.5555555555555556,\"#d8576b\"],[0.6666666666666666,\"#ed7953\"],[0.7777777777777778,\"#fb9f3a\"],[0.8888888888888888,\"#fdca26\"],[1.0,\"#f0f921\"]],\"type\":\"heatmap\"}],\"heatmapgl\":[{\"colorbar\":{\"outlinewidth\":0,\"ticks\":\"\"},\"colorscale\":[[0.0,\"#0d0887\"],[0.1111111111111111,\"#46039f\"],[0.2222222222222222,\"#7201a8\"],[0.3333333333333333,\"#9c179e\"],[0.4444444444444444,\"#bd3786\"],[0.5555555555555556,\"#d8576b\"],[0.6666666666666666,\"#ed7953\"],[0.7777777777777778,\"#fb9f3a\"],[0.8888888888888888,\"#fdca26\"],[1.0,\"#f0f921\"]],\"type\":\"heatmapgl\"}],\"histogram\":[{\"marker\":{\"pattern\":{\"fillmode\":\"overlay\",\"size\":10,\"solidity\":0.2}},\"type\":\"histogram\"}],\"histogram2d\":[{\"colorbar\":{\"outlinewidth\":0,\"ticks\":\"\"},\"colorscale\":[[0.0,\"#0d0887\"],[0.1111111111111111,\"#46039f\"],[0.2222222222222222,\"#7201a8\"],[0.3333333333333333,\"#9c179e\"],[0.4444444444444444,\"#bd3786\"],[0.5555555555555556,\"#d8576b\"],[0.6666666666666666,\"#ed7953\"],[0.7777777777777778,\"#fb9f3a\"],[0.8888888888888888,\"#fdca26\"],[1.0,\"#f0f921\"]],\"type\":\"histogram2d\"}],\"histogram2dcontour\":[{\"colorbar\":{\"outlinewidth\":0,\"ticks\":\"\"},\"colorscale\":[[0.0,\"#0d0887\"],[0.1111111111111111,\"#46039f\"],[0.2222222222222222,\"#7201a8\"],[0.3333333333333333,\"#9c179e\"],[0.4444444444444444,\"#bd3786\"],[0.5555555555555556,\"#d8576b\"],[0.6666666666666666,\"#ed7953\"],[0.7777777777777778,\"#fb9f3a\"],[0.8888888888888888,\"#fdca26\"],[1.0,\"#f0f921\"]],\"type\":\"histogram2dcontour\"}],\"mesh3d\":[{\"colorbar\":{\"outlinewidth\":0,\"ticks\":\"\"},\"type\":\"mesh3d\"}],\"parcoords\":[{\"line\":{\"colorbar\":{\"outlinewidth\":0,\"ticks\":\"\"}},\"type\":\"parcoords\"}],\"pie\":[{\"automargin\":true,\"type\":\"pie\"}],\"scatter\":[{\"marker\":{\"colorbar\":{\"outlinewidth\":0,\"ticks\":\"\"}},\"type\":\"scatter\"}],\"scatter3d\":[{\"line\":{\"colorbar\":{\"outlinewidth\":0,\"ticks\":\"\"}},\"marker\":{\"colorbar\":{\"outlinewidth\":0,\"ticks\":\"\"}},\"type\":\"scatter3d\"}],\"scattercarpet\":[{\"marker\":{\"colorbar\":{\"outlinewidth\":0,\"ticks\":\"\"}},\"type\":\"scattercarpet\"}],\"scattergeo\":[{\"marker\":{\"colorbar\":{\"outlinewidth\":0,\"ticks\":\"\"}},\"type\":\"scattergeo\"}],\"scattergl\":[{\"marker\":{\"colorbar\":{\"outlinewidth\":0,\"ticks\":\"\"}},\"type\":\"scattergl\"}],\"scattermapbox\":[{\"marker\":{\"colorbar\":{\"outlinewidth\":0,\"ticks\":\"\"}},\"type\":\"scattermapbox\"}],\"scatterpolar\":[{\"marker\":{\"colorbar\":{\"outlinewidth\":0,\"ticks\":\"\"}},\"type\":\"scatterpolar\"}],\"scatterpolargl\":[{\"marker\":{\"colorbar\":{\"outlinewidth\":0,\"ticks\":\"\"}},\"type\":\"scatterpolargl\"}],\"scatterternary\":[{\"marker\":{\"colorbar\":{\"outlinewidth\":0,\"ticks\":\"\"}},\"type\":\"scatterternary\"}],\"surface\":[{\"colorbar\":{\"outlinewidth\":0,\"ticks\":\"\"},\"colorscale\":[[0.0,\"#0d0887\"],[0.1111111111111111,\"#46039f\"],[0.2222222222222222,\"#7201a8\"],[0.3333333333333333,\"#9c179e\"],[0.4444444444444444,\"#bd3786\"],[0.5555555555555556,\"#d8576b\"],[0.6666666666666666,\"#ed7953\"],[0.7777777777777778,\"#fb9f3a\"],[0.8888888888888888,\"#fdca26\"],[1.0,\"#f0f921\"]],\"type\":\"surface\"}],\"table\":[{\"cells\":{\"fill\":{\"color\":\"#EBF0F8\"},\"line\":{\"color\":\"white\"}},\"header\":{\"fill\":{\"color\":\"#C8D4E3\"},\"line\":{\"color\":\"white\"}},\"type\":\"table\"}]},\"layout\":{\"annotationdefaults\":{\"arrowcolor\":\"#2a3f5f\",\"arrowhead\":0,\"arrowwidth\":1},\"autotypenumbers\":\"strict\",\"coloraxis\":{\"colorbar\":{\"outlinewidth\":0,\"ticks\":\"\"}},\"colorscale\":{\"diverging\":[[0,\"#8e0152\"],[0.1,\"#c51b7d\"],[0.2,\"#de77ae\"],[0.3,\"#f1b6da\"],[0.4,\"#fde0ef\"],[0.5,\"#f7f7f7\"],[0.6,\"#e6f5d0\"],[0.7,\"#b8e186\"],[0.8,\"#7fbc41\"],[0.9,\"#4d9221\"],[1,\"#276419\"]],\"sequential\":[[0.0,\"#0d0887\"],[0.1111111111111111,\"#46039f\"],[0.2222222222222222,\"#7201a8\"],[0.3333333333333333,\"#9c179e\"],[0.4444444444444444,\"#bd3786\"],[0.5555555555555556,\"#d8576b\"],[0.6666666666666666,\"#ed7953\"],[0.7777777777777778,\"#fb9f3a\"],[0.8888888888888888,\"#fdca26\"],[1.0,\"#f0f921\"]],\"sequentialminus\":[[0.0,\"#0d0887\"],[0.1111111111111111,\"#46039f\"],[0.2222222222222222,\"#7201a8\"],[0.3333333333333333,\"#9c179e\"],[0.4444444444444444,\"#bd3786\"],[0.5555555555555556,\"#d8576b\"],[0.6666666666666666,\"#ed7953\"],[0.7777777777777778,\"#fb9f3a\"],[0.8888888888888888,\"#fdca26\"],[1.0,\"#f0f921\"]]},\"colorway\":[\"#636efa\",\"#EF553B\",\"#00cc96\",\"#ab63fa\",\"#FFA15A\",\"#19d3f3\",\"#FF6692\",\"#B6E880\",\"#FF97FF\",\"#FECB52\"],\"font\":{\"color\":\"#2a3f5f\"},\"geo\":{\"bgcolor\":\"white\",\"lakecolor\":\"white\",\"landcolor\":\"#E5ECF6\",\"showlakes\":true,\"showland\":true,\"subunitcolor\":\"white\"},\"hoverlabel\":{\"align\":\"left\"},\"hovermode\":\"closest\",\"mapbox\":{\"style\":\"light\"},\"paper_bgcolor\":\"white\",\"plot_bgcolor\":\"#E5ECF6\",\"polar\":{\"angularaxis\":{\"gridcolor\":\"white\",\"linecolor\":\"white\",\"ticks\":\"\"},\"bgcolor\":\"#E5ECF6\",\"radialaxis\":{\"gridcolor\":\"white\",\"linecolor\":\"white\",\"ticks\":\"\"}},\"scene\":{\"xaxis\":{\"backgroundcolor\":\"#E5ECF6\",\"gridcolor\":\"white\",\"gridwidth\":2,\"linecolor\":\"white\",\"showbackground\":true,\"ticks\":\"\",\"zerolinecolor\":\"white\"},\"yaxis\":{\"backgroundcolor\":\"#E5ECF6\",\"gridcolor\":\"white\",\"gridwidth\":2,\"linecolor\":\"white\",\"showbackground\":true,\"ticks\":\"\",\"zerolinecolor\":\"white\"},\"zaxis\":{\"backgroundcolor\":\"#E5ECF6\",\"gridcolor\":\"white\",\"gridwidth\":2,\"linecolor\":\"white\",\"showbackground\":true,\"ticks\":\"\",\"zerolinecolor\":\"white\"}},\"shapedefaults\":{\"line\":{\"color\":\"#2a3f5f\"}},\"ternary\":{\"aaxis\":{\"gridcolor\":\"white\",\"linecolor\":\"white\",\"ticks\":\"\"},\"baxis\":{\"gridcolor\":\"white\",\"linecolor\":\"white\",\"ticks\":\"\"},\"bgcolor\":\"#E5ECF6\",\"caxis\":{\"gridcolor\":\"white\",\"linecolor\":\"white\",\"ticks\":\"\"}},\"title\":{\"x\":0.05},\"xaxis\":{\"automargin\":true,\"gridcolor\":\"white\",\"linecolor\":\"white\",\"ticks\":\"\",\"title\":{\"standoff\":15},\"zerolinecolor\":\"white\",\"zerolinewidth\":2},\"yaxis\":{\"automargin\":true,\"gridcolor\":\"white\",\"linecolor\":\"white\",\"ticks\":\"\",\"title\":{\"standoff\":15},\"zerolinecolor\":\"white\",\"zerolinewidth\":2}}}},                        {\"responsive\": true}                    ).then(function(){\n",
       "                            \n",
       "var gd = document.getElementById('34e55a9d-9fc6-4f40-9925-abb422bf1abd');\n",
       "var x = new MutationObserver(function (mutations, observer) {{\n",
       "        var display = window.getComputedStyle(gd).display;\n",
       "        if (!display || display === 'none') {{\n",
       "            console.log([gd, 'removed!']);\n",
       "            Plotly.purge(gd);\n",
       "            observer.disconnect();\n",
       "        }}\n",
       "}});\n",
       "\n",
       "// Listen for the removal of the full notebook cells\n",
       "var notebookContainer = gd.closest('#notebook-container');\n",
       "if (notebookContainer) {{\n",
       "    x.observe(notebookContainer, {childList: true});\n",
       "}}\n",
       "\n",
       "// Listen for the clearing of the current output cell\n",
       "var outputEl = gd.closest('.output');\n",
       "if (outputEl) {{\n",
       "    x.observe(outputEl, {childList: true});\n",
       "}}\n",
       "\n",
       "                        })                };                });            </script>        </div>"
      ]
     },
     "metadata": {},
     "output_type": "display_data"
    }
   ],
   "source": [
    "fig = go.Figure(go.Line(x=yellow_light, y=np.array(Q3_2019[yellow_light].sum()).astype(int), name='Q3_2019'))\n",
    "fig.add_trace(go.Line(x=yellow_light, y=np.array(Q4_2019[yellow_light].sum()).astype(int), name='Q4_2019'))\n",
    "fig.add_trace(go.Line(x=yellow_light, y=np.array(Q1_2020[yellow_light].sum()).astype(int), name='Q1_2020'))\n",
    "fig.add_trace(go.Line(x=yellow_light, y=np.array(Q2_2020[yellow_light].sum()).astype(int), name='Q2_2020'))\n",
    "fig.add_trace(go.Line(x=yellow_light, y=np.array(Q3_2020[yellow_light].sum()).astype(int), name='Q3_2020'))\n",
    "fig.add_trace(go.Line(x=yellow_light, y=np.array(Q4_2020[yellow_light].sum()).astype(int), name='Q4_2020'))\n",
    "fig.add_trace(go.Line(x=yellow_light, y=np.array(Q1_2021[yellow_light].sum()).astype(int), name='Q1_2021'))\n",
    "fig.add_trace(go.Line(x=yellow_light, y=np.array(Q2_2021[yellow_light].sum()).astype(int), name='Q2_2021'))\n",
    "fig.show()"
   ]
  },
  {
   "cell_type": "code",
   "execution_count": 18,
   "id": "4e67f4b4",
   "metadata": {},
   "outputs": [
    {
     "data": {
      "application/vnd.plotly.v1+json": {
       "config": {
        "plotlyServerURL": "https://plot.ly"
       },
       "data": [
        {
         "name": "Q3_2019",
         "type": "scatter",
         "x": [
          "account_access",
          "add_account",
          "add_action",
          "add_contact",
          "add_draft",
          "add_group",
          "add_html_template",
          "add_role",
          "add_status",
          "add_workflow",
          "adm_open_settings",
          "edit_account",
          "edit_account_uname",
          "edit_action",
          "edit_contact",
          "edit_docx_template",
          "edit_draft",
          "edit_group",
          "edit_html_template",
          "edit_profile",
          "edit_role",
          "edit_snippet",
          "edit_status",
          "edit_workflow",
          "edit_workflow_group",
          "resend_token",
          "token_login",
          "unblock_password_reset",
          "unsuspend_account",
          "unsuspend_role"
         ],
         "y": [
          1,
          1,
          21,
          17,
          4,
          0,
          1,
          2,
          6,
          0,
          0,
          7,
          7,
          86,
          4,
          5,
          6,
          4,
          54,
          6,
          482,
          4,
          7,
          5,
          0,
          0,
          0,
          0,
          0,
          1
         ]
        },
        {
         "name": "Q4_2019",
         "type": "scatter",
         "x": [
          "account_access",
          "add_account",
          "add_action",
          "add_contact",
          "add_draft",
          "add_group",
          "add_html_template",
          "add_role",
          "add_status",
          "add_workflow",
          "adm_open_settings",
          "edit_account",
          "edit_account_uname",
          "edit_action",
          "edit_contact",
          "edit_docx_template",
          "edit_draft",
          "edit_group",
          "edit_html_template",
          "edit_profile",
          "edit_role",
          "edit_snippet",
          "edit_status",
          "edit_workflow",
          "edit_workflow_group",
          "resend_token",
          "token_login",
          "unblock_password_reset",
          "unsuspend_account",
          "unsuspend_role"
         ],
         "y": [
          0,
          4,
          5,
          11,
          4,
          0,
          1,
          4,
          4,
          1,
          0,
          19,
          4,
          26,
          8,
          0,
          7,
          4,
          4,
          12,
          15,
          48,
          0,
          2,
          0,
          0,
          0,
          0,
          0,
          0
         ]
        },
        {
         "name": "Q1_2020",
         "type": "scatter",
         "x": [
          "account_access",
          "add_account",
          "add_action",
          "add_contact",
          "add_draft",
          "add_group",
          "add_html_template",
          "add_role",
          "add_status",
          "add_workflow",
          "adm_open_settings",
          "edit_account",
          "edit_account_uname",
          "edit_action",
          "edit_contact",
          "edit_docx_template",
          "edit_draft",
          "edit_group",
          "edit_html_template",
          "edit_profile",
          "edit_role",
          "edit_snippet",
          "edit_status",
          "edit_workflow",
          "edit_workflow_group",
          "resend_token",
          "token_login",
          "unblock_password_reset",
          "unsuspend_account",
          "unsuspend_role"
         ],
         "y": [
          0,
          4,
          49,
          3,
          5,
          1,
          1,
          4,
          5,
          0,
          0,
          7,
          6,
          48,
          4,
          0,
          10,
          2,
          1,
          8,
          10,
          0,
          0,
          0,
          0,
          0,
          0,
          0,
          0,
          0
         ]
        },
        {
         "name": "Q2_2020",
         "type": "scatter",
         "x": [
          "account_access",
          "add_account",
          "add_action",
          "add_contact",
          "add_draft",
          "add_group",
          "add_html_template",
          "add_role",
          "add_status",
          "add_workflow",
          "adm_open_settings",
          "edit_account",
          "edit_account_uname",
          "edit_action",
          "edit_contact",
          "edit_docx_template",
          "edit_draft",
          "edit_group",
          "edit_html_template",
          "edit_profile",
          "edit_role",
          "edit_snippet",
          "edit_status",
          "edit_workflow",
          "edit_workflow_group",
          "resend_token",
          "token_login",
          "unblock_password_reset",
          "unsuspend_account",
          "unsuspend_role"
         ],
         "y": [
          0,
          13,
          4,
          1,
          3,
          1,
          0,
          13,
          3,
          0,
          0,
          6,
          7,
          30,
          4,
          0,
          5,
          7,
          6,
          14,
          136,
          4,
          0,
          2,
          6,
          0,
          0,
          0,
          0,
          0
         ]
        },
        {
         "name": "Q3_2020",
         "type": "scatter",
         "x": [
          "account_access",
          "add_account",
          "add_action",
          "add_contact",
          "add_draft",
          "add_group",
          "add_html_template",
          "add_role",
          "add_status",
          "add_workflow",
          "adm_open_settings",
          "edit_account",
          "edit_account_uname",
          "edit_action",
          "edit_contact",
          "edit_docx_template",
          "edit_draft",
          "edit_group",
          "edit_html_template",
          "edit_profile",
          "edit_role",
          "edit_snippet",
          "edit_status",
          "edit_workflow",
          "edit_workflow_group",
          "resend_token",
          "token_login",
          "unblock_password_reset",
          "unsuspend_account",
          "unsuspend_role"
         ],
         "y": [
          4,
          2,
          7,
          2,
          5,
          0,
          0,
          2,
          3,
          0,
          36,
          22,
          4,
          42,
          3,
          0,
          8,
          7,
          0,
          6,
          52,
          0,
          2,
          0,
          0,
          4,
          8,
          2,
          0,
          3
         ]
        },
        {
         "name": "Q4_2020",
         "type": "scatter",
         "x": [
          "account_access",
          "add_account",
          "add_action",
          "add_contact",
          "add_draft",
          "add_group",
          "add_html_template",
          "add_role",
          "add_status",
          "add_workflow",
          "adm_open_settings",
          "edit_account",
          "edit_account_uname",
          "edit_action",
          "edit_contact",
          "edit_docx_template",
          "edit_draft",
          "edit_group",
          "edit_html_template",
          "edit_profile",
          "edit_role",
          "edit_snippet",
          "edit_status",
          "edit_workflow",
          "edit_workflow_group",
          "resend_token",
          "token_login",
          "unblock_password_reset",
          "unsuspend_account",
          "unsuspend_role"
         ],
         "y": [
          2,
          12,
          3,
          7,
          2,
          1,
          5,
          16,
          1,
          0,
          7,
          6,
          2,
          18,
          8,
          0,
          2,
          3,
          4,
          5,
          12,
          1,
          8,
          4,
          0,
          3,
          12,
          2,
          12,
          0
         ]
        },
        {
         "name": "Q1_2021",
         "type": "scatter",
         "x": [
          "account_access",
          "add_account",
          "add_action",
          "add_contact",
          "add_draft",
          "add_group",
          "add_html_template",
          "add_role",
          "add_status",
          "add_workflow",
          "adm_open_settings",
          "edit_account",
          "edit_account_uname",
          "edit_action",
          "edit_contact",
          "edit_docx_template",
          "edit_draft",
          "edit_group",
          "edit_html_template",
          "edit_profile",
          "edit_role",
          "edit_snippet",
          "edit_status",
          "edit_workflow",
          "edit_workflow_group",
          "resend_token",
          "token_login",
          "unblock_password_reset",
          "unsuspend_account",
          "unsuspend_role"
         ],
         "y": [
          59,
          10,
          3,
          4,
          2,
          0,
          0,
          10,
          2,
          0,
          5,
          4,
          3,
          7,
          5,
          0,
          7,
          3,
          0,
          7,
          12,
          3,
          0,
          2,
          0,
          0,
          13,
          1,
          5,
          0
         ]
        },
        {
         "name": "Q2_2021",
         "type": "scatter",
         "x": [
          "account_access",
          "add_account",
          "add_action",
          "add_contact",
          "add_draft",
          "add_group",
          "add_html_template",
          "add_role",
          "add_status",
          "add_workflow",
          "adm_open_settings",
          "edit_account",
          "edit_account_uname",
          "edit_action",
          "edit_contact",
          "edit_docx_template",
          "edit_draft",
          "edit_group",
          "edit_html_template",
          "edit_profile",
          "edit_role",
          "edit_snippet",
          "edit_status",
          "edit_workflow",
          "edit_workflow_group",
          "resend_token",
          "token_login",
          "unblock_password_reset",
          "unsuspend_account",
          "unsuspend_role"
         ],
         "y": [
          4,
          1,
          4,
          2,
          2,
          0,
          0,
          1,
          0,
          0,
          37,
          6,
          4,
          12,
          1,
          0,
          2,
          3,
          0,
          4,
          70,
          17,
          0,
          1,
          0,
          1,
          13,
          1,
          3,
          0
         ]
        }
       ],
       "layout": {
        "template": {
         "data": {
          "bar": [
           {
            "error_x": {
             "color": "#2a3f5f"
            },
            "error_y": {
             "color": "#2a3f5f"
            },
            "marker": {
             "line": {
              "color": "#E5ECF6",
              "width": 0.5
             },
             "pattern": {
              "fillmode": "overlay",
              "size": 10,
              "solidity": 0.2
             }
            },
            "type": "bar"
           }
          ],
          "barpolar": [
           {
            "marker": {
             "line": {
              "color": "#E5ECF6",
              "width": 0.5
             },
             "pattern": {
              "fillmode": "overlay",
              "size": 10,
              "solidity": 0.2
             }
            },
            "type": "barpolar"
           }
          ],
          "carpet": [
           {
            "aaxis": {
             "endlinecolor": "#2a3f5f",
             "gridcolor": "white",
             "linecolor": "white",
             "minorgridcolor": "white",
             "startlinecolor": "#2a3f5f"
            },
            "baxis": {
             "endlinecolor": "#2a3f5f",
             "gridcolor": "white",
             "linecolor": "white",
             "minorgridcolor": "white",
             "startlinecolor": "#2a3f5f"
            },
            "type": "carpet"
           }
          ],
          "choropleth": [
           {
            "colorbar": {
             "outlinewidth": 0,
             "ticks": ""
            },
            "type": "choropleth"
           }
          ],
          "contour": [
           {
            "colorbar": {
             "outlinewidth": 0,
             "ticks": ""
            },
            "colorscale": [
             [
              0,
              "#0d0887"
             ],
             [
              0.1111111111111111,
              "#46039f"
             ],
             [
              0.2222222222222222,
              "#7201a8"
             ],
             [
              0.3333333333333333,
              "#9c179e"
             ],
             [
              0.4444444444444444,
              "#bd3786"
             ],
             [
              0.5555555555555556,
              "#d8576b"
             ],
             [
              0.6666666666666666,
              "#ed7953"
             ],
             [
              0.7777777777777778,
              "#fb9f3a"
             ],
             [
              0.8888888888888888,
              "#fdca26"
             ],
             [
              1,
              "#f0f921"
             ]
            ],
            "type": "contour"
           }
          ],
          "contourcarpet": [
           {
            "colorbar": {
             "outlinewidth": 0,
             "ticks": ""
            },
            "type": "contourcarpet"
           }
          ],
          "heatmap": [
           {
            "colorbar": {
             "outlinewidth": 0,
             "ticks": ""
            },
            "colorscale": [
             [
              0,
              "#0d0887"
             ],
             [
              0.1111111111111111,
              "#46039f"
             ],
             [
              0.2222222222222222,
              "#7201a8"
             ],
             [
              0.3333333333333333,
              "#9c179e"
             ],
             [
              0.4444444444444444,
              "#bd3786"
             ],
             [
              0.5555555555555556,
              "#d8576b"
             ],
             [
              0.6666666666666666,
              "#ed7953"
             ],
             [
              0.7777777777777778,
              "#fb9f3a"
             ],
             [
              0.8888888888888888,
              "#fdca26"
             ],
             [
              1,
              "#f0f921"
             ]
            ],
            "type": "heatmap"
           }
          ],
          "heatmapgl": [
           {
            "colorbar": {
             "outlinewidth": 0,
             "ticks": ""
            },
            "colorscale": [
             [
              0,
              "#0d0887"
             ],
             [
              0.1111111111111111,
              "#46039f"
             ],
             [
              0.2222222222222222,
              "#7201a8"
             ],
             [
              0.3333333333333333,
              "#9c179e"
             ],
             [
              0.4444444444444444,
              "#bd3786"
             ],
             [
              0.5555555555555556,
              "#d8576b"
             ],
             [
              0.6666666666666666,
              "#ed7953"
             ],
             [
              0.7777777777777778,
              "#fb9f3a"
             ],
             [
              0.8888888888888888,
              "#fdca26"
             ],
             [
              1,
              "#f0f921"
             ]
            ],
            "type": "heatmapgl"
           }
          ],
          "histogram": [
           {
            "marker": {
             "pattern": {
              "fillmode": "overlay",
              "size": 10,
              "solidity": 0.2
             }
            },
            "type": "histogram"
           }
          ],
          "histogram2d": [
           {
            "colorbar": {
             "outlinewidth": 0,
             "ticks": ""
            },
            "colorscale": [
             [
              0,
              "#0d0887"
             ],
             [
              0.1111111111111111,
              "#46039f"
             ],
             [
              0.2222222222222222,
              "#7201a8"
             ],
             [
              0.3333333333333333,
              "#9c179e"
             ],
             [
              0.4444444444444444,
              "#bd3786"
             ],
             [
              0.5555555555555556,
              "#d8576b"
             ],
             [
              0.6666666666666666,
              "#ed7953"
             ],
             [
              0.7777777777777778,
              "#fb9f3a"
             ],
             [
              0.8888888888888888,
              "#fdca26"
             ],
             [
              1,
              "#f0f921"
             ]
            ],
            "type": "histogram2d"
           }
          ],
          "histogram2dcontour": [
           {
            "colorbar": {
             "outlinewidth": 0,
             "ticks": ""
            },
            "colorscale": [
             [
              0,
              "#0d0887"
             ],
             [
              0.1111111111111111,
              "#46039f"
             ],
             [
              0.2222222222222222,
              "#7201a8"
             ],
             [
              0.3333333333333333,
              "#9c179e"
             ],
             [
              0.4444444444444444,
              "#bd3786"
             ],
             [
              0.5555555555555556,
              "#d8576b"
             ],
             [
              0.6666666666666666,
              "#ed7953"
             ],
             [
              0.7777777777777778,
              "#fb9f3a"
             ],
             [
              0.8888888888888888,
              "#fdca26"
             ],
             [
              1,
              "#f0f921"
             ]
            ],
            "type": "histogram2dcontour"
           }
          ],
          "mesh3d": [
           {
            "colorbar": {
             "outlinewidth": 0,
             "ticks": ""
            },
            "type": "mesh3d"
           }
          ],
          "parcoords": [
           {
            "line": {
             "colorbar": {
              "outlinewidth": 0,
              "ticks": ""
             }
            },
            "type": "parcoords"
           }
          ],
          "pie": [
           {
            "automargin": true,
            "type": "pie"
           }
          ],
          "scatter": [
           {
            "marker": {
             "colorbar": {
              "outlinewidth": 0,
              "ticks": ""
             }
            },
            "type": "scatter"
           }
          ],
          "scatter3d": [
           {
            "line": {
             "colorbar": {
              "outlinewidth": 0,
              "ticks": ""
             }
            },
            "marker": {
             "colorbar": {
              "outlinewidth": 0,
              "ticks": ""
             }
            },
            "type": "scatter3d"
           }
          ],
          "scattercarpet": [
           {
            "marker": {
             "colorbar": {
              "outlinewidth": 0,
              "ticks": ""
             }
            },
            "type": "scattercarpet"
           }
          ],
          "scattergeo": [
           {
            "marker": {
             "colorbar": {
              "outlinewidth": 0,
              "ticks": ""
             }
            },
            "type": "scattergeo"
           }
          ],
          "scattergl": [
           {
            "marker": {
             "colorbar": {
              "outlinewidth": 0,
              "ticks": ""
             }
            },
            "type": "scattergl"
           }
          ],
          "scattermapbox": [
           {
            "marker": {
             "colorbar": {
              "outlinewidth": 0,
              "ticks": ""
             }
            },
            "type": "scattermapbox"
           }
          ],
          "scatterpolar": [
           {
            "marker": {
             "colorbar": {
              "outlinewidth": 0,
              "ticks": ""
             }
            },
            "type": "scatterpolar"
           }
          ],
          "scatterpolargl": [
           {
            "marker": {
             "colorbar": {
              "outlinewidth": 0,
              "ticks": ""
             }
            },
            "type": "scatterpolargl"
           }
          ],
          "scatterternary": [
           {
            "marker": {
             "colorbar": {
              "outlinewidth": 0,
              "ticks": ""
             }
            },
            "type": "scatterternary"
           }
          ],
          "surface": [
           {
            "colorbar": {
             "outlinewidth": 0,
             "ticks": ""
            },
            "colorscale": [
             [
              0,
              "#0d0887"
             ],
             [
              0.1111111111111111,
              "#46039f"
             ],
             [
              0.2222222222222222,
              "#7201a8"
             ],
             [
              0.3333333333333333,
              "#9c179e"
             ],
             [
              0.4444444444444444,
              "#bd3786"
             ],
             [
              0.5555555555555556,
              "#d8576b"
             ],
             [
              0.6666666666666666,
              "#ed7953"
             ],
             [
              0.7777777777777778,
              "#fb9f3a"
             ],
             [
              0.8888888888888888,
              "#fdca26"
             ],
             [
              1,
              "#f0f921"
             ]
            ],
            "type": "surface"
           }
          ],
          "table": [
           {
            "cells": {
             "fill": {
              "color": "#EBF0F8"
             },
             "line": {
              "color": "white"
             }
            },
            "header": {
             "fill": {
              "color": "#C8D4E3"
             },
             "line": {
              "color": "white"
             }
            },
            "type": "table"
           }
          ]
         },
         "layout": {
          "annotationdefaults": {
           "arrowcolor": "#2a3f5f",
           "arrowhead": 0,
           "arrowwidth": 1
          },
          "autotypenumbers": "strict",
          "coloraxis": {
           "colorbar": {
            "outlinewidth": 0,
            "ticks": ""
           }
          },
          "colorscale": {
           "diverging": [
            [
             0,
             "#8e0152"
            ],
            [
             0.1,
             "#c51b7d"
            ],
            [
             0.2,
             "#de77ae"
            ],
            [
             0.3,
             "#f1b6da"
            ],
            [
             0.4,
             "#fde0ef"
            ],
            [
             0.5,
             "#f7f7f7"
            ],
            [
             0.6,
             "#e6f5d0"
            ],
            [
             0.7,
             "#b8e186"
            ],
            [
             0.8,
             "#7fbc41"
            ],
            [
             0.9,
             "#4d9221"
            ],
            [
             1,
             "#276419"
            ]
           ],
           "sequential": [
            [
             0,
             "#0d0887"
            ],
            [
             0.1111111111111111,
             "#46039f"
            ],
            [
             0.2222222222222222,
             "#7201a8"
            ],
            [
             0.3333333333333333,
             "#9c179e"
            ],
            [
             0.4444444444444444,
             "#bd3786"
            ],
            [
             0.5555555555555556,
             "#d8576b"
            ],
            [
             0.6666666666666666,
             "#ed7953"
            ],
            [
             0.7777777777777778,
             "#fb9f3a"
            ],
            [
             0.8888888888888888,
             "#fdca26"
            ],
            [
             1,
             "#f0f921"
            ]
           ],
           "sequentialminus": [
            [
             0,
             "#0d0887"
            ],
            [
             0.1111111111111111,
             "#46039f"
            ],
            [
             0.2222222222222222,
             "#7201a8"
            ],
            [
             0.3333333333333333,
             "#9c179e"
            ],
            [
             0.4444444444444444,
             "#bd3786"
            ],
            [
             0.5555555555555556,
             "#d8576b"
            ],
            [
             0.6666666666666666,
             "#ed7953"
            ],
            [
             0.7777777777777778,
             "#fb9f3a"
            ],
            [
             0.8888888888888888,
             "#fdca26"
            ],
            [
             1,
             "#f0f921"
            ]
           ]
          },
          "colorway": [
           "#636efa",
           "#EF553B",
           "#00cc96",
           "#ab63fa",
           "#FFA15A",
           "#19d3f3",
           "#FF6692",
           "#B6E880",
           "#FF97FF",
           "#FECB52"
          ],
          "font": {
           "color": "#2a3f5f"
          },
          "geo": {
           "bgcolor": "white",
           "lakecolor": "white",
           "landcolor": "#E5ECF6",
           "showlakes": true,
           "showland": true,
           "subunitcolor": "white"
          },
          "hoverlabel": {
           "align": "left"
          },
          "hovermode": "closest",
          "mapbox": {
           "style": "light"
          },
          "paper_bgcolor": "white",
          "plot_bgcolor": "#E5ECF6",
          "polar": {
           "angularaxis": {
            "gridcolor": "white",
            "linecolor": "white",
            "ticks": ""
           },
           "bgcolor": "#E5ECF6",
           "radialaxis": {
            "gridcolor": "white",
            "linecolor": "white",
            "ticks": ""
           }
          },
          "scene": {
           "xaxis": {
            "backgroundcolor": "#E5ECF6",
            "gridcolor": "white",
            "gridwidth": 2,
            "linecolor": "white",
            "showbackground": true,
            "ticks": "",
            "zerolinecolor": "white"
           },
           "yaxis": {
            "backgroundcolor": "#E5ECF6",
            "gridcolor": "white",
            "gridwidth": 2,
            "linecolor": "white",
            "showbackground": true,
            "ticks": "",
            "zerolinecolor": "white"
           },
           "zaxis": {
            "backgroundcolor": "#E5ECF6",
            "gridcolor": "white",
            "gridwidth": 2,
            "linecolor": "white",
            "showbackground": true,
            "ticks": "",
            "zerolinecolor": "white"
           }
          },
          "shapedefaults": {
           "line": {
            "color": "#2a3f5f"
           }
          },
          "ternary": {
           "aaxis": {
            "gridcolor": "white",
            "linecolor": "white",
            "ticks": ""
           },
           "baxis": {
            "gridcolor": "white",
            "linecolor": "white",
            "ticks": ""
           },
           "bgcolor": "#E5ECF6",
           "caxis": {
            "gridcolor": "white",
            "linecolor": "white",
            "ticks": ""
           }
          },
          "title": {
           "x": 0.05
          },
          "xaxis": {
           "automargin": true,
           "gridcolor": "white",
           "linecolor": "white",
           "ticks": "",
           "title": {
            "standoff": 15
           },
           "zerolinecolor": "white",
           "zerolinewidth": 2
          },
          "yaxis": {
           "automargin": true,
           "gridcolor": "white",
           "linecolor": "white",
           "ticks": "",
           "title": {
            "standoff": 15
           },
           "zerolinecolor": "white",
           "zerolinewidth": 2
          }
         }
        }
       }
      },
      "text/html": [
       "<div>                            <div id=\"0c406b08-4c01-4ac5-a7ed-3a3f67b46a07\" class=\"plotly-graph-div\" style=\"height:525px; width:100%;\"></div>            <script type=\"text/javascript\">                require([\"plotly\"], function(Plotly) {                    window.PLOTLYENV=window.PLOTLYENV || {};                                    if (document.getElementById(\"0c406b08-4c01-4ac5-a7ed-3a3f67b46a07\")) {                    Plotly.newPlot(                        \"0c406b08-4c01-4ac5-a7ed-3a3f67b46a07\",                        [{\"name\":\"Q3_2019\",\"x\":[\"account_access\",\"add_account\",\"add_action\",\"add_contact\",\"add_draft\",\"add_group\",\"add_html_template\",\"add_role\",\"add_status\",\"add_workflow\",\"adm_open_settings\",\"edit_account\",\"edit_account_uname\",\"edit_action\",\"edit_contact\",\"edit_docx_template\",\"edit_draft\",\"edit_group\",\"edit_html_template\",\"edit_profile\",\"edit_role\",\"edit_snippet\",\"edit_status\",\"edit_workflow\",\"edit_workflow_group\",\"resend_token\",\"token_login\",\"unblock_password_reset\",\"unsuspend_account\",\"unsuspend_role\"],\"y\":[1,1,21,17,4,0,1,2,6,0,0,7,7,86,4,5,6,4,54,6,482,4,7,5,0,0,0,0,0,1],\"type\":\"scatter\"},{\"name\":\"Q4_2019\",\"x\":[\"account_access\",\"add_account\",\"add_action\",\"add_contact\",\"add_draft\",\"add_group\",\"add_html_template\",\"add_role\",\"add_status\",\"add_workflow\",\"adm_open_settings\",\"edit_account\",\"edit_account_uname\",\"edit_action\",\"edit_contact\",\"edit_docx_template\",\"edit_draft\",\"edit_group\",\"edit_html_template\",\"edit_profile\",\"edit_role\",\"edit_snippet\",\"edit_status\",\"edit_workflow\",\"edit_workflow_group\",\"resend_token\",\"token_login\",\"unblock_password_reset\",\"unsuspend_account\",\"unsuspend_role\"],\"y\":[0,4,5,11,4,0,1,4,4,1,0,19,4,26,8,0,7,4,4,12,15,48,0,2,0,0,0,0,0,0],\"type\":\"scatter\"},{\"name\":\"Q1_2020\",\"x\":[\"account_access\",\"add_account\",\"add_action\",\"add_contact\",\"add_draft\",\"add_group\",\"add_html_template\",\"add_role\",\"add_status\",\"add_workflow\",\"adm_open_settings\",\"edit_account\",\"edit_account_uname\",\"edit_action\",\"edit_contact\",\"edit_docx_template\",\"edit_draft\",\"edit_group\",\"edit_html_template\",\"edit_profile\",\"edit_role\",\"edit_snippet\",\"edit_status\",\"edit_workflow\",\"edit_workflow_group\",\"resend_token\",\"token_login\",\"unblock_password_reset\",\"unsuspend_account\",\"unsuspend_role\"],\"y\":[0,4,49,3,5,1,1,4,5,0,0,7,6,48,4,0,10,2,1,8,10,0,0,0,0,0,0,0,0,0],\"type\":\"scatter\"},{\"name\":\"Q2_2020\",\"x\":[\"account_access\",\"add_account\",\"add_action\",\"add_contact\",\"add_draft\",\"add_group\",\"add_html_template\",\"add_role\",\"add_status\",\"add_workflow\",\"adm_open_settings\",\"edit_account\",\"edit_account_uname\",\"edit_action\",\"edit_contact\",\"edit_docx_template\",\"edit_draft\",\"edit_group\",\"edit_html_template\",\"edit_profile\",\"edit_role\",\"edit_snippet\",\"edit_status\",\"edit_workflow\",\"edit_workflow_group\",\"resend_token\",\"token_login\",\"unblock_password_reset\",\"unsuspend_account\",\"unsuspend_role\"],\"y\":[0,13,4,1,3,1,0,13,3,0,0,6,7,30,4,0,5,7,6,14,136,4,0,2,6,0,0,0,0,0],\"type\":\"scatter\"},{\"name\":\"Q3_2020\",\"x\":[\"account_access\",\"add_account\",\"add_action\",\"add_contact\",\"add_draft\",\"add_group\",\"add_html_template\",\"add_role\",\"add_status\",\"add_workflow\",\"adm_open_settings\",\"edit_account\",\"edit_account_uname\",\"edit_action\",\"edit_contact\",\"edit_docx_template\",\"edit_draft\",\"edit_group\",\"edit_html_template\",\"edit_profile\",\"edit_role\",\"edit_snippet\",\"edit_status\",\"edit_workflow\",\"edit_workflow_group\",\"resend_token\",\"token_login\",\"unblock_password_reset\",\"unsuspend_account\",\"unsuspend_role\"],\"y\":[4,2,7,2,5,0,0,2,3,0,36,22,4,42,3,0,8,7,0,6,52,0,2,0,0,4,8,2,0,3],\"type\":\"scatter\"},{\"name\":\"Q4_2020\",\"x\":[\"account_access\",\"add_account\",\"add_action\",\"add_contact\",\"add_draft\",\"add_group\",\"add_html_template\",\"add_role\",\"add_status\",\"add_workflow\",\"adm_open_settings\",\"edit_account\",\"edit_account_uname\",\"edit_action\",\"edit_contact\",\"edit_docx_template\",\"edit_draft\",\"edit_group\",\"edit_html_template\",\"edit_profile\",\"edit_role\",\"edit_snippet\",\"edit_status\",\"edit_workflow\",\"edit_workflow_group\",\"resend_token\",\"token_login\",\"unblock_password_reset\",\"unsuspend_account\",\"unsuspend_role\"],\"y\":[2,12,3,7,2,1,5,16,1,0,7,6,2,18,8,0,2,3,4,5,12,1,8,4,0,3,12,2,12,0],\"type\":\"scatter\"},{\"name\":\"Q1_2021\",\"x\":[\"account_access\",\"add_account\",\"add_action\",\"add_contact\",\"add_draft\",\"add_group\",\"add_html_template\",\"add_role\",\"add_status\",\"add_workflow\",\"adm_open_settings\",\"edit_account\",\"edit_account_uname\",\"edit_action\",\"edit_contact\",\"edit_docx_template\",\"edit_draft\",\"edit_group\",\"edit_html_template\",\"edit_profile\",\"edit_role\",\"edit_snippet\",\"edit_status\",\"edit_workflow\",\"edit_workflow_group\",\"resend_token\",\"token_login\",\"unblock_password_reset\",\"unsuspend_account\",\"unsuspend_role\"],\"y\":[59,10,3,4,2,0,0,10,2,0,5,4,3,7,5,0,7,3,0,7,12,3,0,2,0,0,13,1,5,0],\"type\":\"scatter\"},{\"name\":\"Q2_2021\",\"x\":[\"account_access\",\"add_account\",\"add_action\",\"add_contact\",\"add_draft\",\"add_group\",\"add_html_template\",\"add_role\",\"add_status\",\"add_workflow\",\"adm_open_settings\",\"edit_account\",\"edit_account_uname\",\"edit_action\",\"edit_contact\",\"edit_docx_template\",\"edit_draft\",\"edit_group\",\"edit_html_template\",\"edit_profile\",\"edit_role\",\"edit_snippet\",\"edit_status\",\"edit_workflow\",\"edit_workflow_group\",\"resend_token\",\"token_login\",\"unblock_password_reset\",\"unsuspend_account\",\"unsuspend_role\"],\"y\":[4,1,4,2,2,0,0,1,0,0,37,6,4,12,1,0,2,3,0,4,70,17,0,1,0,1,13,1,3,0],\"type\":\"scatter\"}],                        {\"template\":{\"data\":{\"bar\":[{\"error_x\":{\"color\":\"#2a3f5f\"},\"error_y\":{\"color\":\"#2a3f5f\"},\"marker\":{\"line\":{\"color\":\"#E5ECF6\",\"width\":0.5},\"pattern\":{\"fillmode\":\"overlay\",\"size\":10,\"solidity\":0.2}},\"type\":\"bar\"}],\"barpolar\":[{\"marker\":{\"line\":{\"color\":\"#E5ECF6\",\"width\":0.5},\"pattern\":{\"fillmode\":\"overlay\",\"size\":10,\"solidity\":0.2}},\"type\":\"barpolar\"}],\"carpet\":[{\"aaxis\":{\"endlinecolor\":\"#2a3f5f\",\"gridcolor\":\"white\",\"linecolor\":\"white\",\"minorgridcolor\":\"white\",\"startlinecolor\":\"#2a3f5f\"},\"baxis\":{\"endlinecolor\":\"#2a3f5f\",\"gridcolor\":\"white\",\"linecolor\":\"white\",\"minorgridcolor\":\"white\",\"startlinecolor\":\"#2a3f5f\"},\"type\":\"carpet\"}],\"choropleth\":[{\"colorbar\":{\"outlinewidth\":0,\"ticks\":\"\"},\"type\":\"choropleth\"}],\"contour\":[{\"colorbar\":{\"outlinewidth\":0,\"ticks\":\"\"},\"colorscale\":[[0.0,\"#0d0887\"],[0.1111111111111111,\"#46039f\"],[0.2222222222222222,\"#7201a8\"],[0.3333333333333333,\"#9c179e\"],[0.4444444444444444,\"#bd3786\"],[0.5555555555555556,\"#d8576b\"],[0.6666666666666666,\"#ed7953\"],[0.7777777777777778,\"#fb9f3a\"],[0.8888888888888888,\"#fdca26\"],[1.0,\"#f0f921\"]],\"type\":\"contour\"}],\"contourcarpet\":[{\"colorbar\":{\"outlinewidth\":0,\"ticks\":\"\"},\"type\":\"contourcarpet\"}],\"heatmap\":[{\"colorbar\":{\"outlinewidth\":0,\"ticks\":\"\"},\"colorscale\":[[0.0,\"#0d0887\"],[0.1111111111111111,\"#46039f\"],[0.2222222222222222,\"#7201a8\"],[0.3333333333333333,\"#9c179e\"],[0.4444444444444444,\"#bd3786\"],[0.5555555555555556,\"#d8576b\"],[0.6666666666666666,\"#ed7953\"],[0.7777777777777778,\"#fb9f3a\"],[0.8888888888888888,\"#fdca26\"],[1.0,\"#f0f921\"]],\"type\":\"heatmap\"}],\"heatmapgl\":[{\"colorbar\":{\"outlinewidth\":0,\"ticks\":\"\"},\"colorscale\":[[0.0,\"#0d0887\"],[0.1111111111111111,\"#46039f\"],[0.2222222222222222,\"#7201a8\"],[0.3333333333333333,\"#9c179e\"],[0.4444444444444444,\"#bd3786\"],[0.5555555555555556,\"#d8576b\"],[0.6666666666666666,\"#ed7953\"],[0.7777777777777778,\"#fb9f3a\"],[0.8888888888888888,\"#fdca26\"],[1.0,\"#f0f921\"]],\"type\":\"heatmapgl\"}],\"histogram\":[{\"marker\":{\"pattern\":{\"fillmode\":\"overlay\",\"size\":10,\"solidity\":0.2}},\"type\":\"histogram\"}],\"histogram2d\":[{\"colorbar\":{\"outlinewidth\":0,\"ticks\":\"\"},\"colorscale\":[[0.0,\"#0d0887\"],[0.1111111111111111,\"#46039f\"],[0.2222222222222222,\"#7201a8\"],[0.3333333333333333,\"#9c179e\"],[0.4444444444444444,\"#bd3786\"],[0.5555555555555556,\"#d8576b\"],[0.6666666666666666,\"#ed7953\"],[0.7777777777777778,\"#fb9f3a\"],[0.8888888888888888,\"#fdca26\"],[1.0,\"#f0f921\"]],\"type\":\"histogram2d\"}],\"histogram2dcontour\":[{\"colorbar\":{\"outlinewidth\":0,\"ticks\":\"\"},\"colorscale\":[[0.0,\"#0d0887\"],[0.1111111111111111,\"#46039f\"],[0.2222222222222222,\"#7201a8\"],[0.3333333333333333,\"#9c179e\"],[0.4444444444444444,\"#bd3786\"],[0.5555555555555556,\"#d8576b\"],[0.6666666666666666,\"#ed7953\"],[0.7777777777777778,\"#fb9f3a\"],[0.8888888888888888,\"#fdca26\"],[1.0,\"#f0f921\"]],\"type\":\"histogram2dcontour\"}],\"mesh3d\":[{\"colorbar\":{\"outlinewidth\":0,\"ticks\":\"\"},\"type\":\"mesh3d\"}],\"parcoords\":[{\"line\":{\"colorbar\":{\"outlinewidth\":0,\"ticks\":\"\"}},\"type\":\"parcoords\"}],\"pie\":[{\"automargin\":true,\"type\":\"pie\"}],\"scatter\":[{\"marker\":{\"colorbar\":{\"outlinewidth\":0,\"ticks\":\"\"}},\"type\":\"scatter\"}],\"scatter3d\":[{\"line\":{\"colorbar\":{\"outlinewidth\":0,\"ticks\":\"\"}},\"marker\":{\"colorbar\":{\"outlinewidth\":0,\"ticks\":\"\"}},\"type\":\"scatter3d\"}],\"scattercarpet\":[{\"marker\":{\"colorbar\":{\"outlinewidth\":0,\"ticks\":\"\"}},\"type\":\"scattercarpet\"}],\"scattergeo\":[{\"marker\":{\"colorbar\":{\"outlinewidth\":0,\"ticks\":\"\"}},\"type\":\"scattergeo\"}],\"scattergl\":[{\"marker\":{\"colorbar\":{\"outlinewidth\":0,\"ticks\":\"\"}},\"type\":\"scattergl\"}],\"scattermapbox\":[{\"marker\":{\"colorbar\":{\"outlinewidth\":0,\"ticks\":\"\"}},\"type\":\"scattermapbox\"}],\"scatterpolar\":[{\"marker\":{\"colorbar\":{\"outlinewidth\":0,\"ticks\":\"\"}},\"type\":\"scatterpolar\"}],\"scatterpolargl\":[{\"marker\":{\"colorbar\":{\"outlinewidth\":0,\"ticks\":\"\"}},\"type\":\"scatterpolargl\"}],\"scatterternary\":[{\"marker\":{\"colorbar\":{\"outlinewidth\":0,\"ticks\":\"\"}},\"type\":\"scatterternary\"}],\"surface\":[{\"colorbar\":{\"outlinewidth\":0,\"ticks\":\"\"},\"colorscale\":[[0.0,\"#0d0887\"],[0.1111111111111111,\"#46039f\"],[0.2222222222222222,\"#7201a8\"],[0.3333333333333333,\"#9c179e\"],[0.4444444444444444,\"#bd3786\"],[0.5555555555555556,\"#d8576b\"],[0.6666666666666666,\"#ed7953\"],[0.7777777777777778,\"#fb9f3a\"],[0.8888888888888888,\"#fdca26\"],[1.0,\"#f0f921\"]],\"type\":\"surface\"}],\"table\":[{\"cells\":{\"fill\":{\"color\":\"#EBF0F8\"},\"line\":{\"color\":\"white\"}},\"header\":{\"fill\":{\"color\":\"#C8D4E3\"},\"line\":{\"color\":\"white\"}},\"type\":\"table\"}]},\"layout\":{\"annotationdefaults\":{\"arrowcolor\":\"#2a3f5f\",\"arrowhead\":0,\"arrowwidth\":1},\"autotypenumbers\":\"strict\",\"coloraxis\":{\"colorbar\":{\"outlinewidth\":0,\"ticks\":\"\"}},\"colorscale\":{\"diverging\":[[0,\"#8e0152\"],[0.1,\"#c51b7d\"],[0.2,\"#de77ae\"],[0.3,\"#f1b6da\"],[0.4,\"#fde0ef\"],[0.5,\"#f7f7f7\"],[0.6,\"#e6f5d0\"],[0.7,\"#b8e186\"],[0.8,\"#7fbc41\"],[0.9,\"#4d9221\"],[1,\"#276419\"]],\"sequential\":[[0.0,\"#0d0887\"],[0.1111111111111111,\"#46039f\"],[0.2222222222222222,\"#7201a8\"],[0.3333333333333333,\"#9c179e\"],[0.4444444444444444,\"#bd3786\"],[0.5555555555555556,\"#d8576b\"],[0.6666666666666666,\"#ed7953\"],[0.7777777777777778,\"#fb9f3a\"],[0.8888888888888888,\"#fdca26\"],[1.0,\"#f0f921\"]],\"sequentialminus\":[[0.0,\"#0d0887\"],[0.1111111111111111,\"#46039f\"],[0.2222222222222222,\"#7201a8\"],[0.3333333333333333,\"#9c179e\"],[0.4444444444444444,\"#bd3786\"],[0.5555555555555556,\"#d8576b\"],[0.6666666666666666,\"#ed7953\"],[0.7777777777777778,\"#fb9f3a\"],[0.8888888888888888,\"#fdca26\"],[1.0,\"#f0f921\"]]},\"colorway\":[\"#636efa\",\"#EF553B\",\"#00cc96\",\"#ab63fa\",\"#FFA15A\",\"#19d3f3\",\"#FF6692\",\"#B6E880\",\"#FF97FF\",\"#FECB52\"],\"font\":{\"color\":\"#2a3f5f\"},\"geo\":{\"bgcolor\":\"white\",\"lakecolor\":\"white\",\"landcolor\":\"#E5ECF6\",\"showlakes\":true,\"showland\":true,\"subunitcolor\":\"white\"},\"hoverlabel\":{\"align\":\"left\"},\"hovermode\":\"closest\",\"mapbox\":{\"style\":\"light\"},\"paper_bgcolor\":\"white\",\"plot_bgcolor\":\"#E5ECF6\",\"polar\":{\"angularaxis\":{\"gridcolor\":\"white\",\"linecolor\":\"white\",\"ticks\":\"\"},\"bgcolor\":\"#E5ECF6\",\"radialaxis\":{\"gridcolor\":\"white\",\"linecolor\":\"white\",\"ticks\":\"\"}},\"scene\":{\"xaxis\":{\"backgroundcolor\":\"#E5ECF6\",\"gridcolor\":\"white\",\"gridwidth\":2,\"linecolor\":\"white\",\"showbackground\":true,\"ticks\":\"\",\"zerolinecolor\":\"white\"},\"yaxis\":{\"backgroundcolor\":\"#E5ECF6\",\"gridcolor\":\"white\",\"gridwidth\":2,\"linecolor\":\"white\",\"showbackground\":true,\"ticks\":\"\",\"zerolinecolor\":\"white\"},\"zaxis\":{\"backgroundcolor\":\"#E5ECF6\",\"gridcolor\":\"white\",\"gridwidth\":2,\"linecolor\":\"white\",\"showbackground\":true,\"ticks\":\"\",\"zerolinecolor\":\"white\"}},\"shapedefaults\":{\"line\":{\"color\":\"#2a3f5f\"}},\"ternary\":{\"aaxis\":{\"gridcolor\":\"white\",\"linecolor\":\"white\",\"ticks\":\"\"},\"baxis\":{\"gridcolor\":\"white\",\"linecolor\":\"white\",\"ticks\":\"\"},\"bgcolor\":\"#E5ECF6\",\"caxis\":{\"gridcolor\":\"white\",\"linecolor\":\"white\",\"ticks\":\"\"}},\"title\":{\"x\":0.05},\"xaxis\":{\"automargin\":true,\"gridcolor\":\"white\",\"linecolor\":\"white\",\"ticks\":\"\",\"title\":{\"standoff\":15},\"zerolinecolor\":\"white\",\"zerolinewidth\":2},\"yaxis\":{\"automargin\":true,\"gridcolor\":\"white\",\"linecolor\":\"white\",\"ticks\":\"\",\"title\":{\"standoff\":15},\"zerolinecolor\":\"white\",\"zerolinewidth\":2}}}},                        {\"responsive\": true}                    ).then(function(){\n",
       "                            \n",
       "var gd = document.getElementById('0c406b08-4c01-4ac5-a7ed-3a3f67b46a07');\n",
       "var x = new MutationObserver(function (mutations, observer) {{\n",
       "        var display = window.getComputedStyle(gd).display;\n",
       "        if (!display || display === 'none') {{\n",
       "            console.log([gd, 'removed!']);\n",
       "            Plotly.purge(gd);\n",
       "            observer.disconnect();\n",
       "        }}\n",
       "}});\n",
       "\n",
       "// Listen for the removal of the full notebook cells\n",
       "var notebookContainer = gd.closest('#notebook-container');\n",
       "if (notebookContainer) {{\n",
       "    x.observe(notebookContainer, {childList: true});\n",
       "}}\n",
       "\n",
       "// Listen for the clearing of the current output cell\n",
       "var outputEl = gd.closest('.output');\n",
       "if (outputEl) {{\n",
       "    x.observe(outputEl, {childList: true});\n",
       "}}\n",
       "\n",
       "                        })                };                });            </script>        </div>"
      ]
     },
     "metadata": {},
     "output_type": "display_data"
    }
   ],
   "source": [
    "fig = go.Figure(go.Line(x=yellow_light, y=np.array(Q3_2019[yellow_light].max()).astype(int), name='Q3_2019'))\n",
    "fig.add_trace(go.Line(x=yellow_light, y=np.array(Q4_2019[yellow_light].max()).astype(int), name='Q4_2019'))\n",
    "fig.add_trace(go.Line(x=yellow_light, y=np.array(Q1_2020[yellow_light].max()).astype(int), name='Q1_2020'))\n",
    "fig.add_trace(go.Line(x=yellow_light, y=np.array(Q2_2020[yellow_light].max()).astype(int), name='Q2_2020'))\n",
    "fig.add_trace(go.Line(x=yellow_light, y=np.array(Q3_2020[yellow_light].max()).astype(int), name='Q3_2020'))\n",
    "fig.add_trace(go.Line(x=yellow_light, y=np.array(Q4_2020[yellow_light].max()).astype(int), name='Q4_2020'))\n",
    "fig.add_trace(go.Line(x=yellow_light, y=np.array(Q1_2021[yellow_light].max()).astype(int), name='Q1_2021'))\n",
    "fig.add_trace(go.Line(x=yellow_light, y=np.array(Q2_2021[yellow_light].max()).astype(int), name='Q2_2021'))\n",
    "fig.show()"
   ]
  },
  {
   "cell_type": "code",
   "execution_count": 19,
   "id": "ccf11abe",
   "metadata": {},
   "outputs": [
    {
     "data": {
      "application/vnd.plotly.v1+json": {
       "config": {
        "plotlyServerURL": "https://plot.ly"
       },
       "data": [
        {
         "name": "Q3_2019",
         "type": "scatter",
         "x": [
          "apply_label",
          "attach_task_file",
          "attach_template",
          "clone_workflow",
          "create_task",
          "create_task",
          "import_contacts",
          "import_workflow",
          "login",
          "logout",
          "make_available",
          "make_unavailable",
          "open_account",
          "open_action",
          "open_contact",
          "open_docx_template",
          "open_group",
          "open_html_template",
          "open_incident_log",
          "open_new_account",
          "open_new_action",
          "open_new_contact",
          "open_new_docx_template",
          "open_new_group",
          "open_new_html_template",
          "open_new_role",
          "open_new_snippet",
          "open_new_status",
          "open_new_workflow",
          "open_perform_action",
          "open_profile",
          "open_role",
          "open_snippet",
          "open_status",
          "open_task",
          "open_workflow",
          "open_workflow_group",
          "perform_action",
          "reset_req",
          "set_action_state",
          "set_status_state"
         ],
         "y": [
          772,
          49262,
          6,
          0,
          34322,
          34322,
          0,
          0,
          59865,
          25192,
          0,
          1,
          61,
          1388,
          75,
          12,
          74,
          39,
          0,
          11,
          159,
          408,
          0,
          1,
          1,
          22,
          0,
          54,
          5,
          291858,
          626,
          923,
          58,
          34,
          739352,
          77,
          3,
          270296,
          0,
          28,
          0
         ]
        },
        {
         "name": "Q4_2019",
         "type": "scatter",
         "x": [
          "apply_label",
          "attach_task_file",
          "attach_template",
          "clone_workflow",
          "create_task",
          "create_task",
          "import_contacts",
          "import_workflow",
          "login",
          "logout",
          "make_available",
          "make_unavailable",
          "open_account",
          "open_action",
          "open_contact",
          "open_docx_template",
          "open_group",
          "open_html_template",
          "open_incident_log",
          "open_new_account",
          "open_new_action",
          "open_new_contact",
          "open_new_docx_template",
          "open_new_group",
          "open_new_html_template",
          "open_new_role",
          "open_new_snippet",
          "open_new_status",
          "open_new_workflow",
          "open_perform_action",
          "open_profile",
          "open_role",
          "open_snippet",
          "open_status",
          "open_task",
          "open_workflow",
          "open_workflow_group",
          "perform_action",
          "reset_req",
          "set_action_state",
          "set_status_state"
         ],
         "y": [
          1508,
          57975,
          0,
          0,
          39714,
          39714,
          0,
          1,
          74695,
          34867,
          0,
          0,
          50,
          893,
          81,
          0,
          87,
          17,
          0,
          23,
          43,
          115,
          0,
          1,
          1,
          21,
          1,
          14,
          8,
          328103,
          1600,
          296,
          34,
          7,
          800344,
          42,
          1,
          307033,
          0,
          1,
          0
         ]
        },
        {
         "name": "Q1_2020",
         "type": "scatter",
         "x": [
          "apply_label",
          "attach_task_file",
          "attach_template",
          "clone_workflow",
          "create_task",
          "create_task",
          "import_contacts",
          "import_workflow",
          "login",
          "logout",
          "make_available",
          "make_unavailable",
          "open_account",
          "open_action",
          "open_contact",
          "open_docx_template",
          "open_group",
          "open_html_template",
          "open_incident_log",
          "open_new_account",
          "open_new_action",
          "open_new_contact",
          "open_new_docx_template",
          "open_new_group",
          "open_new_html_template",
          "open_new_role",
          "open_new_snippet",
          "open_new_status",
          "open_new_workflow",
          "open_perform_action",
          "open_profile",
          "open_role",
          "open_snippet",
          "open_status",
          "open_task",
          "open_workflow",
          "open_workflow_group",
          "perform_action",
          "reset_req",
          "set_action_state",
          "set_status_state"
         ],
         "y": [
          2041,
          50925,
          0,
          0,
          37510,
          37510,
          0,
          0,
          71030,
          32100,
          0,
          1,
          166,
          503,
          30,
          0,
          50,
          12,
          0,
          23,
          110,
          24,
          0,
          11,
          3,
          16,
          0,
          17,
          2,
          334798,
          870,
          106,
          8,
          5,
          814781,
          10,
          0,
          314131,
          0,
          0,
          2
         ]
        },
        {
         "name": "Q2_2020",
         "type": "scatter",
         "x": [
          "apply_label",
          "attach_task_file",
          "attach_template",
          "clone_workflow",
          "create_task",
          "create_task",
          "import_contacts",
          "import_workflow",
          "login",
          "logout",
          "make_available",
          "make_unavailable",
          "open_account",
          "open_action",
          "open_contact",
          "open_docx_template",
          "open_group",
          "open_html_template",
          "open_incident_log",
          "open_new_account",
          "open_new_action",
          "open_new_contact",
          "open_new_docx_template",
          "open_new_group",
          "open_new_html_template",
          "open_new_role",
          "open_new_snippet",
          "open_new_status",
          "open_new_workflow",
          "open_perform_action",
          "open_profile",
          "open_role",
          "open_snippet",
          "open_status",
          "open_task",
          "open_workflow",
          "open_workflow_group",
          "perform_action",
          "reset_req",
          "set_action_state",
          "set_status_state"
         ],
         "y": [
          3791,
          78383,
          0,
          3,
          108874,
          108874,
          0,
          3,
          86558,
          37342,
          0,
          0,
          123,
          476,
          14,
          0,
          77,
          8,
          0,
          45,
          29,
          9,
          0,
          1,
          0,
          48,
          2,
          4,
          0,
          508453,
          570,
          486,
          34,
          17,
          1116244,
          18,
          6,
          478449,
          0,
          7,
          0
         ]
        },
        {
         "name": "Q3_2020",
         "type": "scatter",
         "x": [
          "apply_label",
          "attach_task_file",
          "attach_template",
          "clone_workflow",
          "create_task",
          "create_task",
          "import_contacts",
          "import_workflow",
          "login",
          "logout",
          "make_available",
          "make_unavailable",
          "open_account",
          "open_action",
          "open_contact",
          "open_docx_template",
          "open_group",
          "open_html_template",
          "open_incident_log",
          "open_new_account",
          "open_new_action",
          "open_new_contact",
          "open_new_docx_template",
          "open_new_group",
          "open_new_html_template",
          "open_new_role",
          "open_new_snippet",
          "open_new_status",
          "open_new_workflow",
          "open_perform_action",
          "open_profile",
          "open_role",
          "open_snippet",
          "open_status",
          "open_task",
          "open_workflow",
          "open_workflow_group",
          "perform_action",
          "reset_req",
          "set_action_state",
          "set_status_state"
         ],
         "y": [
          3477,
          62259,
          0,
          0,
          48184,
          48184,
          0,
          0,
          67834,
          22211,
          0,
          0,
          161,
          528,
          38,
          0,
          88,
          4,
          0,
          34,
          31,
          25,
          0,
          0,
          0,
          24,
          0,
          10,
          0,
          409552,
          1497,
          348,
          9,
          12,
          1012482,
          10,
          6,
          381609,
          0,
          9,
          0
         ]
        },
        {
         "name": "Q4_2020",
         "type": "scatter",
         "x": [
          "apply_label",
          "attach_task_file",
          "attach_template",
          "clone_workflow",
          "create_task",
          "create_task",
          "import_contacts",
          "import_workflow",
          "login",
          "logout",
          "make_available",
          "make_unavailable",
          "open_account",
          "open_action",
          "open_contact",
          "open_docx_template",
          "open_group",
          "open_html_template",
          "open_incident_log",
          "open_new_account",
          "open_new_action",
          "open_new_contact",
          "open_new_docx_template",
          "open_new_group",
          "open_new_html_template",
          "open_new_role",
          "open_new_snippet",
          "open_new_status",
          "open_new_workflow",
          "open_perform_action",
          "open_profile",
          "open_role",
          "open_snippet",
          "open_status",
          "open_task",
          "open_workflow",
          "open_workflow_group",
          "perform_action",
          "reset_req",
          "set_action_state",
          "set_status_state"
         ],
         "y": [
          1549,
          60335,
          0,
          0,
          48719,
          48719,
          0,
          3,
          43693,
          0,
          0,
          1,
          127,
          240,
          46,
          0,
          46,
          41,
          0,
          35,
          10,
          27,
          0,
          1,
          6,
          29,
          1,
          1,
          1,
          373263,
          483,
          226,
          11,
          12,
          881144,
          15,
          0,
          352982,
          18,
          0,
          0
         ]
        },
        {
         "name": "Q1_2021",
         "type": "scatter",
         "x": [
          "apply_label",
          "attach_task_file",
          "attach_template",
          "clone_workflow",
          "create_task",
          "create_task",
          "import_contacts",
          "import_workflow",
          "login",
          "logout",
          "make_available",
          "make_unavailable",
          "open_account",
          "open_action",
          "open_contact",
          "open_docx_template",
          "open_group",
          "open_html_template",
          "open_incident_log",
          "open_new_account",
          "open_new_action",
          "open_new_contact",
          "open_new_docx_template",
          "open_new_group",
          "open_new_html_template",
          "open_new_role",
          "open_new_snippet",
          "open_new_status",
          "open_new_workflow",
          "open_perform_action",
          "open_profile",
          "open_role",
          "open_snippet",
          "open_status",
          "open_task",
          "open_workflow",
          "open_workflow_group",
          "perform_action",
          "reset_req",
          "set_action_state",
          "set_status_state"
         ],
         "y": [
          2201,
          54476,
          0,
          0,
          47331,
          47331,
          0,
          0,
          39125,
          0,
          0,
          0,
          62,
          143,
          41,
          0,
          25,
          0,
          3,
          34,
          13,
          16,
          0,
          0,
          0,
          38,
          1,
          6,
          0,
          382732,
          416,
          188,
          11,
          3,
          935230,
          12,
          0,
          364047,
          3,
          2,
          0
         ]
        },
        {
         "name": "Q2_2021",
         "type": "scatter",
         "x": [
          "apply_label",
          "attach_task_file",
          "attach_template",
          "clone_workflow",
          "create_task",
          "create_task",
          "import_contacts",
          "import_workflow",
          "login",
          "logout",
          "make_available",
          "make_unavailable",
          "open_account",
          "open_action",
          "open_contact",
          "open_docx_template",
          "open_group",
          "open_html_template",
          "open_incident_log",
          "open_new_account",
          "open_new_action",
          "open_new_contact",
          "open_new_docx_template",
          "open_new_group",
          "open_new_html_template",
          "open_new_role",
          "open_new_snippet",
          "open_new_status",
          "open_new_workflow",
          "open_perform_action",
          "open_profile",
          "open_role",
          "open_snippet",
          "open_status",
          "open_task",
          "open_workflow",
          "open_workflow_group",
          "perform_action",
          "reset_req",
          "set_action_state",
          "set_status_state"
         ],
         "y": [
          1838,
          49784,
          0,
          0,
          40197,
          40197,
          0,
          0,
          23654,
          0,
          2,
          2,
          356,
          230,
          8,
          0,
          30,
          3,
          0,
          18,
          14,
          11,
          0,
          0,
          0,
          23,
          0,
          1,
          0,
          350681,
          445,
          666,
          28,
          0,
          802812,
          9,
          0,
          333405,
          4,
          0,
          0
         ]
        }
       ],
       "layout": {
        "template": {
         "data": {
          "bar": [
           {
            "error_x": {
             "color": "#2a3f5f"
            },
            "error_y": {
             "color": "#2a3f5f"
            },
            "marker": {
             "line": {
              "color": "#E5ECF6",
              "width": 0.5
             },
             "pattern": {
              "fillmode": "overlay",
              "size": 10,
              "solidity": 0.2
             }
            },
            "type": "bar"
           }
          ],
          "barpolar": [
           {
            "marker": {
             "line": {
              "color": "#E5ECF6",
              "width": 0.5
             },
             "pattern": {
              "fillmode": "overlay",
              "size": 10,
              "solidity": 0.2
             }
            },
            "type": "barpolar"
           }
          ],
          "carpet": [
           {
            "aaxis": {
             "endlinecolor": "#2a3f5f",
             "gridcolor": "white",
             "linecolor": "white",
             "minorgridcolor": "white",
             "startlinecolor": "#2a3f5f"
            },
            "baxis": {
             "endlinecolor": "#2a3f5f",
             "gridcolor": "white",
             "linecolor": "white",
             "minorgridcolor": "white",
             "startlinecolor": "#2a3f5f"
            },
            "type": "carpet"
           }
          ],
          "choropleth": [
           {
            "colorbar": {
             "outlinewidth": 0,
             "ticks": ""
            },
            "type": "choropleth"
           }
          ],
          "contour": [
           {
            "colorbar": {
             "outlinewidth": 0,
             "ticks": ""
            },
            "colorscale": [
             [
              0,
              "#0d0887"
             ],
             [
              0.1111111111111111,
              "#46039f"
             ],
             [
              0.2222222222222222,
              "#7201a8"
             ],
             [
              0.3333333333333333,
              "#9c179e"
             ],
             [
              0.4444444444444444,
              "#bd3786"
             ],
             [
              0.5555555555555556,
              "#d8576b"
             ],
             [
              0.6666666666666666,
              "#ed7953"
             ],
             [
              0.7777777777777778,
              "#fb9f3a"
             ],
             [
              0.8888888888888888,
              "#fdca26"
             ],
             [
              1,
              "#f0f921"
             ]
            ],
            "type": "contour"
           }
          ],
          "contourcarpet": [
           {
            "colorbar": {
             "outlinewidth": 0,
             "ticks": ""
            },
            "type": "contourcarpet"
           }
          ],
          "heatmap": [
           {
            "colorbar": {
             "outlinewidth": 0,
             "ticks": ""
            },
            "colorscale": [
             [
              0,
              "#0d0887"
             ],
             [
              0.1111111111111111,
              "#46039f"
             ],
             [
              0.2222222222222222,
              "#7201a8"
             ],
             [
              0.3333333333333333,
              "#9c179e"
             ],
             [
              0.4444444444444444,
              "#bd3786"
             ],
             [
              0.5555555555555556,
              "#d8576b"
             ],
             [
              0.6666666666666666,
              "#ed7953"
             ],
             [
              0.7777777777777778,
              "#fb9f3a"
             ],
             [
              0.8888888888888888,
              "#fdca26"
             ],
             [
              1,
              "#f0f921"
             ]
            ],
            "type": "heatmap"
           }
          ],
          "heatmapgl": [
           {
            "colorbar": {
             "outlinewidth": 0,
             "ticks": ""
            },
            "colorscale": [
             [
              0,
              "#0d0887"
             ],
             [
              0.1111111111111111,
              "#46039f"
             ],
             [
              0.2222222222222222,
              "#7201a8"
             ],
             [
              0.3333333333333333,
              "#9c179e"
             ],
             [
              0.4444444444444444,
              "#bd3786"
             ],
             [
              0.5555555555555556,
              "#d8576b"
             ],
             [
              0.6666666666666666,
              "#ed7953"
             ],
             [
              0.7777777777777778,
              "#fb9f3a"
             ],
             [
              0.8888888888888888,
              "#fdca26"
             ],
             [
              1,
              "#f0f921"
             ]
            ],
            "type": "heatmapgl"
           }
          ],
          "histogram": [
           {
            "marker": {
             "pattern": {
              "fillmode": "overlay",
              "size": 10,
              "solidity": 0.2
             }
            },
            "type": "histogram"
           }
          ],
          "histogram2d": [
           {
            "colorbar": {
             "outlinewidth": 0,
             "ticks": ""
            },
            "colorscale": [
             [
              0,
              "#0d0887"
             ],
             [
              0.1111111111111111,
              "#46039f"
             ],
             [
              0.2222222222222222,
              "#7201a8"
             ],
             [
              0.3333333333333333,
              "#9c179e"
             ],
             [
              0.4444444444444444,
              "#bd3786"
             ],
             [
              0.5555555555555556,
              "#d8576b"
             ],
             [
              0.6666666666666666,
              "#ed7953"
             ],
             [
              0.7777777777777778,
              "#fb9f3a"
             ],
             [
              0.8888888888888888,
              "#fdca26"
             ],
             [
              1,
              "#f0f921"
             ]
            ],
            "type": "histogram2d"
           }
          ],
          "histogram2dcontour": [
           {
            "colorbar": {
             "outlinewidth": 0,
             "ticks": ""
            },
            "colorscale": [
             [
              0,
              "#0d0887"
             ],
             [
              0.1111111111111111,
              "#46039f"
             ],
             [
              0.2222222222222222,
              "#7201a8"
             ],
             [
              0.3333333333333333,
              "#9c179e"
             ],
             [
              0.4444444444444444,
              "#bd3786"
             ],
             [
              0.5555555555555556,
              "#d8576b"
             ],
             [
              0.6666666666666666,
              "#ed7953"
             ],
             [
              0.7777777777777778,
              "#fb9f3a"
             ],
             [
              0.8888888888888888,
              "#fdca26"
             ],
             [
              1,
              "#f0f921"
             ]
            ],
            "type": "histogram2dcontour"
           }
          ],
          "mesh3d": [
           {
            "colorbar": {
             "outlinewidth": 0,
             "ticks": ""
            },
            "type": "mesh3d"
           }
          ],
          "parcoords": [
           {
            "line": {
             "colorbar": {
              "outlinewidth": 0,
              "ticks": ""
             }
            },
            "type": "parcoords"
           }
          ],
          "pie": [
           {
            "automargin": true,
            "type": "pie"
           }
          ],
          "scatter": [
           {
            "marker": {
             "colorbar": {
              "outlinewidth": 0,
              "ticks": ""
             }
            },
            "type": "scatter"
           }
          ],
          "scatter3d": [
           {
            "line": {
             "colorbar": {
              "outlinewidth": 0,
              "ticks": ""
             }
            },
            "marker": {
             "colorbar": {
              "outlinewidth": 0,
              "ticks": ""
             }
            },
            "type": "scatter3d"
           }
          ],
          "scattercarpet": [
           {
            "marker": {
             "colorbar": {
              "outlinewidth": 0,
              "ticks": ""
             }
            },
            "type": "scattercarpet"
           }
          ],
          "scattergeo": [
           {
            "marker": {
             "colorbar": {
              "outlinewidth": 0,
              "ticks": ""
             }
            },
            "type": "scattergeo"
           }
          ],
          "scattergl": [
           {
            "marker": {
             "colorbar": {
              "outlinewidth": 0,
              "ticks": ""
             }
            },
            "type": "scattergl"
           }
          ],
          "scattermapbox": [
           {
            "marker": {
             "colorbar": {
              "outlinewidth": 0,
              "ticks": ""
             }
            },
            "type": "scattermapbox"
           }
          ],
          "scatterpolar": [
           {
            "marker": {
             "colorbar": {
              "outlinewidth": 0,
              "ticks": ""
             }
            },
            "type": "scatterpolar"
           }
          ],
          "scatterpolargl": [
           {
            "marker": {
             "colorbar": {
              "outlinewidth": 0,
              "ticks": ""
             }
            },
            "type": "scatterpolargl"
           }
          ],
          "scatterternary": [
           {
            "marker": {
             "colorbar": {
              "outlinewidth": 0,
              "ticks": ""
             }
            },
            "type": "scatterternary"
           }
          ],
          "surface": [
           {
            "colorbar": {
             "outlinewidth": 0,
             "ticks": ""
            },
            "colorscale": [
             [
              0,
              "#0d0887"
             ],
             [
              0.1111111111111111,
              "#46039f"
             ],
             [
              0.2222222222222222,
              "#7201a8"
             ],
             [
              0.3333333333333333,
              "#9c179e"
             ],
             [
              0.4444444444444444,
              "#bd3786"
             ],
             [
              0.5555555555555556,
              "#d8576b"
             ],
             [
              0.6666666666666666,
              "#ed7953"
             ],
             [
              0.7777777777777778,
              "#fb9f3a"
             ],
             [
              0.8888888888888888,
              "#fdca26"
             ],
             [
              1,
              "#f0f921"
             ]
            ],
            "type": "surface"
           }
          ],
          "table": [
           {
            "cells": {
             "fill": {
              "color": "#EBF0F8"
             },
             "line": {
              "color": "white"
             }
            },
            "header": {
             "fill": {
              "color": "#C8D4E3"
             },
             "line": {
              "color": "white"
             }
            },
            "type": "table"
           }
          ]
         },
         "layout": {
          "annotationdefaults": {
           "arrowcolor": "#2a3f5f",
           "arrowhead": 0,
           "arrowwidth": 1
          },
          "autotypenumbers": "strict",
          "coloraxis": {
           "colorbar": {
            "outlinewidth": 0,
            "ticks": ""
           }
          },
          "colorscale": {
           "diverging": [
            [
             0,
             "#8e0152"
            ],
            [
             0.1,
             "#c51b7d"
            ],
            [
             0.2,
             "#de77ae"
            ],
            [
             0.3,
             "#f1b6da"
            ],
            [
             0.4,
             "#fde0ef"
            ],
            [
             0.5,
             "#f7f7f7"
            ],
            [
             0.6,
             "#e6f5d0"
            ],
            [
             0.7,
             "#b8e186"
            ],
            [
             0.8,
             "#7fbc41"
            ],
            [
             0.9,
             "#4d9221"
            ],
            [
             1,
             "#276419"
            ]
           ],
           "sequential": [
            [
             0,
             "#0d0887"
            ],
            [
             0.1111111111111111,
             "#46039f"
            ],
            [
             0.2222222222222222,
             "#7201a8"
            ],
            [
             0.3333333333333333,
             "#9c179e"
            ],
            [
             0.4444444444444444,
             "#bd3786"
            ],
            [
             0.5555555555555556,
             "#d8576b"
            ],
            [
             0.6666666666666666,
             "#ed7953"
            ],
            [
             0.7777777777777778,
             "#fb9f3a"
            ],
            [
             0.8888888888888888,
             "#fdca26"
            ],
            [
             1,
             "#f0f921"
            ]
           ],
           "sequentialminus": [
            [
             0,
             "#0d0887"
            ],
            [
             0.1111111111111111,
             "#46039f"
            ],
            [
             0.2222222222222222,
             "#7201a8"
            ],
            [
             0.3333333333333333,
             "#9c179e"
            ],
            [
             0.4444444444444444,
             "#bd3786"
            ],
            [
             0.5555555555555556,
             "#d8576b"
            ],
            [
             0.6666666666666666,
             "#ed7953"
            ],
            [
             0.7777777777777778,
             "#fb9f3a"
            ],
            [
             0.8888888888888888,
             "#fdca26"
            ],
            [
             1,
             "#f0f921"
            ]
           ]
          },
          "colorway": [
           "#636efa",
           "#EF553B",
           "#00cc96",
           "#ab63fa",
           "#FFA15A",
           "#19d3f3",
           "#FF6692",
           "#B6E880",
           "#FF97FF",
           "#FECB52"
          ],
          "font": {
           "color": "#2a3f5f"
          },
          "geo": {
           "bgcolor": "white",
           "lakecolor": "white",
           "landcolor": "#E5ECF6",
           "showlakes": true,
           "showland": true,
           "subunitcolor": "white"
          },
          "hoverlabel": {
           "align": "left"
          },
          "hovermode": "closest",
          "mapbox": {
           "style": "light"
          },
          "paper_bgcolor": "white",
          "plot_bgcolor": "#E5ECF6",
          "polar": {
           "angularaxis": {
            "gridcolor": "white",
            "linecolor": "white",
            "ticks": ""
           },
           "bgcolor": "#E5ECF6",
           "radialaxis": {
            "gridcolor": "white",
            "linecolor": "white",
            "ticks": ""
           }
          },
          "scene": {
           "xaxis": {
            "backgroundcolor": "#E5ECF6",
            "gridcolor": "white",
            "gridwidth": 2,
            "linecolor": "white",
            "showbackground": true,
            "ticks": "",
            "zerolinecolor": "white"
           },
           "yaxis": {
            "backgroundcolor": "#E5ECF6",
            "gridcolor": "white",
            "gridwidth": 2,
            "linecolor": "white",
            "showbackground": true,
            "ticks": "",
            "zerolinecolor": "white"
           },
           "zaxis": {
            "backgroundcolor": "#E5ECF6",
            "gridcolor": "white",
            "gridwidth": 2,
            "linecolor": "white",
            "showbackground": true,
            "ticks": "",
            "zerolinecolor": "white"
           }
          },
          "shapedefaults": {
           "line": {
            "color": "#2a3f5f"
           }
          },
          "ternary": {
           "aaxis": {
            "gridcolor": "white",
            "linecolor": "white",
            "ticks": ""
           },
           "baxis": {
            "gridcolor": "white",
            "linecolor": "white",
            "ticks": ""
           },
           "bgcolor": "#E5ECF6",
           "caxis": {
            "gridcolor": "white",
            "linecolor": "white",
            "ticks": ""
           }
          },
          "title": {
           "x": 0.05
          },
          "xaxis": {
           "automargin": true,
           "gridcolor": "white",
           "linecolor": "white",
           "ticks": "",
           "title": {
            "standoff": 15
           },
           "zerolinecolor": "white",
           "zerolinewidth": 2
          },
          "yaxis": {
           "automargin": true,
           "gridcolor": "white",
           "linecolor": "white",
           "ticks": "",
           "title": {
            "standoff": 15
           },
           "zerolinecolor": "white",
           "zerolinewidth": 2
          }
         }
        }
       }
      },
      "text/html": [
       "<div>                            <div id=\"01c81f5f-4469-4c65-ad51-e0d44ba82f90\" class=\"plotly-graph-div\" style=\"height:525px; width:100%;\"></div>            <script type=\"text/javascript\">                require([\"plotly\"], function(Plotly) {                    window.PLOTLYENV=window.PLOTLYENV || {};                                    if (document.getElementById(\"01c81f5f-4469-4c65-ad51-e0d44ba82f90\")) {                    Plotly.newPlot(                        \"01c81f5f-4469-4c65-ad51-e0d44ba82f90\",                        [{\"name\":\"Q3_2019\",\"x\":[\"apply_label\",\"attach_task_file\",\"attach_template\",\"clone_workflow\",\"create_task\",\"create_task\",\"import_contacts\",\"import_workflow\",\"login\",\"logout\",\"make_available\",\"make_unavailable\",\"open_account\",\"open_action\",\"open_contact\",\"open_docx_template\",\"open_group\",\"open_html_template\",\"open_incident_log\",\"open_new_account\",\"open_new_action\",\"open_new_contact\",\"open_new_docx_template\",\"open_new_group\",\"open_new_html_template\",\"open_new_role\",\"open_new_snippet\",\"open_new_status\",\"open_new_workflow\",\"open_perform_action\",\"open_profile\",\"open_role\",\"open_snippet\",\"open_status\",\"open_task\",\"open_workflow\",\"open_workflow_group\",\"perform_action\",\"reset_req\",\"set_action_state\",\"set_status_state\"],\"y\":[772,49262,6,0,34322,34322,0,0,59865,25192,0,1,61,1388,75,12,74,39,0,11,159,408,0,1,1,22,0,54,5,291858,626,923,58,34,739352,77,3,270296,0,28,0],\"type\":\"scatter\"},{\"name\":\"Q4_2019\",\"x\":[\"apply_label\",\"attach_task_file\",\"attach_template\",\"clone_workflow\",\"create_task\",\"create_task\",\"import_contacts\",\"import_workflow\",\"login\",\"logout\",\"make_available\",\"make_unavailable\",\"open_account\",\"open_action\",\"open_contact\",\"open_docx_template\",\"open_group\",\"open_html_template\",\"open_incident_log\",\"open_new_account\",\"open_new_action\",\"open_new_contact\",\"open_new_docx_template\",\"open_new_group\",\"open_new_html_template\",\"open_new_role\",\"open_new_snippet\",\"open_new_status\",\"open_new_workflow\",\"open_perform_action\",\"open_profile\",\"open_role\",\"open_snippet\",\"open_status\",\"open_task\",\"open_workflow\",\"open_workflow_group\",\"perform_action\",\"reset_req\",\"set_action_state\",\"set_status_state\"],\"y\":[1508,57975,0,0,39714,39714,0,1,74695,34867,0,0,50,893,81,0,87,17,0,23,43,115,0,1,1,21,1,14,8,328103,1600,296,34,7,800344,42,1,307033,0,1,0],\"type\":\"scatter\"},{\"name\":\"Q1_2020\",\"x\":[\"apply_label\",\"attach_task_file\",\"attach_template\",\"clone_workflow\",\"create_task\",\"create_task\",\"import_contacts\",\"import_workflow\",\"login\",\"logout\",\"make_available\",\"make_unavailable\",\"open_account\",\"open_action\",\"open_contact\",\"open_docx_template\",\"open_group\",\"open_html_template\",\"open_incident_log\",\"open_new_account\",\"open_new_action\",\"open_new_contact\",\"open_new_docx_template\",\"open_new_group\",\"open_new_html_template\",\"open_new_role\",\"open_new_snippet\",\"open_new_status\",\"open_new_workflow\",\"open_perform_action\",\"open_profile\",\"open_role\",\"open_snippet\",\"open_status\",\"open_task\",\"open_workflow\",\"open_workflow_group\",\"perform_action\",\"reset_req\",\"set_action_state\",\"set_status_state\"],\"y\":[2041,50925,0,0,37510,37510,0,0,71030,32100,0,1,166,503,30,0,50,12,0,23,110,24,0,11,3,16,0,17,2,334798,870,106,8,5,814781,10,0,314131,0,0,2],\"type\":\"scatter\"},{\"name\":\"Q2_2020\",\"x\":[\"apply_label\",\"attach_task_file\",\"attach_template\",\"clone_workflow\",\"create_task\",\"create_task\",\"import_contacts\",\"import_workflow\",\"login\",\"logout\",\"make_available\",\"make_unavailable\",\"open_account\",\"open_action\",\"open_contact\",\"open_docx_template\",\"open_group\",\"open_html_template\",\"open_incident_log\",\"open_new_account\",\"open_new_action\",\"open_new_contact\",\"open_new_docx_template\",\"open_new_group\",\"open_new_html_template\",\"open_new_role\",\"open_new_snippet\",\"open_new_status\",\"open_new_workflow\",\"open_perform_action\",\"open_profile\",\"open_role\",\"open_snippet\",\"open_status\",\"open_task\",\"open_workflow\",\"open_workflow_group\",\"perform_action\",\"reset_req\",\"set_action_state\",\"set_status_state\"],\"y\":[3791,78383,0,3,108874,108874,0,3,86558,37342,0,0,123,476,14,0,77,8,0,45,29,9,0,1,0,48,2,4,0,508453,570,486,34,17,1116244,18,6,478449,0,7,0],\"type\":\"scatter\"},{\"name\":\"Q3_2020\",\"x\":[\"apply_label\",\"attach_task_file\",\"attach_template\",\"clone_workflow\",\"create_task\",\"create_task\",\"import_contacts\",\"import_workflow\",\"login\",\"logout\",\"make_available\",\"make_unavailable\",\"open_account\",\"open_action\",\"open_contact\",\"open_docx_template\",\"open_group\",\"open_html_template\",\"open_incident_log\",\"open_new_account\",\"open_new_action\",\"open_new_contact\",\"open_new_docx_template\",\"open_new_group\",\"open_new_html_template\",\"open_new_role\",\"open_new_snippet\",\"open_new_status\",\"open_new_workflow\",\"open_perform_action\",\"open_profile\",\"open_role\",\"open_snippet\",\"open_status\",\"open_task\",\"open_workflow\",\"open_workflow_group\",\"perform_action\",\"reset_req\",\"set_action_state\",\"set_status_state\"],\"y\":[3477,62259,0,0,48184,48184,0,0,67834,22211,0,0,161,528,38,0,88,4,0,34,31,25,0,0,0,24,0,10,0,409552,1497,348,9,12,1012482,10,6,381609,0,9,0],\"type\":\"scatter\"},{\"name\":\"Q4_2020\",\"x\":[\"apply_label\",\"attach_task_file\",\"attach_template\",\"clone_workflow\",\"create_task\",\"create_task\",\"import_contacts\",\"import_workflow\",\"login\",\"logout\",\"make_available\",\"make_unavailable\",\"open_account\",\"open_action\",\"open_contact\",\"open_docx_template\",\"open_group\",\"open_html_template\",\"open_incident_log\",\"open_new_account\",\"open_new_action\",\"open_new_contact\",\"open_new_docx_template\",\"open_new_group\",\"open_new_html_template\",\"open_new_role\",\"open_new_snippet\",\"open_new_status\",\"open_new_workflow\",\"open_perform_action\",\"open_profile\",\"open_role\",\"open_snippet\",\"open_status\",\"open_task\",\"open_workflow\",\"open_workflow_group\",\"perform_action\",\"reset_req\",\"set_action_state\",\"set_status_state\"],\"y\":[1549,60335,0,0,48719,48719,0,3,43693,0,0,1,127,240,46,0,46,41,0,35,10,27,0,1,6,29,1,1,1,373263,483,226,11,12,881144,15,0,352982,18,0,0],\"type\":\"scatter\"},{\"name\":\"Q1_2021\",\"x\":[\"apply_label\",\"attach_task_file\",\"attach_template\",\"clone_workflow\",\"create_task\",\"create_task\",\"import_contacts\",\"import_workflow\",\"login\",\"logout\",\"make_available\",\"make_unavailable\",\"open_account\",\"open_action\",\"open_contact\",\"open_docx_template\",\"open_group\",\"open_html_template\",\"open_incident_log\",\"open_new_account\",\"open_new_action\",\"open_new_contact\",\"open_new_docx_template\",\"open_new_group\",\"open_new_html_template\",\"open_new_role\",\"open_new_snippet\",\"open_new_status\",\"open_new_workflow\",\"open_perform_action\",\"open_profile\",\"open_role\",\"open_snippet\",\"open_status\",\"open_task\",\"open_workflow\",\"open_workflow_group\",\"perform_action\",\"reset_req\",\"set_action_state\",\"set_status_state\"],\"y\":[2201,54476,0,0,47331,47331,0,0,39125,0,0,0,62,143,41,0,25,0,3,34,13,16,0,0,0,38,1,6,0,382732,416,188,11,3,935230,12,0,364047,3,2,0],\"type\":\"scatter\"},{\"name\":\"Q2_2021\",\"x\":[\"apply_label\",\"attach_task_file\",\"attach_template\",\"clone_workflow\",\"create_task\",\"create_task\",\"import_contacts\",\"import_workflow\",\"login\",\"logout\",\"make_available\",\"make_unavailable\",\"open_account\",\"open_action\",\"open_contact\",\"open_docx_template\",\"open_group\",\"open_html_template\",\"open_incident_log\",\"open_new_account\",\"open_new_action\",\"open_new_contact\",\"open_new_docx_template\",\"open_new_group\",\"open_new_html_template\",\"open_new_role\",\"open_new_snippet\",\"open_new_status\",\"open_new_workflow\",\"open_perform_action\",\"open_profile\",\"open_role\",\"open_snippet\",\"open_status\",\"open_task\",\"open_workflow\",\"open_workflow_group\",\"perform_action\",\"reset_req\",\"set_action_state\",\"set_status_state\"],\"y\":[1838,49784,0,0,40197,40197,0,0,23654,0,2,2,356,230,8,0,30,3,0,18,14,11,0,0,0,23,0,1,0,350681,445,666,28,0,802812,9,0,333405,4,0,0],\"type\":\"scatter\"}],                        {\"template\":{\"data\":{\"bar\":[{\"error_x\":{\"color\":\"#2a3f5f\"},\"error_y\":{\"color\":\"#2a3f5f\"},\"marker\":{\"line\":{\"color\":\"#E5ECF6\",\"width\":0.5},\"pattern\":{\"fillmode\":\"overlay\",\"size\":10,\"solidity\":0.2}},\"type\":\"bar\"}],\"barpolar\":[{\"marker\":{\"line\":{\"color\":\"#E5ECF6\",\"width\":0.5},\"pattern\":{\"fillmode\":\"overlay\",\"size\":10,\"solidity\":0.2}},\"type\":\"barpolar\"}],\"carpet\":[{\"aaxis\":{\"endlinecolor\":\"#2a3f5f\",\"gridcolor\":\"white\",\"linecolor\":\"white\",\"minorgridcolor\":\"white\",\"startlinecolor\":\"#2a3f5f\"},\"baxis\":{\"endlinecolor\":\"#2a3f5f\",\"gridcolor\":\"white\",\"linecolor\":\"white\",\"minorgridcolor\":\"white\",\"startlinecolor\":\"#2a3f5f\"},\"type\":\"carpet\"}],\"choropleth\":[{\"colorbar\":{\"outlinewidth\":0,\"ticks\":\"\"},\"type\":\"choropleth\"}],\"contour\":[{\"colorbar\":{\"outlinewidth\":0,\"ticks\":\"\"},\"colorscale\":[[0.0,\"#0d0887\"],[0.1111111111111111,\"#46039f\"],[0.2222222222222222,\"#7201a8\"],[0.3333333333333333,\"#9c179e\"],[0.4444444444444444,\"#bd3786\"],[0.5555555555555556,\"#d8576b\"],[0.6666666666666666,\"#ed7953\"],[0.7777777777777778,\"#fb9f3a\"],[0.8888888888888888,\"#fdca26\"],[1.0,\"#f0f921\"]],\"type\":\"contour\"}],\"contourcarpet\":[{\"colorbar\":{\"outlinewidth\":0,\"ticks\":\"\"},\"type\":\"contourcarpet\"}],\"heatmap\":[{\"colorbar\":{\"outlinewidth\":0,\"ticks\":\"\"},\"colorscale\":[[0.0,\"#0d0887\"],[0.1111111111111111,\"#46039f\"],[0.2222222222222222,\"#7201a8\"],[0.3333333333333333,\"#9c179e\"],[0.4444444444444444,\"#bd3786\"],[0.5555555555555556,\"#d8576b\"],[0.6666666666666666,\"#ed7953\"],[0.7777777777777778,\"#fb9f3a\"],[0.8888888888888888,\"#fdca26\"],[1.0,\"#f0f921\"]],\"type\":\"heatmap\"}],\"heatmapgl\":[{\"colorbar\":{\"outlinewidth\":0,\"ticks\":\"\"},\"colorscale\":[[0.0,\"#0d0887\"],[0.1111111111111111,\"#46039f\"],[0.2222222222222222,\"#7201a8\"],[0.3333333333333333,\"#9c179e\"],[0.4444444444444444,\"#bd3786\"],[0.5555555555555556,\"#d8576b\"],[0.6666666666666666,\"#ed7953\"],[0.7777777777777778,\"#fb9f3a\"],[0.8888888888888888,\"#fdca26\"],[1.0,\"#f0f921\"]],\"type\":\"heatmapgl\"}],\"histogram\":[{\"marker\":{\"pattern\":{\"fillmode\":\"overlay\",\"size\":10,\"solidity\":0.2}},\"type\":\"histogram\"}],\"histogram2d\":[{\"colorbar\":{\"outlinewidth\":0,\"ticks\":\"\"},\"colorscale\":[[0.0,\"#0d0887\"],[0.1111111111111111,\"#46039f\"],[0.2222222222222222,\"#7201a8\"],[0.3333333333333333,\"#9c179e\"],[0.4444444444444444,\"#bd3786\"],[0.5555555555555556,\"#d8576b\"],[0.6666666666666666,\"#ed7953\"],[0.7777777777777778,\"#fb9f3a\"],[0.8888888888888888,\"#fdca26\"],[1.0,\"#f0f921\"]],\"type\":\"histogram2d\"}],\"histogram2dcontour\":[{\"colorbar\":{\"outlinewidth\":0,\"ticks\":\"\"},\"colorscale\":[[0.0,\"#0d0887\"],[0.1111111111111111,\"#46039f\"],[0.2222222222222222,\"#7201a8\"],[0.3333333333333333,\"#9c179e\"],[0.4444444444444444,\"#bd3786\"],[0.5555555555555556,\"#d8576b\"],[0.6666666666666666,\"#ed7953\"],[0.7777777777777778,\"#fb9f3a\"],[0.8888888888888888,\"#fdca26\"],[1.0,\"#f0f921\"]],\"type\":\"histogram2dcontour\"}],\"mesh3d\":[{\"colorbar\":{\"outlinewidth\":0,\"ticks\":\"\"},\"type\":\"mesh3d\"}],\"parcoords\":[{\"line\":{\"colorbar\":{\"outlinewidth\":0,\"ticks\":\"\"}},\"type\":\"parcoords\"}],\"pie\":[{\"automargin\":true,\"type\":\"pie\"}],\"scatter\":[{\"marker\":{\"colorbar\":{\"outlinewidth\":0,\"ticks\":\"\"}},\"type\":\"scatter\"}],\"scatter3d\":[{\"line\":{\"colorbar\":{\"outlinewidth\":0,\"ticks\":\"\"}},\"marker\":{\"colorbar\":{\"outlinewidth\":0,\"ticks\":\"\"}},\"type\":\"scatter3d\"}],\"scattercarpet\":[{\"marker\":{\"colorbar\":{\"outlinewidth\":0,\"ticks\":\"\"}},\"type\":\"scattercarpet\"}],\"scattergeo\":[{\"marker\":{\"colorbar\":{\"outlinewidth\":0,\"ticks\":\"\"}},\"type\":\"scattergeo\"}],\"scattergl\":[{\"marker\":{\"colorbar\":{\"outlinewidth\":0,\"ticks\":\"\"}},\"type\":\"scattergl\"}],\"scattermapbox\":[{\"marker\":{\"colorbar\":{\"outlinewidth\":0,\"ticks\":\"\"}},\"type\":\"scattermapbox\"}],\"scatterpolar\":[{\"marker\":{\"colorbar\":{\"outlinewidth\":0,\"ticks\":\"\"}},\"type\":\"scatterpolar\"}],\"scatterpolargl\":[{\"marker\":{\"colorbar\":{\"outlinewidth\":0,\"ticks\":\"\"}},\"type\":\"scatterpolargl\"}],\"scatterternary\":[{\"marker\":{\"colorbar\":{\"outlinewidth\":0,\"ticks\":\"\"}},\"type\":\"scatterternary\"}],\"surface\":[{\"colorbar\":{\"outlinewidth\":0,\"ticks\":\"\"},\"colorscale\":[[0.0,\"#0d0887\"],[0.1111111111111111,\"#46039f\"],[0.2222222222222222,\"#7201a8\"],[0.3333333333333333,\"#9c179e\"],[0.4444444444444444,\"#bd3786\"],[0.5555555555555556,\"#d8576b\"],[0.6666666666666666,\"#ed7953\"],[0.7777777777777778,\"#fb9f3a\"],[0.8888888888888888,\"#fdca26\"],[1.0,\"#f0f921\"]],\"type\":\"surface\"}],\"table\":[{\"cells\":{\"fill\":{\"color\":\"#EBF0F8\"},\"line\":{\"color\":\"white\"}},\"header\":{\"fill\":{\"color\":\"#C8D4E3\"},\"line\":{\"color\":\"white\"}},\"type\":\"table\"}]},\"layout\":{\"annotationdefaults\":{\"arrowcolor\":\"#2a3f5f\",\"arrowhead\":0,\"arrowwidth\":1},\"autotypenumbers\":\"strict\",\"coloraxis\":{\"colorbar\":{\"outlinewidth\":0,\"ticks\":\"\"}},\"colorscale\":{\"diverging\":[[0,\"#8e0152\"],[0.1,\"#c51b7d\"],[0.2,\"#de77ae\"],[0.3,\"#f1b6da\"],[0.4,\"#fde0ef\"],[0.5,\"#f7f7f7\"],[0.6,\"#e6f5d0\"],[0.7,\"#b8e186\"],[0.8,\"#7fbc41\"],[0.9,\"#4d9221\"],[1,\"#276419\"]],\"sequential\":[[0.0,\"#0d0887\"],[0.1111111111111111,\"#46039f\"],[0.2222222222222222,\"#7201a8\"],[0.3333333333333333,\"#9c179e\"],[0.4444444444444444,\"#bd3786\"],[0.5555555555555556,\"#d8576b\"],[0.6666666666666666,\"#ed7953\"],[0.7777777777777778,\"#fb9f3a\"],[0.8888888888888888,\"#fdca26\"],[1.0,\"#f0f921\"]],\"sequentialminus\":[[0.0,\"#0d0887\"],[0.1111111111111111,\"#46039f\"],[0.2222222222222222,\"#7201a8\"],[0.3333333333333333,\"#9c179e\"],[0.4444444444444444,\"#bd3786\"],[0.5555555555555556,\"#d8576b\"],[0.6666666666666666,\"#ed7953\"],[0.7777777777777778,\"#fb9f3a\"],[0.8888888888888888,\"#fdca26\"],[1.0,\"#f0f921\"]]},\"colorway\":[\"#636efa\",\"#EF553B\",\"#00cc96\",\"#ab63fa\",\"#FFA15A\",\"#19d3f3\",\"#FF6692\",\"#B6E880\",\"#FF97FF\",\"#FECB52\"],\"font\":{\"color\":\"#2a3f5f\"},\"geo\":{\"bgcolor\":\"white\",\"lakecolor\":\"white\",\"landcolor\":\"#E5ECF6\",\"showlakes\":true,\"showland\":true,\"subunitcolor\":\"white\"},\"hoverlabel\":{\"align\":\"left\"},\"hovermode\":\"closest\",\"mapbox\":{\"style\":\"light\"},\"paper_bgcolor\":\"white\",\"plot_bgcolor\":\"#E5ECF6\",\"polar\":{\"angularaxis\":{\"gridcolor\":\"white\",\"linecolor\":\"white\",\"ticks\":\"\"},\"bgcolor\":\"#E5ECF6\",\"radialaxis\":{\"gridcolor\":\"white\",\"linecolor\":\"white\",\"ticks\":\"\"}},\"scene\":{\"xaxis\":{\"backgroundcolor\":\"#E5ECF6\",\"gridcolor\":\"white\",\"gridwidth\":2,\"linecolor\":\"white\",\"showbackground\":true,\"ticks\":\"\",\"zerolinecolor\":\"white\"},\"yaxis\":{\"backgroundcolor\":\"#E5ECF6\",\"gridcolor\":\"white\",\"gridwidth\":2,\"linecolor\":\"white\",\"showbackground\":true,\"ticks\":\"\",\"zerolinecolor\":\"white\"},\"zaxis\":{\"backgroundcolor\":\"#E5ECF6\",\"gridcolor\":\"white\",\"gridwidth\":2,\"linecolor\":\"white\",\"showbackground\":true,\"ticks\":\"\",\"zerolinecolor\":\"white\"}},\"shapedefaults\":{\"line\":{\"color\":\"#2a3f5f\"}},\"ternary\":{\"aaxis\":{\"gridcolor\":\"white\",\"linecolor\":\"white\",\"ticks\":\"\"},\"baxis\":{\"gridcolor\":\"white\",\"linecolor\":\"white\",\"ticks\":\"\"},\"bgcolor\":\"#E5ECF6\",\"caxis\":{\"gridcolor\":\"white\",\"linecolor\":\"white\",\"ticks\":\"\"}},\"title\":{\"x\":0.05},\"xaxis\":{\"automargin\":true,\"gridcolor\":\"white\",\"linecolor\":\"white\",\"ticks\":\"\",\"title\":{\"standoff\":15},\"zerolinecolor\":\"white\",\"zerolinewidth\":2},\"yaxis\":{\"automargin\":true,\"gridcolor\":\"white\",\"linecolor\":\"white\",\"ticks\":\"\",\"title\":{\"standoff\":15},\"zerolinecolor\":\"white\",\"zerolinewidth\":2}}}},                        {\"responsive\": true}                    ).then(function(){\n",
       "                            \n",
       "var gd = document.getElementById('01c81f5f-4469-4c65-ad51-e0d44ba82f90');\n",
       "var x = new MutationObserver(function (mutations, observer) {{\n",
       "        var display = window.getComputedStyle(gd).display;\n",
       "        if (!display || display === 'none') {{\n",
       "            console.log([gd, 'removed!']);\n",
       "            Plotly.purge(gd);\n",
       "            observer.disconnect();\n",
       "        }}\n",
       "}});\n",
       "\n",
       "// Listen for the removal of the full notebook cells\n",
       "var notebookContainer = gd.closest('#notebook-container');\n",
       "if (notebookContainer) {{\n",
       "    x.observe(notebookContainer, {childList: true});\n",
       "}}\n",
       "\n",
       "// Listen for the clearing of the current output cell\n",
       "var outputEl = gd.closest('.output');\n",
       "if (outputEl) {{\n",
       "    x.observe(outputEl, {childList: true});\n",
       "}}\n",
       "\n",
       "                        })                };                });            </script>        </div>"
      ]
     },
     "metadata": {},
     "output_type": "display_data"
    }
   ],
   "source": [
    "fig = go.Figure(go.Line(x=green_light, y=np.array(Q3_2019[green_light].sum()).astype(int), name='Q3_2019'))\n",
    "fig.add_trace(go.Line(x=green_light, y=np.array(Q4_2019[green_light].sum()).astype(int), name='Q4_2019'))\n",
    "fig.add_trace(go.Line(x=green_light, y=np.array(Q1_2020[green_light].sum()).astype(int), name='Q1_2020'))\n",
    "fig.add_trace(go.Line(x=green_light, y=np.array(Q2_2020[green_light].sum()).astype(int), name='Q2_2020'))\n",
    "fig.add_trace(go.Line(x=green_light, y=np.array(Q3_2020[green_light].sum()).astype(int), name='Q3_2020'))\n",
    "fig.add_trace(go.Line(x=green_light, y=np.array(Q4_2020[green_light].sum()).astype(int), name='Q4_2020'))\n",
    "fig.add_trace(go.Line(x=green_light, y=np.array(Q1_2021[green_light].sum()).astype(int), name='Q1_2021'))\n",
    "fig.add_trace(go.Line(x=green_light, y=np.array(Q2_2021[green_light].sum()).astype(int), name='Q2_2021'))\n",
    "fig.show()"
   ]
  },
  {
   "cell_type": "code",
   "execution_count": 20,
   "id": "cd1a7e33",
   "metadata": {
    "scrolled": false
   },
   "outputs": [
    {
     "data": {
      "application/vnd.plotly.v1+json": {
       "config": {
        "plotlyServerURL": "https://plot.ly"
       },
       "data": [
        {
         "name": "Q3_2019",
         "type": "scatter",
         "x": [
          "apply_label",
          "attach_task_file",
          "attach_template",
          "clone_workflow",
          "create_task",
          "create_task",
          "import_contacts",
          "import_workflow",
          "login",
          "logout",
          "make_available",
          "make_unavailable",
          "open_account",
          "open_action",
          "open_contact",
          "open_docx_template",
          "open_group",
          "open_html_template",
          "open_incident_log",
          "open_new_account",
          "open_new_action",
          "open_new_contact",
          "open_new_docx_template",
          "open_new_group",
          "open_new_html_template",
          "open_new_role",
          "open_new_snippet",
          "open_new_status",
          "open_new_workflow",
          "open_perform_action",
          "open_profile",
          "open_role",
          "open_snippet",
          "open_status",
          "open_task",
          "open_workflow",
          "open_workflow_group",
          "perform_action",
          "reset_req",
          "set_action_state",
          "set_status_state"
         ],
         "y": [
          21,
          261,
          3,
          0,
          176,
          176,
          0,
          0,
          55,
          46,
          0,
          1,
          7,
          196,
          4,
          3,
          6,
          23,
          0,
          2,
          27,
          20,
          0,
          1,
          1,
          7,
          0,
          6,
          1,
          754,
          9,
          490,
          6,
          10,
          1128,
          9,
          2,
          723,
          0,
          17,
          0
         ]
        },
        {
         "name": "Q4_2019",
         "type": "scatter",
         "x": [
          "apply_label",
          "attach_task_file",
          "attach_template",
          "clone_workflow",
          "create_task",
          "create_task",
          "import_contacts",
          "import_workflow",
          "login",
          "logout",
          "make_available",
          "make_unavailable",
          "open_account",
          "open_action",
          "open_contact",
          "open_docx_template",
          "open_group",
          "open_html_template",
          "open_incident_log",
          "open_new_account",
          "open_new_action",
          "open_new_contact",
          "open_new_docx_template",
          "open_new_group",
          "open_new_html_template",
          "open_new_role",
          "open_new_snippet",
          "open_new_status",
          "open_new_workflow",
          "open_perform_action",
          "open_profile",
          "open_role",
          "open_snippet",
          "open_status",
          "open_task",
          "open_workflow",
          "open_workflow_group",
          "perform_action",
          "reset_req",
          "set_action_state",
          "set_status_state"
         ],
         "y": [
          48,
          164,
          0,
          0,
          97,
          97,
          0,
          1,
          76,
          74,
          0,
          0,
          20,
          40,
          17,
          0,
          12,
          5,
          0,
          4,
          7,
          11,
          0,
          1,
          1,
          4,
          1,
          4,
          3,
          793,
          9,
          26,
          6,
          2,
          912,
          5,
          1,
          744,
          0,
          1,
          0
         ]
        },
        {
         "name": "Q1_2020",
         "type": "scatter",
         "x": [
          "apply_label",
          "attach_task_file",
          "attach_template",
          "clone_workflow",
          "create_task",
          "create_task",
          "import_contacts",
          "import_workflow",
          "login",
          "logout",
          "make_available",
          "make_unavailable",
          "open_account",
          "open_action",
          "open_contact",
          "open_docx_template",
          "open_group",
          "open_html_template",
          "open_incident_log",
          "open_new_account",
          "open_new_action",
          "open_new_contact",
          "open_new_docx_template",
          "open_new_group",
          "open_new_html_template",
          "open_new_role",
          "open_new_snippet",
          "open_new_status",
          "open_new_workflow",
          "open_perform_action",
          "open_profile",
          "open_role",
          "open_snippet",
          "open_status",
          "open_task",
          "open_workflow",
          "open_workflow_group",
          "perform_action",
          "reset_req",
          "set_action_state",
          "set_status_state"
         ],
         "y": [
          38,
          107,
          0,
          0,
          137,
          137,
          0,
          0,
          41,
          37,
          0,
          1,
          95,
          98,
          4,
          0,
          7,
          3,
          0,
          5,
          61,
          5,
          0,
          6,
          1,
          4,
          0,
          5,
          2,
          866,
          9,
          10,
          4,
          1,
          1113,
          2,
          0,
          822,
          0,
          0,
          2
         ]
        },
        {
         "name": "Q2_2020",
         "type": "scatter",
         "x": [
          "apply_label",
          "attach_task_file",
          "attach_template",
          "clone_workflow",
          "create_task",
          "create_task",
          "import_contacts",
          "import_workflow",
          "login",
          "logout",
          "make_available",
          "make_unavailable",
          "open_account",
          "open_action",
          "open_contact",
          "open_docx_template",
          "open_group",
          "open_html_template",
          "open_incident_log",
          "open_new_account",
          "open_new_action",
          "open_new_contact",
          "open_new_docx_template",
          "open_new_group",
          "open_new_html_template",
          "open_new_role",
          "open_new_snippet",
          "open_new_status",
          "open_new_workflow",
          "open_perform_action",
          "open_profile",
          "open_role",
          "open_snippet",
          "open_status",
          "open_task",
          "open_workflow",
          "open_workflow_group",
          "perform_action",
          "reset_req",
          "set_action_state",
          "set_status_state"
         ],
         "y": [
          86,
          244,
          0,
          3,
          412,
          412,
          0,
          2,
          59,
          60,
          0,
          0,
          15,
          49,
          4,
          0,
          10,
          3,
          0,
          13,
          8,
          1,
          0,
          1,
          0,
          13,
          1,
          3,
          0,
          2422,
          9,
          146,
          7,
          14,
          2415,
          4,
          6,
          2355,
          0,
          4,
          0
         ]
        },
        {
         "name": "Q3_2020",
         "type": "scatter",
         "x": [
          "apply_label",
          "attach_task_file",
          "attach_template",
          "clone_workflow",
          "create_task",
          "create_task",
          "import_contacts",
          "import_workflow",
          "login",
          "logout",
          "make_available",
          "make_unavailable",
          "open_account",
          "open_action",
          "open_contact",
          "open_docx_template",
          "open_group",
          "open_html_template",
          "open_incident_log",
          "open_new_account",
          "open_new_action",
          "open_new_contact",
          "open_new_docx_template",
          "open_new_group",
          "open_new_html_template",
          "open_new_role",
          "open_new_snippet",
          "open_new_status",
          "open_new_workflow",
          "open_perform_action",
          "open_profile",
          "open_role",
          "open_snippet",
          "open_status",
          "open_task",
          "open_workflow",
          "open_workflow_group",
          "perform_action",
          "reset_req",
          "set_action_state",
          "set_status_state"
         ],
         "y": [
          63,
          130,
          0,
          0,
          241,
          241,
          0,
          0,
          41,
          34,
          0,
          0,
          36,
          66,
          4,
          0,
          9,
          4,
          0,
          4,
          11,
          3,
          0,
          0,
          0,
          3,
          0,
          4,
          0,
          1543,
          13,
          54,
          3,
          5,
          1600,
          2,
          2,
          1510,
          0,
          7,
          0
         ]
        },
        {
         "name": "Q4_2020",
         "type": "scatter",
         "x": [
          "apply_label",
          "attach_task_file",
          "attach_template",
          "clone_workflow",
          "create_task",
          "create_task",
          "import_contacts",
          "import_workflow",
          "login",
          "logout",
          "make_available",
          "make_unavailable",
          "open_account",
          "open_action",
          "open_contact",
          "open_docx_template",
          "open_group",
          "open_html_template",
          "open_incident_log",
          "open_new_account",
          "open_new_action",
          "open_new_contact",
          "open_new_docx_template",
          "open_new_group",
          "open_new_html_template",
          "open_new_role",
          "open_new_snippet",
          "open_new_status",
          "open_new_workflow",
          "open_perform_action",
          "open_profile",
          "open_role",
          "open_snippet",
          "open_status",
          "open_task",
          "open_workflow",
          "open_workflow_group",
          "perform_action",
          "reset_req",
          "set_action_state",
          "set_status_state"
         ],
         "y": [
          25,
          710,
          0,
          0,
          703,
          703,
          0,
          3,
          73,
          0,
          0,
          1,
          7,
          48,
          8,
          0,
          6,
          19,
          0,
          13,
          4,
          7,
          0,
          1,
          5,
          18,
          1,
          1,
          1,
          2022,
          10,
          27,
          5,
          9,
          2214,
          4,
          0,
          1943,
          3,
          0,
          0
         ]
        },
        {
         "name": "Q1_2021",
         "type": "scatter",
         "x": [
          "apply_label",
          "attach_task_file",
          "attach_template",
          "clone_workflow",
          "create_task",
          "create_task",
          "import_contacts",
          "import_workflow",
          "login",
          "logout",
          "make_available",
          "make_unavailable",
          "open_account",
          "open_action",
          "open_contact",
          "open_docx_template",
          "open_group",
          "open_html_template",
          "open_incident_log",
          "open_new_account",
          "open_new_action",
          "open_new_contact",
          "open_new_docx_template",
          "open_new_group",
          "open_new_html_template",
          "open_new_role",
          "open_new_snippet",
          "open_new_status",
          "open_new_workflow",
          "open_perform_action",
          "open_profile",
          "open_role",
          "open_snippet",
          "open_status",
          "open_task",
          "open_workflow",
          "open_workflow_group",
          "perform_action",
          "reset_req",
          "set_action_state",
          "set_status_state"
         ],
         "y": [
          29,
          177,
          0,
          0,
          194,
          194,
          0,
          0,
          30,
          0,
          0,
          0,
          5,
          15,
          7,
          0,
          7,
          0,
          2,
          10,
          3,
          4,
          0,
          0,
          0,
          16,
          1,
          3,
          0,
          1054,
          10,
          38,
          6,
          1,
          1468,
          3,
          0,
          1033,
          2,
          1,
          0
         ]
        },
        {
         "name": "Q2_2021",
         "type": "scatter",
         "x": [
          "apply_label",
          "attach_task_file",
          "attach_template",
          "clone_workflow",
          "create_task",
          "create_task",
          "import_contacts",
          "import_workflow",
          "login",
          "logout",
          "make_available",
          "make_unavailable",
          "open_account",
          "open_action",
          "open_contact",
          "open_docx_template",
          "open_group",
          "open_html_template",
          "open_incident_log",
          "open_new_account",
          "open_new_action",
          "open_new_contact",
          "open_new_docx_template",
          "open_new_group",
          "open_new_html_template",
          "open_new_role",
          "open_new_snippet",
          "open_new_status",
          "open_new_workflow",
          "open_perform_action",
          "open_profile",
          "open_role",
          "open_snippet",
          "open_status",
          "open_task",
          "open_workflow",
          "open_workflow_group",
          "perform_action",
          "reset_req",
          "set_action_state",
          "set_status_state"
         ],
         "y": [
          38,
          251,
          0,
          0,
          134,
          134,
          0,
          0,
          26,
          0,
          1,
          1,
          37,
          18,
          2,
          0,
          4,
          3,
          0,
          5,
          4,
          3,
          0,
          0,
          0,
          7,
          0,
          1,
          0,
          1192,
          7,
          101,
          18,
          0,
          1444,
          2,
          0,
          1137,
          2,
          0,
          0
         ]
        }
       ],
       "layout": {
        "template": {
         "data": {
          "bar": [
           {
            "error_x": {
             "color": "#2a3f5f"
            },
            "error_y": {
             "color": "#2a3f5f"
            },
            "marker": {
             "line": {
              "color": "#E5ECF6",
              "width": 0.5
             },
             "pattern": {
              "fillmode": "overlay",
              "size": 10,
              "solidity": 0.2
             }
            },
            "type": "bar"
           }
          ],
          "barpolar": [
           {
            "marker": {
             "line": {
              "color": "#E5ECF6",
              "width": 0.5
             },
             "pattern": {
              "fillmode": "overlay",
              "size": 10,
              "solidity": 0.2
             }
            },
            "type": "barpolar"
           }
          ],
          "carpet": [
           {
            "aaxis": {
             "endlinecolor": "#2a3f5f",
             "gridcolor": "white",
             "linecolor": "white",
             "minorgridcolor": "white",
             "startlinecolor": "#2a3f5f"
            },
            "baxis": {
             "endlinecolor": "#2a3f5f",
             "gridcolor": "white",
             "linecolor": "white",
             "minorgridcolor": "white",
             "startlinecolor": "#2a3f5f"
            },
            "type": "carpet"
           }
          ],
          "choropleth": [
           {
            "colorbar": {
             "outlinewidth": 0,
             "ticks": ""
            },
            "type": "choropleth"
           }
          ],
          "contour": [
           {
            "colorbar": {
             "outlinewidth": 0,
             "ticks": ""
            },
            "colorscale": [
             [
              0,
              "#0d0887"
             ],
             [
              0.1111111111111111,
              "#46039f"
             ],
             [
              0.2222222222222222,
              "#7201a8"
             ],
             [
              0.3333333333333333,
              "#9c179e"
             ],
             [
              0.4444444444444444,
              "#bd3786"
             ],
             [
              0.5555555555555556,
              "#d8576b"
             ],
             [
              0.6666666666666666,
              "#ed7953"
             ],
             [
              0.7777777777777778,
              "#fb9f3a"
             ],
             [
              0.8888888888888888,
              "#fdca26"
             ],
             [
              1,
              "#f0f921"
             ]
            ],
            "type": "contour"
           }
          ],
          "contourcarpet": [
           {
            "colorbar": {
             "outlinewidth": 0,
             "ticks": ""
            },
            "type": "contourcarpet"
           }
          ],
          "heatmap": [
           {
            "colorbar": {
             "outlinewidth": 0,
             "ticks": ""
            },
            "colorscale": [
             [
              0,
              "#0d0887"
             ],
             [
              0.1111111111111111,
              "#46039f"
             ],
             [
              0.2222222222222222,
              "#7201a8"
             ],
             [
              0.3333333333333333,
              "#9c179e"
             ],
             [
              0.4444444444444444,
              "#bd3786"
             ],
             [
              0.5555555555555556,
              "#d8576b"
             ],
             [
              0.6666666666666666,
              "#ed7953"
             ],
             [
              0.7777777777777778,
              "#fb9f3a"
             ],
             [
              0.8888888888888888,
              "#fdca26"
             ],
             [
              1,
              "#f0f921"
             ]
            ],
            "type": "heatmap"
           }
          ],
          "heatmapgl": [
           {
            "colorbar": {
             "outlinewidth": 0,
             "ticks": ""
            },
            "colorscale": [
             [
              0,
              "#0d0887"
             ],
             [
              0.1111111111111111,
              "#46039f"
             ],
             [
              0.2222222222222222,
              "#7201a8"
             ],
             [
              0.3333333333333333,
              "#9c179e"
             ],
             [
              0.4444444444444444,
              "#bd3786"
             ],
             [
              0.5555555555555556,
              "#d8576b"
             ],
             [
              0.6666666666666666,
              "#ed7953"
             ],
             [
              0.7777777777777778,
              "#fb9f3a"
             ],
             [
              0.8888888888888888,
              "#fdca26"
             ],
             [
              1,
              "#f0f921"
             ]
            ],
            "type": "heatmapgl"
           }
          ],
          "histogram": [
           {
            "marker": {
             "pattern": {
              "fillmode": "overlay",
              "size": 10,
              "solidity": 0.2
             }
            },
            "type": "histogram"
           }
          ],
          "histogram2d": [
           {
            "colorbar": {
             "outlinewidth": 0,
             "ticks": ""
            },
            "colorscale": [
             [
              0,
              "#0d0887"
             ],
             [
              0.1111111111111111,
              "#46039f"
             ],
             [
              0.2222222222222222,
              "#7201a8"
             ],
             [
              0.3333333333333333,
              "#9c179e"
             ],
             [
              0.4444444444444444,
              "#bd3786"
             ],
             [
              0.5555555555555556,
              "#d8576b"
             ],
             [
              0.6666666666666666,
              "#ed7953"
             ],
             [
              0.7777777777777778,
              "#fb9f3a"
             ],
             [
              0.8888888888888888,
              "#fdca26"
             ],
             [
              1,
              "#f0f921"
             ]
            ],
            "type": "histogram2d"
           }
          ],
          "histogram2dcontour": [
           {
            "colorbar": {
             "outlinewidth": 0,
             "ticks": ""
            },
            "colorscale": [
             [
              0,
              "#0d0887"
             ],
             [
              0.1111111111111111,
              "#46039f"
             ],
             [
              0.2222222222222222,
              "#7201a8"
             ],
             [
              0.3333333333333333,
              "#9c179e"
             ],
             [
              0.4444444444444444,
              "#bd3786"
             ],
             [
              0.5555555555555556,
              "#d8576b"
             ],
             [
              0.6666666666666666,
              "#ed7953"
             ],
             [
              0.7777777777777778,
              "#fb9f3a"
             ],
             [
              0.8888888888888888,
              "#fdca26"
             ],
             [
              1,
              "#f0f921"
             ]
            ],
            "type": "histogram2dcontour"
           }
          ],
          "mesh3d": [
           {
            "colorbar": {
             "outlinewidth": 0,
             "ticks": ""
            },
            "type": "mesh3d"
           }
          ],
          "parcoords": [
           {
            "line": {
             "colorbar": {
              "outlinewidth": 0,
              "ticks": ""
             }
            },
            "type": "parcoords"
           }
          ],
          "pie": [
           {
            "automargin": true,
            "type": "pie"
           }
          ],
          "scatter": [
           {
            "marker": {
             "colorbar": {
              "outlinewidth": 0,
              "ticks": ""
             }
            },
            "type": "scatter"
           }
          ],
          "scatter3d": [
           {
            "line": {
             "colorbar": {
              "outlinewidth": 0,
              "ticks": ""
             }
            },
            "marker": {
             "colorbar": {
              "outlinewidth": 0,
              "ticks": ""
             }
            },
            "type": "scatter3d"
           }
          ],
          "scattercarpet": [
           {
            "marker": {
             "colorbar": {
              "outlinewidth": 0,
              "ticks": ""
             }
            },
            "type": "scattercarpet"
           }
          ],
          "scattergeo": [
           {
            "marker": {
             "colorbar": {
              "outlinewidth": 0,
              "ticks": ""
             }
            },
            "type": "scattergeo"
           }
          ],
          "scattergl": [
           {
            "marker": {
             "colorbar": {
              "outlinewidth": 0,
              "ticks": ""
             }
            },
            "type": "scattergl"
           }
          ],
          "scattermapbox": [
           {
            "marker": {
             "colorbar": {
              "outlinewidth": 0,
              "ticks": ""
             }
            },
            "type": "scattermapbox"
           }
          ],
          "scatterpolar": [
           {
            "marker": {
             "colorbar": {
              "outlinewidth": 0,
              "ticks": ""
             }
            },
            "type": "scatterpolar"
           }
          ],
          "scatterpolargl": [
           {
            "marker": {
             "colorbar": {
              "outlinewidth": 0,
              "ticks": ""
             }
            },
            "type": "scatterpolargl"
           }
          ],
          "scatterternary": [
           {
            "marker": {
             "colorbar": {
              "outlinewidth": 0,
              "ticks": ""
             }
            },
            "type": "scatterternary"
           }
          ],
          "surface": [
           {
            "colorbar": {
             "outlinewidth": 0,
             "ticks": ""
            },
            "colorscale": [
             [
              0,
              "#0d0887"
             ],
             [
              0.1111111111111111,
              "#46039f"
             ],
             [
              0.2222222222222222,
              "#7201a8"
             ],
             [
              0.3333333333333333,
              "#9c179e"
             ],
             [
              0.4444444444444444,
              "#bd3786"
             ],
             [
              0.5555555555555556,
              "#d8576b"
             ],
             [
              0.6666666666666666,
              "#ed7953"
             ],
             [
              0.7777777777777778,
              "#fb9f3a"
             ],
             [
              0.8888888888888888,
              "#fdca26"
             ],
             [
              1,
              "#f0f921"
             ]
            ],
            "type": "surface"
           }
          ],
          "table": [
           {
            "cells": {
             "fill": {
              "color": "#EBF0F8"
             },
             "line": {
              "color": "white"
             }
            },
            "header": {
             "fill": {
              "color": "#C8D4E3"
             },
             "line": {
              "color": "white"
             }
            },
            "type": "table"
           }
          ]
         },
         "layout": {
          "annotationdefaults": {
           "arrowcolor": "#2a3f5f",
           "arrowhead": 0,
           "arrowwidth": 1
          },
          "autotypenumbers": "strict",
          "coloraxis": {
           "colorbar": {
            "outlinewidth": 0,
            "ticks": ""
           }
          },
          "colorscale": {
           "diverging": [
            [
             0,
             "#8e0152"
            ],
            [
             0.1,
             "#c51b7d"
            ],
            [
             0.2,
             "#de77ae"
            ],
            [
             0.3,
             "#f1b6da"
            ],
            [
             0.4,
             "#fde0ef"
            ],
            [
             0.5,
             "#f7f7f7"
            ],
            [
             0.6,
             "#e6f5d0"
            ],
            [
             0.7,
             "#b8e186"
            ],
            [
             0.8,
             "#7fbc41"
            ],
            [
             0.9,
             "#4d9221"
            ],
            [
             1,
             "#276419"
            ]
           ],
           "sequential": [
            [
             0,
             "#0d0887"
            ],
            [
             0.1111111111111111,
             "#46039f"
            ],
            [
             0.2222222222222222,
             "#7201a8"
            ],
            [
             0.3333333333333333,
             "#9c179e"
            ],
            [
             0.4444444444444444,
             "#bd3786"
            ],
            [
             0.5555555555555556,
             "#d8576b"
            ],
            [
             0.6666666666666666,
             "#ed7953"
            ],
            [
             0.7777777777777778,
             "#fb9f3a"
            ],
            [
             0.8888888888888888,
             "#fdca26"
            ],
            [
             1,
             "#f0f921"
            ]
           ],
           "sequentialminus": [
            [
             0,
             "#0d0887"
            ],
            [
             0.1111111111111111,
             "#46039f"
            ],
            [
             0.2222222222222222,
             "#7201a8"
            ],
            [
             0.3333333333333333,
             "#9c179e"
            ],
            [
             0.4444444444444444,
             "#bd3786"
            ],
            [
             0.5555555555555556,
             "#d8576b"
            ],
            [
             0.6666666666666666,
             "#ed7953"
            ],
            [
             0.7777777777777778,
             "#fb9f3a"
            ],
            [
             0.8888888888888888,
             "#fdca26"
            ],
            [
             1,
             "#f0f921"
            ]
           ]
          },
          "colorway": [
           "#636efa",
           "#EF553B",
           "#00cc96",
           "#ab63fa",
           "#FFA15A",
           "#19d3f3",
           "#FF6692",
           "#B6E880",
           "#FF97FF",
           "#FECB52"
          ],
          "font": {
           "color": "#2a3f5f"
          },
          "geo": {
           "bgcolor": "white",
           "lakecolor": "white",
           "landcolor": "#E5ECF6",
           "showlakes": true,
           "showland": true,
           "subunitcolor": "white"
          },
          "hoverlabel": {
           "align": "left"
          },
          "hovermode": "closest",
          "mapbox": {
           "style": "light"
          },
          "paper_bgcolor": "white",
          "plot_bgcolor": "#E5ECF6",
          "polar": {
           "angularaxis": {
            "gridcolor": "white",
            "linecolor": "white",
            "ticks": ""
           },
           "bgcolor": "#E5ECF6",
           "radialaxis": {
            "gridcolor": "white",
            "linecolor": "white",
            "ticks": ""
           }
          },
          "scene": {
           "xaxis": {
            "backgroundcolor": "#E5ECF6",
            "gridcolor": "white",
            "gridwidth": 2,
            "linecolor": "white",
            "showbackground": true,
            "ticks": "",
            "zerolinecolor": "white"
           },
           "yaxis": {
            "backgroundcolor": "#E5ECF6",
            "gridcolor": "white",
            "gridwidth": 2,
            "linecolor": "white",
            "showbackground": true,
            "ticks": "",
            "zerolinecolor": "white"
           },
           "zaxis": {
            "backgroundcolor": "#E5ECF6",
            "gridcolor": "white",
            "gridwidth": 2,
            "linecolor": "white",
            "showbackground": true,
            "ticks": "",
            "zerolinecolor": "white"
           }
          },
          "shapedefaults": {
           "line": {
            "color": "#2a3f5f"
           }
          },
          "ternary": {
           "aaxis": {
            "gridcolor": "white",
            "linecolor": "white",
            "ticks": ""
           },
           "baxis": {
            "gridcolor": "white",
            "linecolor": "white",
            "ticks": ""
           },
           "bgcolor": "#E5ECF6",
           "caxis": {
            "gridcolor": "white",
            "linecolor": "white",
            "ticks": ""
           }
          },
          "title": {
           "x": 0.05
          },
          "xaxis": {
           "automargin": true,
           "gridcolor": "white",
           "linecolor": "white",
           "ticks": "",
           "title": {
            "standoff": 15
           },
           "zerolinecolor": "white",
           "zerolinewidth": 2
          },
          "yaxis": {
           "automargin": true,
           "gridcolor": "white",
           "linecolor": "white",
           "ticks": "",
           "title": {
            "standoff": 15
           },
           "zerolinecolor": "white",
           "zerolinewidth": 2
          }
         }
        }
       }
      },
      "text/html": [
       "<div>                            <div id=\"6254e877-e728-48e9-ac23-e737c9dcf545\" class=\"plotly-graph-div\" style=\"height:525px; width:100%;\"></div>            <script type=\"text/javascript\">                require([\"plotly\"], function(Plotly) {                    window.PLOTLYENV=window.PLOTLYENV || {};                                    if (document.getElementById(\"6254e877-e728-48e9-ac23-e737c9dcf545\")) {                    Plotly.newPlot(                        \"6254e877-e728-48e9-ac23-e737c9dcf545\",                        [{\"name\":\"Q3_2019\",\"x\":[\"apply_label\",\"attach_task_file\",\"attach_template\",\"clone_workflow\",\"create_task\",\"create_task\",\"import_contacts\",\"import_workflow\",\"login\",\"logout\",\"make_available\",\"make_unavailable\",\"open_account\",\"open_action\",\"open_contact\",\"open_docx_template\",\"open_group\",\"open_html_template\",\"open_incident_log\",\"open_new_account\",\"open_new_action\",\"open_new_contact\",\"open_new_docx_template\",\"open_new_group\",\"open_new_html_template\",\"open_new_role\",\"open_new_snippet\",\"open_new_status\",\"open_new_workflow\",\"open_perform_action\",\"open_profile\",\"open_role\",\"open_snippet\",\"open_status\",\"open_task\",\"open_workflow\",\"open_workflow_group\",\"perform_action\",\"reset_req\",\"set_action_state\",\"set_status_state\"],\"y\":[21,261,3,0,176,176,0,0,55,46,0,1,7,196,4,3,6,23,0,2,27,20,0,1,1,7,0,6,1,754,9,490,6,10,1128,9,2,723,0,17,0],\"type\":\"scatter\"},{\"name\":\"Q4_2019\",\"x\":[\"apply_label\",\"attach_task_file\",\"attach_template\",\"clone_workflow\",\"create_task\",\"create_task\",\"import_contacts\",\"import_workflow\",\"login\",\"logout\",\"make_available\",\"make_unavailable\",\"open_account\",\"open_action\",\"open_contact\",\"open_docx_template\",\"open_group\",\"open_html_template\",\"open_incident_log\",\"open_new_account\",\"open_new_action\",\"open_new_contact\",\"open_new_docx_template\",\"open_new_group\",\"open_new_html_template\",\"open_new_role\",\"open_new_snippet\",\"open_new_status\",\"open_new_workflow\",\"open_perform_action\",\"open_profile\",\"open_role\",\"open_snippet\",\"open_status\",\"open_task\",\"open_workflow\",\"open_workflow_group\",\"perform_action\",\"reset_req\",\"set_action_state\",\"set_status_state\"],\"y\":[48,164,0,0,97,97,0,1,76,74,0,0,20,40,17,0,12,5,0,4,7,11,0,1,1,4,1,4,3,793,9,26,6,2,912,5,1,744,0,1,0],\"type\":\"scatter\"},{\"name\":\"Q1_2020\",\"x\":[\"apply_label\",\"attach_task_file\",\"attach_template\",\"clone_workflow\",\"create_task\",\"create_task\",\"import_contacts\",\"import_workflow\",\"login\",\"logout\",\"make_available\",\"make_unavailable\",\"open_account\",\"open_action\",\"open_contact\",\"open_docx_template\",\"open_group\",\"open_html_template\",\"open_incident_log\",\"open_new_account\",\"open_new_action\",\"open_new_contact\",\"open_new_docx_template\",\"open_new_group\",\"open_new_html_template\",\"open_new_role\",\"open_new_snippet\",\"open_new_status\",\"open_new_workflow\",\"open_perform_action\",\"open_profile\",\"open_role\",\"open_snippet\",\"open_status\",\"open_task\",\"open_workflow\",\"open_workflow_group\",\"perform_action\",\"reset_req\",\"set_action_state\",\"set_status_state\"],\"y\":[38,107,0,0,137,137,0,0,41,37,0,1,95,98,4,0,7,3,0,5,61,5,0,6,1,4,0,5,2,866,9,10,4,1,1113,2,0,822,0,0,2],\"type\":\"scatter\"},{\"name\":\"Q2_2020\",\"x\":[\"apply_label\",\"attach_task_file\",\"attach_template\",\"clone_workflow\",\"create_task\",\"create_task\",\"import_contacts\",\"import_workflow\",\"login\",\"logout\",\"make_available\",\"make_unavailable\",\"open_account\",\"open_action\",\"open_contact\",\"open_docx_template\",\"open_group\",\"open_html_template\",\"open_incident_log\",\"open_new_account\",\"open_new_action\",\"open_new_contact\",\"open_new_docx_template\",\"open_new_group\",\"open_new_html_template\",\"open_new_role\",\"open_new_snippet\",\"open_new_status\",\"open_new_workflow\",\"open_perform_action\",\"open_profile\",\"open_role\",\"open_snippet\",\"open_status\",\"open_task\",\"open_workflow\",\"open_workflow_group\",\"perform_action\",\"reset_req\",\"set_action_state\",\"set_status_state\"],\"y\":[86,244,0,3,412,412,0,2,59,60,0,0,15,49,4,0,10,3,0,13,8,1,0,1,0,13,1,3,0,2422,9,146,7,14,2415,4,6,2355,0,4,0],\"type\":\"scatter\"},{\"name\":\"Q3_2020\",\"x\":[\"apply_label\",\"attach_task_file\",\"attach_template\",\"clone_workflow\",\"create_task\",\"create_task\",\"import_contacts\",\"import_workflow\",\"login\",\"logout\",\"make_available\",\"make_unavailable\",\"open_account\",\"open_action\",\"open_contact\",\"open_docx_template\",\"open_group\",\"open_html_template\",\"open_incident_log\",\"open_new_account\",\"open_new_action\",\"open_new_contact\",\"open_new_docx_template\",\"open_new_group\",\"open_new_html_template\",\"open_new_role\",\"open_new_snippet\",\"open_new_status\",\"open_new_workflow\",\"open_perform_action\",\"open_profile\",\"open_role\",\"open_snippet\",\"open_status\",\"open_task\",\"open_workflow\",\"open_workflow_group\",\"perform_action\",\"reset_req\",\"set_action_state\",\"set_status_state\"],\"y\":[63,130,0,0,241,241,0,0,41,34,0,0,36,66,4,0,9,4,0,4,11,3,0,0,0,3,0,4,0,1543,13,54,3,5,1600,2,2,1510,0,7,0],\"type\":\"scatter\"},{\"name\":\"Q4_2020\",\"x\":[\"apply_label\",\"attach_task_file\",\"attach_template\",\"clone_workflow\",\"create_task\",\"create_task\",\"import_contacts\",\"import_workflow\",\"login\",\"logout\",\"make_available\",\"make_unavailable\",\"open_account\",\"open_action\",\"open_contact\",\"open_docx_template\",\"open_group\",\"open_html_template\",\"open_incident_log\",\"open_new_account\",\"open_new_action\",\"open_new_contact\",\"open_new_docx_template\",\"open_new_group\",\"open_new_html_template\",\"open_new_role\",\"open_new_snippet\",\"open_new_status\",\"open_new_workflow\",\"open_perform_action\",\"open_profile\",\"open_role\",\"open_snippet\",\"open_status\",\"open_task\",\"open_workflow\",\"open_workflow_group\",\"perform_action\",\"reset_req\",\"set_action_state\",\"set_status_state\"],\"y\":[25,710,0,0,703,703,0,3,73,0,0,1,7,48,8,0,6,19,0,13,4,7,0,1,5,18,1,1,1,2022,10,27,5,9,2214,4,0,1943,3,0,0],\"type\":\"scatter\"},{\"name\":\"Q1_2021\",\"x\":[\"apply_label\",\"attach_task_file\",\"attach_template\",\"clone_workflow\",\"create_task\",\"create_task\",\"import_contacts\",\"import_workflow\",\"login\",\"logout\",\"make_available\",\"make_unavailable\",\"open_account\",\"open_action\",\"open_contact\",\"open_docx_template\",\"open_group\",\"open_html_template\",\"open_incident_log\",\"open_new_account\",\"open_new_action\",\"open_new_contact\",\"open_new_docx_template\",\"open_new_group\",\"open_new_html_template\",\"open_new_role\",\"open_new_snippet\",\"open_new_status\",\"open_new_workflow\",\"open_perform_action\",\"open_profile\",\"open_role\",\"open_snippet\",\"open_status\",\"open_task\",\"open_workflow\",\"open_workflow_group\",\"perform_action\",\"reset_req\",\"set_action_state\",\"set_status_state\"],\"y\":[29,177,0,0,194,194,0,0,30,0,0,0,5,15,7,0,7,0,2,10,3,4,0,0,0,16,1,3,0,1054,10,38,6,1,1468,3,0,1033,2,1,0],\"type\":\"scatter\"},{\"name\":\"Q2_2021\",\"x\":[\"apply_label\",\"attach_task_file\",\"attach_template\",\"clone_workflow\",\"create_task\",\"create_task\",\"import_contacts\",\"import_workflow\",\"login\",\"logout\",\"make_available\",\"make_unavailable\",\"open_account\",\"open_action\",\"open_contact\",\"open_docx_template\",\"open_group\",\"open_html_template\",\"open_incident_log\",\"open_new_account\",\"open_new_action\",\"open_new_contact\",\"open_new_docx_template\",\"open_new_group\",\"open_new_html_template\",\"open_new_role\",\"open_new_snippet\",\"open_new_status\",\"open_new_workflow\",\"open_perform_action\",\"open_profile\",\"open_role\",\"open_snippet\",\"open_status\",\"open_task\",\"open_workflow\",\"open_workflow_group\",\"perform_action\",\"reset_req\",\"set_action_state\",\"set_status_state\"],\"y\":[38,251,0,0,134,134,0,0,26,0,1,1,37,18,2,0,4,3,0,5,4,3,0,0,0,7,0,1,0,1192,7,101,18,0,1444,2,0,1137,2,0,0],\"type\":\"scatter\"}],                        {\"template\":{\"data\":{\"bar\":[{\"error_x\":{\"color\":\"#2a3f5f\"},\"error_y\":{\"color\":\"#2a3f5f\"},\"marker\":{\"line\":{\"color\":\"#E5ECF6\",\"width\":0.5},\"pattern\":{\"fillmode\":\"overlay\",\"size\":10,\"solidity\":0.2}},\"type\":\"bar\"}],\"barpolar\":[{\"marker\":{\"line\":{\"color\":\"#E5ECF6\",\"width\":0.5},\"pattern\":{\"fillmode\":\"overlay\",\"size\":10,\"solidity\":0.2}},\"type\":\"barpolar\"}],\"carpet\":[{\"aaxis\":{\"endlinecolor\":\"#2a3f5f\",\"gridcolor\":\"white\",\"linecolor\":\"white\",\"minorgridcolor\":\"white\",\"startlinecolor\":\"#2a3f5f\"},\"baxis\":{\"endlinecolor\":\"#2a3f5f\",\"gridcolor\":\"white\",\"linecolor\":\"white\",\"minorgridcolor\":\"white\",\"startlinecolor\":\"#2a3f5f\"},\"type\":\"carpet\"}],\"choropleth\":[{\"colorbar\":{\"outlinewidth\":0,\"ticks\":\"\"},\"type\":\"choropleth\"}],\"contour\":[{\"colorbar\":{\"outlinewidth\":0,\"ticks\":\"\"},\"colorscale\":[[0.0,\"#0d0887\"],[0.1111111111111111,\"#46039f\"],[0.2222222222222222,\"#7201a8\"],[0.3333333333333333,\"#9c179e\"],[0.4444444444444444,\"#bd3786\"],[0.5555555555555556,\"#d8576b\"],[0.6666666666666666,\"#ed7953\"],[0.7777777777777778,\"#fb9f3a\"],[0.8888888888888888,\"#fdca26\"],[1.0,\"#f0f921\"]],\"type\":\"contour\"}],\"contourcarpet\":[{\"colorbar\":{\"outlinewidth\":0,\"ticks\":\"\"},\"type\":\"contourcarpet\"}],\"heatmap\":[{\"colorbar\":{\"outlinewidth\":0,\"ticks\":\"\"},\"colorscale\":[[0.0,\"#0d0887\"],[0.1111111111111111,\"#46039f\"],[0.2222222222222222,\"#7201a8\"],[0.3333333333333333,\"#9c179e\"],[0.4444444444444444,\"#bd3786\"],[0.5555555555555556,\"#d8576b\"],[0.6666666666666666,\"#ed7953\"],[0.7777777777777778,\"#fb9f3a\"],[0.8888888888888888,\"#fdca26\"],[1.0,\"#f0f921\"]],\"type\":\"heatmap\"}],\"heatmapgl\":[{\"colorbar\":{\"outlinewidth\":0,\"ticks\":\"\"},\"colorscale\":[[0.0,\"#0d0887\"],[0.1111111111111111,\"#46039f\"],[0.2222222222222222,\"#7201a8\"],[0.3333333333333333,\"#9c179e\"],[0.4444444444444444,\"#bd3786\"],[0.5555555555555556,\"#d8576b\"],[0.6666666666666666,\"#ed7953\"],[0.7777777777777778,\"#fb9f3a\"],[0.8888888888888888,\"#fdca26\"],[1.0,\"#f0f921\"]],\"type\":\"heatmapgl\"}],\"histogram\":[{\"marker\":{\"pattern\":{\"fillmode\":\"overlay\",\"size\":10,\"solidity\":0.2}},\"type\":\"histogram\"}],\"histogram2d\":[{\"colorbar\":{\"outlinewidth\":0,\"ticks\":\"\"},\"colorscale\":[[0.0,\"#0d0887\"],[0.1111111111111111,\"#46039f\"],[0.2222222222222222,\"#7201a8\"],[0.3333333333333333,\"#9c179e\"],[0.4444444444444444,\"#bd3786\"],[0.5555555555555556,\"#d8576b\"],[0.6666666666666666,\"#ed7953\"],[0.7777777777777778,\"#fb9f3a\"],[0.8888888888888888,\"#fdca26\"],[1.0,\"#f0f921\"]],\"type\":\"histogram2d\"}],\"histogram2dcontour\":[{\"colorbar\":{\"outlinewidth\":0,\"ticks\":\"\"},\"colorscale\":[[0.0,\"#0d0887\"],[0.1111111111111111,\"#46039f\"],[0.2222222222222222,\"#7201a8\"],[0.3333333333333333,\"#9c179e\"],[0.4444444444444444,\"#bd3786\"],[0.5555555555555556,\"#d8576b\"],[0.6666666666666666,\"#ed7953\"],[0.7777777777777778,\"#fb9f3a\"],[0.8888888888888888,\"#fdca26\"],[1.0,\"#f0f921\"]],\"type\":\"histogram2dcontour\"}],\"mesh3d\":[{\"colorbar\":{\"outlinewidth\":0,\"ticks\":\"\"},\"type\":\"mesh3d\"}],\"parcoords\":[{\"line\":{\"colorbar\":{\"outlinewidth\":0,\"ticks\":\"\"}},\"type\":\"parcoords\"}],\"pie\":[{\"automargin\":true,\"type\":\"pie\"}],\"scatter\":[{\"marker\":{\"colorbar\":{\"outlinewidth\":0,\"ticks\":\"\"}},\"type\":\"scatter\"}],\"scatter3d\":[{\"line\":{\"colorbar\":{\"outlinewidth\":0,\"ticks\":\"\"}},\"marker\":{\"colorbar\":{\"outlinewidth\":0,\"ticks\":\"\"}},\"type\":\"scatter3d\"}],\"scattercarpet\":[{\"marker\":{\"colorbar\":{\"outlinewidth\":0,\"ticks\":\"\"}},\"type\":\"scattercarpet\"}],\"scattergeo\":[{\"marker\":{\"colorbar\":{\"outlinewidth\":0,\"ticks\":\"\"}},\"type\":\"scattergeo\"}],\"scattergl\":[{\"marker\":{\"colorbar\":{\"outlinewidth\":0,\"ticks\":\"\"}},\"type\":\"scattergl\"}],\"scattermapbox\":[{\"marker\":{\"colorbar\":{\"outlinewidth\":0,\"ticks\":\"\"}},\"type\":\"scattermapbox\"}],\"scatterpolar\":[{\"marker\":{\"colorbar\":{\"outlinewidth\":0,\"ticks\":\"\"}},\"type\":\"scatterpolar\"}],\"scatterpolargl\":[{\"marker\":{\"colorbar\":{\"outlinewidth\":0,\"ticks\":\"\"}},\"type\":\"scatterpolargl\"}],\"scatterternary\":[{\"marker\":{\"colorbar\":{\"outlinewidth\":0,\"ticks\":\"\"}},\"type\":\"scatterternary\"}],\"surface\":[{\"colorbar\":{\"outlinewidth\":0,\"ticks\":\"\"},\"colorscale\":[[0.0,\"#0d0887\"],[0.1111111111111111,\"#46039f\"],[0.2222222222222222,\"#7201a8\"],[0.3333333333333333,\"#9c179e\"],[0.4444444444444444,\"#bd3786\"],[0.5555555555555556,\"#d8576b\"],[0.6666666666666666,\"#ed7953\"],[0.7777777777777778,\"#fb9f3a\"],[0.8888888888888888,\"#fdca26\"],[1.0,\"#f0f921\"]],\"type\":\"surface\"}],\"table\":[{\"cells\":{\"fill\":{\"color\":\"#EBF0F8\"},\"line\":{\"color\":\"white\"}},\"header\":{\"fill\":{\"color\":\"#C8D4E3\"},\"line\":{\"color\":\"white\"}},\"type\":\"table\"}]},\"layout\":{\"annotationdefaults\":{\"arrowcolor\":\"#2a3f5f\",\"arrowhead\":0,\"arrowwidth\":1},\"autotypenumbers\":\"strict\",\"coloraxis\":{\"colorbar\":{\"outlinewidth\":0,\"ticks\":\"\"}},\"colorscale\":{\"diverging\":[[0,\"#8e0152\"],[0.1,\"#c51b7d\"],[0.2,\"#de77ae\"],[0.3,\"#f1b6da\"],[0.4,\"#fde0ef\"],[0.5,\"#f7f7f7\"],[0.6,\"#e6f5d0\"],[0.7,\"#b8e186\"],[0.8,\"#7fbc41\"],[0.9,\"#4d9221\"],[1,\"#276419\"]],\"sequential\":[[0.0,\"#0d0887\"],[0.1111111111111111,\"#46039f\"],[0.2222222222222222,\"#7201a8\"],[0.3333333333333333,\"#9c179e\"],[0.4444444444444444,\"#bd3786\"],[0.5555555555555556,\"#d8576b\"],[0.6666666666666666,\"#ed7953\"],[0.7777777777777778,\"#fb9f3a\"],[0.8888888888888888,\"#fdca26\"],[1.0,\"#f0f921\"]],\"sequentialminus\":[[0.0,\"#0d0887\"],[0.1111111111111111,\"#46039f\"],[0.2222222222222222,\"#7201a8\"],[0.3333333333333333,\"#9c179e\"],[0.4444444444444444,\"#bd3786\"],[0.5555555555555556,\"#d8576b\"],[0.6666666666666666,\"#ed7953\"],[0.7777777777777778,\"#fb9f3a\"],[0.8888888888888888,\"#fdca26\"],[1.0,\"#f0f921\"]]},\"colorway\":[\"#636efa\",\"#EF553B\",\"#00cc96\",\"#ab63fa\",\"#FFA15A\",\"#19d3f3\",\"#FF6692\",\"#B6E880\",\"#FF97FF\",\"#FECB52\"],\"font\":{\"color\":\"#2a3f5f\"},\"geo\":{\"bgcolor\":\"white\",\"lakecolor\":\"white\",\"landcolor\":\"#E5ECF6\",\"showlakes\":true,\"showland\":true,\"subunitcolor\":\"white\"},\"hoverlabel\":{\"align\":\"left\"},\"hovermode\":\"closest\",\"mapbox\":{\"style\":\"light\"},\"paper_bgcolor\":\"white\",\"plot_bgcolor\":\"#E5ECF6\",\"polar\":{\"angularaxis\":{\"gridcolor\":\"white\",\"linecolor\":\"white\",\"ticks\":\"\"},\"bgcolor\":\"#E5ECF6\",\"radialaxis\":{\"gridcolor\":\"white\",\"linecolor\":\"white\",\"ticks\":\"\"}},\"scene\":{\"xaxis\":{\"backgroundcolor\":\"#E5ECF6\",\"gridcolor\":\"white\",\"gridwidth\":2,\"linecolor\":\"white\",\"showbackground\":true,\"ticks\":\"\",\"zerolinecolor\":\"white\"},\"yaxis\":{\"backgroundcolor\":\"#E5ECF6\",\"gridcolor\":\"white\",\"gridwidth\":2,\"linecolor\":\"white\",\"showbackground\":true,\"ticks\":\"\",\"zerolinecolor\":\"white\"},\"zaxis\":{\"backgroundcolor\":\"#E5ECF6\",\"gridcolor\":\"white\",\"gridwidth\":2,\"linecolor\":\"white\",\"showbackground\":true,\"ticks\":\"\",\"zerolinecolor\":\"white\"}},\"shapedefaults\":{\"line\":{\"color\":\"#2a3f5f\"}},\"ternary\":{\"aaxis\":{\"gridcolor\":\"white\",\"linecolor\":\"white\",\"ticks\":\"\"},\"baxis\":{\"gridcolor\":\"white\",\"linecolor\":\"white\",\"ticks\":\"\"},\"bgcolor\":\"#E5ECF6\",\"caxis\":{\"gridcolor\":\"white\",\"linecolor\":\"white\",\"ticks\":\"\"}},\"title\":{\"x\":0.05},\"xaxis\":{\"automargin\":true,\"gridcolor\":\"white\",\"linecolor\":\"white\",\"ticks\":\"\",\"title\":{\"standoff\":15},\"zerolinecolor\":\"white\",\"zerolinewidth\":2},\"yaxis\":{\"automargin\":true,\"gridcolor\":\"white\",\"linecolor\":\"white\",\"ticks\":\"\",\"title\":{\"standoff\":15},\"zerolinecolor\":\"white\",\"zerolinewidth\":2}}}},                        {\"responsive\": true}                    ).then(function(){\n",
       "                            \n",
       "var gd = document.getElementById('6254e877-e728-48e9-ac23-e737c9dcf545');\n",
       "var x = new MutationObserver(function (mutations, observer) {{\n",
       "        var display = window.getComputedStyle(gd).display;\n",
       "        if (!display || display === 'none') {{\n",
       "            console.log([gd, 'removed!']);\n",
       "            Plotly.purge(gd);\n",
       "            observer.disconnect();\n",
       "        }}\n",
       "}});\n",
       "\n",
       "// Listen for the removal of the full notebook cells\n",
       "var notebookContainer = gd.closest('#notebook-container');\n",
       "if (notebookContainer) {{\n",
       "    x.observe(notebookContainer, {childList: true});\n",
       "}}\n",
       "\n",
       "// Listen for the clearing of the current output cell\n",
       "var outputEl = gd.closest('.output');\n",
       "if (outputEl) {{\n",
       "    x.observe(outputEl, {childList: true});\n",
       "}}\n",
       "\n",
       "                        })                };                });            </script>        </div>"
      ]
     },
     "metadata": {},
     "output_type": "display_data"
    }
   ],
   "source": [
    "fig = go.Figure(go.Line(x=green_light, y=np.array(Q3_2019[green_light].max()).astype(int), name='Q3_2019'))\n",
    "fig.add_trace(go.Line(x=green_light, y=np.array(Q4_2019[green_light].max()).astype(int), name='Q4_2019'))\n",
    "fig.add_trace(go.Line(x=green_light, y=np.array(Q1_2020[green_light].max()).astype(int), name='Q1_2020'))\n",
    "fig.add_trace(go.Line(x=green_light, y=np.array(Q2_2020[green_light].max()).astype(int), name='Q2_2020'))\n",
    "fig.add_trace(go.Line(x=green_light, y=np.array(Q3_2020[green_light].max()).astype(int), name='Q3_2020'))\n",
    "fig.add_trace(go.Line(x=green_light, y=np.array(Q4_2020[green_light].max()).astype(int), name='Q4_2020'))\n",
    "fig.add_trace(go.Line(x=green_light, y=np.array(Q1_2021[green_light].max()).astype(int), name='Q1_2021'))\n",
    "fig.add_trace(go.Line(x=green_light, y=np.array(Q2_2021[green_light].max()).astype(int), name='Q2_2021'))\n",
    "fig.show()"
   ]
  },
  {
   "cell_type": "code",
   "execution_count": 333,
   "id": "ef7b9df5",
   "metadata": {},
   "outputs": [],
   "source": [
    "Q4_2020_features = Q4_2020[Q4_2020[['download_task_files', 'auth_confirm_caution', 'remove_inform']].sum(1) != 0].reset_index(drop = True)"
   ]
  },
  {
   "cell_type": "code",
   "execution_count": 334,
   "id": "3f1c5740",
   "metadata": {},
   "outputs": [],
   "source": [
    "users = list(map(lambda i: i[0] + ' ' + str(i[1]), zip(Q3_2019_features['at'].tolist(), Q3_2019_features['account'].tolist())))"
   ]
  },
  {
   "cell_type": "code",
   "execution_count": 27,
   "id": "14495a6e",
   "metadata": {},
   "outputs": [],
   "source": [
    "# users"
   ]
  },
  {
   "cell_type": "code",
   "execution_count": 335,
   "id": "14271fbb",
   "metadata": {},
   "outputs": [
    {
     "data": {
      "text/plain": [
       "change_contact_status      3.0\n",
       "clear_account_settings     2.0\n",
       "download_template          8.0\n",
       "export_contacts           11.0\n",
       "export_workflow           35.0\n",
       "remove_action              8.0\n",
       "remove_contact             1.0\n",
       "remove_status              3.0\n",
       "reset_password             2.0\n",
       "suspend_role               6.0\n",
       "dtype: float64"
      ]
     },
     "execution_count": 335,
     "metadata": {},
     "output_type": "execute_result"
    }
   ],
   "source": [
    "Q4_2020_features = Q4_2020_features[['download_task_files', 'auth_confirm_caution', 'remove_inform']]"
   ]
  },
  {
   "cell_type": "code",
   "execution_count": 336,
   "id": "61fc949c",
   "metadata": {},
   "outputs": [],
   "source": [
    "x = Q3_2019_features.values\n",
    "scaler = preprocessing.MinMaxScaler()\n",
    "x_scaled = scaler.fit_transform(x)\n",
    "X_norm = pd.DataFrame(x_scaled)"
   ]
  },
  {
   "cell_type": "code",
   "execution_count": 337,
   "id": "0d315501",
   "metadata": {},
   "outputs": [],
   "source": [
    "pca = PCA(n_components = 2)\n",
    "reduced = pd.DataFrame(pca.fit_transform(X_norm))"
   ]
  },
  {
   "cell_type": "code",
   "execution_count": 338,
   "id": "b72b345b",
   "metadata": {},
   "outputs": [
    {
     "name": "stdout",
     "output_type": "stream",
     "text": [
      "(31, 2)\n"
     ]
    },
    {
     "data": {
      "application/vnd.plotly.v1+json": {
       "config": {
        "plotlyServerURL": "https://plot.ly"
       },
       "data": [
        {
         "hovertemplate": "variable=0<br>index=%{x}<br>value=%{y}<extra></extra>",
         "legendgroup": "0",
         "line": {
          "color": "#636efa",
          "dash": "solid"
         },
         "marker": {
          "symbol": "circle"
         },
         "mode": "lines",
         "name": "0",
         "orientation": "v",
         "showlegend": true,
         "type": "scatter",
         "x": [
          0,
          1,
          2,
          3,
          4,
          5,
          6,
          7,
          8,
          9,
          10,
          11,
          12,
          13,
          14,
          15,
          16,
          17,
          18,
          19,
          20,
          21,
          22,
          23,
          24,
          25,
          26,
          27,
          28,
          29,
          30
         ],
         "xaxis": "x",
         "y": [
          0,
          0,
          0,
          0,
          0,
          0,
          0,
          0,
          0,
          0,
          2.7732060490080458e-17,
          2.7732060490080458e-17,
          6.206335383118183e-17,
          6.206335383118183e-17,
          6.736447455048117e-17,
          6.736447455048117e-17,
          1.2412670766236366e-16,
          1.6711069443220838e-16,
          0.004154267344366973,
          0.005729993781337104,
          0.008353971082790741,
          0.02607157609025243,
          0.04513110633354147,
          0.097364655236558,
          0.097364655236558,
          0.24774366998095962,
          0.24774366998095962,
          0.2697863827131305,
          0.2697863827131305,
          0.2764340965812602,
          0.37212167052998363
         ],
         "yaxis": "y"
        }
       ],
       "layout": {
        "legend": {
         "title": {
          "text": "variable"
         },
         "tracegroupgap": 0
        },
        "margin": {
         "t": 60
        },
        "template": {
         "data": {
          "bar": [
           {
            "error_x": {
             "color": "#2a3f5f"
            },
            "error_y": {
             "color": "#2a3f5f"
            },
            "marker": {
             "line": {
              "color": "#E5ECF6",
              "width": 0.5
             },
             "pattern": {
              "fillmode": "overlay",
              "size": 10,
              "solidity": 0.2
             }
            },
            "type": "bar"
           }
          ],
          "barpolar": [
           {
            "marker": {
             "line": {
              "color": "#E5ECF6",
              "width": 0.5
             },
             "pattern": {
              "fillmode": "overlay",
              "size": 10,
              "solidity": 0.2
             }
            },
            "type": "barpolar"
           }
          ],
          "carpet": [
           {
            "aaxis": {
             "endlinecolor": "#2a3f5f",
             "gridcolor": "white",
             "linecolor": "white",
             "minorgridcolor": "white",
             "startlinecolor": "#2a3f5f"
            },
            "baxis": {
             "endlinecolor": "#2a3f5f",
             "gridcolor": "white",
             "linecolor": "white",
             "minorgridcolor": "white",
             "startlinecolor": "#2a3f5f"
            },
            "type": "carpet"
           }
          ],
          "choropleth": [
           {
            "colorbar": {
             "outlinewidth": 0,
             "ticks": ""
            },
            "type": "choropleth"
           }
          ],
          "contour": [
           {
            "colorbar": {
             "outlinewidth": 0,
             "ticks": ""
            },
            "colorscale": [
             [
              0,
              "#0d0887"
             ],
             [
              0.1111111111111111,
              "#46039f"
             ],
             [
              0.2222222222222222,
              "#7201a8"
             ],
             [
              0.3333333333333333,
              "#9c179e"
             ],
             [
              0.4444444444444444,
              "#bd3786"
             ],
             [
              0.5555555555555556,
              "#d8576b"
             ],
             [
              0.6666666666666666,
              "#ed7953"
             ],
             [
              0.7777777777777778,
              "#fb9f3a"
             ],
             [
              0.8888888888888888,
              "#fdca26"
             ],
             [
              1,
              "#f0f921"
             ]
            ],
            "type": "contour"
           }
          ],
          "contourcarpet": [
           {
            "colorbar": {
             "outlinewidth": 0,
             "ticks": ""
            },
            "type": "contourcarpet"
           }
          ],
          "heatmap": [
           {
            "colorbar": {
             "outlinewidth": 0,
             "ticks": ""
            },
            "colorscale": [
             [
              0,
              "#0d0887"
             ],
             [
              0.1111111111111111,
              "#46039f"
             ],
             [
              0.2222222222222222,
              "#7201a8"
             ],
             [
              0.3333333333333333,
              "#9c179e"
             ],
             [
              0.4444444444444444,
              "#bd3786"
             ],
             [
              0.5555555555555556,
              "#d8576b"
             ],
             [
              0.6666666666666666,
              "#ed7953"
             ],
             [
              0.7777777777777778,
              "#fb9f3a"
             ],
             [
              0.8888888888888888,
              "#fdca26"
             ],
             [
              1,
              "#f0f921"
             ]
            ],
            "type": "heatmap"
           }
          ],
          "heatmapgl": [
           {
            "colorbar": {
             "outlinewidth": 0,
             "ticks": ""
            },
            "colorscale": [
             [
              0,
              "#0d0887"
             ],
             [
              0.1111111111111111,
              "#46039f"
             ],
             [
              0.2222222222222222,
              "#7201a8"
             ],
             [
              0.3333333333333333,
              "#9c179e"
             ],
             [
              0.4444444444444444,
              "#bd3786"
             ],
             [
              0.5555555555555556,
              "#d8576b"
             ],
             [
              0.6666666666666666,
              "#ed7953"
             ],
             [
              0.7777777777777778,
              "#fb9f3a"
             ],
             [
              0.8888888888888888,
              "#fdca26"
             ],
             [
              1,
              "#f0f921"
             ]
            ],
            "type": "heatmapgl"
           }
          ],
          "histogram": [
           {
            "marker": {
             "pattern": {
              "fillmode": "overlay",
              "size": 10,
              "solidity": 0.2
             }
            },
            "type": "histogram"
           }
          ],
          "histogram2d": [
           {
            "colorbar": {
             "outlinewidth": 0,
             "ticks": ""
            },
            "colorscale": [
             [
              0,
              "#0d0887"
             ],
             [
              0.1111111111111111,
              "#46039f"
             ],
             [
              0.2222222222222222,
              "#7201a8"
             ],
             [
              0.3333333333333333,
              "#9c179e"
             ],
             [
              0.4444444444444444,
              "#bd3786"
             ],
             [
              0.5555555555555556,
              "#d8576b"
             ],
             [
              0.6666666666666666,
              "#ed7953"
             ],
             [
              0.7777777777777778,
              "#fb9f3a"
             ],
             [
              0.8888888888888888,
              "#fdca26"
             ],
             [
              1,
              "#f0f921"
             ]
            ],
            "type": "histogram2d"
           }
          ],
          "histogram2dcontour": [
           {
            "colorbar": {
             "outlinewidth": 0,
             "ticks": ""
            },
            "colorscale": [
             [
              0,
              "#0d0887"
             ],
             [
              0.1111111111111111,
              "#46039f"
             ],
             [
              0.2222222222222222,
              "#7201a8"
             ],
             [
              0.3333333333333333,
              "#9c179e"
             ],
             [
              0.4444444444444444,
              "#bd3786"
             ],
             [
              0.5555555555555556,
              "#d8576b"
             ],
             [
              0.6666666666666666,
              "#ed7953"
             ],
             [
              0.7777777777777778,
              "#fb9f3a"
             ],
             [
              0.8888888888888888,
              "#fdca26"
             ],
             [
              1,
              "#f0f921"
             ]
            ],
            "type": "histogram2dcontour"
           }
          ],
          "mesh3d": [
           {
            "colorbar": {
             "outlinewidth": 0,
             "ticks": ""
            },
            "type": "mesh3d"
           }
          ],
          "parcoords": [
           {
            "line": {
             "colorbar": {
              "outlinewidth": 0,
              "ticks": ""
             }
            },
            "type": "parcoords"
           }
          ],
          "pie": [
           {
            "automargin": true,
            "type": "pie"
           }
          ],
          "scatter": [
           {
            "marker": {
             "colorbar": {
              "outlinewidth": 0,
              "ticks": ""
             }
            },
            "type": "scatter"
           }
          ],
          "scatter3d": [
           {
            "line": {
             "colorbar": {
              "outlinewidth": 0,
              "ticks": ""
             }
            },
            "marker": {
             "colorbar": {
              "outlinewidth": 0,
              "ticks": ""
             }
            },
            "type": "scatter3d"
           }
          ],
          "scattercarpet": [
           {
            "marker": {
             "colorbar": {
              "outlinewidth": 0,
              "ticks": ""
             }
            },
            "type": "scattercarpet"
           }
          ],
          "scattergeo": [
           {
            "marker": {
             "colorbar": {
              "outlinewidth": 0,
              "ticks": ""
             }
            },
            "type": "scattergeo"
           }
          ],
          "scattergl": [
           {
            "marker": {
             "colorbar": {
              "outlinewidth": 0,
              "ticks": ""
             }
            },
            "type": "scattergl"
           }
          ],
          "scattermapbox": [
           {
            "marker": {
             "colorbar": {
              "outlinewidth": 0,
              "ticks": ""
             }
            },
            "type": "scattermapbox"
           }
          ],
          "scatterpolar": [
           {
            "marker": {
             "colorbar": {
              "outlinewidth": 0,
              "ticks": ""
             }
            },
            "type": "scatterpolar"
           }
          ],
          "scatterpolargl": [
           {
            "marker": {
             "colorbar": {
              "outlinewidth": 0,
              "ticks": ""
             }
            },
            "type": "scatterpolargl"
           }
          ],
          "scatterternary": [
           {
            "marker": {
             "colorbar": {
              "outlinewidth": 0,
              "ticks": ""
             }
            },
            "type": "scatterternary"
           }
          ],
          "surface": [
           {
            "colorbar": {
             "outlinewidth": 0,
             "ticks": ""
            },
            "colorscale": [
             [
              0,
              "#0d0887"
             ],
             [
              0.1111111111111111,
              "#46039f"
             ],
             [
              0.2222222222222222,
              "#7201a8"
             ],
             [
              0.3333333333333333,
              "#9c179e"
             ],
             [
              0.4444444444444444,
              "#bd3786"
             ],
             [
              0.5555555555555556,
              "#d8576b"
             ],
             [
              0.6666666666666666,
              "#ed7953"
             ],
             [
              0.7777777777777778,
              "#fb9f3a"
             ],
             [
              0.8888888888888888,
              "#fdca26"
             ],
             [
              1,
              "#f0f921"
             ]
            ],
            "type": "surface"
           }
          ],
          "table": [
           {
            "cells": {
             "fill": {
              "color": "#EBF0F8"
             },
             "line": {
              "color": "white"
             }
            },
            "header": {
             "fill": {
              "color": "#C8D4E3"
             },
             "line": {
              "color": "white"
             }
            },
            "type": "table"
           }
          ]
         },
         "layout": {
          "annotationdefaults": {
           "arrowcolor": "#2a3f5f",
           "arrowhead": 0,
           "arrowwidth": 1
          },
          "autotypenumbers": "strict",
          "coloraxis": {
           "colorbar": {
            "outlinewidth": 0,
            "ticks": ""
           }
          },
          "colorscale": {
           "diverging": [
            [
             0,
             "#8e0152"
            ],
            [
             0.1,
             "#c51b7d"
            ],
            [
             0.2,
             "#de77ae"
            ],
            [
             0.3,
             "#f1b6da"
            ],
            [
             0.4,
             "#fde0ef"
            ],
            [
             0.5,
             "#f7f7f7"
            ],
            [
             0.6,
             "#e6f5d0"
            ],
            [
             0.7,
             "#b8e186"
            ],
            [
             0.8,
             "#7fbc41"
            ],
            [
             0.9,
             "#4d9221"
            ],
            [
             1,
             "#276419"
            ]
           ],
           "sequential": [
            [
             0,
             "#0d0887"
            ],
            [
             0.1111111111111111,
             "#46039f"
            ],
            [
             0.2222222222222222,
             "#7201a8"
            ],
            [
             0.3333333333333333,
             "#9c179e"
            ],
            [
             0.4444444444444444,
             "#bd3786"
            ],
            [
             0.5555555555555556,
             "#d8576b"
            ],
            [
             0.6666666666666666,
             "#ed7953"
            ],
            [
             0.7777777777777778,
             "#fb9f3a"
            ],
            [
             0.8888888888888888,
             "#fdca26"
            ],
            [
             1,
             "#f0f921"
            ]
           ],
           "sequentialminus": [
            [
             0,
             "#0d0887"
            ],
            [
             0.1111111111111111,
             "#46039f"
            ],
            [
             0.2222222222222222,
             "#7201a8"
            ],
            [
             0.3333333333333333,
             "#9c179e"
            ],
            [
             0.4444444444444444,
             "#bd3786"
            ],
            [
             0.5555555555555556,
             "#d8576b"
            ],
            [
             0.6666666666666666,
             "#ed7953"
            ],
            [
             0.7777777777777778,
             "#fb9f3a"
            ],
            [
             0.8888888888888888,
             "#fdca26"
            ],
            [
             1,
             "#f0f921"
            ]
           ]
          },
          "colorway": [
           "#636efa",
           "#EF553B",
           "#00cc96",
           "#ab63fa",
           "#FFA15A",
           "#19d3f3",
           "#FF6692",
           "#B6E880",
           "#FF97FF",
           "#FECB52"
          ],
          "font": {
           "color": "#2a3f5f"
          },
          "geo": {
           "bgcolor": "white",
           "lakecolor": "white",
           "landcolor": "#E5ECF6",
           "showlakes": true,
           "showland": true,
           "subunitcolor": "white"
          },
          "hoverlabel": {
           "align": "left"
          },
          "hovermode": "closest",
          "mapbox": {
           "style": "light"
          },
          "paper_bgcolor": "white",
          "plot_bgcolor": "#E5ECF6",
          "polar": {
           "angularaxis": {
            "gridcolor": "white",
            "linecolor": "white",
            "ticks": ""
           },
           "bgcolor": "#E5ECF6",
           "radialaxis": {
            "gridcolor": "white",
            "linecolor": "white",
            "ticks": ""
           }
          },
          "scene": {
           "xaxis": {
            "backgroundcolor": "#E5ECF6",
            "gridcolor": "white",
            "gridwidth": 2,
            "linecolor": "white",
            "showbackground": true,
            "ticks": "",
            "zerolinecolor": "white"
           },
           "yaxis": {
            "backgroundcolor": "#E5ECF6",
            "gridcolor": "white",
            "gridwidth": 2,
            "linecolor": "white",
            "showbackground": true,
            "ticks": "",
            "zerolinecolor": "white"
           },
           "zaxis": {
            "backgroundcolor": "#E5ECF6",
            "gridcolor": "white",
            "gridwidth": 2,
            "linecolor": "white",
            "showbackground": true,
            "ticks": "",
            "zerolinecolor": "white"
           }
          },
          "shapedefaults": {
           "line": {
            "color": "#2a3f5f"
           }
          },
          "ternary": {
           "aaxis": {
            "gridcolor": "white",
            "linecolor": "white",
            "ticks": ""
           },
           "baxis": {
            "gridcolor": "white",
            "linecolor": "white",
            "ticks": ""
           },
           "bgcolor": "#E5ECF6",
           "caxis": {
            "gridcolor": "white",
            "linecolor": "white",
            "ticks": ""
           }
          },
          "title": {
           "x": 0.05
          },
          "xaxis": {
           "automargin": true,
           "gridcolor": "white",
           "linecolor": "white",
           "ticks": "",
           "title": {
            "standoff": 15
           },
           "zerolinecolor": "white",
           "zerolinewidth": 2
          },
          "yaxis": {
           "automargin": true,
           "gridcolor": "white",
           "linecolor": "white",
           "ticks": "",
           "title": {
            "standoff": 15
           },
           "zerolinecolor": "white",
           "zerolinewidth": 2
          }
         }
        },
        "xaxis": {
         "anchor": "y",
         "domain": [
          0,
          1
         ],
         "title": {
          "text": "index"
         }
        },
        "yaxis": {
         "anchor": "x",
         "domain": [
          0,
          1
         ],
         "title": {
          "text": "value"
         }
        }
       }
      },
      "text/html": [
       "<div>                            <div id=\"62dc8fce-bb7b-4048-84a2-275fdc152381\" class=\"plotly-graph-div\" style=\"height:525px; width:100%;\"></div>            <script type=\"text/javascript\">                require([\"plotly\"], function(Plotly) {                    window.PLOTLYENV=window.PLOTLYENV || {};                                    if (document.getElementById(\"62dc8fce-bb7b-4048-84a2-275fdc152381\")) {                    Plotly.newPlot(                        \"62dc8fce-bb7b-4048-84a2-275fdc152381\",                        [{\"hovertemplate\":\"variable=0<br>index=%{x}<br>value=%{y}<extra></extra>\",\"legendgroup\":\"0\",\"line\":{\"color\":\"#636efa\",\"dash\":\"solid\"},\"marker\":{\"symbol\":\"circle\"},\"mode\":\"lines\",\"name\":\"0\",\"orientation\":\"v\",\"showlegend\":true,\"x\":[0,1,2,3,4,5,6,7,8,9,10,11,12,13,14,15,16,17,18,19,20,21,22,23,24,25,26,27,28,29,30],\"xaxis\":\"x\",\"y\":[0.0,0.0,0.0,0.0,0.0,0.0,0.0,0.0,0.0,0.0,2.7732060490080458e-17,2.7732060490080458e-17,6.206335383118183e-17,6.206335383118183e-17,6.736447455048117e-17,6.736447455048117e-17,1.2412670766236366e-16,1.6711069443220838e-16,0.004154267344366973,0.005729993781337104,0.008353971082790741,0.02607157609025243,0.04513110633354147,0.097364655236558,0.097364655236558,0.24774366998095962,0.24774366998095962,0.2697863827131305,0.2697863827131305,0.2764340965812602,0.37212167052998363],\"yaxis\":\"y\",\"type\":\"scatter\"}],                        {\"template\":{\"data\":{\"bar\":[{\"error_x\":{\"color\":\"#2a3f5f\"},\"error_y\":{\"color\":\"#2a3f5f\"},\"marker\":{\"line\":{\"color\":\"#E5ECF6\",\"width\":0.5},\"pattern\":{\"fillmode\":\"overlay\",\"size\":10,\"solidity\":0.2}},\"type\":\"bar\"}],\"barpolar\":[{\"marker\":{\"line\":{\"color\":\"#E5ECF6\",\"width\":0.5},\"pattern\":{\"fillmode\":\"overlay\",\"size\":10,\"solidity\":0.2}},\"type\":\"barpolar\"}],\"carpet\":[{\"aaxis\":{\"endlinecolor\":\"#2a3f5f\",\"gridcolor\":\"white\",\"linecolor\":\"white\",\"minorgridcolor\":\"white\",\"startlinecolor\":\"#2a3f5f\"},\"baxis\":{\"endlinecolor\":\"#2a3f5f\",\"gridcolor\":\"white\",\"linecolor\":\"white\",\"minorgridcolor\":\"white\",\"startlinecolor\":\"#2a3f5f\"},\"type\":\"carpet\"}],\"choropleth\":[{\"colorbar\":{\"outlinewidth\":0,\"ticks\":\"\"},\"type\":\"choropleth\"}],\"contour\":[{\"colorbar\":{\"outlinewidth\":0,\"ticks\":\"\"},\"colorscale\":[[0.0,\"#0d0887\"],[0.1111111111111111,\"#46039f\"],[0.2222222222222222,\"#7201a8\"],[0.3333333333333333,\"#9c179e\"],[0.4444444444444444,\"#bd3786\"],[0.5555555555555556,\"#d8576b\"],[0.6666666666666666,\"#ed7953\"],[0.7777777777777778,\"#fb9f3a\"],[0.8888888888888888,\"#fdca26\"],[1.0,\"#f0f921\"]],\"type\":\"contour\"}],\"contourcarpet\":[{\"colorbar\":{\"outlinewidth\":0,\"ticks\":\"\"},\"type\":\"contourcarpet\"}],\"heatmap\":[{\"colorbar\":{\"outlinewidth\":0,\"ticks\":\"\"},\"colorscale\":[[0.0,\"#0d0887\"],[0.1111111111111111,\"#46039f\"],[0.2222222222222222,\"#7201a8\"],[0.3333333333333333,\"#9c179e\"],[0.4444444444444444,\"#bd3786\"],[0.5555555555555556,\"#d8576b\"],[0.6666666666666666,\"#ed7953\"],[0.7777777777777778,\"#fb9f3a\"],[0.8888888888888888,\"#fdca26\"],[1.0,\"#f0f921\"]],\"type\":\"heatmap\"}],\"heatmapgl\":[{\"colorbar\":{\"outlinewidth\":0,\"ticks\":\"\"},\"colorscale\":[[0.0,\"#0d0887\"],[0.1111111111111111,\"#46039f\"],[0.2222222222222222,\"#7201a8\"],[0.3333333333333333,\"#9c179e\"],[0.4444444444444444,\"#bd3786\"],[0.5555555555555556,\"#d8576b\"],[0.6666666666666666,\"#ed7953\"],[0.7777777777777778,\"#fb9f3a\"],[0.8888888888888888,\"#fdca26\"],[1.0,\"#f0f921\"]],\"type\":\"heatmapgl\"}],\"histogram\":[{\"marker\":{\"pattern\":{\"fillmode\":\"overlay\",\"size\":10,\"solidity\":0.2}},\"type\":\"histogram\"}],\"histogram2d\":[{\"colorbar\":{\"outlinewidth\":0,\"ticks\":\"\"},\"colorscale\":[[0.0,\"#0d0887\"],[0.1111111111111111,\"#46039f\"],[0.2222222222222222,\"#7201a8\"],[0.3333333333333333,\"#9c179e\"],[0.4444444444444444,\"#bd3786\"],[0.5555555555555556,\"#d8576b\"],[0.6666666666666666,\"#ed7953\"],[0.7777777777777778,\"#fb9f3a\"],[0.8888888888888888,\"#fdca26\"],[1.0,\"#f0f921\"]],\"type\":\"histogram2d\"}],\"histogram2dcontour\":[{\"colorbar\":{\"outlinewidth\":0,\"ticks\":\"\"},\"colorscale\":[[0.0,\"#0d0887\"],[0.1111111111111111,\"#46039f\"],[0.2222222222222222,\"#7201a8\"],[0.3333333333333333,\"#9c179e\"],[0.4444444444444444,\"#bd3786\"],[0.5555555555555556,\"#d8576b\"],[0.6666666666666666,\"#ed7953\"],[0.7777777777777778,\"#fb9f3a\"],[0.8888888888888888,\"#fdca26\"],[1.0,\"#f0f921\"]],\"type\":\"histogram2dcontour\"}],\"mesh3d\":[{\"colorbar\":{\"outlinewidth\":0,\"ticks\":\"\"},\"type\":\"mesh3d\"}],\"parcoords\":[{\"line\":{\"colorbar\":{\"outlinewidth\":0,\"ticks\":\"\"}},\"type\":\"parcoords\"}],\"pie\":[{\"automargin\":true,\"type\":\"pie\"}],\"scatter\":[{\"marker\":{\"colorbar\":{\"outlinewidth\":0,\"ticks\":\"\"}},\"type\":\"scatter\"}],\"scatter3d\":[{\"line\":{\"colorbar\":{\"outlinewidth\":0,\"ticks\":\"\"}},\"marker\":{\"colorbar\":{\"outlinewidth\":0,\"ticks\":\"\"}},\"type\":\"scatter3d\"}],\"scattercarpet\":[{\"marker\":{\"colorbar\":{\"outlinewidth\":0,\"ticks\":\"\"}},\"type\":\"scattercarpet\"}],\"scattergeo\":[{\"marker\":{\"colorbar\":{\"outlinewidth\":0,\"ticks\":\"\"}},\"type\":\"scattergeo\"}],\"scattergl\":[{\"marker\":{\"colorbar\":{\"outlinewidth\":0,\"ticks\":\"\"}},\"type\":\"scattergl\"}],\"scattermapbox\":[{\"marker\":{\"colorbar\":{\"outlinewidth\":0,\"ticks\":\"\"}},\"type\":\"scattermapbox\"}],\"scatterpolar\":[{\"marker\":{\"colorbar\":{\"outlinewidth\":0,\"ticks\":\"\"}},\"type\":\"scatterpolar\"}],\"scatterpolargl\":[{\"marker\":{\"colorbar\":{\"outlinewidth\":0,\"ticks\":\"\"}},\"type\":\"scatterpolargl\"}],\"scatterternary\":[{\"marker\":{\"colorbar\":{\"outlinewidth\":0,\"ticks\":\"\"}},\"type\":\"scatterternary\"}],\"surface\":[{\"colorbar\":{\"outlinewidth\":0,\"ticks\":\"\"},\"colorscale\":[[0.0,\"#0d0887\"],[0.1111111111111111,\"#46039f\"],[0.2222222222222222,\"#7201a8\"],[0.3333333333333333,\"#9c179e\"],[0.4444444444444444,\"#bd3786\"],[0.5555555555555556,\"#d8576b\"],[0.6666666666666666,\"#ed7953\"],[0.7777777777777778,\"#fb9f3a\"],[0.8888888888888888,\"#fdca26\"],[1.0,\"#f0f921\"]],\"type\":\"surface\"}],\"table\":[{\"cells\":{\"fill\":{\"color\":\"#EBF0F8\"},\"line\":{\"color\":\"white\"}},\"header\":{\"fill\":{\"color\":\"#C8D4E3\"},\"line\":{\"color\":\"white\"}},\"type\":\"table\"}]},\"layout\":{\"annotationdefaults\":{\"arrowcolor\":\"#2a3f5f\",\"arrowhead\":0,\"arrowwidth\":1},\"autotypenumbers\":\"strict\",\"coloraxis\":{\"colorbar\":{\"outlinewidth\":0,\"ticks\":\"\"}},\"colorscale\":{\"diverging\":[[0,\"#8e0152\"],[0.1,\"#c51b7d\"],[0.2,\"#de77ae\"],[0.3,\"#f1b6da\"],[0.4,\"#fde0ef\"],[0.5,\"#f7f7f7\"],[0.6,\"#e6f5d0\"],[0.7,\"#b8e186\"],[0.8,\"#7fbc41\"],[0.9,\"#4d9221\"],[1,\"#276419\"]],\"sequential\":[[0.0,\"#0d0887\"],[0.1111111111111111,\"#46039f\"],[0.2222222222222222,\"#7201a8\"],[0.3333333333333333,\"#9c179e\"],[0.4444444444444444,\"#bd3786\"],[0.5555555555555556,\"#d8576b\"],[0.6666666666666666,\"#ed7953\"],[0.7777777777777778,\"#fb9f3a\"],[0.8888888888888888,\"#fdca26\"],[1.0,\"#f0f921\"]],\"sequentialminus\":[[0.0,\"#0d0887\"],[0.1111111111111111,\"#46039f\"],[0.2222222222222222,\"#7201a8\"],[0.3333333333333333,\"#9c179e\"],[0.4444444444444444,\"#bd3786\"],[0.5555555555555556,\"#d8576b\"],[0.6666666666666666,\"#ed7953\"],[0.7777777777777778,\"#fb9f3a\"],[0.8888888888888888,\"#fdca26\"],[1.0,\"#f0f921\"]]},\"colorway\":[\"#636efa\",\"#EF553B\",\"#00cc96\",\"#ab63fa\",\"#FFA15A\",\"#19d3f3\",\"#FF6692\",\"#B6E880\",\"#FF97FF\",\"#FECB52\"],\"font\":{\"color\":\"#2a3f5f\"},\"geo\":{\"bgcolor\":\"white\",\"lakecolor\":\"white\",\"landcolor\":\"#E5ECF6\",\"showlakes\":true,\"showland\":true,\"subunitcolor\":\"white\"},\"hoverlabel\":{\"align\":\"left\"},\"hovermode\":\"closest\",\"mapbox\":{\"style\":\"light\"},\"paper_bgcolor\":\"white\",\"plot_bgcolor\":\"#E5ECF6\",\"polar\":{\"angularaxis\":{\"gridcolor\":\"white\",\"linecolor\":\"white\",\"ticks\":\"\"},\"bgcolor\":\"#E5ECF6\",\"radialaxis\":{\"gridcolor\":\"white\",\"linecolor\":\"white\",\"ticks\":\"\"}},\"scene\":{\"xaxis\":{\"backgroundcolor\":\"#E5ECF6\",\"gridcolor\":\"white\",\"gridwidth\":2,\"linecolor\":\"white\",\"showbackground\":true,\"ticks\":\"\",\"zerolinecolor\":\"white\"},\"yaxis\":{\"backgroundcolor\":\"#E5ECF6\",\"gridcolor\":\"white\",\"gridwidth\":2,\"linecolor\":\"white\",\"showbackground\":true,\"ticks\":\"\",\"zerolinecolor\":\"white\"},\"zaxis\":{\"backgroundcolor\":\"#E5ECF6\",\"gridcolor\":\"white\",\"gridwidth\":2,\"linecolor\":\"white\",\"showbackground\":true,\"ticks\":\"\",\"zerolinecolor\":\"white\"}},\"shapedefaults\":{\"line\":{\"color\":\"#2a3f5f\"}},\"ternary\":{\"aaxis\":{\"gridcolor\":\"white\",\"linecolor\":\"white\",\"ticks\":\"\"},\"baxis\":{\"gridcolor\":\"white\",\"linecolor\":\"white\",\"ticks\":\"\"},\"bgcolor\":\"#E5ECF6\",\"caxis\":{\"gridcolor\":\"white\",\"linecolor\":\"white\",\"ticks\":\"\"}},\"title\":{\"x\":0.05},\"xaxis\":{\"automargin\":true,\"gridcolor\":\"white\",\"linecolor\":\"white\",\"ticks\":\"\",\"title\":{\"standoff\":15},\"zerolinecolor\":\"white\",\"zerolinewidth\":2},\"yaxis\":{\"automargin\":true,\"gridcolor\":\"white\",\"linecolor\":\"white\",\"ticks\":\"\",\"title\":{\"standoff\":15},\"zerolinecolor\":\"white\",\"zerolinewidth\":2}}},\"xaxis\":{\"anchor\":\"y\",\"domain\":[0.0,1.0],\"title\":{\"text\":\"index\"}},\"yaxis\":{\"anchor\":\"x\",\"domain\":[0.0,1.0],\"title\":{\"text\":\"value\"}},\"legend\":{\"title\":{\"text\":\"variable\"},\"tracegroupgap\":0},\"margin\":{\"t\":60}},                        {\"responsive\": true}                    ).then(function(){\n",
       "                            \n",
       "var gd = document.getElementById('62dc8fce-bb7b-4048-84a2-275fdc152381');\n",
       "var x = new MutationObserver(function (mutations, observer) {{\n",
       "        var display = window.getComputedStyle(gd).display;\n",
       "        if (!display || display === 'none') {{\n",
       "            console.log([gd, 'removed!']);\n",
       "            Plotly.purge(gd);\n",
       "            observer.disconnect();\n",
       "        }}\n",
       "}});\n",
       "\n",
       "// Listen for the removal of the full notebook cells\n",
       "var notebookContainer = gd.closest('#notebook-container');\n",
       "if (notebookContainer) {{\n",
       "    x.observe(notebookContainer, {childList: true});\n",
       "}}\n",
       "\n",
       "// Listen for the clearing of the current output cell\n",
       "var outputEl = gd.closest('.output');\n",
       "if (outputEl) {{\n",
       "    x.observe(outputEl, {childList: true});\n",
       "}}\n",
       "\n",
       "                        })                };                });            </script>        </div>"
      ]
     },
     "metadata": {},
     "output_type": "display_data"
    }
   ],
   "source": [
    "# calculate the distance from each point to its closest neighbor\n",
    "nn = NearestNeighbors(n_neighbors = 2)\n",
    "\n",
    "# fit the nearest neighbor\n",
    "nbrs = nn.fit(reduced)\n",
    "\n",
    "# returns two arrays - distance to the closest n_neighbors points and index for each point\n",
    "distances, indices = nbrs.kneighbors(reduced)\n",
    "print(distances.shape)\n",
    "\n",
    "# sort the distance and plot it\n",
    "distances = np.sort(distances, axis=0)\n",
    "distances = distances[:,1]\n",
    "px.line(distances)"
   ]
  },
  {
   "cell_type": "code",
   "execution_count": 339,
   "id": "01cd4c7b",
   "metadata": {},
   "outputs": [],
   "source": [
    "# train the model using DBSCAN\n",
    "db = DBSCAN(eps=0.03, min_samples=15)\n",
    "\n",
    "# prediction for dbscan clusters\n",
    "db_clusters = db.fit_predict(reduced)"
   ]
  },
  {
   "cell_type": "code",
   "execution_count": 340,
   "id": "a5607240",
   "metadata": {},
   "outputs": [
    {
     "data": {
      "text/plain": [
       "[0, -1]"
      ]
     },
     "execution_count": 340,
     "metadata": {},
     "output_type": "execute_result"
    }
   ],
   "source": [
    "list(set(db_clusters))"
   ]
  },
  {
   "cell_type": "code",
   "execution_count": 341,
   "id": "536b43ee",
   "metadata": {},
   "outputs": [
    {
     "data": {
      "text/html": [
       "<div>\n",
       "<style scoped>\n",
       "    .dataframe tbody tr th:only-of-type {\n",
       "        vertical-align: middle;\n",
       "    }\n",
       "\n",
       "    .dataframe tbody tr th {\n",
       "        vertical-align: top;\n",
       "    }\n",
       "\n",
       "    .dataframe thead th {\n",
       "        text-align: right;\n",
       "    }\n",
       "</style>\n",
       "<table border=\"1\" class=\"dataframe\">\n",
       "  <thead>\n",
       "    <tr style=\"text-align: right;\">\n",
       "      <th></th>\n",
       "      <th>x</th>\n",
       "      <th>y</th>\n",
       "      <th>cluster</th>\n",
       "      <th>name</th>\n",
       "    </tr>\n",
       "  </thead>\n",
       "  <tbody>\n",
       "    <tr>\n",
       "      <th>0</th>\n",
       "      <td>-0.390443</td>\n",
       "      <td>-0.413049</td>\n",
       "      <td>-1</td>\n",
       "      <td>2019-07-01 2.0</td>\n",
       "    </tr>\n",
       "    <tr>\n",
       "      <th>1</th>\n",
       "      <td>0.732010</td>\n",
       "      <td>0.271605</td>\n",
       "      <td>-1</td>\n",
       "      <td>2019-07-04 2.0</td>\n",
       "    </tr>\n",
       "    <tr>\n",
       "      <th>2</th>\n",
       "      <td>0.042619</td>\n",
       "      <td>-0.009238</td>\n",
       "      <td>0</td>\n",
       "      <td>2019-07-07 2.0</td>\n",
       "    </tr>\n",
       "    <tr>\n",
       "      <th>3</th>\n",
       "      <td>-0.133107</td>\n",
       "      <td>0.212813</td>\n",
       "      <td>-1</td>\n",
       "      <td>2019-07-10 2.0</td>\n",
       "    </tr>\n",
       "    <tr>\n",
       "      <th>4</th>\n",
       "      <td>0.026289</td>\n",
       "      <td>-0.430433</td>\n",
       "      <td>0</td>\n",
       "      <td>2019-07-11 2.0</td>\n",
       "    </tr>\n",
       "  </tbody>\n",
       "</table>\n",
       "</div>"
      ],
      "text/plain": [
       "          x         y  cluster            name\n",
       "0 -0.390443 -0.413049       -1  2019-07-01 2.0\n",
       "1  0.732010  0.271605       -1  2019-07-04 2.0\n",
       "2  0.042619 -0.009238        0  2019-07-07 2.0\n",
       "3 -0.133107  0.212813       -1  2019-07-10 2.0\n",
       "4  0.026289 -0.430433        0  2019-07-11 2.0"
      ]
     },
     "execution_count": 341,
     "metadata": {},
     "output_type": "execute_result"
    }
   ],
   "source": [
    "reduced['cluster'] = db_clusters\n",
    "reduced['user'] = users\n",
    "reduced.columns = ['x', 'y', 'cluster', 'name']\n",
    "reduced.head()"
   ]
  },
  {
   "cell_type": "code",
   "execution_count": 342,
   "id": "d4ef1ce2",
   "metadata": {},
   "outputs": [
    {
     "data": {
      "application/vnd.plotly.v1+json": {
       "config": {
        "plotlyServerURL": "https://plot.ly"
       },
       "data": [
        {
         "hovertemplate": "x=%{x}<br>y=%{y}<br>cluster=%{marker.color}<extra></extra>",
         "legendgroup": "",
         "marker": {
          "color": [
           -1,
           -1,
           0,
           -1,
           0,
           0,
           -1,
           0,
           0,
           -1,
           0,
           0,
           0,
           0,
           -1,
           0,
           0,
           0,
           0,
           0,
           0,
           0,
           0,
           0,
           -1,
           -1,
           -1,
           -1,
           -1,
           -1,
           0
          ],
          "coloraxis": "coloraxis",
          "symbol": "circle"
         },
         "mode": "markers",
         "name": "",
         "orientation": "v",
         "showlegend": false,
         "type": "scatter",
         "x": [
          -0.3904433706769577,
          0.732010052118484,
          0.04261918639291008,
          -0.13310668542088683,
          0.02628917877556084,
          0.04261918639291015,
          -0.4205306210890156,
          0.04796681669197055,
          0.11267861294413106,
          -0.0167908042043285,
          0.07279763390915941,
          0.012531935980852251,
          0.012531935980852251,
          0.11267861294413106,
          -0.5657869873773158,
          0.012149680867413706,
          0.04223693127947156,
          0.012531935980852251,
          0.0426191863929101,
          0.05694884415378063,
          0.05694884415378063,
          0.05694884415378063,
          0.08713718012927589,
          0.061037034580326846,
          0.7320100521184841,
          -0.1331066854208868,
          0.7320100521184841,
          -0.3080680470078066,
          -0.7044059449595683,
          -0.4830294085947263,
          0.047966816691970574
         ],
         "xaxis": "x",
         "y": [
          -0.41304914329159653,
          0.27160460685901355,
          -0.009238287313402404,
          0.21281333472288136,
          -0.4304330783255175,
          -0.0092382873134022,
          -0.6589590523605008,
          -0.0009283068064607796,
          0.02119347189323123,
          -0.5177485474921334,
          -0.042795373962848174,
          -0.2551481963823065,
          -0.2551481963823065,
          0.02119347189323123,
          -0.19934274227577434,
          -0.24680297536184492,
          -0.0008930662929407585,
          -0.2551481963823065,
          -0.009238287313402238,
          0.010288961252853338,
          0.010288961252853338,
          0.010288961252853338,
          0.015962574303518582,
          0.011026955971513108,
          0.2716046068590136,
          0.2128133347228813,
          0.2716046068590136,
          0.41817451471824196,
          0.9226459867885016,
          0.6235356947136025,
          -0.0009283068064607613
         ],
         "yaxis": "y"
        }
       ],
       "layout": {
        "coloraxis": {
         "colorbar": {
          "title": {
           "text": "cluster"
          }
         },
         "colorscale": [
          [
           0,
           "rgb(12,51,131)"
          ],
          [
           0.25,
           "rgb(10,136,186)"
          ],
          [
           0.5,
           "rgb(242,211,56)"
          ],
          [
           0.75,
           "rgb(242,143,56)"
          ],
          [
           1,
           "rgb(217,30,30)"
          ]
         ]
        },
        "legend": {
         "tracegroupgap": 0
        },
        "margin": {
         "t": 60
        },
        "template": {
         "data": {
          "bar": [
           {
            "error_x": {
             "color": "#2a3f5f"
            },
            "error_y": {
             "color": "#2a3f5f"
            },
            "marker": {
             "line": {
              "color": "#E5ECF6",
              "width": 0.5
             },
             "pattern": {
              "fillmode": "overlay",
              "size": 10,
              "solidity": 0.2
             }
            },
            "type": "bar"
           }
          ],
          "barpolar": [
           {
            "marker": {
             "line": {
              "color": "#E5ECF6",
              "width": 0.5
             },
             "pattern": {
              "fillmode": "overlay",
              "size": 10,
              "solidity": 0.2
             }
            },
            "type": "barpolar"
           }
          ],
          "carpet": [
           {
            "aaxis": {
             "endlinecolor": "#2a3f5f",
             "gridcolor": "white",
             "linecolor": "white",
             "minorgridcolor": "white",
             "startlinecolor": "#2a3f5f"
            },
            "baxis": {
             "endlinecolor": "#2a3f5f",
             "gridcolor": "white",
             "linecolor": "white",
             "minorgridcolor": "white",
             "startlinecolor": "#2a3f5f"
            },
            "type": "carpet"
           }
          ],
          "choropleth": [
           {
            "colorbar": {
             "outlinewidth": 0,
             "ticks": ""
            },
            "type": "choropleth"
           }
          ],
          "contour": [
           {
            "colorbar": {
             "outlinewidth": 0,
             "ticks": ""
            },
            "colorscale": [
             [
              0,
              "#0d0887"
             ],
             [
              0.1111111111111111,
              "#46039f"
             ],
             [
              0.2222222222222222,
              "#7201a8"
             ],
             [
              0.3333333333333333,
              "#9c179e"
             ],
             [
              0.4444444444444444,
              "#bd3786"
             ],
             [
              0.5555555555555556,
              "#d8576b"
             ],
             [
              0.6666666666666666,
              "#ed7953"
             ],
             [
              0.7777777777777778,
              "#fb9f3a"
             ],
             [
              0.8888888888888888,
              "#fdca26"
             ],
             [
              1,
              "#f0f921"
             ]
            ],
            "type": "contour"
           }
          ],
          "contourcarpet": [
           {
            "colorbar": {
             "outlinewidth": 0,
             "ticks": ""
            },
            "type": "contourcarpet"
           }
          ],
          "heatmap": [
           {
            "colorbar": {
             "outlinewidth": 0,
             "ticks": ""
            },
            "colorscale": [
             [
              0,
              "#0d0887"
             ],
             [
              0.1111111111111111,
              "#46039f"
             ],
             [
              0.2222222222222222,
              "#7201a8"
             ],
             [
              0.3333333333333333,
              "#9c179e"
             ],
             [
              0.4444444444444444,
              "#bd3786"
             ],
             [
              0.5555555555555556,
              "#d8576b"
             ],
             [
              0.6666666666666666,
              "#ed7953"
             ],
             [
              0.7777777777777778,
              "#fb9f3a"
             ],
             [
              0.8888888888888888,
              "#fdca26"
             ],
             [
              1,
              "#f0f921"
             ]
            ],
            "type": "heatmap"
           }
          ],
          "heatmapgl": [
           {
            "colorbar": {
             "outlinewidth": 0,
             "ticks": ""
            },
            "colorscale": [
             [
              0,
              "#0d0887"
             ],
             [
              0.1111111111111111,
              "#46039f"
             ],
             [
              0.2222222222222222,
              "#7201a8"
             ],
             [
              0.3333333333333333,
              "#9c179e"
             ],
             [
              0.4444444444444444,
              "#bd3786"
             ],
             [
              0.5555555555555556,
              "#d8576b"
             ],
             [
              0.6666666666666666,
              "#ed7953"
             ],
             [
              0.7777777777777778,
              "#fb9f3a"
             ],
             [
              0.8888888888888888,
              "#fdca26"
             ],
             [
              1,
              "#f0f921"
             ]
            ],
            "type": "heatmapgl"
           }
          ],
          "histogram": [
           {
            "marker": {
             "pattern": {
              "fillmode": "overlay",
              "size": 10,
              "solidity": 0.2
             }
            },
            "type": "histogram"
           }
          ],
          "histogram2d": [
           {
            "colorbar": {
             "outlinewidth": 0,
             "ticks": ""
            },
            "colorscale": [
             [
              0,
              "#0d0887"
             ],
             [
              0.1111111111111111,
              "#46039f"
             ],
             [
              0.2222222222222222,
              "#7201a8"
             ],
             [
              0.3333333333333333,
              "#9c179e"
             ],
             [
              0.4444444444444444,
              "#bd3786"
             ],
             [
              0.5555555555555556,
              "#d8576b"
             ],
             [
              0.6666666666666666,
              "#ed7953"
             ],
             [
              0.7777777777777778,
              "#fb9f3a"
             ],
             [
              0.8888888888888888,
              "#fdca26"
             ],
             [
              1,
              "#f0f921"
             ]
            ],
            "type": "histogram2d"
           }
          ],
          "histogram2dcontour": [
           {
            "colorbar": {
             "outlinewidth": 0,
             "ticks": ""
            },
            "colorscale": [
             [
              0,
              "#0d0887"
             ],
             [
              0.1111111111111111,
              "#46039f"
             ],
             [
              0.2222222222222222,
              "#7201a8"
             ],
             [
              0.3333333333333333,
              "#9c179e"
             ],
             [
              0.4444444444444444,
              "#bd3786"
             ],
             [
              0.5555555555555556,
              "#d8576b"
             ],
             [
              0.6666666666666666,
              "#ed7953"
             ],
             [
              0.7777777777777778,
              "#fb9f3a"
             ],
             [
              0.8888888888888888,
              "#fdca26"
             ],
             [
              1,
              "#f0f921"
             ]
            ],
            "type": "histogram2dcontour"
           }
          ],
          "mesh3d": [
           {
            "colorbar": {
             "outlinewidth": 0,
             "ticks": ""
            },
            "type": "mesh3d"
           }
          ],
          "parcoords": [
           {
            "line": {
             "colorbar": {
              "outlinewidth": 0,
              "ticks": ""
             }
            },
            "type": "parcoords"
           }
          ],
          "pie": [
           {
            "automargin": true,
            "type": "pie"
           }
          ],
          "scatter": [
           {
            "marker": {
             "colorbar": {
              "outlinewidth": 0,
              "ticks": ""
             }
            },
            "type": "scatter"
           }
          ],
          "scatter3d": [
           {
            "line": {
             "colorbar": {
              "outlinewidth": 0,
              "ticks": ""
             }
            },
            "marker": {
             "colorbar": {
              "outlinewidth": 0,
              "ticks": ""
             }
            },
            "type": "scatter3d"
           }
          ],
          "scattercarpet": [
           {
            "marker": {
             "colorbar": {
              "outlinewidth": 0,
              "ticks": ""
             }
            },
            "type": "scattercarpet"
           }
          ],
          "scattergeo": [
           {
            "marker": {
             "colorbar": {
              "outlinewidth": 0,
              "ticks": ""
             }
            },
            "type": "scattergeo"
           }
          ],
          "scattergl": [
           {
            "marker": {
             "colorbar": {
              "outlinewidth": 0,
              "ticks": ""
             }
            },
            "type": "scattergl"
           }
          ],
          "scattermapbox": [
           {
            "marker": {
             "colorbar": {
              "outlinewidth": 0,
              "ticks": ""
             }
            },
            "type": "scattermapbox"
           }
          ],
          "scatterpolar": [
           {
            "marker": {
             "colorbar": {
              "outlinewidth": 0,
              "ticks": ""
             }
            },
            "type": "scatterpolar"
           }
          ],
          "scatterpolargl": [
           {
            "marker": {
             "colorbar": {
              "outlinewidth": 0,
              "ticks": ""
             }
            },
            "type": "scatterpolargl"
           }
          ],
          "scatterternary": [
           {
            "marker": {
             "colorbar": {
              "outlinewidth": 0,
              "ticks": ""
             }
            },
            "type": "scatterternary"
           }
          ],
          "surface": [
           {
            "colorbar": {
             "outlinewidth": 0,
             "ticks": ""
            },
            "colorscale": [
             [
              0,
              "#0d0887"
             ],
             [
              0.1111111111111111,
              "#46039f"
             ],
             [
              0.2222222222222222,
              "#7201a8"
             ],
             [
              0.3333333333333333,
              "#9c179e"
             ],
             [
              0.4444444444444444,
              "#bd3786"
             ],
             [
              0.5555555555555556,
              "#d8576b"
             ],
             [
              0.6666666666666666,
              "#ed7953"
             ],
             [
              0.7777777777777778,
              "#fb9f3a"
             ],
             [
              0.8888888888888888,
              "#fdca26"
             ],
             [
              1,
              "#f0f921"
             ]
            ],
            "type": "surface"
           }
          ],
          "table": [
           {
            "cells": {
             "fill": {
              "color": "#EBF0F8"
             },
             "line": {
              "color": "white"
             }
            },
            "header": {
             "fill": {
              "color": "#C8D4E3"
             },
             "line": {
              "color": "white"
             }
            },
            "type": "table"
           }
          ]
         },
         "layout": {
          "annotationdefaults": {
           "arrowcolor": "#2a3f5f",
           "arrowhead": 0,
           "arrowwidth": 1
          },
          "autotypenumbers": "strict",
          "coloraxis": {
           "colorbar": {
            "outlinewidth": 0,
            "ticks": ""
           }
          },
          "colorscale": {
           "diverging": [
            [
             0,
             "#8e0152"
            ],
            [
             0.1,
             "#c51b7d"
            ],
            [
             0.2,
             "#de77ae"
            ],
            [
             0.3,
             "#f1b6da"
            ],
            [
             0.4,
             "#fde0ef"
            ],
            [
             0.5,
             "#f7f7f7"
            ],
            [
             0.6,
             "#e6f5d0"
            ],
            [
             0.7,
             "#b8e186"
            ],
            [
             0.8,
             "#7fbc41"
            ],
            [
             0.9,
             "#4d9221"
            ],
            [
             1,
             "#276419"
            ]
           ],
           "sequential": [
            [
             0,
             "#0d0887"
            ],
            [
             0.1111111111111111,
             "#46039f"
            ],
            [
             0.2222222222222222,
             "#7201a8"
            ],
            [
             0.3333333333333333,
             "#9c179e"
            ],
            [
             0.4444444444444444,
             "#bd3786"
            ],
            [
             0.5555555555555556,
             "#d8576b"
            ],
            [
             0.6666666666666666,
             "#ed7953"
            ],
            [
             0.7777777777777778,
             "#fb9f3a"
            ],
            [
             0.8888888888888888,
             "#fdca26"
            ],
            [
             1,
             "#f0f921"
            ]
           ],
           "sequentialminus": [
            [
             0,
             "#0d0887"
            ],
            [
             0.1111111111111111,
             "#46039f"
            ],
            [
             0.2222222222222222,
             "#7201a8"
            ],
            [
             0.3333333333333333,
             "#9c179e"
            ],
            [
             0.4444444444444444,
             "#bd3786"
            ],
            [
             0.5555555555555556,
             "#d8576b"
            ],
            [
             0.6666666666666666,
             "#ed7953"
            ],
            [
             0.7777777777777778,
             "#fb9f3a"
            ],
            [
             0.8888888888888888,
             "#fdca26"
            ],
            [
             1,
             "#f0f921"
            ]
           ]
          },
          "colorway": [
           "#636efa",
           "#EF553B",
           "#00cc96",
           "#ab63fa",
           "#FFA15A",
           "#19d3f3",
           "#FF6692",
           "#B6E880",
           "#FF97FF",
           "#FECB52"
          ],
          "font": {
           "color": "#2a3f5f"
          },
          "geo": {
           "bgcolor": "white",
           "lakecolor": "white",
           "landcolor": "#E5ECF6",
           "showlakes": true,
           "showland": true,
           "subunitcolor": "white"
          },
          "hoverlabel": {
           "align": "left"
          },
          "hovermode": "closest",
          "mapbox": {
           "style": "light"
          },
          "paper_bgcolor": "white",
          "plot_bgcolor": "#E5ECF6",
          "polar": {
           "angularaxis": {
            "gridcolor": "white",
            "linecolor": "white",
            "ticks": ""
           },
           "bgcolor": "#E5ECF6",
           "radialaxis": {
            "gridcolor": "white",
            "linecolor": "white",
            "ticks": ""
           }
          },
          "scene": {
           "xaxis": {
            "backgroundcolor": "#E5ECF6",
            "gridcolor": "white",
            "gridwidth": 2,
            "linecolor": "white",
            "showbackground": true,
            "ticks": "",
            "zerolinecolor": "white"
           },
           "yaxis": {
            "backgroundcolor": "#E5ECF6",
            "gridcolor": "white",
            "gridwidth": 2,
            "linecolor": "white",
            "showbackground": true,
            "ticks": "",
            "zerolinecolor": "white"
           },
           "zaxis": {
            "backgroundcolor": "#E5ECF6",
            "gridcolor": "white",
            "gridwidth": 2,
            "linecolor": "white",
            "showbackground": true,
            "ticks": "",
            "zerolinecolor": "white"
           }
          },
          "shapedefaults": {
           "line": {
            "color": "#2a3f5f"
           }
          },
          "ternary": {
           "aaxis": {
            "gridcolor": "white",
            "linecolor": "white",
            "ticks": ""
           },
           "baxis": {
            "gridcolor": "white",
            "linecolor": "white",
            "ticks": ""
           },
           "bgcolor": "#E5ECF6",
           "caxis": {
            "gridcolor": "white",
            "linecolor": "white",
            "ticks": ""
           }
          },
          "title": {
           "x": 0.05
          },
          "xaxis": {
           "automargin": true,
           "gridcolor": "white",
           "linecolor": "white",
           "ticks": "",
           "title": {
            "standoff": 15
           },
           "zerolinecolor": "white",
           "zerolinewidth": 2
          },
          "yaxis": {
           "automargin": true,
           "gridcolor": "white",
           "linecolor": "white",
           "ticks": "",
           "title": {
            "standoff": 15
           },
           "zerolinecolor": "white",
           "zerolinewidth": 2
          }
         }
        },
        "xaxis": {
         "anchor": "y",
         "domain": [
          0,
          1
         ],
         "title": {
          "text": "x"
         }
        },
        "yaxis": {
         "anchor": "x",
         "domain": [
          0,
          1
         ],
         "title": {
          "text": "y"
         }
        }
       }
      },
      "text/html": [
       "<div>                            <div id=\"149d2bfb-97af-4e0b-960d-caa511208b10\" class=\"plotly-graph-div\" style=\"height:525px; width:100%;\"></div>            <script type=\"text/javascript\">                require([\"plotly\"], function(Plotly) {                    window.PLOTLYENV=window.PLOTLYENV || {};                                    if (document.getElementById(\"149d2bfb-97af-4e0b-960d-caa511208b10\")) {                    Plotly.newPlot(                        \"149d2bfb-97af-4e0b-960d-caa511208b10\",                        [{\"hovertemplate\":\"x=%{x}<br>y=%{y}<br>cluster=%{marker.color}<extra></extra>\",\"legendgroup\":\"\",\"marker\":{\"color\":[-1,-1,0,-1,0,0,-1,0,0,-1,0,0,0,0,-1,0,0,0,0,0,0,0,0,0,-1,-1,-1,-1,-1,-1,0],\"coloraxis\":\"coloraxis\",\"symbol\":\"circle\"},\"mode\":\"markers\",\"name\":\"\",\"orientation\":\"v\",\"showlegend\":false,\"x\":[-0.3904433706769577,0.732010052118484,0.04261918639291008,-0.13310668542088683,0.02628917877556084,0.04261918639291015,-0.4205306210890156,0.04796681669197055,0.11267861294413106,-0.0167908042043285,0.07279763390915941,0.012531935980852251,0.012531935980852251,0.11267861294413106,-0.5657869873773158,0.012149680867413706,0.04223693127947156,0.012531935980852251,0.0426191863929101,0.05694884415378063,0.05694884415378063,0.05694884415378063,0.08713718012927589,0.061037034580326846,0.7320100521184841,-0.1331066854208868,0.7320100521184841,-0.3080680470078066,-0.7044059449595683,-0.4830294085947263,0.047966816691970574],\"xaxis\":\"x\",\"y\":[-0.41304914329159653,0.27160460685901355,-0.009238287313402404,0.21281333472288136,-0.4304330783255175,-0.0092382873134022,-0.6589590523605008,-0.0009283068064607796,0.02119347189323123,-0.5177485474921334,-0.042795373962848174,-0.2551481963823065,-0.2551481963823065,0.02119347189323123,-0.19934274227577434,-0.24680297536184492,-0.0008930662929407585,-0.2551481963823065,-0.009238287313402238,0.010288961252853338,0.010288961252853338,0.010288961252853338,0.015962574303518582,0.011026955971513108,0.2716046068590136,0.2128133347228813,0.2716046068590136,0.41817451471824196,0.9226459867885016,0.6235356947136025,-0.0009283068064607613],\"yaxis\":\"y\",\"type\":\"scatter\"}],                        {\"template\":{\"data\":{\"bar\":[{\"error_x\":{\"color\":\"#2a3f5f\"},\"error_y\":{\"color\":\"#2a3f5f\"},\"marker\":{\"line\":{\"color\":\"#E5ECF6\",\"width\":0.5},\"pattern\":{\"fillmode\":\"overlay\",\"size\":10,\"solidity\":0.2}},\"type\":\"bar\"}],\"barpolar\":[{\"marker\":{\"line\":{\"color\":\"#E5ECF6\",\"width\":0.5},\"pattern\":{\"fillmode\":\"overlay\",\"size\":10,\"solidity\":0.2}},\"type\":\"barpolar\"}],\"carpet\":[{\"aaxis\":{\"endlinecolor\":\"#2a3f5f\",\"gridcolor\":\"white\",\"linecolor\":\"white\",\"minorgridcolor\":\"white\",\"startlinecolor\":\"#2a3f5f\"},\"baxis\":{\"endlinecolor\":\"#2a3f5f\",\"gridcolor\":\"white\",\"linecolor\":\"white\",\"minorgridcolor\":\"white\",\"startlinecolor\":\"#2a3f5f\"},\"type\":\"carpet\"}],\"choropleth\":[{\"colorbar\":{\"outlinewidth\":0,\"ticks\":\"\"},\"type\":\"choropleth\"}],\"contour\":[{\"colorbar\":{\"outlinewidth\":0,\"ticks\":\"\"},\"colorscale\":[[0.0,\"#0d0887\"],[0.1111111111111111,\"#46039f\"],[0.2222222222222222,\"#7201a8\"],[0.3333333333333333,\"#9c179e\"],[0.4444444444444444,\"#bd3786\"],[0.5555555555555556,\"#d8576b\"],[0.6666666666666666,\"#ed7953\"],[0.7777777777777778,\"#fb9f3a\"],[0.8888888888888888,\"#fdca26\"],[1.0,\"#f0f921\"]],\"type\":\"contour\"}],\"contourcarpet\":[{\"colorbar\":{\"outlinewidth\":0,\"ticks\":\"\"},\"type\":\"contourcarpet\"}],\"heatmap\":[{\"colorbar\":{\"outlinewidth\":0,\"ticks\":\"\"},\"colorscale\":[[0.0,\"#0d0887\"],[0.1111111111111111,\"#46039f\"],[0.2222222222222222,\"#7201a8\"],[0.3333333333333333,\"#9c179e\"],[0.4444444444444444,\"#bd3786\"],[0.5555555555555556,\"#d8576b\"],[0.6666666666666666,\"#ed7953\"],[0.7777777777777778,\"#fb9f3a\"],[0.8888888888888888,\"#fdca26\"],[1.0,\"#f0f921\"]],\"type\":\"heatmap\"}],\"heatmapgl\":[{\"colorbar\":{\"outlinewidth\":0,\"ticks\":\"\"},\"colorscale\":[[0.0,\"#0d0887\"],[0.1111111111111111,\"#46039f\"],[0.2222222222222222,\"#7201a8\"],[0.3333333333333333,\"#9c179e\"],[0.4444444444444444,\"#bd3786\"],[0.5555555555555556,\"#d8576b\"],[0.6666666666666666,\"#ed7953\"],[0.7777777777777778,\"#fb9f3a\"],[0.8888888888888888,\"#fdca26\"],[1.0,\"#f0f921\"]],\"type\":\"heatmapgl\"}],\"histogram\":[{\"marker\":{\"pattern\":{\"fillmode\":\"overlay\",\"size\":10,\"solidity\":0.2}},\"type\":\"histogram\"}],\"histogram2d\":[{\"colorbar\":{\"outlinewidth\":0,\"ticks\":\"\"},\"colorscale\":[[0.0,\"#0d0887\"],[0.1111111111111111,\"#46039f\"],[0.2222222222222222,\"#7201a8\"],[0.3333333333333333,\"#9c179e\"],[0.4444444444444444,\"#bd3786\"],[0.5555555555555556,\"#d8576b\"],[0.6666666666666666,\"#ed7953\"],[0.7777777777777778,\"#fb9f3a\"],[0.8888888888888888,\"#fdca26\"],[1.0,\"#f0f921\"]],\"type\":\"histogram2d\"}],\"histogram2dcontour\":[{\"colorbar\":{\"outlinewidth\":0,\"ticks\":\"\"},\"colorscale\":[[0.0,\"#0d0887\"],[0.1111111111111111,\"#46039f\"],[0.2222222222222222,\"#7201a8\"],[0.3333333333333333,\"#9c179e\"],[0.4444444444444444,\"#bd3786\"],[0.5555555555555556,\"#d8576b\"],[0.6666666666666666,\"#ed7953\"],[0.7777777777777778,\"#fb9f3a\"],[0.8888888888888888,\"#fdca26\"],[1.0,\"#f0f921\"]],\"type\":\"histogram2dcontour\"}],\"mesh3d\":[{\"colorbar\":{\"outlinewidth\":0,\"ticks\":\"\"},\"type\":\"mesh3d\"}],\"parcoords\":[{\"line\":{\"colorbar\":{\"outlinewidth\":0,\"ticks\":\"\"}},\"type\":\"parcoords\"}],\"pie\":[{\"automargin\":true,\"type\":\"pie\"}],\"scatter\":[{\"marker\":{\"colorbar\":{\"outlinewidth\":0,\"ticks\":\"\"}},\"type\":\"scatter\"}],\"scatter3d\":[{\"line\":{\"colorbar\":{\"outlinewidth\":0,\"ticks\":\"\"}},\"marker\":{\"colorbar\":{\"outlinewidth\":0,\"ticks\":\"\"}},\"type\":\"scatter3d\"}],\"scattercarpet\":[{\"marker\":{\"colorbar\":{\"outlinewidth\":0,\"ticks\":\"\"}},\"type\":\"scattercarpet\"}],\"scattergeo\":[{\"marker\":{\"colorbar\":{\"outlinewidth\":0,\"ticks\":\"\"}},\"type\":\"scattergeo\"}],\"scattergl\":[{\"marker\":{\"colorbar\":{\"outlinewidth\":0,\"ticks\":\"\"}},\"type\":\"scattergl\"}],\"scattermapbox\":[{\"marker\":{\"colorbar\":{\"outlinewidth\":0,\"ticks\":\"\"}},\"type\":\"scattermapbox\"}],\"scatterpolar\":[{\"marker\":{\"colorbar\":{\"outlinewidth\":0,\"ticks\":\"\"}},\"type\":\"scatterpolar\"}],\"scatterpolargl\":[{\"marker\":{\"colorbar\":{\"outlinewidth\":0,\"ticks\":\"\"}},\"type\":\"scatterpolargl\"}],\"scatterternary\":[{\"marker\":{\"colorbar\":{\"outlinewidth\":0,\"ticks\":\"\"}},\"type\":\"scatterternary\"}],\"surface\":[{\"colorbar\":{\"outlinewidth\":0,\"ticks\":\"\"},\"colorscale\":[[0.0,\"#0d0887\"],[0.1111111111111111,\"#46039f\"],[0.2222222222222222,\"#7201a8\"],[0.3333333333333333,\"#9c179e\"],[0.4444444444444444,\"#bd3786\"],[0.5555555555555556,\"#d8576b\"],[0.6666666666666666,\"#ed7953\"],[0.7777777777777778,\"#fb9f3a\"],[0.8888888888888888,\"#fdca26\"],[1.0,\"#f0f921\"]],\"type\":\"surface\"}],\"table\":[{\"cells\":{\"fill\":{\"color\":\"#EBF0F8\"},\"line\":{\"color\":\"white\"}},\"header\":{\"fill\":{\"color\":\"#C8D4E3\"},\"line\":{\"color\":\"white\"}},\"type\":\"table\"}]},\"layout\":{\"annotationdefaults\":{\"arrowcolor\":\"#2a3f5f\",\"arrowhead\":0,\"arrowwidth\":1},\"autotypenumbers\":\"strict\",\"coloraxis\":{\"colorbar\":{\"outlinewidth\":0,\"ticks\":\"\"}},\"colorscale\":{\"diverging\":[[0,\"#8e0152\"],[0.1,\"#c51b7d\"],[0.2,\"#de77ae\"],[0.3,\"#f1b6da\"],[0.4,\"#fde0ef\"],[0.5,\"#f7f7f7\"],[0.6,\"#e6f5d0\"],[0.7,\"#b8e186\"],[0.8,\"#7fbc41\"],[0.9,\"#4d9221\"],[1,\"#276419\"]],\"sequential\":[[0.0,\"#0d0887\"],[0.1111111111111111,\"#46039f\"],[0.2222222222222222,\"#7201a8\"],[0.3333333333333333,\"#9c179e\"],[0.4444444444444444,\"#bd3786\"],[0.5555555555555556,\"#d8576b\"],[0.6666666666666666,\"#ed7953\"],[0.7777777777777778,\"#fb9f3a\"],[0.8888888888888888,\"#fdca26\"],[1.0,\"#f0f921\"]],\"sequentialminus\":[[0.0,\"#0d0887\"],[0.1111111111111111,\"#46039f\"],[0.2222222222222222,\"#7201a8\"],[0.3333333333333333,\"#9c179e\"],[0.4444444444444444,\"#bd3786\"],[0.5555555555555556,\"#d8576b\"],[0.6666666666666666,\"#ed7953\"],[0.7777777777777778,\"#fb9f3a\"],[0.8888888888888888,\"#fdca26\"],[1.0,\"#f0f921\"]]},\"colorway\":[\"#636efa\",\"#EF553B\",\"#00cc96\",\"#ab63fa\",\"#FFA15A\",\"#19d3f3\",\"#FF6692\",\"#B6E880\",\"#FF97FF\",\"#FECB52\"],\"font\":{\"color\":\"#2a3f5f\"},\"geo\":{\"bgcolor\":\"white\",\"lakecolor\":\"white\",\"landcolor\":\"#E5ECF6\",\"showlakes\":true,\"showland\":true,\"subunitcolor\":\"white\"},\"hoverlabel\":{\"align\":\"left\"},\"hovermode\":\"closest\",\"mapbox\":{\"style\":\"light\"},\"paper_bgcolor\":\"white\",\"plot_bgcolor\":\"#E5ECF6\",\"polar\":{\"angularaxis\":{\"gridcolor\":\"white\",\"linecolor\":\"white\",\"ticks\":\"\"},\"bgcolor\":\"#E5ECF6\",\"radialaxis\":{\"gridcolor\":\"white\",\"linecolor\":\"white\",\"ticks\":\"\"}},\"scene\":{\"xaxis\":{\"backgroundcolor\":\"#E5ECF6\",\"gridcolor\":\"white\",\"gridwidth\":2,\"linecolor\":\"white\",\"showbackground\":true,\"ticks\":\"\",\"zerolinecolor\":\"white\"},\"yaxis\":{\"backgroundcolor\":\"#E5ECF6\",\"gridcolor\":\"white\",\"gridwidth\":2,\"linecolor\":\"white\",\"showbackground\":true,\"ticks\":\"\",\"zerolinecolor\":\"white\"},\"zaxis\":{\"backgroundcolor\":\"#E5ECF6\",\"gridcolor\":\"white\",\"gridwidth\":2,\"linecolor\":\"white\",\"showbackground\":true,\"ticks\":\"\",\"zerolinecolor\":\"white\"}},\"shapedefaults\":{\"line\":{\"color\":\"#2a3f5f\"}},\"ternary\":{\"aaxis\":{\"gridcolor\":\"white\",\"linecolor\":\"white\",\"ticks\":\"\"},\"baxis\":{\"gridcolor\":\"white\",\"linecolor\":\"white\",\"ticks\":\"\"},\"bgcolor\":\"#E5ECF6\",\"caxis\":{\"gridcolor\":\"white\",\"linecolor\":\"white\",\"ticks\":\"\"}},\"title\":{\"x\":0.05},\"xaxis\":{\"automargin\":true,\"gridcolor\":\"white\",\"linecolor\":\"white\",\"ticks\":\"\",\"title\":{\"standoff\":15},\"zerolinecolor\":\"white\",\"zerolinewidth\":2},\"yaxis\":{\"automargin\":true,\"gridcolor\":\"white\",\"linecolor\":\"white\",\"ticks\":\"\",\"title\":{\"standoff\":15},\"zerolinecolor\":\"white\",\"zerolinewidth\":2}}},\"xaxis\":{\"anchor\":\"y\",\"domain\":[0.0,1.0],\"title\":{\"text\":\"x\"}},\"yaxis\":{\"anchor\":\"x\",\"domain\":[0.0,1.0],\"title\":{\"text\":\"y\"}},\"coloraxis\":{\"colorbar\":{\"title\":{\"text\":\"cluster\"}},\"colorscale\":[[0.0,\"rgb(12,51,131)\"],[0.25,\"rgb(10,136,186)\"],[0.5,\"rgb(242,211,56)\"],[0.75,\"rgb(242,143,56)\"],[1.0,\"rgb(217,30,30)\"]]},\"legend\":{\"tracegroupgap\":0},\"margin\":{\"t\":60}},                        {\"responsive\": true}                    ).then(function(){\n",
       "                            \n",
       "var gd = document.getElementById('149d2bfb-97af-4e0b-960d-caa511208b10');\n",
       "var x = new MutationObserver(function (mutations, observer) {{\n",
       "        var display = window.getComputedStyle(gd).display;\n",
       "        if (!display || display === 'none') {{\n",
       "            console.log([gd, 'removed!']);\n",
       "            Plotly.purge(gd);\n",
       "            observer.disconnect();\n",
       "        }}\n",
       "}});\n",
       "\n",
       "// Listen for the removal of the full notebook cells\n",
       "var notebookContainer = gd.closest('#notebook-container');\n",
       "if (notebookContainer) {{\n",
       "    x.observe(notebookContainer, {childList: true});\n",
       "}}\n",
       "\n",
       "// Listen for the clearing of the current output cell\n",
       "var outputEl = gd.closest('.output');\n",
       "if (outputEl) {{\n",
       "    x.observe(outputEl, {childList: true});\n",
       "}}\n",
       "\n",
       "                        })                };                });            </script>        </div>"
      ]
     },
     "metadata": {},
     "output_type": "display_data"
    }
   ],
   "source": [
    "px.scatter(reduced, x='x', y='y', color=\"cluster\",\n",
    "           color_continuous_scale=px.colors.diverging.Portland)"
   ]
  },
  {
   "cell_type": "code",
   "execution_count": 343,
   "id": "d1ecb92f",
   "metadata": {},
   "outputs": [
    {
     "data": {
      "text/html": [
       "<div>\n",
       "<style scoped>\n",
       "    .dataframe tbody tr th:only-of-type {\n",
       "        vertical-align: middle;\n",
       "    }\n",
       "\n",
       "    .dataframe tbody tr th {\n",
       "        vertical-align: top;\n",
       "    }\n",
       "\n",
       "    .dataframe thead th {\n",
       "        text-align: right;\n",
       "    }\n",
       "</style>\n",
       "<table border=\"1\" class=\"dataframe\">\n",
       "  <thead>\n",
       "    <tr style=\"text-align: right;\">\n",
       "      <th></th>\n",
       "      <th>x</th>\n",
       "      <th>y</th>\n",
       "      <th>cluster</th>\n",
       "      <th>name</th>\n",
       "    </tr>\n",
       "  </thead>\n",
       "  <tbody>\n",
       "    <tr>\n",
       "      <th>0</th>\n",
       "      <td>-0.390443</td>\n",
       "      <td>-0.413049</td>\n",
       "      <td>-1</td>\n",
       "      <td>2019-07-01 2.0</td>\n",
       "    </tr>\n",
       "    <tr>\n",
       "      <th>1</th>\n",
       "      <td>0.732010</td>\n",
       "      <td>0.271605</td>\n",
       "      <td>-1</td>\n",
       "      <td>2019-07-04 2.0</td>\n",
       "    </tr>\n",
       "    <tr>\n",
       "      <th>3</th>\n",
       "      <td>-0.133107</td>\n",
       "      <td>0.212813</td>\n",
       "      <td>-1</td>\n",
       "      <td>2019-07-10 2.0</td>\n",
       "    </tr>\n",
       "    <tr>\n",
       "      <th>6</th>\n",
       "      <td>-0.420531</td>\n",
       "      <td>-0.658959</td>\n",
       "      <td>-1</td>\n",
       "      <td>2019-08-07 2.0</td>\n",
       "    </tr>\n",
       "    <tr>\n",
       "      <th>9</th>\n",
       "      <td>-0.016791</td>\n",
       "      <td>-0.517749</td>\n",
       "      <td>-1</td>\n",
       "      <td>2019-08-16 2.0</td>\n",
       "    </tr>\n",
       "    <tr>\n",
       "      <th>14</th>\n",
       "      <td>-0.565787</td>\n",
       "      <td>-0.199343</td>\n",
       "      <td>-1</td>\n",
       "      <td>2019-09-06 2.0</td>\n",
       "    </tr>\n",
       "    <tr>\n",
       "      <th>24</th>\n",
       "      <td>0.732010</td>\n",
       "      <td>0.271605</td>\n",
       "      <td>-1</td>\n",
       "      <td>2019-07-12 402.0</td>\n",
       "    </tr>\n",
       "    <tr>\n",
       "      <th>25</th>\n",
       "      <td>-0.133107</td>\n",
       "      <td>0.212813</td>\n",
       "      <td>-1</td>\n",
       "      <td>2019-07-17 402.0</td>\n",
       "    </tr>\n",
       "    <tr>\n",
       "      <th>26</th>\n",
       "      <td>0.732010</td>\n",
       "      <td>0.271605</td>\n",
       "      <td>-1</td>\n",
       "      <td>2019-09-05 402.0</td>\n",
       "    </tr>\n",
       "    <tr>\n",
       "      <th>27</th>\n",
       "      <td>-0.308068</td>\n",
       "      <td>0.418175</td>\n",
       "      <td>-1</td>\n",
       "      <td>2019-07-25 407.0</td>\n",
       "    </tr>\n",
       "    <tr>\n",
       "      <th>28</th>\n",
       "      <td>-0.704406</td>\n",
       "      <td>0.922646</td>\n",
       "      <td>-1</td>\n",
       "      <td>2019-07-26 407.0</td>\n",
       "    </tr>\n",
       "    <tr>\n",
       "      <th>29</th>\n",
       "      <td>-0.483029</td>\n",
       "      <td>0.623536</td>\n",
       "      <td>-1</td>\n",
       "      <td>2019-08-02 407.0</td>\n",
       "    </tr>\n",
       "  </tbody>\n",
       "</table>\n",
       "</div>"
      ],
      "text/plain": [
       "           x         y  cluster              name\n",
       "0  -0.390443 -0.413049       -1    2019-07-01 2.0\n",
       "1   0.732010  0.271605       -1    2019-07-04 2.0\n",
       "3  -0.133107  0.212813       -1    2019-07-10 2.0\n",
       "6  -0.420531 -0.658959       -1    2019-08-07 2.0\n",
       "9  -0.016791 -0.517749       -1    2019-08-16 2.0\n",
       "14 -0.565787 -0.199343       -1    2019-09-06 2.0\n",
       "24  0.732010  0.271605       -1  2019-07-12 402.0\n",
       "25 -0.133107  0.212813       -1  2019-07-17 402.0\n",
       "26  0.732010  0.271605       -1  2019-09-05 402.0\n",
       "27 -0.308068  0.418175       -1  2019-07-25 407.0\n",
       "28 -0.704406  0.922646       -1  2019-07-26 407.0\n",
       "29 -0.483029  0.623536       -1  2019-08-02 407.0"
      ]
     },
     "execution_count": 343,
     "metadata": {},
     "output_type": "execute_result"
    }
   ],
   "source": [
    "reduced[(reduced['cluster'] == -1)]"
   ]
  },
  {
   "cell_type": "code",
   "execution_count": null,
   "id": "d7e40382",
   "metadata": {},
   "outputs": [],
   "source": []
  },
  {
   "cell_type": "code",
   "execution_count": 344,
   "id": "ee864adf",
   "metadata": {},
   "outputs": [],
   "source": [
    "test = Q4_2020[Q4_2020[['download_task_files', 'auth_confirm_caution', 'remove_inform']].sum(1) != 0].reset_index(drop = True)\n",
    "test = test[['at', 'account', 'download_task_files', 'auth_confirm_caution', 'remove_inform']]"
   ]
  },
  {
   "cell_type": "code",
   "execution_count": 345,
   "id": "aef2f9b0",
   "metadata": {},
   "outputs": [
    {
     "data": {
      "application/vnd.plotly.v1+json": {
       "config": {
        "plotlyServerURL": "https://plot.ly"
       },
       "data": [
        {
         "hovertemplate": "variable=change_contact_status<br>at=%{x}<br>value=%{y}<extra></extra>",
         "legendgroup": "change_contact_status",
         "line": {
          "color": "#636efa",
          "dash": "solid"
         },
         "marker": {
          "symbol": "circle"
         },
         "mode": "lines",
         "name": "change_contact_status",
         "orientation": "v",
         "showlegend": true,
         "type": "scatter",
         "x": [
          "2019-07-01",
          "2019-07-04",
          "2019-07-07",
          "2019-07-10",
          "2019-07-11",
          "2019-07-12",
          "2019-08-07",
          "2019-08-13",
          "2019-08-15",
          "2019-08-16",
          "2019-08-19",
          "2019-08-20",
          "2019-08-28",
          "2019-09-04",
          "2019-09-06",
          "2019-09-12",
          "2019-09-17",
          "2019-09-18",
          "2019-09-20"
         ],
         "xaxis": "x",
         "y": [
          0,
          1,
          0,
          0,
          0,
          0,
          0,
          0,
          0,
          0,
          0,
          0,
          0,
          0,
          0,
          0,
          0,
          0,
          0
         ],
         "yaxis": "y"
        },
        {
         "hovertemplate": "variable=clear_account_settings<br>at=%{x}<br>value=%{y}<extra></extra>",
         "legendgroup": "clear_account_settings",
         "line": {
          "color": "#EF553B",
          "dash": "solid"
         },
         "marker": {
          "symbol": "circle"
         },
         "mode": "lines",
         "name": "clear_account_settings",
         "orientation": "v",
         "showlegend": true,
         "type": "scatter",
         "x": [
          "2019-07-01",
          "2019-07-04",
          "2019-07-07",
          "2019-07-10",
          "2019-07-11",
          "2019-07-12",
          "2019-08-07",
          "2019-08-13",
          "2019-08-15",
          "2019-08-16",
          "2019-08-19",
          "2019-08-20",
          "2019-08-28",
          "2019-09-04",
          "2019-09-06",
          "2019-09-12",
          "2019-09-17",
          "2019-09-18",
          "2019-09-20"
         ],
         "xaxis": "x",
         "y": [
          0,
          0,
          0,
          0,
          0,
          0,
          0,
          0,
          1,
          0,
          0,
          0,
          0,
          1,
          0,
          0,
          0,
          0,
          0
         ],
         "yaxis": "y"
        },
        {
         "hovertemplate": "variable=download_template<br>at=%{x}<br>value=%{y}<extra></extra>",
         "legendgroup": "download_template",
         "line": {
          "color": "#00cc96",
          "dash": "solid"
         },
         "marker": {
          "symbol": "circle"
         },
         "mode": "lines",
         "name": "download_template",
         "orientation": "v",
         "showlegend": true,
         "type": "scatter",
         "x": [
          "2019-07-01",
          "2019-07-04",
          "2019-07-07",
          "2019-07-10",
          "2019-07-11",
          "2019-07-12",
          "2019-08-07",
          "2019-08-13",
          "2019-08-15",
          "2019-08-16",
          "2019-08-19",
          "2019-08-20",
          "2019-08-28",
          "2019-09-04",
          "2019-09-06",
          "2019-09-12",
          "2019-09-17",
          "2019-09-18",
          "2019-09-20"
         ],
         "xaxis": "x",
         "y": [
          0,
          0,
          0,
          0,
          1,
          0,
          1,
          0,
          0,
          2,
          0,
          1,
          1,
          0,
          0,
          1,
          0,
          1,
          0
         ],
         "yaxis": "y"
        },
        {
         "hovertemplate": "variable=export_contacts<br>at=%{x}<br>value=%{y}<extra></extra>",
         "legendgroup": "export_contacts",
         "line": {
          "color": "#ab63fa",
          "dash": "solid"
         },
         "marker": {
          "symbol": "circle"
         },
         "mode": "lines",
         "name": "export_contacts",
         "orientation": "v",
         "showlegend": true,
         "type": "scatter",
         "x": [
          "2019-07-01",
          "2019-07-04",
          "2019-07-07",
          "2019-07-10",
          "2019-07-11",
          "2019-07-12",
          "2019-08-07",
          "2019-08-13",
          "2019-08-15",
          "2019-08-16",
          "2019-08-19",
          "2019-08-20",
          "2019-08-28",
          "2019-09-04",
          "2019-09-06",
          "2019-09-12",
          "2019-09-17",
          "2019-09-18",
          "2019-09-20"
         ],
         "xaxis": "x",
         "y": [
          0,
          0,
          0,
          1,
          0,
          0,
          0,
          0,
          0,
          0,
          0,
          0,
          0,
          0,
          1,
          0,
          0,
          0,
          0
         ],
         "yaxis": "y"
        },
        {
         "hovertemplate": "variable=export_workflow<br>at=%{x}<br>value=%{y}<extra></extra>",
         "legendgroup": "export_workflow",
         "line": {
          "color": "#FFA15A",
          "dash": "solid"
         },
         "marker": {
          "symbol": "circle"
         },
         "mode": "lines",
         "name": "export_workflow",
         "orientation": "v",
         "showlegend": true,
         "type": "scatter",
         "x": [
          "2019-07-01",
          "2019-07-04",
          "2019-07-07",
          "2019-07-10",
          "2019-07-11",
          "2019-07-12",
          "2019-08-07",
          "2019-08-13",
          "2019-08-15",
          "2019-08-16",
          "2019-08-19",
          "2019-08-20",
          "2019-08-28",
          "2019-09-04",
          "2019-09-06",
          "2019-09-12",
          "2019-09-17",
          "2019-09-18",
          "2019-09-20"
         ],
         "xaxis": "x",
         "y": [
          1,
          0,
          2,
          0,
          21,
          2,
          0,
          0,
          0,
          2,
          1,
          1,
          1,
          0,
          0,
          0,
          1,
          1,
          2
         ],
         "yaxis": "y"
        },
        {
         "hovertemplate": "variable=remove_action<br>at=%{x}<br>value=%{y}<extra></extra>",
         "legendgroup": "remove_action",
         "line": {
          "color": "#19d3f3",
          "dash": "solid"
         },
         "marker": {
          "symbol": "circle"
         },
         "mode": "lines",
         "name": "remove_action",
         "orientation": "v",
         "showlegend": true,
         "type": "scatter",
         "x": [
          "2019-07-01",
          "2019-07-04",
          "2019-07-07",
          "2019-07-10",
          "2019-07-11",
          "2019-07-12",
          "2019-08-07",
          "2019-08-13",
          "2019-08-15",
          "2019-08-16",
          "2019-08-19",
          "2019-08-20",
          "2019-08-28",
          "2019-09-04",
          "2019-09-06",
          "2019-09-12",
          "2019-09-17",
          "2019-09-18",
          "2019-09-20"
         ],
         "xaxis": "x",
         "y": [
          0,
          0,
          0,
          0,
          1,
          0,
          0,
          1,
          0,
          0,
          5,
          0,
          0,
          0,
          0,
          0,
          0,
          0,
          0
         ],
         "yaxis": "y"
        },
        {
         "hovertemplate": "variable=remove_contact<br>at=%{x}<br>value=%{y}<extra></extra>",
         "legendgroup": "remove_contact",
         "line": {
          "color": "#FF6692",
          "dash": "solid"
         },
         "marker": {
          "symbol": "circle"
         },
         "mode": "lines",
         "name": "remove_contact",
         "orientation": "v",
         "showlegend": true,
         "type": "scatter",
         "x": [
          "2019-07-01",
          "2019-07-04",
          "2019-07-07",
          "2019-07-10",
          "2019-07-11",
          "2019-07-12",
          "2019-08-07",
          "2019-08-13",
          "2019-08-15",
          "2019-08-16",
          "2019-08-19",
          "2019-08-20",
          "2019-08-28",
          "2019-09-04",
          "2019-09-06",
          "2019-09-12",
          "2019-09-17",
          "2019-09-18",
          "2019-09-20"
         ],
         "xaxis": "x",
         "y": [
          0,
          0,
          0,
          0,
          0,
          0,
          0,
          0,
          0,
          0,
          0,
          0,
          0,
          0,
          0,
          0,
          0,
          0,
          0
         ],
         "yaxis": "y"
        },
        {
         "hovertemplate": "variable=remove_status<br>at=%{x}<br>value=%{y}<extra></extra>",
         "legendgroup": "remove_status",
         "line": {
          "color": "#B6E880",
          "dash": "solid"
         },
         "marker": {
          "symbol": "circle"
         },
         "mode": "lines",
         "name": "remove_status",
         "orientation": "v",
         "showlegend": true,
         "type": "scatter",
         "x": [
          "2019-07-01",
          "2019-07-04",
          "2019-07-07",
          "2019-07-10",
          "2019-07-11",
          "2019-07-12",
          "2019-08-07",
          "2019-08-13",
          "2019-08-15",
          "2019-08-16",
          "2019-08-19",
          "2019-08-20",
          "2019-08-28",
          "2019-09-04",
          "2019-09-06",
          "2019-09-12",
          "2019-09-17",
          "2019-09-18",
          "2019-09-20"
         ],
         "xaxis": "x",
         "y": [
          1,
          0,
          0,
          0,
          0,
          0,
          1,
          0,
          0,
          0,
          0,
          0,
          0,
          0,
          1,
          0,
          0,
          0,
          0
         ],
         "yaxis": "y"
        },
        {
         "hovertemplate": "variable=reset_password<br>at=%{x}<br>value=%{y}<extra></extra>",
         "legendgroup": "reset_password",
         "line": {
          "color": "#FF97FF",
          "dash": "solid"
         },
         "marker": {
          "symbol": "circle"
         },
         "mode": "lines",
         "name": "reset_password",
         "orientation": "v",
         "showlegend": true,
         "type": "scatter",
         "x": [
          "2019-07-01",
          "2019-07-04",
          "2019-07-07",
          "2019-07-10",
          "2019-07-11",
          "2019-07-12",
          "2019-08-07",
          "2019-08-13",
          "2019-08-15",
          "2019-08-16",
          "2019-08-19",
          "2019-08-20",
          "2019-08-28",
          "2019-09-04",
          "2019-09-06",
          "2019-09-12",
          "2019-09-17",
          "2019-09-18",
          "2019-09-20"
         ],
         "xaxis": "x",
         "y": [
          0,
          0,
          0,
          0,
          0,
          0,
          0,
          0,
          0,
          0,
          0,
          0,
          0,
          0,
          0,
          0,
          0,
          0,
          0
         ],
         "yaxis": "y"
        },
        {
         "hovertemplate": "variable=suspend_role<br>at=%{x}<br>value=%{y}<extra></extra>",
         "legendgroup": "suspend_role",
         "line": {
          "color": "#FECB52",
          "dash": "solid"
         },
         "marker": {
          "symbol": "circle"
         },
         "mode": "lines",
         "name": "suspend_role",
         "orientation": "v",
         "showlegend": true,
         "type": "scatter",
         "x": [
          "2019-07-01",
          "2019-07-04",
          "2019-07-07",
          "2019-07-10",
          "2019-07-11",
          "2019-07-12",
          "2019-08-07",
          "2019-08-13",
          "2019-08-15",
          "2019-08-16",
          "2019-08-19",
          "2019-08-20",
          "2019-08-28",
          "2019-09-04",
          "2019-09-06",
          "2019-09-12",
          "2019-09-17",
          "2019-09-18",
          "2019-09-20"
         ],
         "xaxis": "x",
         "y": [
          0,
          0,
          0,
          0,
          0,
          0,
          0,
          0,
          0,
          0,
          0,
          0,
          0,
          0,
          0,
          0,
          0,
          0,
          0
         ],
         "yaxis": "y"
        }
       ],
       "layout": {
        "legend": {
         "title": {
          "text": "variable"
         },
         "tracegroupgap": 0
        },
        "margin": {
         "t": 60
        },
        "template": {
         "data": {
          "bar": [
           {
            "error_x": {
             "color": "#2a3f5f"
            },
            "error_y": {
             "color": "#2a3f5f"
            },
            "marker": {
             "line": {
              "color": "#E5ECF6",
              "width": 0.5
             },
             "pattern": {
              "fillmode": "overlay",
              "size": 10,
              "solidity": 0.2
             }
            },
            "type": "bar"
           }
          ],
          "barpolar": [
           {
            "marker": {
             "line": {
              "color": "#E5ECF6",
              "width": 0.5
             },
             "pattern": {
              "fillmode": "overlay",
              "size": 10,
              "solidity": 0.2
             }
            },
            "type": "barpolar"
           }
          ],
          "carpet": [
           {
            "aaxis": {
             "endlinecolor": "#2a3f5f",
             "gridcolor": "white",
             "linecolor": "white",
             "minorgridcolor": "white",
             "startlinecolor": "#2a3f5f"
            },
            "baxis": {
             "endlinecolor": "#2a3f5f",
             "gridcolor": "white",
             "linecolor": "white",
             "minorgridcolor": "white",
             "startlinecolor": "#2a3f5f"
            },
            "type": "carpet"
           }
          ],
          "choropleth": [
           {
            "colorbar": {
             "outlinewidth": 0,
             "ticks": ""
            },
            "type": "choropleth"
           }
          ],
          "contour": [
           {
            "colorbar": {
             "outlinewidth": 0,
             "ticks": ""
            },
            "colorscale": [
             [
              0,
              "#0d0887"
             ],
             [
              0.1111111111111111,
              "#46039f"
             ],
             [
              0.2222222222222222,
              "#7201a8"
             ],
             [
              0.3333333333333333,
              "#9c179e"
             ],
             [
              0.4444444444444444,
              "#bd3786"
             ],
             [
              0.5555555555555556,
              "#d8576b"
             ],
             [
              0.6666666666666666,
              "#ed7953"
             ],
             [
              0.7777777777777778,
              "#fb9f3a"
             ],
             [
              0.8888888888888888,
              "#fdca26"
             ],
             [
              1,
              "#f0f921"
             ]
            ],
            "type": "contour"
           }
          ],
          "contourcarpet": [
           {
            "colorbar": {
             "outlinewidth": 0,
             "ticks": ""
            },
            "type": "contourcarpet"
           }
          ],
          "heatmap": [
           {
            "colorbar": {
             "outlinewidth": 0,
             "ticks": ""
            },
            "colorscale": [
             [
              0,
              "#0d0887"
             ],
             [
              0.1111111111111111,
              "#46039f"
             ],
             [
              0.2222222222222222,
              "#7201a8"
             ],
             [
              0.3333333333333333,
              "#9c179e"
             ],
             [
              0.4444444444444444,
              "#bd3786"
             ],
             [
              0.5555555555555556,
              "#d8576b"
             ],
             [
              0.6666666666666666,
              "#ed7953"
             ],
             [
              0.7777777777777778,
              "#fb9f3a"
             ],
             [
              0.8888888888888888,
              "#fdca26"
             ],
             [
              1,
              "#f0f921"
             ]
            ],
            "type": "heatmap"
           }
          ],
          "heatmapgl": [
           {
            "colorbar": {
             "outlinewidth": 0,
             "ticks": ""
            },
            "colorscale": [
             [
              0,
              "#0d0887"
             ],
             [
              0.1111111111111111,
              "#46039f"
             ],
             [
              0.2222222222222222,
              "#7201a8"
             ],
             [
              0.3333333333333333,
              "#9c179e"
             ],
             [
              0.4444444444444444,
              "#bd3786"
             ],
             [
              0.5555555555555556,
              "#d8576b"
             ],
             [
              0.6666666666666666,
              "#ed7953"
             ],
             [
              0.7777777777777778,
              "#fb9f3a"
             ],
             [
              0.8888888888888888,
              "#fdca26"
             ],
             [
              1,
              "#f0f921"
             ]
            ],
            "type": "heatmapgl"
           }
          ],
          "histogram": [
           {
            "marker": {
             "pattern": {
              "fillmode": "overlay",
              "size": 10,
              "solidity": 0.2
             }
            },
            "type": "histogram"
           }
          ],
          "histogram2d": [
           {
            "colorbar": {
             "outlinewidth": 0,
             "ticks": ""
            },
            "colorscale": [
             [
              0,
              "#0d0887"
             ],
             [
              0.1111111111111111,
              "#46039f"
             ],
             [
              0.2222222222222222,
              "#7201a8"
             ],
             [
              0.3333333333333333,
              "#9c179e"
             ],
             [
              0.4444444444444444,
              "#bd3786"
             ],
             [
              0.5555555555555556,
              "#d8576b"
             ],
             [
              0.6666666666666666,
              "#ed7953"
             ],
             [
              0.7777777777777778,
              "#fb9f3a"
             ],
             [
              0.8888888888888888,
              "#fdca26"
             ],
             [
              1,
              "#f0f921"
             ]
            ],
            "type": "histogram2d"
           }
          ],
          "histogram2dcontour": [
           {
            "colorbar": {
             "outlinewidth": 0,
             "ticks": ""
            },
            "colorscale": [
             [
              0,
              "#0d0887"
             ],
             [
              0.1111111111111111,
              "#46039f"
             ],
             [
              0.2222222222222222,
              "#7201a8"
             ],
             [
              0.3333333333333333,
              "#9c179e"
             ],
             [
              0.4444444444444444,
              "#bd3786"
             ],
             [
              0.5555555555555556,
              "#d8576b"
             ],
             [
              0.6666666666666666,
              "#ed7953"
             ],
             [
              0.7777777777777778,
              "#fb9f3a"
             ],
             [
              0.8888888888888888,
              "#fdca26"
             ],
             [
              1,
              "#f0f921"
             ]
            ],
            "type": "histogram2dcontour"
           }
          ],
          "mesh3d": [
           {
            "colorbar": {
             "outlinewidth": 0,
             "ticks": ""
            },
            "type": "mesh3d"
           }
          ],
          "parcoords": [
           {
            "line": {
             "colorbar": {
              "outlinewidth": 0,
              "ticks": ""
             }
            },
            "type": "parcoords"
           }
          ],
          "pie": [
           {
            "automargin": true,
            "type": "pie"
           }
          ],
          "scatter": [
           {
            "marker": {
             "colorbar": {
              "outlinewidth": 0,
              "ticks": ""
             }
            },
            "type": "scatter"
           }
          ],
          "scatter3d": [
           {
            "line": {
             "colorbar": {
              "outlinewidth": 0,
              "ticks": ""
             }
            },
            "marker": {
             "colorbar": {
              "outlinewidth": 0,
              "ticks": ""
             }
            },
            "type": "scatter3d"
           }
          ],
          "scattercarpet": [
           {
            "marker": {
             "colorbar": {
              "outlinewidth": 0,
              "ticks": ""
             }
            },
            "type": "scattercarpet"
           }
          ],
          "scattergeo": [
           {
            "marker": {
             "colorbar": {
              "outlinewidth": 0,
              "ticks": ""
             }
            },
            "type": "scattergeo"
           }
          ],
          "scattergl": [
           {
            "marker": {
             "colorbar": {
              "outlinewidth": 0,
              "ticks": ""
             }
            },
            "type": "scattergl"
           }
          ],
          "scattermapbox": [
           {
            "marker": {
             "colorbar": {
              "outlinewidth": 0,
              "ticks": ""
             }
            },
            "type": "scattermapbox"
           }
          ],
          "scatterpolar": [
           {
            "marker": {
             "colorbar": {
              "outlinewidth": 0,
              "ticks": ""
             }
            },
            "type": "scatterpolar"
           }
          ],
          "scatterpolargl": [
           {
            "marker": {
             "colorbar": {
              "outlinewidth": 0,
              "ticks": ""
             }
            },
            "type": "scatterpolargl"
           }
          ],
          "scatterternary": [
           {
            "marker": {
             "colorbar": {
              "outlinewidth": 0,
              "ticks": ""
             }
            },
            "type": "scatterternary"
           }
          ],
          "surface": [
           {
            "colorbar": {
             "outlinewidth": 0,
             "ticks": ""
            },
            "colorscale": [
             [
              0,
              "#0d0887"
             ],
             [
              0.1111111111111111,
              "#46039f"
             ],
             [
              0.2222222222222222,
              "#7201a8"
             ],
             [
              0.3333333333333333,
              "#9c179e"
             ],
             [
              0.4444444444444444,
              "#bd3786"
             ],
             [
              0.5555555555555556,
              "#d8576b"
             ],
             [
              0.6666666666666666,
              "#ed7953"
             ],
             [
              0.7777777777777778,
              "#fb9f3a"
             ],
             [
              0.8888888888888888,
              "#fdca26"
             ],
             [
              1,
              "#f0f921"
             ]
            ],
            "type": "surface"
           }
          ],
          "table": [
           {
            "cells": {
             "fill": {
              "color": "#EBF0F8"
             },
             "line": {
              "color": "white"
             }
            },
            "header": {
             "fill": {
              "color": "#C8D4E3"
             },
             "line": {
              "color": "white"
             }
            },
            "type": "table"
           }
          ]
         },
         "layout": {
          "annotationdefaults": {
           "arrowcolor": "#2a3f5f",
           "arrowhead": 0,
           "arrowwidth": 1
          },
          "autotypenumbers": "strict",
          "coloraxis": {
           "colorbar": {
            "outlinewidth": 0,
            "ticks": ""
           }
          },
          "colorscale": {
           "diverging": [
            [
             0,
             "#8e0152"
            ],
            [
             0.1,
             "#c51b7d"
            ],
            [
             0.2,
             "#de77ae"
            ],
            [
             0.3,
             "#f1b6da"
            ],
            [
             0.4,
             "#fde0ef"
            ],
            [
             0.5,
             "#f7f7f7"
            ],
            [
             0.6,
             "#e6f5d0"
            ],
            [
             0.7,
             "#b8e186"
            ],
            [
             0.8,
             "#7fbc41"
            ],
            [
             0.9,
             "#4d9221"
            ],
            [
             1,
             "#276419"
            ]
           ],
           "sequential": [
            [
             0,
             "#0d0887"
            ],
            [
             0.1111111111111111,
             "#46039f"
            ],
            [
             0.2222222222222222,
             "#7201a8"
            ],
            [
             0.3333333333333333,
             "#9c179e"
            ],
            [
             0.4444444444444444,
             "#bd3786"
            ],
            [
             0.5555555555555556,
             "#d8576b"
            ],
            [
             0.6666666666666666,
             "#ed7953"
            ],
            [
             0.7777777777777778,
             "#fb9f3a"
            ],
            [
             0.8888888888888888,
             "#fdca26"
            ],
            [
             1,
             "#f0f921"
            ]
           ],
           "sequentialminus": [
            [
             0,
             "#0d0887"
            ],
            [
             0.1111111111111111,
             "#46039f"
            ],
            [
             0.2222222222222222,
             "#7201a8"
            ],
            [
             0.3333333333333333,
             "#9c179e"
            ],
            [
             0.4444444444444444,
             "#bd3786"
            ],
            [
             0.5555555555555556,
             "#d8576b"
            ],
            [
             0.6666666666666666,
             "#ed7953"
            ],
            [
             0.7777777777777778,
             "#fb9f3a"
            ],
            [
             0.8888888888888888,
             "#fdca26"
            ],
            [
             1,
             "#f0f921"
            ]
           ]
          },
          "colorway": [
           "#636efa",
           "#EF553B",
           "#00cc96",
           "#ab63fa",
           "#FFA15A",
           "#19d3f3",
           "#FF6692",
           "#B6E880",
           "#FF97FF",
           "#FECB52"
          ],
          "font": {
           "color": "#2a3f5f"
          },
          "geo": {
           "bgcolor": "white",
           "lakecolor": "white",
           "landcolor": "#E5ECF6",
           "showlakes": true,
           "showland": true,
           "subunitcolor": "white"
          },
          "hoverlabel": {
           "align": "left"
          },
          "hovermode": "closest",
          "mapbox": {
           "style": "light"
          },
          "paper_bgcolor": "white",
          "plot_bgcolor": "#E5ECF6",
          "polar": {
           "angularaxis": {
            "gridcolor": "white",
            "linecolor": "white",
            "ticks": ""
           },
           "bgcolor": "#E5ECF6",
           "radialaxis": {
            "gridcolor": "white",
            "linecolor": "white",
            "ticks": ""
           }
          },
          "scene": {
           "xaxis": {
            "backgroundcolor": "#E5ECF6",
            "gridcolor": "white",
            "gridwidth": 2,
            "linecolor": "white",
            "showbackground": true,
            "ticks": "",
            "zerolinecolor": "white"
           },
           "yaxis": {
            "backgroundcolor": "#E5ECF6",
            "gridcolor": "white",
            "gridwidth": 2,
            "linecolor": "white",
            "showbackground": true,
            "ticks": "",
            "zerolinecolor": "white"
           },
           "zaxis": {
            "backgroundcolor": "#E5ECF6",
            "gridcolor": "white",
            "gridwidth": 2,
            "linecolor": "white",
            "showbackground": true,
            "ticks": "",
            "zerolinecolor": "white"
           }
          },
          "shapedefaults": {
           "line": {
            "color": "#2a3f5f"
           }
          },
          "ternary": {
           "aaxis": {
            "gridcolor": "white",
            "linecolor": "white",
            "ticks": ""
           },
           "baxis": {
            "gridcolor": "white",
            "linecolor": "white",
            "ticks": ""
           },
           "bgcolor": "#E5ECF6",
           "caxis": {
            "gridcolor": "white",
            "linecolor": "white",
            "ticks": ""
           }
          },
          "title": {
           "x": 0.05
          },
          "xaxis": {
           "automargin": true,
           "gridcolor": "white",
           "linecolor": "white",
           "ticks": "",
           "title": {
            "standoff": 15
           },
           "zerolinecolor": "white",
           "zerolinewidth": 2
          },
          "yaxis": {
           "automargin": true,
           "gridcolor": "white",
           "linecolor": "white",
           "ticks": "",
           "title": {
            "standoff": 15
           },
           "zerolinecolor": "white",
           "zerolinewidth": 2
          }
         }
        },
        "xaxis": {
         "anchor": "y",
         "domain": [
          0,
          1
         ],
         "title": {
          "text": "at"
         }
        },
        "yaxis": {
         "anchor": "x",
         "domain": [
          0,
          1
         ],
         "title": {
          "text": "value"
         }
        }
       }
      },
      "text/html": [
       "<div>                            <div id=\"8efe7ec1-1f77-4694-a275-82dbe4852ab0\" class=\"plotly-graph-div\" style=\"height:525px; width:100%;\"></div>            <script type=\"text/javascript\">                require([\"plotly\"], function(Plotly) {                    window.PLOTLYENV=window.PLOTLYENV || {};                                    if (document.getElementById(\"8efe7ec1-1f77-4694-a275-82dbe4852ab0\")) {                    Plotly.newPlot(                        \"8efe7ec1-1f77-4694-a275-82dbe4852ab0\",                        [{\"hovertemplate\":\"variable=change_contact_status<br>at=%{x}<br>value=%{y}<extra></extra>\",\"legendgroup\":\"change_contact_status\",\"line\":{\"color\":\"#636efa\",\"dash\":\"solid\"},\"marker\":{\"symbol\":\"circle\"},\"mode\":\"lines\",\"name\":\"change_contact_status\",\"orientation\":\"v\",\"showlegend\":true,\"x\":[\"2019-07-01\",\"2019-07-04\",\"2019-07-07\",\"2019-07-10\",\"2019-07-11\",\"2019-07-12\",\"2019-08-07\",\"2019-08-13\",\"2019-08-15\",\"2019-08-16\",\"2019-08-19\",\"2019-08-20\",\"2019-08-28\",\"2019-09-04\",\"2019-09-06\",\"2019-09-12\",\"2019-09-17\",\"2019-09-18\",\"2019-09-20\"],\"xaxis\":\"x\",\"y\":[0.0,1.0,0.0,0.0,0.0,0.0,0.0,0.0,0.0,0.0,0.0,0.0,0.0,0.0,0.0,0.0,0.0,0.0,0.0],\"yaxis\":\"y\",\"type\":\"scatter\"},{\"hovertemplate\":\"variable=clear_account_settings<br>at=%{x}<br>value=%{y}<extra></extra>\",\"legendgroup\":\"clear_account_settings\",\"line\":{\"color\":\"#EF553B\",\"dash\":\"solid\"},\"marker\":{\"symbol\":\"circle\"},\"mode\":\"lines\",\"name\":\"clear_account_settings\",\"orientation\":\"v\",\"showlegend\":true,\"x\":[\"2019-07-01\",\"2019-07-04\",\"2019-07-07\",\"2019-07-10\",\"2019-07-11\",\"2019-07-12\",\"2019-08-07\",\"2019-08-13\",\"2019-08-15\",\"2019-08-16\",\"2019-08-19\",\"2019-08-20\",\"2019-08-28\",\"2019-09-04\",\"2019-09-06\",\"2019-09-12\",\"2019-09-17\",\"2019-09-18\",\"2019-09-20\"],\"xaxis\":\"x\",\"y\":[0.0,0.0,0.0,0.0,0.0,0.0,0.0,0.0,1.0,0.0,0.0,0.0,0.0,1.0,0.0,0.0,0.0,0.0,0.0],\"yaxis\":\"y\",\"type\":\"scatter\"},{\"hovertemplate\":\"variable=download_template<br>at=%{x}<br>value=%{y}<extra></extra>\",\"legendgroup\":\"download_template\",\"line\":{\"color\":\"#00cc96\",\"dash\":\"solid\"},\"marker\":{\"symbol\":\"circle\"},\"mode\":\"lines\",\"name\":\"download_template\",\"orientation\":\"v\",\"showlegend\":true,\"x\":[\"2019-07-01\",\"2019-07-04\",\"2019-07-07\",\"2019-07-10\",\"2019-07-11\",\"2019-07-12\",\"2019-08-07\",\"2019-08-13\",\"2019-08-15\",\"2019-08-16\",\"2019-08-19\",\"2019-08-20\",\"2019-08-28\",\"2019-09-04\",\"2019-09-06\",\"2019-09-12\",\"2019-09-17\",\"2019-09-18\",\"2019-09-20\"],\"xaxis\":\"x\",\"y\":[0.0,0.0,0.0,0.0,1.0,0.0,1.0,0.0,0.0,2.0,0.0,1.0,1.0,0.0,0.0,1.0,0.0,1.0,0.0],\"yaxis\":\"y\",\"type\":\"scatter\"},{\"hovertemplate\":\"variable=export_contacts<br>at=%{x}<br>value=%{y}<extra></extra>\",\"legendgroup\":\"export_contacts\",\"line\":{\"color\":\"#ab63fa\",\"dash\":\"solid\"},\"marker\":{\"symbol\":\"circle\"},\"mode\":\"lines\",\"name\":\"export_contacts\",\"orientation\":\"v\",\"showlegend\":true,\"x\":[\"2019-07-01\",\"2019-07-04\",\"2019-07-07\",\"2019-07-10\",\"2019-07-11\",\"2019-07-12\",\"2019-08-07\",\"2019-08-13\",\"2019-08-15\",\"2019-08-16\",\"2019-08-19\",\"2019-08-20\",\"2019-08-28\",\"2019-09-04\",\"2019-09-06\",\"2019-09-12\",\"2019-09-17\",\"2019-09-18\",\"2019-09-20\"],\"xaxis\":\"x\",\"y\":[0.0,0.0,0.0,1.0,0.0,0.0,0.0,0.0,0.0,0.0,0.0,0.0,0.0,0.0,1.0,0.0,0.0,0.0,0.0],\"yaxis\":\"y\",\"type\":\"scatter\"},{\"hovertemplate\":\"variable=export_workflow<br>at=%{x}<br>value=%{y}<extra></extra>\",\"legendgroup\":\"export_workflow\",\"line\":{\"color\":\"#FFA15A\",\"dash\":\"solid\"},\"marker\":{\"symbol\":\"circle\"},\"mode\":\"lines\",\"name\":\"export_workflow\",\"orientation\":\"v\",\"showlegend\":true,\"x\":[\"2019-07-01\",\"2019-07-04\",\"2019-07-07\",\"2019-07-10\",\"2019-07-11\",\"2019-07-12\",\"2019-08-07\",\"2019-08-13\",\"2019-08-15\",\"2019-08-16\",\"2019-08-19\",\"2019-08-20\",\"2019-08-28\",\"2019-09-04\",\"2019-09-06\",\"2019-09-12\",\"2019-09-17\",\"2019-09-18\",\"2019-09-20\"],\"xaxis\":\"x\",\"y\":[1.0,0.0,2.0,0.0,21.0,2.0,0.0,0.0,0.0,2.0,1.0,1.0,1.0,0.0,0.0,0.0,1.0,1.0,2.0],\"yaxis\":\"y\",\"type\":\"scatter\"},{\"hovertemplate\":\"variable=remove_action<br>at=%{x}<br>value=%{y}<extra></extra>\",\"legendgroup\":\"remove_action\",\"line\":{\"color\":\"#19d3f3\",\"dash\":\"solid\"},\"marker\":{\"symbol\":\"circle\"},\"mode\":\"lines\",\"name\":\"remove_action\",\"orientation\":\"v\",\"showlegend\":true,\"x\":[\"2019-07-01\",\"2019-07-04\",\"2019-07-07\",\"2019-07-10\",\"2019-07-11\",\"2019-07-12\",\"2019-08-07\",\"2019-08-13\",\"2019-08-15\",\"2019-08-16\",\"2019-08-19\",\"2019-08-20\",\"2019-08-28\",\"2019-09-04\",\"2019-09-06\",\"2019-09-12\",\"2019-09-17\",\"2019-09-18\",\"2019-09-20\"],\"xaxis\":\"x\",\"y\":[0.0,0.0,0.0,0.0,1.0,0.0,0.0,1.0,0.0,0.0,5.0,0.0,0.0,0.0,0.0,0.0,0.0,0.0,0.0],\"yaxis\":\"y\",\"type\":\"scatter\"},{\"hovertemplate\":\"variable=remove_contact<br>at=%{x}<br>value=%{y}<extra></extra>\",\"legendgroup\":\"remove_contact\",\"line\":{\"color\":\"#FF6692\",\"dash\":\"solid\"},\"marker\":{\"symbol\":\"circle\"},\"mode\":\"lines\",\"name\":\"remove_contact\",\"orientation\":\"v\",\"showlegend\":true,\"x\":[\"2019-07-01\",\"2019-07-04\",\"2019-07-07\",\"2019-07-10\",\"2019-07-11\",\"2019-07-12\",\"2019-08-07\",\"2019-08-13\",\"2019-08-15\",\"2019-08-16\",\"2019-08-19\",\"2019-08-20\",\"2019-08-28\",\"2019-09-04\",\"2019-09-06\",\"2019-09-12\",\"2019-09-17\",\"2019-09-18\",\"2019-09-20\"],\"xaxis\":\"x\",\"y\":[0.0,0.0,0.0,0.0,0.0,0.0,0.0,0.0,0.0,0.0,0.0,0.0,0.0,0.0,0.0,0.0,0.0,0.0,0.0],\"yaxis\":\"y\",\"type\":\"scatter\"},{\"hovertemplate\":\"variable=remove_status<br>at=%{x}<br>value=%{y}<extra></extra>\",\"legendgroup\":\"remove_status\",\"line\":{\"color\":\"#B6E880\",\"dash\":\"solid\"},\"marker\":{\"symbol\":\"circle\"},\"mode\":\"lines\",\"name\":\"remove_status\",\"orientation\":\"v\",\"showlegend\":true,\"x\":[\"2019-07-01\",\"2019-07-04\",\"2019-07-07\",\"2019-07-10\",\"2019-07-11\",\"2019-07-12\",\"2019-08-07\",\"2019-08-13\",\"2019-08-15\",\"2019-08-16\",\"2019-08-19\",\"2019-08-20\",\"2019-08-28\",\"2019-09-04\",\"2019-09-06\",\"2019-09-12\",\"2019-09-17\",\"2019-09-18\",\"2019-09-20\"],\"xaxis\":\"x\",\"y\":[1.0,0.0,0.0,0.0,0.0,0.0,1.0,0.0,0.0,0.0,0.0,0.0,0.0,0.0,1.0,0.0,0.0,0.0,0.0],\"yaxis\":\"y\",\"type\":\"scatter\"},{\"hovertemplate\":\"variable=reset_password<br>at=%{x}<br>value=%{y}<extra></extra>\",\"legendgroup\":\"reset_password\",\"line\":{\"color\":\"#FF97FF\",\"dash\":\"solid\"},\"marker\":{\"symbol\":\"circle\"},\"mode\":\"lines\",\"name\":\"reset_password\",\"orientation\":\"v\",\"showlegend\":true,\"x\":[\"2019-07-01\",\"2019-07-04\",\"2019-07-07\",\"2019-07-10\",\"2019-07-11\",\"2019-07-12\",\"2019-08-07\",\"2019-08-13\",\"2019-08-15\",\"2019-08-16\",\"2019-08-19\",\"2019-08-20\",\"2019-08-28\",\"2019-09-04\",\"2019-09-06\",\"2019-09-12\",\"2019-09-17\",\"2019-09-18\",\"2019-09-20\"],\"xaxis\":\"x\",\"y\":[0.0,0.0,0.0,0.0,0.0,0.0,0.0,0.0,0.0,0.0,0.0,0.0,0.0,0.0,0.0,0.0,0.0,0.0,0.0],\"yaxis\":\"y\",\"type\":\"scatter\"},{\"hovertemplate\":\"variable=suspend_role<br>at=%{x}<br>value=%{y}<extra></extra>\",\"legendgroup\":\"suspend_role\",\"line\":{\"color\":\"#FECB52\",\"dash\":\"solid\"},\"marker\":{\"symbol\":\"circle\"},\"mode\":\"lines\",\"name\":\"suspend_role\",\"orientation\":\"v\",\"showlegend\":true,\"x\":[\"2019-07-01\",\"2019-07-04\",\"2019-07-07\",\"2019-07-10\",\"2019-07-11\",\"2019-07-12\",\"2019-08-07\",\"2019-08-13\",\"2019-08-15\",\"2019-08-16\",\"2019-08-19\",\"2019-08-20\",\"2019-08-28\",\"2019-09-04\",\"2019-09-06\",\"2019-09-12\",\"2019-09-17\",\"2019-09-18\",\"2019-09-20\"],\"xaxis\":\"x\",\"y\":[0.0,0.0,0.0,0.0,0.0,0.0,0.0,0.0,0.0,0.0,0.0,0.0,0.0,0.0,0.0,0.0,0.0,0.0,0.0],\"yaxis\":\"y\",\"type\":\"scatter\"}],                        {\"template\":{\"data\":{\"bar\":[{\"error_x\":{\"color\":\"#2a3f5f\"},\"error_y\":{\"color\":\"#2a3f5f\"},\"marker\":{\"line\":{\"color\":\"#E5ECF6\",\"width\":0.5},\"pattern\":{\"fillmode\":\"overlay\",\"size\":10,\"solidity\":0.2}},\"type\":\"bar\"}],\"barpolar\":[{\"marker\":{\"line\":{\"color\":\"#E5ECF6\",\"width\":0.5},\"pattern\":{\"fillmode\":\"overlay\",\"size\":10,\"solidity\":0.2}},\"type\":\"barpolar\"}],\"carpet\":[{\"aaxis\":{\"endlinecolor\":\"#2a3f5f\",\"gridcolor\":\"white\",\"linecolor\":\"white\",\"minorgridcolor\":\"white\",\"startlinecolor\":\"#2a3f5f\"},\"baxis\":{\"endlinecolor\":\"#2a3f5f\",\"gridcolor\":\"white\",\"linecolor\":\"white\",\"minorgridcolor\":\"white\",\"startlinecolor\":\"#2a3f5f\"},\"type\":\"carpet\"}],\"choropleth\":[{\"colorbar\":{\"outlinewidth\":0,\"ticks\":\"\"},\"type\":\"choropleth\"}],\"contour\":[{\"colorbar\":{\"outlinewidth\":0,\"ticks\":\"\"},\"colorscale\":[[0.0,\"#0d0887\"],[0.1111111111111111,\"#46039f\"],[0.2222222222222222,\"#7201a8\"],[0.3333333333333333,\"#9c179e\"],[0.4444444444444444,\"#bd3786\"],[0.5555555555555556,\"#d8576b\"],[0.6666666666666666,\"#ed7953\"],[0.7777777777777778,\"#fb9f3a\"],[0.8888888888888888,\"#fdca26\"],[1.0,\"#f0f921\"]],\"type\":\"contour\"}],\"contourcarpet\":[{\"colorbar\":{\"outlinewidth\":0,\"ticks\":\"\"},\"type\":\"contourcarpet\"}],\"heatmap\":[{\"colorbar\":{\"outlinewidth\":0,\"ticks\":\"\"},\"colorscale\":[[0.0,\"#0d0887\"],[0.1111111111111111,\"#46039f\"],[0.2222222222222222,\"#7201a8\"],[0.3333333333333333,\"#9c179e\"],[0.4444444444444444,\"#bd3786\"],[0.5555555555555556,\"#d8576b\"],[0.6666666666666666,\"#ed7953\"],[0.7777777777777778,\"#fb9f3a\"],[0.8888888888888888,\"#fdca26\"],[1.0,\"#f0f921\"]],\"type\":\"heatmap\"}],\"heatmapgl\":[{\"colorbar\":{\"outlinewidth\":0,\"ticks\":\"\"},\"colorscale\":[[0.0,\"#0d0887\"],[0.1111111111111111,\"#46039f\"],[0.2222222222222222,\"#7201a8\"],[0.3333333333333333,\"#9c179e\"],[0.4444444444444444,\"#bd3786\"],[0.5555555555555556,\"#d8576b\"],[0.6666666666666666,\"#ed7953\"],[0.7777777777777778,\"#fb9f3a\"],[0.8888888888888888,\"#fdca26\"],[1.0,\"#f0f921\"]],\"type\":\"heatmapgl\"}],\"histogram\":[{\"marker\":{\"pattern\":{\"fillmode\":\"overlay\",\"size\":10,\"solidity\":0.2}},\"type\":\"histogram\"}],\"histogram2d\":[{\"colorbar\":{\"outlinewidth\":0,\"ticks\":\"\"},\"colorscale\":[[0.0,\"#0d0887\"],[0.1111111111111111,\"#46039f\"],[0.2222222222222222,\"#7201a8\"],[0.3333333333333333,\"#9c179e\"],[0.4444444444444444,\"#bd3786\"],[0.5555555555555556,\"#d8576b\"],[0.6666666666666666,\"#ed7953\"],[0.7777777777777778,\"#fb9f3a\"],[0.8888888888888888,\"#fdca26\"],[1.0,\"#f0f921\"]],\"type\":\"histogram2d\"}],\"histogram2dcontour\":[{\"colorbar\":{\"outlinewidth\":0,\"ticks\":\"\"},\"colorscale\":[[0.0,\"#0d0887\"],[0.1111111111111111,\"#46039f\"],[0.2222222222222222,\"#7201a8\"],[0.3333333333333333,\"#9c179e\"],[0.4444444444444444,\"#bd3786\"],[0.5555555555555556,\"#d8576b\"],[0.6666666666666666,\"#ed7953\"],[0.7777777777777778,\"#fb9f3a\"],[0.8888888888888888,\"#fdca26\"],[1.0,\"#f0f921\"]],\"type\":\"histogram2dcontour\"}],\"mesh3d\":[{\"colorbar\":{\"outlinewidth\":0,\"ticks\":\"\"},\"type\":\"mesh3d\"}],\"parcoords\":[{\"line\":{\"colorbar\":{\"outlinewidth\":0,\"ticks\":\"\"}},\"type\":\"parcoords\"}],\"pie\":[{\"automargin\":true,\"type\":\"pie\"}],\"scatter\":[{\"marker\":{\"colorbar\":{\"outlinewidth\":0,\"ticks\":\"\"}},\"type\":\"scatter\"}],\"scatter3d\":[{\"line\":{\"colorbar\":{\"outlinewidth\":0,\"ticks\":\"\"}},\"marker\":{\"colorbar\":{\"outlinewidth\":0,\"ticks\":\"\"}},\"type\":\"scatter3d\"}],\"scattercarpet\":[{\"marker\":{\"colorbar\":{\"outlinewidth\":0,\"ticks\":\"\"}},\"type\":\"scattercarpet\"}],\"scattergeo\":[{\"marker\":{\"colorbar\":{\"outlinewidth\":0,\"ticks\":\"\"}},\"type\":\"scattergeo\"}],\"scattergl\":[{\"marker\":{\"colorbar\":{\"outlinewidth\":0,\"ticks\":\"\"}},\"type\":\"scattergl\"}],\"scattermapbox\":[{\"marker\":{\"colorbar\":{\"outlinewidth\":0,\"ticks\":\"\"}},\"type\":\"scattermapbox\"}],\"scatterpolar\":[{\"marker\":{\"colorbar\":{\"outlinewidth\":0,\"ticks\":\"\"}},\"type\":\"scatterpolar\"}],\"scatterpolargl\":[{\"marker\":{\"colorbar\":{\"outlinewidth\":0,\"ticks\":\"\"}},\"type\":\"scatterpolargl\"}],\"scatterternary\":[{\"marker\":{\"colorbar\":{\"outlinewidth\":0,\"ticks\":\"\"}},\"type\":\"scatterternary\"}],\"surface\":[{\"colorbar\":{\"outlinewidth\":0,\"ticks\":\"\"},\"colorscale\":[[0.0,\"#0d0887\"],[0.1111111111111111,\"#46039f\"],[0.2222222222222222,\"#7201a8\"],[0.3333333333333333,\"#9c179e\"],[0.4444444444444444,\"#bd3786\"],[0.5555555555555556,\"#d8576b\"],[0.6666666666666666,\"#ed7953\"],[0.7777777777777778,\"#fb9f3a\"],[0.8888888888888888,\"#fdca26\"],[1.0,\"#f0f921\"]],\"type\":\"surface\"}],\"table\":[{\"cells\":{\"fill\":{\"color\":\"#EBF0F8\"},\"line\":{\"color\":\"white\"}},\"header\":{\"fill\":{\"color\":\"#C8D4E3\"},\"line\":{\"color\":\"white\"}},\"type\":\"table\"}]},\"layout\":{\"annotationdefaults\":{\"arrowcolor\":\"#2a3f5f\",\"arrowhead\":0,\"arrowwidth\":1},\"autotypenumbers\":\"strict\",\"coloraxis\":{\"colorbar\":{\"outlinewidth\":0,\"ticks\":\"\"}},\"colorscale\":{\"diverging\":[[0,\"#8e0152\"],[0.1,\"#c51b7d\"],[0.2,\"#de77ae\"],[0.3,\"#f1b6da\"],[0.4,\"#fde0ef\"],[0.5,\"#f7f7f7\"],[0.6,\"#e6f5d0\"],[0.7,\"#b8e186\"],[0.8,\"#7fbc41\"],[0.9,\"#4d9221\"],[1,\"#276419\"]],\"sequential\":[[0.0,\"#0d0887\"],[0.1111111111111111,\"#46039f\"],[0.2222222222222222,\"#7201a8\"],[0.3333333333333333,\"#9c179e\"],[0.4444444444444444,\"#bd3786\"],[0.5555555555555556,\"#d8576b\"],[0.6666666666666666,\"#ed7953\"],[0.7777777777777778,\"#fb9f3a\"],[0.8888888888888888,\"#fdca26\"],[1.0,\"#f0f921\"]],\"sequentialminus\":[[0.0,\"#0d0887\"],[0.1111111111111111,\"#46039f\"],[0.2222222222222222,\"#7201a8\"],[0.3333333333333333,\"#9c179e\"],[0.4444444444444444,\"#bd3786\"],[0.5555555555555556,\"#d8576b\"],[0.6666666666666666,\"#ed7953\"],[0.7777777777777778,\"#fb9f3a\"],[0.8888888888888888,\"#fdca26\"],[1.0,\"#f0f921\"]]},\"colorway\":[\"#636efa\",\"#EF553B\",\"#00cc96\",\"#ab63fa\",\"#FFA15A\",\"#19d3f3\",\"#FF6692\",\"#B6E880\",\"#FF97FF\",\"#FECB52\"],\"font\":{\"color\":\"#2a3f5f\"},\"geo\":{\"bgcolor\":\"white\",\"lakecolor\":\"white\",\"landcolor\":\"#E5ECF6\",\"showlakes\":true,\"showland\":true,\"subunitcolor\":\"white\"},\"hoverlabel\":{\"align\":\"left\"},\"hovermode\":\"closest\",\"mapbox\":{\"style\":\"light\"},\"paper_bgcolor\":\"white\",\"plot_bgcolor\":\"#E5ECF6\",\"polar\":{\"angularaxis\":{\"gridcolor\":\"white\",\"linecolor\":\"white\",\"ticks\":\"\"},\"bgcolor\":\"#E5ECF6\",\"radialaxis\":{\"gridcolor\":\"white\",\"linecolor\":\"white\",\"ticks\":\"\"}},\"scene\":{\"xaxis\":{\"backgroundcolor\":\"#E5ECF6\",\"gridcolor\":\"white\",\"gridwidth\":2,\"linecolor\":\"white\",\"showbackground\":true,\"ticks\":\"\",\"zerolinecolor\":\"white\"},\"yaxis\":{\"backgroundcolor\":\"#E5ECF6\",\"gridcolor\":\"white\",\"gridwidth\":2,\"linecolor\":\"white\",\"showbackground\":true,\"ticks\":\"\",\"zerolinecolor\":\"white\"},\"zaxis\":{\"backgroundcolor\":\"#E5ECF6\",\"gridcolor\":\"white\",\"gridwidth\":2,\"linecolor\":\"white\",\"showbackground\":true,\"ticks\":\"\",\"zerolinecolor\":\"white\"}},\"shapedefaults\":{\"line\":{\"color\":\"#2a3f5f\"}},\"ternary\":{\"aaxis\":{\"gridcolor\":\"white\",\"linecolor\":\"white\",\"ticks\":\"\"},\"baxis\":{\"gridcolor\":\"white\",\"linecolor\":\"white\",\"ticks\":\"\"},\"bgcolor\":\"#E5ECF6\",\"caxis\":{\"gridcolor\":\"white\",\"linecolor\":\"white\",\"ticks\":\"\"}},\"title\":{\"x\":0.05},\"xaxis\":{\"automargin\":true,\"gridcolor\":\"white\",\"linecolor\":\"white\",\"ticks\":\"\",\"title\":{\"standoff\":15},\"zerolinecolor\":\"white\",\"zerolinewidth\":2},\"yaxis\":{\"automargin\":true,\"gridcolor\":\"white\",\"linecolor\":\"white\",\"ticks\":\"\",\"title\":{\"standoff\":15},\"zerolinecolor\":\"white\",\"zerolinewidth\":2}}},\"xaxis\":{\"anchor\":\"y\",\"domain\":[0.0,1.0],\"title\":{\"text\":\"at\"}},\"yaxis\":{\"anchor\":\"x\",\"domain\":[0.0,1.0],\"title\":{\"text\":\"value\"}},\"legend\":{\"title\":{\"text\":\"variable\"},\"tracegroupgap\":0},\"margin\":{\"t\":60}},                        {\"responsive\": true}                    ).then(function(){\n",
       "                            \n",
       "var gd = document.getElementById('8efe7ec1-1f77-4694-a275-82dbe4852ab0');\n",
       "var x = new MutationObserver(function (mutations, observer) {{\n",
       "        var display = window.getComputedStyle(gd).display;\n",
       "        if (!display || display === 'none') {{\n",
       "            console.log([gd, 'removed!']);\n",
       "            Plotly.purge(gd);\n",
       "            observer.disconnect();\n",
       "        }}\n",
       "}});\n",
       "\n",
       "// Listen for the removal of the full notebook cells\n",
       "var notebookContainer = gd.closest('#notebook-container');\n",
       "if (notebookContainer) {{\n",
       "    x.observe(notebookContainer, {childList: true});\n",
       "}}\n",
       "\n",
       "// Listen for the clearing of the current output cell\n",
       "var outputEl = gd.closest('.output');\n",
       "if (outputEl) {{\n",
       "    x.observe(outputEl, {childList: true});\n",
       "}}\n",
       "\n",
       "                        })                };                });            </script>        </div>"
      ]
     },
     "metadata": {},
     "output_type": "display_data"
    }
   ],
   "source": [
    "px.line(test[test['account'] == 361], x='at', y=test.columns.tolist()[2:])"
   ]
  }
 ],
 "metadata": {
  "kernelspec": {
   "display_name": "Python 3 (ipykernel)",
   "language": "python",
   "name": "python3"
  },
  "language_info": {
   "codemirror_mode": {
    "name": "ipython",
    "version": 3
   },
   "file_extension": ".py",
   "mimetype": "text/x-python",
   "name": "python",
   "nbconvert_exporter": "python",
   "pygments_lexer": "ipython3",
   "version": "3.8.12"
  }
 },
 "nbformat": 4,
 "nbformat_minor": 5
}
