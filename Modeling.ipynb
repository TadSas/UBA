{
 "cells": [
  {
   "cell_type": "code",
   "execution_count": 1,
   "id": "0ae136fd",
   "metadata": {},
   "outputs": [],
   "source": [
    "import pandas as pd\n",
    "import numpy as np\n",
    "from sklearn import preprocessing\n",
    "from sklearn.decomposition import PCA\n",
    "from sklearn.cluster import DBSCAN\n",
    "from sklearn.neighbors import NearestNeighbors\n",
    "import matplotlib.pyplot as plt\n",
    "import seaborn as sns\n",
    "import plotly.express as px\n",
    "%matplotlib inline"
   ]
  },
  {
   "cell_type": "code",
   "execution_count": 35,
   "id": "2265d18c",
   "metadata": {},
   "outputs": [],
   "source": [
    "pd.set_option('display.max_rows', 100)\n",
    "pd.set_option('display.max_columns', 100)"
   ]
  },
  {
   "cell_type": "code",
   "execution_count": 2,
   "id": "6efcb106",
   "metadata": {},
   "outputs": [],
   "source": [
    "df = pd.read_csv('../Data/action_log_features.csv')"
   ]
  },
  {
   "cell_type": "code",
   "execution_count": 24,
   "id": "75c8d9f5",
   "metadata": {},
   "outputs": [],
   "source": [
    "Q3_2019 = df[(df['at'] >= '2019-07-01') & (df['at'] < '2019-10-01')]\n",
    "Q4_2019 = df[(df['at'] >= '2019-10-01') & (df['at'] < '2020-01-01')]\n",
    "Q1_2020 = df[(df['at'] >= '2020-01-01') & (df['at'] < '2020-04-01')]\n",
    "Q2_2020 = df[(df['at'] >= '2020-04-01') & (df['at'] < '2020-07-01')]\n",
    "Q3_2020 = df[(df['at'] >= '2020-07-01') & (df['at'] < '2020-10-01')]\n",
    "Q4_2020 = df[(df['at'] >= '2020-10-01') & (df['at'] < '2021-01-01')]\n",
    "Q1_2021 = df[(df['at'] >= '2021-01-01') & (df['at'] < '2021-04-01')]\n",
    "Q2_2021 = df[(df['at'] >= '2021-04-01') & (df['at'] < '2021-07-01')]"
   ]
  },
  {
   "cell_type": "code",
   "execution_count": null,
   "id": "a3f070d3",
   "metadata": {},
   "outputs": [],
   "source": [
    "red_light = [\n",
    "    'add_snippet', 'auth_confirm_caution', 'change_contact_status', 'change_password', 'change_service_user_status',\n",
    "    'clear_account_settings', 'deactivate_workflow', 'download_task_file', 'download_task_files', 'download_template',\n",
    "    'export_contacts', 'export_template', 'export_workflow', 'remove_account', 'remove_action',\n",
    "    'remove_contact', 'remove_draft', 'remove_inform', 'remove_role', 'remove_snippet',\n",
    "    'remove_status', 'remove_workflow', 'reset_password', 'set_new_pass', 'suspend_account',\n",
    "    'suspend_role', 'two_factor_email'\n",
    "]\n",
    "\n",
    "yellow_light = [\n",
    "    'account_access', 'add_account', 'add_action', 'add_contact', 'add_draft',\n",
    "    'add_group', 'add_html_template', 'add_role', 'add_status', 'add_workflow',\n",
    "    'adm_open_settings', 'edit_account', 'edit_account_uname', 'edit_action', 'edit_contact',\n",
    "    'edit_docx_template', 'edit_draft', 'edit_group', 'edit_html_template', 'edit_profile',\n",
    "    'edit_role', 'edit_snippet', 'edit_status', 'edit_workflow', 'edit_workflow_group',\n",
    "    'resend_token', 'token_login', 'unblock_password_reset', 'unsuspend_account', 'unsuspend_role'\n",
    "]\n",
    "\n",
    "green_light = [\n",
    "    'apply_label', 'attach_task_file', 'attach_template', 'clone_workflow', 'create_task',\n",
    "    'create_task', 'import_contacts', 'import_workflow', 'login','logout', 'make_available',\n",
    "    'make_unavailable', 'open_account', 'open_action', 'open_contact', 'open_docx_template',\n",
    "    'open_group', 'open_html_template', 'open_incident_log', 'open_new_account', 'open_new_action',\n",
    "    'open_new_contact', 'open_new_docx_template', 'open_new_group', 'open_new_html_template', 'open_new_role',\n",
    "    'open_new_snippet', 'open_new_status', 'open_new_workflow', 'open_perform_action', 'open_profile',\n",
    "    'open_role', 'open_snippet', 'open_status', 'open_task', 'open_workflow',\n",
    "    'open_workflow_group', 'perform_action', 'reset_req', 'set_action_state', 'set_status_state'\n",
    "]"
   ]
  },
  {
   "cell_type": "code",
   "execution_count": 68,
   "id": "2a25ecce",
   "metadata": {},
   "outputs": [
    {
     "data": {
      "text/plain": [
       "Index(['add_group', 'add_html_template', 'add_snippet', 'add_status',\n",
       "       'add_workflow', 'attach_template', 'change_contact_status',\n",
       "       'change_service_user_status', 'clone_workflow', 'deactivate_workflow',\n",
       "       'download_template', 'edit_docx_template', 'edit_html_template',\n",
       "       'edit_status', 'edit_workflow_group', 'export_contacts',\n",
       "       'import_contacts', 'import_workflow', 'logout', 'open_docx_template',\n",
       "       'open_incident_log', 'open_new_docx_template', 'open_new_group',\n",
       "       'open_new_html_template', 'open_new_snippet', 'open_new_workflow',\n",
       "       'open_status', 'open_workflow_group', 'remove_contact', 'remove_role',\n",
       "       'remove_snippet', 'remove_status', 'remove_workflow', 'reset_password',\n",
       "       'set_action_state', 'set_status_state', 'two_factor_email',\n",
       "       'unsuspend_role'],\n",
       "      dtype='object')"
      ]
     },
     "execution_count": 68,
     "metadata": {},
     "output_type": "execute_result"
    }
   ],
   "source": [
    "Q2_2021[Q2_2021.columns[2:]].sum()[Q2_2021[Q2_2021.columns[2:]].sum() == 0].index"
   ]
  },
  {
   "cell_type": "code",
   "execution_count": 64,
   "id": "479679a4",
   "metadata": {},
   "outputs": [
    {
     "data": {
      "text/plain": [
       "unsuspend_role                     0.0\n",
       "open_workflow_group                0.0\n",
       "open_status                        0.0\n",
       "download_template                  0.0\n",
       "open_new_workflow                  0.0\n",
       "open_new_snippet                   0.0\n",
       "open_new_html_template             0.0\n",
       "edit_docx_template                 0.0\n",
       "import_contacts                    0.0\n",
       "open_new_group                     0.0\n",
       "edit_html_template                 0.0\n",
       "open_incident_log                  0.0\n",
       "open_docx_template                 0.0\n",
       "edit_status                        0.0\n",
       "edit_workflow_group                0.0\n",
       "export_contacts                    0.0\n",
       "logout                             0.0\n",
       "open_new_docx_template             0.0\n",
       "clone_workflow                     0.0\n",
       "deactivate_workflow                0.0\n",
       "change_service_user_status         0.0\n",
       "two_factor_email                   0.0\n",
       "set_status_state                   0.0\n",
       "set_action_state                   0.0\n",
       "add_group                          0.0\n",
       "add_html_template                  0.0\n",
       "reset_password                     0.0\n",
       "remove_contact                     0.0\n",
       "add_status                         0.0\n",
       "add_workflow                       0.0\n",
       "add_snippet                        0.0\n",
       "remove_workflow                    0.0\n",
       "remove_status                      0.0\n",
       "attach_template                    0.0\n",
       "remove_snippet                     0.0\n",
       "change_contact_status              0.0\n",
       "remove_role                        0.0\n",
       "import_workflow                    0.0\n",
       "open_new_status                    1.0\n",
       "edit_workflow                      1.0\n",
       "remove_action                      1.0\n",
       "unblock_password_reset             1.0\n",
       "export_workflow                    1.0\n",
       "make_available                     2.0\n",
       "resend_token                       2.0\n",
       "make_unavailable                   2.0\n",
       "export_template                    2.0\n",
       "add_role                           3.0\n",
       "open_html_template                 3.0\n",
       "suspend_account                    4.0\n",
       "reset_req                          4.0\n",
       "edit_contact                       4.0\n",
       "add_account                        6.0\n",
       "remove_draft                       6.0\n",
       "edit_draft                         6.0\n",
       "remove_account                     7.0\n",
       "open_contact                       8.0\n",
       "add_contact                        9.0\n",
       "open_workflow                      9.0\n",
       "open_new_contact                  11.0\n",
       "add_action                        13.0\n",
       "account_access                    13.0\n",
       "open_new_action                   14.0\n",
       "edit_group                        15.0\n",
       "change_password                   17.0\n",
       "edit_snippet                      17.0\n",
       "open_new_account                  18.0\n",
       "unsuspend_account                 18.0\n",
       "open_new_role                     23.0\n",
       "open_snippet                      28.0\n",
       "open_group                        30.0\n",
       "clear_account_settings            30.0\n",
       "add_draft                         34.0\n",
       "edit_account_uname                37.0\n",
       "edit_account                      53.0\n",
       "edit_action                       75.0\n",
       "edit_profile                      98.0\n",
       "set_new_pass                     160.0\n",
       "suspend_role                     167.0\n",
       "open_action                      230.0\n",
       "edit_role                        302.0\n",
       "open_account                     356.0\n",
       "adm_open_settings                356.0\n",
       "open_profile                     445.0\n",
       "open_role                        666.0\n",
       "apply_label                     1838.0\n",
       "download_task_files             4618.0\n",
       "token_login                     5585.0\n",
       "remove_inform                  20844.0\n",
       "login                          23654.0\n",
       "auth_confirm_caution           28542.0\n",
       "create_task                    40197.0\n",
       "attach_task_file               49784.0\n",
       "download_task_file            277571.0\n",
       "perform_action                333405.0\n",
       "open_perform_action           350681.0\n",
       "open_task                     802812.0\n",
       "dtype: float64"
      ]
     },
     "execution_count": 64,
     "metadata": {},
     "output_type": "execute_result"
    }
   ],
   "source": [
    "Q2_2021[Q2_2021.columns[2:]].sum().sort_values()"
   ]
  }
 ],
 "metadata": {
  "kernelspec": {
   "display_name": "Python 3 (ipykernel)",
   "language": "python",
   "name": "python3"
  },
  "language_info": {
   "codemirror_mode": {
    "name": "ipython",
    "version": 3
   },
   "file_extension": ".py",
   "mimetype": "text/x-python",
   "name": "python",
   "nbconvert_exporter": "python",
   "pygments_lexer": "ipython3",
   "version": "3.8.12"
  }
 },
 "nbformat": 4,
 "nbformat_minor": 5
}
